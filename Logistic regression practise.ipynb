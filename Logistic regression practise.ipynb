{
 "cells": [
  {
   "cell_type": "code",
   "execution_count": 1,
   "id": "65a2283c",
   "metadata": {},
   "outputs": [],
   "source": [
    "# data read Imports\n",
    "import pandas as pd\n",
    "\n",
    "# Machine Learning Imports\n",
    "from sklearn.linear_model import LogisticRegression\n",
    "from sklearn.model_selection import train_test_split\n",
    "\n",
    "# For evaluating our ML results\n",
    "from sklearn import metrics"
   ]
  },
  {
   "cell_type": "code",
   "execution_count": 4,
   "id": "c9b8ecdf",
   "metadata": {},
   "outputs": [
    {
     "data": {
      "text/html": [
       "<div>\n",
       "<style scoped>\n",
       "    .dataframe tbody tr th:only-of-type {\n",
       "        vertical-align: middle;\n",
       "    }\n",
       "\n",
       "    .dataframe tbody tr th {\n",
       "        vertical-align: top;\n",
       "    }\n",
       "\n",
       "    .dataframe thead th {\n",
       "        text-align: right;\n",
       "    }\n",
       "</style>\n",
       "<table border=\"1\" class=\"dataframe\">\n",
       "  <thead>\n",
       "    <tr style=\"text-align: right;\">\n",
       "      <th></th>\n",
       "      <th>female</th>\n",
       "      <th>read</th>\n",
       "      <th>write</th>\n",
       "      <th>math</th>\n",
       "      <th>pass</th>\n",
       "      <th>femalexmath</th>\n",
       "    </tr>\n",
       "  </thead>\n",
       "  <tbody>\n",
       "    <tr>\n",
       "      <th>0</th>\n",
       "      <td>0</td>\n",
       "      <td>57</td>\n",
       "      <td>52</td>\n",
       "      <td>41</td>\n",
       "      <td>0</td>\n",
       "      <td>0</td>\n",
       "    </tr>\n",
       "    <tr>\n",
       "      <th>1</th>\n",
       "      <td>1</td>\n",
       "      <td>68</td>\n",
       "      <td>59</td>\n",
       "      <td>53</td>\n",
       "      <td>0</td>\n",
       "      <td>53</td>\n",
       "    </tr>\n",
       "    <tr>\n",
       "      <th>2</th>\n",
       "      <td>0</td>\n",
       "      <td>44</td>\n",
       "      <td>33</td>\n",
       "      <td>54</td>\n",
       "      <td>0</td>\n",
       "      <td>0</td>\n",
       "    </tr>\n",
       "    <tr>\n",
       "      <th>3</th>\n",
       "      <td>0</td>\n",
       "      <td>63</td>\n",
       "      <td>44</td>\n",
       "      <td>47</td>\n",
       "      <td>0</td>\n",
       "      <td>0</td>\n",
       "    </tr>\n",
       "    <tr>\n",
       "      <th>4</th>\n",
       "      <td>0</td>\n",
       "      <td>47</td>\n",
       "      <td>52</td>\n",
       "      <td>57</td>\n",
       "      <td>0</td>\n",
       "      <td>0</td>\n",
       "    </tr>\n",
       "    <tr>\n",
       "      <th>...</th>\n",
       "      <td>...</td>\n",
       "      <td>...</td>\n",
       "      <td>...</td>\n",
       "      <td>...</td>\n",
       "      <td>...</td>\n",
       "      <td>...</td>\n",
       "    </tr>\n",
       "    <tr>\n",
       "      <th>195</th>\n",
       "      <td>1</td>\n",
       "      <td>55</td>\n",
       "      <td>59</td>\n",
       "      <td>52</td>\n",
       "      <td>0</td>\n",
       "      <td>52</td>\n",
       "    </tr>\n",
       "    <tr>\n",
       "      <th>196</th>\n",
       "      <td>1</td>\n",
       "      <td>42</td>\n",
       "      <td>46</td>\n",
       "      <td>38</td>\n",
       "      <td>0</td>\n",
       "      <td>38</td>\n",
       "    </tr>\n",
       "    <tr>\n",
       "      <th>197</th>\n",
       "      <td>1</td>\n",
       "      <td>57</td>\n",
       "      <td>41</td>\n",
       "      <td>57</td>\n",
       "      <td>0</td>\n",
       "      <td>57</td>\n",
       "    </tr>\n",
       "    <tr>\n",
       "      <th>198</th>\n",
       "      <td>1</td>\n",
       "      <td>55</td>\n",
       "      <td>62</td>\n",
       "      <td>58</td>\n",
       "      <td>1</td>\n",
       "      <td>58</td>\n",
       "    </tr>\n",
       "    <tr>\n",
       "      <th>199</th>\n",
       "      <td>1</td>\n",
       "      <td>63</td>\n",
       "      <td>65</td>\n",
       "      <td>65</td>\n",
       "      <td>1</td>\n",
       "      <td>65</td>\n",
       "    </tr>\n",
       "  </tbody>\n",
       "</table>\n",
       "<p>200 rows × 6 columns</p>\n",
       "</div>"
      ],
      "text/plain": [
       "     female  read  write  math  pass  femalexmath\n",
       "0         0    57     52    41     0            0\n",
       "1         1    68     59    53     0           53\n",
       "2         0    44     33    54     0            0\n",
       "3         0    63     44    47     0            0\n",
       "4         0    47     52    57     0            0\n",
       "..      ...   ...    ...   ...   ...          ...\n",
       "195       1    55     59    52     0           52\n",
       "196       1    42     46    38     0           38\n",
       "197       1    57     41    57     0           57\n",
       "198       1    55     62    58     1           58\n",
       "199       1    63     65    65     1           65\n",
       "\n",
       "[200 rows x 6 columns]"
      ]
     },
     "execution_count": 4,
     "metadata": {},
     "output_type": "execute_result"
    }
   ],
   "source": [
    "df=pd.read_csv('data/sample.csv')\n",
    "df"
   ]
  },
  {
   "cell_type": "code",
   "execution_count": 5,
   "id": "7f3199d0",
   "metadata": {},
   "outputs": [],
   "source": [
    "feature=df[['female','math']]\n",
    "target=df['pass']\n"
   ]
  },
  {
   "cell_type": "code",
   "execution_count": 6,
   "id": "729b2857",
   "metadata": {},
   "outputs": [],
   "source": [
    "# help(train_test_split)\n",
    "# 80 and 20 split \n",
    "X_train, X_test, y_train, y_test = train_test_split(feature, target,\n",
    "                                                    test_size=0.2,\n",
    "                                                    random_state=42)"
   ]
  },
  {
   "cell_type": "code",
   "execution_count": 7,
   "id": "bf6cb2f4",
   "metadata": {},
   "outputs": [
    {
     "data": {
      "text/plain": [
       "((160, 2), (40, 2))"
      ]
     },
     "execution_count": 7,
     "metadata": {},
     "output_type": "execute_result"
    }
   ],
   "source": [
    "X_train.shape, X_test.shape"
   ]
  },
  {
   "cell_type": "code",
   "execution_count": 8,
   "id": "cfb13fa7",
   "metadata": {},
   "outputs": [
    {
     "name": "stdout",
     "output_type": "stream",
     "text": [
      "coef :  [[0.69616515 0.16474612]]  \n",
      "intercept:  [-10.6640414]\n"
     ]
    }
   ],
   "source": [
    "# scikit learn\n",
    "lr = LogisticRegression()\n",
    "lr.fit(X_train, y_train)\n",
    "\n",
    "print(\"coef : \", lr.coef_ , \" \\nintercept: \", lr.intercept_)"
   ]
  },
  {
   "cell_type": "code",
   "execution_count": 10,
   "id": "55c06237",
   "metadata": {},
   "outputs": [
    {
     "data": {
      "text/plain": [
       "0    151\n",
       "1     49\n",
       "Name: pass, dtype: int64"
      ]
     },
     "execution_count": 10,
     "metadata": {},
     "output_type": "execute_result"
    }
   ],
   "source": [
    "target.value_counts()"
   ]
  },
  {
   "cell_type": "code",
   "execution_count": 11,
   "id": "c18b33e9",
   "metadata": {},
   "outputs": [
    {
     "name": "stdout",
     "output_type": "stream",
     "text": [
      "female :  2.006045061281207  math : 1.1790937366213623  intercept: 0\n"
     ]
    }
   ],
   "source": [
    "import math\n",
    "print(\"female : \", math.exp(lr.coef_[0][0]),\" math :\",math.exp(lr.coef_[0][1]),\" intercept:\" , int(math.exp(lr.intercept_[0])))"
   ]
  },
  {
   "cell_type": "code",
   "execution_count": 12,
   "id": "b03ab591",
   "metadata": {},
   "outputs": [
    {
     "data": {
      "text/plain": [
       "female  pass\n",
       "0       0       74\n",
       "        1       17\n",
       "1       0       77\n",
       "        1       32\n",
       "Name: pass, dtype: int64"
      ]
     },
     "execution_count": 12,
     "metadata": {},
     "output_type": "execute_result"
    }
   ],
   "source": [
    "df.groupby('female')['pass'].value_counts()"
   ]
  },
  {
   "cell_type": "markdown",
   "id": "8508a9c7",
   "metadata": {},
   "source": [
    "### Task"
   ]
  },
  {
   "cell_type": "code",
   "execution_count": 14,
   "id": "d74e42a7",
   "metadata": {},
   "outputs": [],
   "source": [
    "feature=df[['female','read','write','math']]\n",
    "target=df['pass']"
   ]
  },
  {
   "cell_type": "code",
   "execution_count": 15,
   "id": "514cf224",
   "metadata": {},
   "outputs": [],
   "source": [
    "# 80 and 20 split \n",
    "X_train, X_test, y_train, y_test = train_test_split(feature, target,\n",
    "                                                    test_size=0.2,\n",
    "                                                    random_state=42)"
   ]
  },
  {
   "cell_type": "code",
   "execution_count": 16,
   "id": "f5ff8d91",
   "metadata": {},
   "outputs": [
    {
     "name": "stdout",
     "output_type": "stream",
     "text": [
      "coef :  [[-1.69349625e-02 -3.34269429e-02  2.35458689e+00  2.34839570e-03]]  \n",
      "intercept:  [-140.75837151]\n"
     ]
    }
   ],
   "source": [
    "# scikit learn\n",
    "lr = LogisticRegression()\n",
    "lr.fit(X_train, y_train)\n",
    "\n",
    "print(\"coef : \", lr.coef_ , \" \\nintercept: \", lr.intercept_)"
   ]
  },
  {
   "cell_type": "code",
   "execution_count": 17,
   "id": "b5334545",
   "metadata": {},
   "outputs": [
    {
     "name": "stdout",
     "output_type": "stream",
     "text": [
      "female :  0.9832076279518256  read : 0.9671255640815817  write : 10.533776308028976 math : 1.0023511553360211  intercept: 0\n"
     ]
    }
   ],
   "source": [
    "import math\n",
    "print(\"female : \", math.exp(lr.coef_[0][0]),\" read :\",math.exp(lr.coef_[0][1]),\" write :\",math.exp(lr.coef_[0][2]),\"math :\",math.exp(lr.coef_[0][3]),\" intercept:\" , int(math.exp(lr.intercept_[0])))"
   ]
  },
  {
   "cell_type": "markdown",
   "id": "4f9bd23f",
   "metadata": {},
   "source": [
    "## Interpretation"
   ]
  },
  {
   "cell_type": "markdown",
   "id": "c757cc43",
   "metadata": {},
   "source": [
    "If the gender is female then the odds of passing exam is 0.98. When other value fixed.\n",
    "If the read number increase by one unit then the odds of passing exam is 0.96. When other value fixed.\n",
    "If the write number increase by one unit then the odds of passing exam is 10. When other value fixed.\n",
    "If the math number increase by one unit then the odds of passing exam is 1.00. When other value fixed.\n",
    "When all numerical features are zero and the categorical features are at the reference category, the estimated odds are 0 . The interpretation of the intercept weight is usually not relevant."
   ]
  },
  {
   "cell_type": "code",
   "execution_count": null,
   "id": "cfaa2190",
   "metadata": {},
   "outputs": [],
   "source": []
  }
 ],
 "metadata": {
  "kernelspec": {
   "display_name": "Python 3 (ipykernel)",
   "language": "python",
   "name": "python3"
  },
  "language_info": {
   "codemirror_mode": {
    "name": "ipython",
    "version": 3
   },
   "file_extension": ".py",
   "mimetype": "text/x-python",
   "name": "python",
   "nbconvert_exporter": "python",
   "pygments_lexer": "ipython3",
   "version": "3.9.13"
  }
 },
 "nbformat": 4,
 "nbformat_minor": 5
}
