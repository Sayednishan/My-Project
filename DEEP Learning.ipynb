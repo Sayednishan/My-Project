{
 "cells": [
  {
   "cell_type": "code",
   "execution_count": null,
   "metadata": {},
   "outputs": [],
   "source": [
    "###ANN"
   ]
  },
  {
   "cell_type": "code",
   "execution_count": 44,
   "metadata": {
    "colab": {
     "base_uri": "https://localhost:8080/"
    },
    "executionInfo": {
     "elapsed": 1393,
     "status": "ok",
     "timestamp": 1663773181151,
     "user": {
      "displayName": "Nurul Akter Towhid",
      "userId": "15416341478784734538"
     },
     "user_tz": -360
    },
    "id": "YxsMQcvpOM4k",
    "outputId": "347c9b5c-2bf1-4a64-da35-ff9666a7c268"
   },
   "outputs": [
    {
     "name": "stdout",
     "output_type": "stream",
     "text": [
      "2.10.0\n"
     ]
    }
   ],
   "source": [
    ";limport tensorflow as tf\n",
    "\n",
    "from tensorflow import keras\n",
    "from tensorflow.keras import layers\n",
    "\n",
    "print(tf.__version__)"
   ]
  },
  {
   "cell_type": "code",
   "execution_count": 45,
   "metadata": {
    "executionInfo": {
     "elapsed": 2010,
     "status": "ok",
     "timestamp": 1663773213770,
     "user": {
      "displayName": "Nurul Akter Towhid",
      "userId": "15416341478784734538"
     },
     "user_tz": -360
    },
    "id": "dd7aRm36PEwz"
   },
   "outputs": [],
   "source": [
    "import matplotlib.pyplot as plt\n",
    "import numpy as np\n",
    "import pandas as pd\n",
    "import seaborn as sns"
   ]
  },
  {
   "cell_type": "code",
   "execution_count": 46,
   "metadata": {
    "colab": {
     "base_uri": "https://localhost:8080/",
     "height": 87
    },
    "executionInfo": {
     "elapsed": 1243,
     "status": "ok",
     "timestamp": 1663773234576,
     "user": {
      "displayName": "Nurul Akter Towhid",
      "userId": "15416341478784734538"
     },
     "user_tz": -360
    },
    "id": "bSoIr_vEO9PR",
    "outputId": "86ca5650-9b63-4d4e-d419-1507a35215f7"
   },
   "outputs": [
    {
     "data": {
      "text/plain": [
       "'C:\\\\Users\\\\User\\\\.keras\\\\datasets\\\\auto-mpg.data'"
      ]
     },
     "execution_count": 46,
     "metadata": {},
     "output_type": "execute_result"
    }
   ],
   "source": [
    "# more details about the dataset in this link https://archive.ics.uci.edu/ml/datasets/auto+mpg\n",
    "dataset_path = keras.utils.get_file(\"auto-mpg.data\", \"http://archive.ics.uci.edu/ml/machine-learning-databases/auto-mpg/auto-mpg.data\")\n",
    "dataset_path"
   ]
  },
  {
   "cell_type": "code",
   "execution_count": 47,
   "metadata": {
    "colab": {
     "base_uri": "https://localhost:8080/",
     "height": 206
    },
    "executionInfo": {
     "elapsed": 714,
     "status": "ok",
     "timestamp": 1663773338154,
     "user": {
      "displayName": "Nurul Akter Towhid",
      "userId": "15416341478784734538"
     },
     "user_tz": -360
    },
    "id": "IiB-2iicPT5j",
    "outputId": "1a4e1c6a-7f4d-4e32-878c-bd3c97259fa0"
   },
   "outputs": [
    {
     "data": {
      "text/html": [
       "<div>\n",
       "<style scoped>\n",
       "    .dataframe tbody tr th:only-of-type {\n",
       "        vertical-align: middle;\n",
       "    }\n",
       "\n",
       "    .dataframe tbody tr th {\n",
       "        vertical-align: top;\n",
       "    }\n",
       "\n",
       "    .dataframe thead th {\n",
       "        text-align: right;\n",
       "    }\n",
       "</style>\n",
       "<table border=\"1\" class=\"dataframe\">\n",
       "  <thead>\n",
       "    <tr style=\"text-align: right;\">\n",
       "      <th></th>\n",
       "      <th>MPG</th>\n",
       "      <th>Cylinders</th>\n",
       "      <th>Displacement</th>\n",
       "      <th>Horsepower</th>\n",
       "      <th>Weight</th>\n",
       "      <th>Acceleration</th>\n",
       "      <th>Model Year</th>\n",
       "      <th>Origin</th>\n",
       "    </tr>\n",
       "  </thead>\n",
       "  <tbody>\n",
       "    <tr>\n",
       "      <th>0</th>\n",
       "      <td>18.0</td>\n",
       "      <td>8</td>\n",
       "      <td>307.0</td>\n",
       "      <td>130.0</td>\n",
       "      <td>3504.0</td>\n",
       "      <td>12.0</td>\n",
       "      <td>70</td>\n",
       "      <td>1</td>\n",
       "    </tr>\n",
       "    <tr>\n",
       "      <th>1</th>\n",
       "      <td>15.0</td>\n",
       "      <td>8</td>\n",
       "      <td>350.0</td>\n",
       "      <td>165.0</td>\n",
       "      <td>3693.0</td>\n",
       "      <td>11.5</td>\n",
       "      <td>70</td>\n",
       "      <td>1</td>\n",
       "    </tr>\n",
       "    <tr>\n",
       "      <th>2</th>\n",
       "      <td>18.0</td>\n",
       "      <td>8</td>\n",
       "      <td>318.0</td>\n",
       "      <td>150.0</td>\n",
       "      <td>3436.0</td>\n",
       "      <td>11.0</td>\n",
       "      <td>70</td>\n",
       "      <td>1</td>\n",
       "    </tr>\n",
       "    <tr>\n",
       "      <th>3</th>\n",
       "      <td>16.0</td>\n",
       "      <td>8</td>\n",
       "      <td>304.0</td>\n",
       "      <td>150.0</td>\n",
       "      <td>3433.0</td>\n",
       "      <td>12.0</td>\n",
       "      <td>70</td>\n",
       "      <td>1</td>\n",
       "    </tr>\n",
       "    <tr>\n",
       "      <th>4</th>\n",
       "      <td>17.0</td>\n",
       "      <td>8</td>\n",
       "      <td>302.0</td>\n",
       "      <td>140.0</td>\n",
       "      <td>3449.0</td>\n",
       "      <td>10.5</td>\n",
       "      <td>70</td>\n",
       "      <td>1</td>\n",
       "    </tr>\n",
       "    <tr>\n",
       "      <th>...</th>\n",
       "      <td>...</td>\n",
       "      <td>...</td>\n",
       "      <td>...</td>\n",
       "      <td>...</td>\n",
       "      <td>...</td>\n",
       "      <td>...</td>\n",
       "      <td>...</td>\n",
       "      <td>...</td>\n",
       "    </tr>\n",
       "    <tr>\n",
       "      <th>393</th>\n",
       "      <td>27.0</td>\n",
       "      <td>4</td>\n",
       "      <td>140.0</td>\n",
       "      <td>86.0</td>\n",
       "      <td>2790.0</td>\n",
       "      <td>15.6</td>\n",
       "      <td>82</td>\n",
       "      <td>1</td>\n",
       "    </tr>\n",
       "    <tr>\n",
       "      <th>394</th>\n",
       "      <td>44.0</td>\n",
       "      <td>4</td>\n",
       "      <td>97.0</td>\n",
       "      <td>52.0</td>\n",
       "      <td>2130.0</td>\n",
       "      <td>24.6</td>\n",
       "      <td>82</td>\n",
       "      <td>2</td>\n",
       "    </tr>\n",
       "    <tr>\n",
       "      <th>395</th>\n",
       "      <td>32.0</td>\n",
       "      <td>4</td>\n",
       "      <td>135.0</td>\n",
       "      <td>84.0</td>\n",
       "      <td>2295.0</td>\n",
       "      <td>11.6</td>\n",
       "      <td>82</td>\n",
       "      <td>1</td>\n",
       "    </tr>\n",
       "    <tr>\n",
       "      <th>396</th>\n",
       "      <td>28.0</td>\n",
       "      <td>4</td>\n",
       "      <td>120.0</td>\n",
       "      <td>79.0</td>\n",
       "      <td>2625.0</td>\n",
       "      <td>18.6</td>\n",
       "      <td>82</td>\n",
       "      <td>1</td>\n",
       "    </tr>\n",
       "    <tr>\n",
       "      <th>397</th>\n",
       "      <td>31.0</td>\n",
       "      <td>4</td>\n",
       "      <td>119.0</td>\n",
       "      <td>82.0</td>\n",
       "      <td>2720.0</td>\n",
       "      <td>19.4</td>\n",
       "      <td>82</td>\n",
       "      <td>1</td>\n",
       "    </tr>\n",
       "  </tbody>\n",
       "</table>\n",
       "<p>398 rows × 8 columns</p>\n",
       "</div>"
      ],
      "text/plain": [
       "      MPG  Cylinders  Displacement  Horsepower  Weight  Acceleration  \\\n",
       "0    18.0          8         307.0       130.0  3504.0          12.0   \n",
       "1    15.0          8         350.0       165.0  3693.0          11.5   \n",
       "2    18.0          8         318.0       150.0  3436.0          11.0   \n",
       "3    16.0          8         304.0       150.0  3433.0          12.0   \n",
       "4    17.0          8         302.0       140.0  3449.0          10.5   \n",
       "..    ...        ...           ...         ...     ...           ...   \n",
       "393  27.0          4         140.0        86.0  2790.0          15.6   \n",
       "394  44.0          4          97.0        52.0  2130.0          24.6   \n",
       "395  32.0          4         135.0        84.0  2295.0          11.6   \n",
       "396  28.0          4         120.0        79.0  2625.0          18.6   \n",
       "397  31.0          4         119.0        82.0  2720.0          19.4   \n",
       "\n",
       "     Model Year  Origin  \n",
       "0            70       1  \n",
       "1            70       1  \n",
       "2            70       1  \n",
       "3            70       1  \n",
       "4            70       1  \n",
       "..          ...     ...  \n",
       "393          82       1  \n",
       "394          82       2  \n",
       "395          82       1  \n",
       "396          82       1  \n",
       "397          82       1  \n",
       "\n",
       "[398 rows x 8 columns]"
      ]
     },
     "execution_count": 47,
     "metadata": {},
     "output_type": "execute_result"
    }
   ],
   "source": [
    "column_names = ['MPG','Cylinders','Displacement','Horsepower','Weight', 'Acceleration', 'Model Year', 'Origin']\n",
    "dataset = pd.read_csv(dataset_path, names=column_names,\n",
    "                      na_values = \"?\", comment='\\t',\n",
    "                      sep=\" \", skipinitialspace=True)\n",
    "\n",
    "dataset"
   ]
  },
  {
   "cell_type": "code",
   "execution_count": 48,
   "metadata": {
    "colab": {
     "base_uri": "https://localhost:8080/",
     "height": 206
    },
    "executionInfo": {
     "elapsed": 824,
     "status": "ok",
     "timestamp": 1663773393095,
     "user": {
      "displayName": "Nurul Akter Towhid",
      "userId": "15416341478784734538"
     },
     "user_tz": -360
    },
    "id": "KF602jjZ_apB",
    "outputId": "eb4de802-d8be-4a86-f1a9-0873fba86ba1"
   },
   "outputs": [
    {
     "data": {
      "text/html": [
       "<div>\n",
       "<style scoped>\n",
       "    .dataframe tbody tr th:only-of-type {\n",
       "        vertical-align: middle;\n",
       "    }\n",
       "\n",
       "    .dataframe tbody tr th {\n",
       "        vertical-align: top;\n",
       "    }\n",
       "\n",
       "    .dataframe thead th {\n",
       "        text-align: right;\n",
       "    }\n",
       "</style>\n",
       "<table border=\"1\" class=\"dataframe\">\n",
       "  <thead>\n",
       "    <tr style=\"text-align: right;\">\n",
       "      <th></th>\n",
       "      <th>MPG</th>\n",
       "      <th>Cylinders</th>\n",
       "      <th>Displacement</th>\n",
       "      <th>Horsepower</th>\n",
       "      <th>Weight</th>\n",
       "      <th>Acceleration</th>\n",
       "      <th>Model Year</th>\n",
       "      <th>Origin</th>\n",
       "    </tr>\n",
       "  </thead>\n",
       "  <tbody>\n",
       "    <tr>\n",
       "      <th>0</th>\n",
       "      <td>18.0</td>\n",
       "      <td>8</td>\n",
       "      <td>307.0</td>\n",
       "      <td>130.0</td>\n",
       "      <td>3504.0</td>\n",
       "      <td>12.0</td>\n",
       "      <td>70</td>\n",
       "      <td>1</td>\n",
       "    </tr>\n",
       "    <tr>\n",
       "      <th>1</th>\n",
       "      <td>15.0</td>\n",
       "      <td>8</td>\n",
       "      <td>350.0</td>\n",
       "      <td>165.0</td>\n",
       "      <td>3693.0</td>\n",
       "      <td>11.5</td>\n",
       "      <td>70</td>\n",
       "      <td>1</td>\n",
       "    </tr>\n",
       "    <tr>\n",
       "      <th>2</th>\n",
       "      <td>18.0</td>\n",
       "      <td>8</td>\n",
       "      <td>318.0</td>\n",
       "      <td>150.0</td>\n",
       "      <td>3436.0</td>\n",
       "      <td>11.0</td>\n",
       "      <td>70</td>\n",
       "      <td>1</td>\n",
       "    </tr>\n",
       "    <tr>\n",
       "      <th>3</th>\n",
       "      <td>16.0</td>\n",
       "      <td>8</td>\n",
       "      <td>304.0</td>\n",
       "      <td>150.0</td>\n",
       "      <td>3433.0</td>\n",
       "      <td>12.0</td>\n",
       "      <td>70</td>\n",
       "      <td>1</td>\n",
       "    </tr>\n",
       "    <tr>\n",
       "      <th>4</th>\n",
       "      <td>17.0</td>\n",
       "      <td>8</td>\n",
       "      <td>302.0</td>\n",
       "      <td>140.0</td>\n",
       "      <td>3449.0</td>\n",
       "      <td>10.5</td>\n",
       "      <td>70</td>\n",
       "      <td>1</td>\n",
       "    </tr>\n",
       "  </tbody>\n",
       "</table>\n",
       "</div>"
      ],
      "text/plain": [
       "    MPG  Cylinders  Displacement  Horsepower  Weight  Acceleration  \\\n",
       "0  18.0          8         307.0       130.0  3504.0          12.0   \n",
       "1  15.0          8         350.0       165.0  3693.0          11.5   \n",
       "2  18.0          8         318.0       150.0  3436.0          11.0   \n",
       "3  16.0          8         304.0       150.0  3433.0          12.0   \n",
       "4  17.0          8         302.0       140.0  3449.0          10.5   \n",
       "\n",
       "   Model Year  Origin  \n",
       "0          70       1  \n",
       "1          70       1  \n",
       "2          70       1  \n",
       "3          70       1  \n",
       "4          70       1  "
      ]
     },
     "execution_count": 48,
     "metadata": {},
     "output_type": "execute_result"
    }
   ],
   "source": [
    "dataset.head()"
   ]
  },
  {
   "cell_type": "markdown",
   "metadata": {
    "id": "5gZTCJynQRAW"
   },
   "source": [
    "## Prepare the data"
   ]
  },
  {
   "cell_type": "code",
   "execution_count": 49,
   "metadata": {
    "colab": {
     "base_uri": "https://localhost:8080/"
    },
    "executionInfo": {
     "elapsed": 563,
     "status": "ok",
     "timestamp": 1663773408561,
     "user": {
      "displayName": "Nurul Akter Towhid",
      "userId": "15416341478784734538"
     },
     "user_tz": -360
    },
    "id": "dMNkkP-jPUq7",
    "outputId": "51f8981a-8579-4d25-e46e-f0a8a94b2ce7"
   },
   "outputs": [
    {
     "data": {
      "text/plain": [
       "MPG             0\n",
       "Cylinders       0\n",
       "Displacement    0\n",
       "Horsepower      6\n",
       "Weight          0\n",
       "Acceleration    0\n",
       "Model Year      0\n",
       "Origin          0\n",
       "dtype: int64"
      ]
     },
     "execution_count": 49,
     "metadata": {},
     "output_type": "execute_result"
    }
   ],
   "source": [
    "# Prepare the data\n",
    "dataset.isna().sum()"
   ]
  },
  {
   "cell_type": "code",
   "execution_count": 50,
   "metadata": {
    "colab": {
     "base_uri": "https://localhost:8080/",
     "height": 424
    },
    "executionInfo": {
     "elapsed": 671,
     "status": "ok",
     "timestamp": 1663773547252,
     "user": {
      "displayName": "Nurul Akter Towhid",
      "userId": "15416341478784734538"
     },
     "user_tz": -360
    },
    "id": "CGLeTP0pQVwh",
    "outputId": "7fb8e9bf-b28a-46da-e2a0-0c924f868eea"
   },
   "outputs": [
    {
     "data": {
      "text/html": [
       "<div>\n",
       "<style scoped>\n",
       "    .dataframe tbody tr th:only-of-type {\n",
       "        vertical-align: middle;\n",
       "    }\n",
       "\n",
       "    .dataframe tbody tr th {\n",
       "        vertical-align: top;\n",
       "    }\n",
       "\n",
       "    .dataframe thead th {\n",
       "        text-align: right;\n",
       "    }\n",
       "</style>\n",
       "<table border=\"1\" class=\"dataframe\">\n",
       "  <thead>\n",
       "    <tr style=\"text-align: right;\">\n",
       "      <th></th>\n",
       "      <th>MPG</th>\n",
       "      <th>Cylinders</th>\n",
       "      <th>Displacement</th>\n",
       "      <th>Horsepower</th>\n",
       "      <th>Weight</th>\n",
       "      <th>Acceleration</th>\n",
       "      <th>Model Year</th>\n",
       "      <th>Origin</th>\n",
       "    </tr>\n",
       "  </thead>\n",
       "  <tbody>\n",
       "    <tr>\n",
       "      <th>0</th>\n",
       "      <td>18.0</td>\n",
       "      <td>8</td>\n",
       "      <td>307.0</td>\n",
       "      <td>130.0</td>\n",
       "      <td>3504.0</td>\n",
       "      <td>12.0</td>\n",
       "      <td>70</td>\n",
       "      <td>1</td>\n",
       "    </tr>\n",
       "    <tr>\n",
       "      <th>1</th>\n",
       "      <td>15.0</td>\n",
       "      <td>8</td>\n",
       "      <td>350.0</td>\n",
       "      <td>165.0</td>\n",
       "      <td>3693.0</td>\n",
       "      <td>11.5</td>\n",
       "      <td>70</td>\n",
       "      <td>1</td>\n",
       "    </tr>\n",
       "    <tr>\n",
       "      <th>2</th>\n",
       "      <td>18.0</td>\n",
       "      <td>8</td>\n",
       "      <td>318.0</td>\n",
       "      <td>150.0</td>\n",
       "      <td>3436.0</td>\n",
       "      <td>11.0</td>\n",
       "      <td>70</td>\n",
       "      <td>1</td>\n",
       "    </tr>\n",
       "    <tr>\n",
       "      <th>3</th>\n",
       "      <td>16.0</td>\n",
       "      <td>8</td>\n",
       "      <td>304.0</td>\n",
       "      <td>150.0</td>\n",
       "      <td>3433.0</td>\n",
       "      <td>12.0</td>\n",
       "      <td>70</td>\n",
       "      <td>1</td>\n",
       "    </tr>\n",
       "    <tr>\n",
       "      <th>4</th>\n",
       "      <td>17.0</td>\n",
       "      <td>8</td>\n",
       "      <td>302.0</td>\n",
       "      <td>140.0</td>\n",
       "      <td>3449.0</td>\n",
       "      <td>10.5</td>\n",
       "      <td>70</td>\n",
       "      <td>1</td>\n",
       "    </tr>\n",
       "    <tr>\n",
       "      <th>...</th>\n",
       "      <td>...</td>\n",
       "      <td>...</td>\n",
       "      <td>...</td>\n",
       "      <td>...</td>\n",
       "      <td>...</td>\n",
       "      <td>...</td>\n",
       "      <td>...</td>\n",
       "      <td>...</td>\n",
       "    </tr>\n",
       "    <tr>\n",
       "      <th>393</th>\n",
       "      <td>27.0</td>\n",
       "      <td>4</td>\n",
       "      <td>140.0</td>\n",
       "      <td>86.0</td>\n",
       "      <td>2790.0</td>\n",
       "      <td>15.6</td>\n",
       "      <td>82</td>\n",
       "      <td>1</td>\n",
       "    </tr>\n",
       "    <tr>\n",
       "      <th>394</th>\n",
       "      <td>44.0</td>\n",
       "      <td>4</td>\n",
       "      <td>97.0</td>\n",
       "      <td>52.0</td>\n",
       "      <td>2130.0</td>\n",
       "      <td>24.6</td>\n",
       "      <td>82</td>\n",
       "      <td>2</td>\n",
       "    </tr>\n",
       "    <tr>\n",
       "      <th>395</th>\n",
       "      <td>32.0</td>\n",
       "      <td>4</td>\n",
       "      <td>135.0</td>\n",
       "      <td>84.0</td>\n",
       "      <td>2295.0</td>\n",
       "      <td>11.6</td>\n",
       "      <td>82</td>\n",
       "      <td>1</td>\n",
       "    </tr>\n",
       "    <tr>\n",
       "      <th>396</th>\n",
       "      <td>28.0</td>\n",
       "      <td>4</td>\n",
       "      <td>120.0</td>\n",
       "      <td>79.0</td>\n",
       "      <td>2625.0</td>\n",
       "      <td>18.6</td>\n",
       "      <td>82</td>\n",
       "      <td>1</td>\n",
       "    </tr>\n",
       "    <tr>\n",
       "      <th>397</th>\n",
       "      <td>31.0</td>\n",
       "      <td>4</td>\n",
       "      <td>119.0</td>\n",
       "      <td>82.0</td>\n",
       "      <td>2720.0</td>\n",
       "      <td>19.4</td>\n",
       "      <td>82</td>\n",
       "      <td>1</td>\n",
       "    </tr>\n",
       "  </tbody>\n",
       "</table>\n",
       "<p>392 rows × 8 columns</p>\n",
       "</div>"
      ],
      "text/plain": [
       "      MPG  Cylinders  Displacement  Horsepower  Weight  Acceleration  \\\n",
       "0    18.0          8         307.0       130.0  3504.0          12.0   \n",
       "1    15.0          8         350.0       165.0  3693.0          11.5   \n",
       "2    18.0          8         318.0       150.0  3436.0          11.0   \n",
       "3    16.0          8         304.0       150.0  3433.0          12.0   \n",
       "4    17.0          8         302.0       140.0  3449.0          10.5   \n",
       "..    ...        ...           ...         ...     ...           ...   \n",
       "393  27.0          4         140.0        86.0  2790.0          15.6   \n",
       "394  44.0          4          97.0        52.0  2130.0          24.6   \n",
       "395  32.0          4         135.0        84.0  2295.0          11.6   \n",
       "396  28.0          4         120.0        79.0  2625.0          18.6   \n",
       "397  31.0          4         119.0        82.0  2720.0          19.4   \n",
       "\n",
       "     Model Year  Origin  \n",
       "0            70       1  \n",
       "1            70       1  \n",
       "2            70       1  \n",
       "3            70       1  \n",
       "4            70       1  \n",
       "..          ...     ...  \n",
       "393          82       1  \n",
       "394          82       2  \n",
       "395          82       1  \n",
       "396          82       1  \n",
       "397          82       1  \n",
       "\n",
       "[392 rows x 8 columns]"
      ]
     },
     "execution_count": 50,
     "metadata": {},
     "output_type": "execute_result"
    }
   ],
   "source": [
    "dataset = dataset.dropna()\n",
    "dataset"
   ]
  },
  {
   "cell_type": "code",
   "execution_count": 51,
   "metadata": {
    "colab": {
     "base_uri": "https://localhost:8080/",
     "height": 424
    },
    "executionInfo": {
     "elapsed": 1045,
     "status": "ok",
     "timestamp": 1663773573429,
     "user": {
      "displayName": "Nurul Akter Towhid",
      "userId": "15416341478784734538"
     },
     "user_tz": -360
    },
    "id": "MD3rbrJAn5VJ",
    "outputId": "550265c0-b79a-4a4f-eead-c0b0fb7d31e1"
   },
   "outputs": [
    {
     "data": {
      "text/html": [
       "<div>\n",
       "<style scoped>\n",
       "    .dataframe tbody tr th:only-of-type {\n",
       "        vertical-align: middle;\n",
       "    }\n",
       "\n",
       "    .dataframe tbody tr th {\n",
       "        vertical-align: top;\n",
       "    }\n",
       "\n",
       "    .dataframe thead th {\n",
       "        text-align: right;\n",
       "    }\n",
       "</style>\n",
       "<table border=\"1\" class=\"dataframe\">\n",
       "  <thead>\n",
       "    <tr style=\"text-align: right;\">\n",
       "      <th></th>\n",
       "      <th>MPG</th>\n",
       "      <th>Cylinders</th>\n",
       "      <th>Displacement</th>\n",
       "      <th>Horsepower</th>\n",
       "      <th>Weight</th>\n",
       "      <th>Acceleration</th>\n",
       "      <th>Model Year</th>\n",
       "      <th>Origin</th>\n",
       "    </tr>\n",
       "  </thead>\n",
       "  <tbody>\n",
       "    <tr>\n",
       "      <th>0</th>\n",
       "      <td>18.0</td>\n",
       "      <td>8</td>\n",
       "      <td>307.0</td>\n",
       "      <td>130.0</td>\n",
       "      <td>3504.0</td>\n",
       "      <td>12.0</td>\n",
       "      <td>70</td>\n",
       "      <td>1</td>\n",
       "    </tr>\n",
       "    <tr>\n",
       "      <th>1</th>\n",
       "      <td>15.0</td>\n",
       "      <td>8</td>\n",
       "      <td>350.0</td>\n",
       "      <td>165.0</td>\n",
       "      <td>3693.0</td>\n",
       "      <td>11.5</td>\n",
       "      <td>70</td>\n",
       "      <td>1</td>\n",
       "    </tr>\n",
       "    <tr>\n",
       "      <th>2</th>\n",
       "      <td>18.0</td>\n",
       "      <td>8</td>\n",
       "      <td>318.0</td>\n",
       "      <td>150.0</td>\n",
       "      <td>3436.0</td>\n",
       "      <td>11.0</td>\n",
       "      <td>70</td>\n",
       "      <td>1</td>\n",
       "    </tr>\n",
       "    <tr>\n",
       "      <th>3</th>\n",
       "      <td>16.0</td>\n",
       "      <td>8</td>\n",
       "      <td>304.0</td>\n",
       "      <td>150.0</td>\n",
       "      <td>3433.0</td>\n",
       "      <td>12.0</td>\n",
       "      <td>70</td>\n",
       "      <td>1</td>\n",
       "    </tr>\n",
       "    <tr>\n",
       "      <th>4</th>\n",
       "      <td>17.0</td>\n",
       "      <td>8</td>\n",
       "      <td>302.0</td>\n",
       "      <td>140.0</td>\n",
       "      <td>3449.0</td>\n",
       "      <td>10.5</td>\n",
       "      <td>70</td>\n",
       "      <td>1</td>\n",
       "    </tr>\n",
       "    <tr>\n",
       "      <th>...</th>\n",
       "      <td>...</td>\n",
       "      <td>...</td>\n",
       "      <td>...</td>\n",
       "      <td>...</td>\n",
       "      <td>...</td>\n",
       "      <td>...</td>\n",
       "      <td>...</td>\n",
       "      <td>...</td>\n",
       "    </tr>\n",
       "    <tr>\n",
       "      <th>393</th>\n",
       "      <td>27.0</td>\n",
       "      <td>4</td>\n",
       "      <td>140.0</td>\n",
       "      <td>86.0</td>\n",
       "      <td>2790.0</td>\n",
       "      <td>15.6</td>\n",
       "      <td>82</td>\n",
       "      <td>1</td>\n",
       "    </tr>\n",
       "    <tr>\n",
       "      <th>394</th>\n",
       "      <td>44.0</td>\n",
       "      <td>4</td>\n",
       "      <td>97.0</td>\n",
       "      <td>52.0</td>\n",
       "      <td>2130.0</td>\n",
       "      <td>24.6</td>\n",
       "      <td>82</td>\n",
       "      <td>2</td>\n",
       "    </tr>\n",
       "    <tr>\n",
       "      <th>395</th>\n",
       "      <td>32.0</td>\n",
       "      <td>4</td>\n",
       "      <td>135.0</td>\n",
       "      <td>84.0</td>\n",
       "      <td>2295.0</td>\n",
       "      <td>11.6</td>\n",
       "      <td>82</td>\n",
       "      <td>1</td>\n",
       "    </tr>\n",
       "    <tr>\n",
       "      <th>396</th>\n",
       "      <td>28.0</td>\n",
       "      <td>4</td>\n",
       "      <td>120.0</td>\n",
       "      <td>79.0</td>\n",
       "      <td>2625.0</td>\n",
       "      <td>18.6</td>\n",
       "      <td>82</td>\n",
       "      <td>1</td>\n",
       "    </tr>\n",
       "    <tr>\n",
       "      <th>397</th>\n",
       "      <td>31.0</td>\n",
       "      <td>4</td>\n",
       "      <td>119.0</td>\n",
       "      <td>82.0</td>\n",
       "      <td>2720.0</td>\n",
       "      <td>19.4</td>\n",
       "      <td>82</td>\n",
       "      <td>1</td>\n",
       "    </tr>\n",
       "  </tbody>\n",
       "</table>\n",
       "<p>392 rows × 8 columns</p>\n",
       "</div>"
      ],
      "text/plain": [
       "      MPG  Cylinders  Displacement  Horsepower  Weight  Acceleration  \\\n",
       "0    18.0          8         307.0       130.0  3504.0          12.0   \n",
       "1    15.0          8         350.0       165.0  3693.0          11.5   \n",
       "2    18.0          8         318.0       150.0  3436.0          11.0   \n",
       "3    16.0          8         304.0       150.0  3433.0          12.0   \n",
       "4    17.0          8         302.0       140.0  3449.0          10.5   \n",
       "..    ...        ...           ...         ...     ...           ...   \n",
       "393  27.0          4         140.0        86.0  2790.0          15.6   \n",
       "394  44.0          4          97.0        52.0  2130.0          24.6   \n",
       "395  32.0          4         135.0        84.0  2295.0          11.6   \n",
       "396  28.0          4         120.0        79.0  2625.0          18.6   \n",
       "397  31.0          4         119.0        82.0  2720.0          19.4   \n",
       "\n",
       "     Model Year  Origin  \n",
       "0            70       1  \n",
       "1            70       1  \n",
       "2            70       1  \n",
       "3            70       1  \n",
       "4            70       1  \n",
       "..          ...     ...  \n",
       "393          82       1  \n",
       "394          82       2  \n",
       "395          82       1  \n",
       "396          82       1  \n",
       "397          82       1  \n",
       "\n",
       "[392 rows x 8 columns]"
      ]
     },
     "execution_count": 51,
     "metadata": {},
     "output_type": "execute_result"
    }
   ],
   "source": [
    "dataset = dataset.drop_duplicates()\n",
    "dataset"
   ]
  },
  {
   "cell_type": "code",
   "execution_count": 52,
   "metadata": {
    "colab": {
     "base_uri": "https://localhost:8080/",
     "height": 206
    },
    "executionInfo": {
     "elapsed": 731,
     "status": "ok",
     "timestamp": 1663773645155,
     "user": {
      "displayName": "Nurul Akter Towhid",
      "userId": "15416341478784734538"
     },
     "user_tz": -360
    },
    "id": "1IicmrQLQZJe",
    "outputId": "1acd6109-dca1-4724-903b-c76ab9bb2134"
   },
   "outputs": [
    {
     "data": {
      "text/html": [
       "<div>\n",
       "<style scoped>\n",
       "    .dataframe tbody tr th:only-of-type {\n",
       "        vertical-align: middle;\n",
       "    }\n",
       "\n",
       "    .dataframe tbody tr th {\n",
       "        vertical-align: top;\n",
       "    }\n",
       "\n",
       "    .dataframe thead th {\n",
       "        text-align: right;\n",
       "    }\n",
       "</style>\n",
       "<table border=\"1\" class=\"dataframe\">\n",
       "  <thead>\n",
       "    <tr style=\"text-align: right;\">\n",
       "      <th></th>\n",
       "      <th>MPG</th>\n",
       "      <th>Cylinders</th>\n",
       "      <th>Displacement</th>\n",
       "      <th>Horsepower</th>\n",
       "      <th>Weight</th>\n",
       "      <th>Acceleration</th>\n",
       "      <th>Model Year</th>\n",
       "      <th>Origin_Europe</th>\n",
       "      <th>Origin_Japan</th>\n",
       "      <th>Origin_USA</th>\n",
       "    </tr>\n",
       "  </thead>\n",
       "  <tbody>\n",
       "    <tr>\n",
       "      <th>393</th>\n",
       "      <td>27.0</td>\n",
       "      <td>4</td>\n",
       "      <td>140.0</td>\n",
       "      <td>86.0</td>\n",
       "      <td>2790.0</td>\n",
       "      <td>15.6</td>\n",
       "      <td>82</td>\n",
       "      <td>0</td>\n",
       "      <td>0</td>\n",
       "      <td>1</td>\n",
       "    </tr>\n",
       "    <tr>\n",
       "      <th>394</th>\n",
       "      <td>44.0</td>\n",
       "      <td>4</td>\n",
       "      <td>97.0</td>\n",
       "      <td>52.0</td>\n",
       "      <td>2130.0</td>\n",
       "      <td>24.6</td>\n",
       "      <td>82</td>\n",
       "      <td>1</td>\n",
       "      <td>0</td>\n",
       "      <td>0</td>\n",
       "    </tr>\n",
       "    <tr>\n",
       "      <th>395</th>\n",
       "      <td>32.0</td>\n",
       "      <td>4</td>\n",
       "      <td>135.0</td>\n",
       "      <td>84.0</td>\n",
       "      <td>2295.0</td>\n",
       "      <td>11.6</td>\n",
       "      <td>82</td>\n",
       "      <td>0</td>\n",
       "      <td>0</td>\n",
       "      <td>1</td>\n",
       "    </tr>\n",
       "    <tr>\n",
       "      <th>396</th>\n",
       "      <td>28.0</td>\n",
       "      <td>4</td>\n",
       "      <td>120.0</td>\n",
       "      <td>79.0</td>\n",
       "      <td>2625.0</td>\n",
       "      <td>18.6</td>\n",
       "      <td>82</td>\n",
       "      <td>0</td>\n",
       "      <td>0</td>\n",
       "      <td>1</td>\n",
       "    </tr>\n",
       "    <tr>\n",
       "      <th>397</th>\n",
       "      <td>31.0</td>\n",
       "      <td>4</td>\n",
       "      <td>119.0</td>\n",
       "      <td>82.0</td>\n",
       "      <td>2720.0</td>\n",
       "      <td>19.4</td>\n",
       "      <td>82</td>\n",
       "      <td>0</td>\n",
       "      <td>0</td>\n",
       "      <td>1</td>\n",
       "    </tr>\n",
       "  </tbody>\n",
       "</table>\n",
       "</div>"
      ],
      "text/plain": [
       "      MPG  Cylinders  Displacement  Horsepower  Weight  Acceleration  \\\n",
       "393  27.0          4         140.0        86.0  2790.0          15.6   \n",
       "394  44.0          4          97.0        52.0  2130.0          24.6   \n",
       "395  32.0          4         135.0        84.0  2295.0          11.6   \n",
       "396  28.0          4         120.0        79.0  2625.0          18.6   \n",
       "397  31.0          4         119.0        82.0  2720.0          19.4   \n",
       "\n",
       "     Model Year  Origin_Europe  Origin_Japan  Origin_USA  \n",
       "393          82              0             0           1  \n",
       "394          82              1             0           0  \n",
       "395          82              0             0           1  \n",
       "396          82              0             0           1  \n",
       "397          82              0             0           1  "
      ]
     },
     "execution_count": 52,
     "metadata": {},
     "output_type": "execute_result"
    }
   ],
   "source": [
    "# The \"Origin\" column is really categorical, not numeric. So convert that to a one-hot\n",
    "dataset['Origin'] = dataset['Origin'].map({1: 'USA', 2: 'Europe', 3: 'Japan'})\n",
    "\n",
    "# one-hot encoding\n",
    "dataset = pd.get_dummies(dataset, prefix='Origin_', prefix_sep='')\n",
    "dataset.tail()"
   ]
  },
  {
   "cell_type": "code",
   "execution_count": 53,
   "metadata": {
    "executionInfo": {
     "elapsed": 561,
     "status": "ok",
     "timestamp": 1663773685550,
     "user": {
      "displayName": "Nurul Akter Towhid",
      "userId": "15416341478784734538"
     },
     "user_tz": -360
    },
    "id": "HTO4HlEnSYQZ"
   },
   "outputs": [],
   "source": [
    "# Split the data into train (80%) and test (%20)\n",
    "train_dataset = dataset.sample(frac=0.8, random_state=0)\n",
    "test_dataset = dataset.drop(train_dataset.index) "
   ]
  },
  {
   "cell_type": "code",
   "execution_count": 54,
   "metadata": {
    "colab": {
     "base_uri": "https://localhost:8080/"
    },
    "executionInfo": {
     "elapsed": 5,
     "status": "ok",
     "timestamp": 1663773689823,
     "user": {
      "displayName": "Nurul Akter Towhid",
      "userId": "15416341478784734538"
     },
     "user_tz": -360
    },
    "id": "2aVkx3bfS4el",
    "outputId": "62420d4f-8a6b-4fa9-f3d8-81278eec9b83"
   },
   "outputs": [
    {
     "data": {
      "text/plain": [
       "((314, 10), (78, 10))"
      ]
     },
     "execution_count": 54,
     "metadata": {},
     "output_type": "execute_result"
    }
   ],
   "source": [
    "train_dataset.shape , test_dataset.shape"
   ]
  },
  {
   "cell_type": "code",
   "execution_count": 57,
   "metadata": {
    "colab": {
     "base_uri": "https://localhost:8080/",
     "height": 332
    },
    "executionInfo": {
     "elapsed": 715,
     "status": "ok",
     "timestamp": 1663773703820,
     "user": {
      "displayName": "Nurul Akter Towhid",
      "userId": "15416341478784734538"
     },
     "user_tz": -360
    },
    "id": "Vv9gFxVsUTx9",
    "outputId": "2b974b21-e0b2-40d6-bc63-982626f99616"
   },
   "outputs": [
    {
     "data": {
      "text/html": [
       "<div>\n",
       "<style scoped>\n",
       "    .dataframe tbody tr th:only-of-type {\n",
       "        vertical-align: middle;\n",
       "    }\n",
       "\n",
       "    .dataframe tbody tr th {\n",
       "        vertical-align: top;\n",
       "    }\n",
       "\n",
       "    .dataframe thead th {\n",
       "        text-align: right;\n",
       "    }\n",
       "</style>\n",
       "<table border=\"1\" class=\"dataframe\">\n",
       "  <thead>\n",
       "    <tr style=\"text-align: right;\">\n",
       "      <th></th>\n",
       "      <th>count</th>\n",
       "      <th>mean</th>\n",
       "      <th>std</th>\n",
       "      <th>min</th>\n",
       "      <th>25%</th>\n",
       "      <th>50%</th>\n",
       "      <th>75%</th>\n",
       "      <th>max</th>\n",
       "    </tr>\n",
       "  </thead>\n",
       "  <tbody>\n",
       "    <tr>\n",
       "      <th>Displacement</th>\n",
       "      <td>314.0</td>\n",
       "      <td>195.318471</td>\n",
       "      <td>104.331589</td>\n",
       "      <td>68.0</td>\n",
       "      <td>105.50</td>\n",
       "      <td>151.0</td>\n",
       "      <td>265.75</td>\n",
       "      <td>455.0</td>\n",
       "    </tr>\n",
       "    <tr>\n",
       "      <th>Horsepower</th>\n",
       "      <td>314.0</td>\n",
       "      <td>104.869427</td>\n",
       "      <td>38.096214</td>\n",
       "      <td>46.0</td>\n",
       "      <td>76.25</td>\n",
       "      <td>94.5</td>\n",
       "      <td>128.00</td>\n",
       "      <td>225.0</td>\n",
       "    </tr>\n",
       "    <tr>\n",
       "      <th>Weight</th>\n",
       "      <td>314.0</td>\n",
       "      <td>2990.251592</td>\n",
       "      <td>843.898596</td>\n",
       "      <td>1649.0</td>\n",
       "      <td>2256.50</td>\n",
       "      <td>2822.5</td>\n",
       "      <td>3608.00</td>\n",
       "      <td>5140.0</td>\n",
       "    </tr>\n",
       "  </tbody>\n",
       "</table>\n",
       "</div>"
      ],
      "text/plain": [
       "              count         mean         std     min      25%     50%  \\\n",
       "Displacement  314.0   195.318471  104.331589    68.0   105.50   151.0   \n",
       "Horsepower    314.0   104.869427   38.096214    46.0    76.25    94.5   \n",
       "Weight        314.0  2990.251592  843.898596  1649.0  2256.50  2822.5   \n",
       "\n",
       "                  75%     max  \n",
       "Displacement   265.75   455.0  \n",
       "Horsepower     128.00   225.0  \n",
       "Weight        3608.00  5140.0  "
      ]
     },
     "execution_count": 57,
     "metadata": {},
     "output_type": "execute_result"
    }
   ],
   "source": [
    "norm_cols = ['Displacement', 'Horsepower', 'Weight', 'Acceleration']\n",
    "\n",
    "train_stats = train_dataset[norm_cols].describe()\n",
    "train_stats = train_stats.transpose()\n",
    "train_stats"
   ]
  },
  {
   "cell_type": "code",
   "execution_count": 59,
   "metadata": {
    "executionInfo": {
     "elapsed": 4,
     "status": "ok",
     "timestamp": 1663773817836,
     "user": {
      "displayName": "Nurul Akter Towhid",
      "userId": "15416341478784734538"
     },
     "user_tz": -360
    },
    "id": "pNFfSC6MS9Ni"
   },
   "outputs": [],
   "source": [
    "#  Split features from labels (miles per gallon= MPG)\n",
    "train_labels = train_dataset.pop('MPG')\n",
    "test_labels = test_dataset.pop('MPG')\n",
    "\n",
    "# normalize the data\n",
    "def norm(x):\n",
    "  return (x - train_stats['mean']) / train_stats['std']\n",
    "  \n",
    "\n",
    "train_dataset[norm_cols] = norm(train_dataset[norm_cols])\n",
    "test_dataset[norm_cols] = norm(test_dataset[norm_cols])"
   ]
  },
  {
   "cell_type": "code",
   "execution_count": 62,
   "metadata": {
    "colab": {
     "base_uri": "https://localhost:8080/",
     "height": 424
    },
    "executionInfo": {
     "elapsed": 6,
     "status": "ok",
     "timestamp": 1663773822034,
     "user": {
      "displayName": "Nurul Akter Towhid",
      "userId": "15416341478784734538"
     },
     "user_tz": -360
    },
    "id": "dk-Xr6iCDBvW",
    "outputId": "b5661085-eb84-4c75-bc9e-1438fe6cc235"
   },
   "outputs": [],
   "source": [
    "normed_train_data = train_dataset.copy()\n",
    "normed_test_data = test_dataset.copy()"
   ]
  },
  {
   "cell_type": "code",
   "execution_count": 63,
   "metadata": {
    "colab": {
     "base_uri": "https://localhost:8080/",
     "height": 332
    },
    "executionInfo": {
     "elapsed": 704,
     "status": "ok",
     "timestamp": 1663773860779,
     "user": {
      "displayName": "Nurul Akter Towhid",
      "userId": "15416341478784734538"
     },
     "user_tz": -360
    },
    "id": "KIvMqUMLBSz_",
    "outputId": "37a71425-876b-4f4d-a25f-608b0ef2e87e"
   },
   "outputs": [
    {
     "data": {
      "text/html": [
       "<div>\n",
       "<style scoped>\n",
       "    .dataframe tbody tr th:only-of-type {\n",
       "        vertical-align: middle;\n",
       "    }\n",
       "\n",
       "    .dataframe tbody tr th {\n",
       "        vertical-align: top;\n",
       "    }\n",
       "\n",
       "    .dataframe thead th {\n",
       "        text-align: right;\n",
       "    }\n",
       "</style>\n",
       "<table border=\"1\" class=\"dataframe\">\n",
       "  <thead>\n",
       "    <tr style=\"text-align: right;\">\n",
       "      <th></th>\n",
       "      <th>count</th>\n",
       "      <th>mean</th>\n",
       "      <th>std</th>\n",
       "      <th>min</th>\n",
       "      <th>25%</th>\n",
       "      <th>50%</th>\n",
       "      <th>75%</th>\n",
       "      <th>max</th>\n",
       "    </tr>\n",
       "  </thead>\n",
       "  <tbody>\n",
       "    <tr>\n",
       "      <th>Cylinders</th>\n",
       "      <td>314.0</td>\n",
       "      <td>5.477707e+00</td>\n",
       "      <td>1.699788</td>\n",
       "      <td>3.000000</td>\n",
       "      <td>4.000000</td>\n",
       "      <td>4.000000</td>\n",
       "      <td>8.000000</td>\n",
       "      <td>8.000000</td>\n",
       "    </tr>\n",
       "    <tr>\n",
       "      <th>Displacement</th>\n",
       "      <td>314.0</td>\n",
       "      <td>8.627211e-17</td>\n",
       "      <td>1.000000</td>\n",
       "      <td>-1.220325</td>\n",
       "      <td>-0.860894</td>\n",
       "      <td>-0.424785</td>\n",
       "      <td>0.675074</td>\n",
       "      <td>2.489002</td>\n",
       "    </tr>\n",
       "    <tr>\n",
       "      <th>Horsepower</th>\n",
       "      <td>314.0</td>\n",
       "      <td>-9.900078e-18</td>\n",
       "      <td>1.000000</td>\n",
       "      <td>-1.545283</td>\n",
       "      <td>-0.751241</td>\n",
       "      <td>-0.272190</td>\n",
       "      <td>0.607162</td>\n",
       "      <td>3.153347</td>\n",
       "    </tr>\n",
       "    <tr>\n",
       "      <th>Weight</th>\n",
       "      <td>314.0</td>\n",
       "      <td>-8.485781e-17</td>\n",
       "      <td>1.000000</td>\n",
       "      <td>-1.589352</td>\n",
       "      <td>-0.869478</td>\n",
       "      <td>-0.198782</td>\n",
       "      <td>0.732017</td>\n",
       "      <td>2.547401</td>\n",
       "    </tr>\n",
       "    <tr>\n",
       "      <th>Acceleration</th>\n",
       "      <td>314.0</td>\n",
       "      <td>1.555924e+01</td>\n",
       "      <td>2.789230</td>\n",
       "      <td>8.000000</td>\n",
       "      <td>13.800000</td>\n",
       "      <td>15.500000</td>\n",
       "      <td>17.200000</td>\n",
       "      <td>24.800000</td>\n",
       "    </tr>\n",
       "    <tr>\n",
       "      <th>Model Year</th>\n",
       "      <td>314.0</td>\n",
       "      <td>7.589809e+01</td>\n",
       "      <td>3.675642</td>\n",
       "      <td>70.000000</td>\n",
       "      <td>73.000000</td>\n",
       "      <td>76.000000</td>\n",
       "      <td>79.000000</td>\n",
       "      <td>82.000000</td>\n",
       "    </tr>\n",
       "    <tr>\n",
       "      <th>Origin_Europe</th>\n",
       "      <td>314.0</td>\n",
       "      <td>1.783439e-01</td>\n",
       "      <td>0.383413</td>\n",
       "      <td>0.000000</td>\n",
       "      <td>0.000000</td>\n",
       "      <td>0.000000</td>\n",
       "      <td>0.000000</td>\n",
       "      <td>1.000000</td>\n",
       "    </tr>\n",
       "    <tr>\n",
       "      <th>Origin_Japan</th>\n",
       "      <td>314.0</td>\n",
       "      <td>1.974522e-01</td>\n",
       "      <td>0.398712</td>\n",
       "      <td>0.000000</td>\n",
       "      <td>0.000000</td>\n",
       "      <td>0.000000</td>\n",
       "      <td>0.000000</td>\n",
       "      <td>1.000000</td>\n",
       "    </tr>\n",
       "    <tr>\n",
       "      <th>Origin_USA</th>\n",
       "      <td>314.0</td>\n",
       "      <td>6.242038e-01</td>\n",
       "      <td>0.485101</td>\n",
       "      <td>0.000000</td>\n",
       "      <td>0.000000</td>\n",
       "      <td>1.000000</td>\n",
       "      <td>1.000000</td>\n",
       "      <td>1.000000</td>\n",
       "    </tr>\n",
       "  </tbody>\n",
       "</table>\n",
       "</div>"
      ],
      "text/plain": [
       "               count          mean       std        min        25%        50%  \\\n",
       "Cylinders      314.0  5.477707e+00  1.699788   3.000000   4.000000   4.000000   \n",
       "Displacement   314.0  8.627211e-17  1.000000  -1.220325  -0.860894  -0.424785   \n",
       "Horsepower     314.0 -9.900078e-18  1.000000  -1.545283  -0.751241  -0.272190   \n",
       "Weight         314.0 -8.485781e-17  1.000000  -1.589352  -0.869478  -0.198782   \n",
       "Acceleration   314.0  1.555924e+01  2.789230   8.000000  13.800000  15.500000   \n",
       "Model Year     314.0  7.589809e+01  3.675642  70.000000  73.000000  76.000000   \n",
       "Origin_Europe  314.0  1.783439e-01  0.383413   0.000000   0.000000   0.000000   \n",
       "Origin_Japan   314.0  1.974522e-01  0.398712   0.000000   0.000000   0.000000   \n",
       "Origin_USA     314.0  6.242038e-01  0.485101   0.000000   0.000000   1.000000   \n",
       "\n",
       "                     75%        max  \n",
       "Cylinders       8.000000   8.000000  \n",
       "Displacement    0.675074   2.489002  \n",
       "Horsepower      0.607162   3.153347  \n",
       "Weight          0.732017   2.547401  \n",
       "Acceleration   17.200000  24.800000  \n",
       "Model Year     79.000000  82.000000  \n",
       "Origin_Europe   0.000000   1.000000  \n",
       "Origin_Japan    0.000000   1.000000  \n",
       "Origin_USA      1.000000   1.000000  "
      ]
     },
     "execution_count": 63,
     "metadata": {},
     "output_type": "execute_result"
    }
   ],
   "source": [
    "normed_train_data.describe().T"
   ]
  },
  {
   "cell_type": "markdown",
   "metadata": {
    "id": "0SXXwUn4Ujmp"
   },
   "source": [
    "## Build the ANN model"
   ]
  },
  {
   "cell_type": "code",
   "execution_count": 67,
   "metadata": {
    "colab": {
     "base_uri": "https://localhost:8080/"
    },
    "executionInfo": {
     "elapsed": 4,
     "status": "ok",
     "timestamp": 1663773931961,
     "user": {
      "displayName": "Nurul Akter Towhid",
      "userId": "15416341478784734538"
     },
     "user_tz": -360
    },
    "id": "cGKjCFg1UrMb",
    "outputId": "40fed28d-f795-4f49-9390-9b599bf02eda"
   },
   "outputs": [
    {
     "data": {
      "text/plain": [
       "9"
      ]
     },
     "execution_count": 67,
     "metadata": {},
     "output_type": "execute_result"
    }
   ],
   "source": [
    "train_dataset.shape[1], len(train_dataset.keys())"
   ]
  },
  {
   "cell_type": "code",
   "execution_count": 68,
   "metadata": {
    "executionInfo": {
     "elapsed": 4,
     "status": "ok",
     "timestamp": 1663774160473,
     "user": {
      "displayName": "Nurul Akter Towhid",
      "userId": "15416341478784734538"
     },
     "user_tz": -360
    },
    "id": "hXr7eXPjUKVj"
   },
   "outputs": [],
   "source": [
    "def build_model():\n",
    "  model = keras.Sequential([\n",
    "    layers.Dense(50, activation='relu', input_shape=[train_dataset.shape[1]]),\n",
    "    layers.Dense(50, activation='relu'),\n",
    "    layers.Dense(50, activation='relu'),\n",
    "    layers.Dense(50, activation='relu'),\n",
    "    layers.Dense(1)])\n",
    "  \n",
    "  # if there is no activation fuction in dense layer. then it will return sum of (weight * features + bias)\n",
    "  optimizer = tf.keras.optimizers.RMSprop(0.001)\n",
    "\n",
    "  model.compile(loss='mse',\n",
    "                optimizer=optimizer,\n",
    "                metrics=['mae', 'mse'])\n",
    "  return model"
   ]
  },
  {
   "cell_type": "code",
   "execution_count": 69,
   "metadata": {
    "colab": {
     "base_uri": "https://localhost:8080/"
    },
    "executionInfo": {
     "elapsed": 3403,
     "status": "ok",
     "timestamp": 1663774173519,
     "user": {
      "displayName": "Nurul Akter Towhid",
      "userId": "15416341478784734538"
     },
     "user_tz": -360
    },
    "id": "NVU9qX7wVFsl",
    "outputId": "a19aedf8-070b-46fe-fd61-cc7d796cf1b5"
   },
   "outputs": [
    {
     "name": "stdout",
     "output_type": "stream",
     "text": [
      "Model: \"sequential\"\n",
      "_________________________________________________________________\n",
      " Layer (type)                Output Shape              Param #   \n",
      "=================================================================\n",
      " dense (Dense)               (None, 50)                500       \n",
      "                                                                 \n",
      " dense_1 (Dense)             (None, 50)                2550      \n",
      "                                                                 \n",
      " dense_2 (Dense)             (None, 50)                2550      \n",
      "                                                                 \n",
      " dense_3 (Dense)             (None, 50)                2550      \n",
      "                                                                 \n",
      " dense_4 (Dense)             (None, 1)                 51        \n",
      "                                                                 \n",
      "=================================================================\n",
      "Total params: 8,201\n",
      "Trainable params: 8,201\n",
      "Non-trainable params: 0\n",
      "_________________________________________________________________\n"
     ]
    }
   ],
   "source": [
    "model = build_model()\n",
    "model.summary()"
   ]
  },
  {
   "cell_type": "code",
   "execution_count": 70,
   "metadata": {
    "colab": {
     "base_uri": "https://localhost:8080/"
    },
    "executionInfo": {
     "elapsed": 2719,
     "status": "ok",
     "timestamp": 1663774278874,
     "user": {
      "displayName": "Nurul Akter Towhid",
      "userId": "15416341478784734538"
     },
     "user_tz": -360
    },
    "id": "IW-D9OYhVKOc",
    "outputId": "538d98dd-9436-4b78-c636-369ab7703d4c"
   },
   "outputs": [
    {
     "name": "stdout",
     "output_type": "stream",
     "text": [
      "1/1 [==============================] - 0s 218ms/step\n"
     ]
    },
    {
     "data": {
      "text/plain": [
       "array([[1.6089107],\n",
       "       [1.6521429],\n",
       "       [1.8731716],\n",
       "       [1.851272 ],\n",
       "       [1.6742904],\n",
       "       [1.8417041],\n",
       "       [1.6552362],\n",
       "       [1.4568468],\n",
       "       [1.7147374],\n",
       "       [1.405685 ]], dtype=float32)"
      ]
     },
     "execution_count": 70,
     "metadata": {},
     "output_type": "execute_result"
    }
   ],
   "source": [
    "# Now try out the model. Take a batch of 10 examples from the training data and call model.predict on it.\n",
    "example_batch = normed_train_data[:10]\n",
    "example_result = model.predict(example_batch)\n",
    "example_result"
   ]
  },
  {
   "cell_type": "code",
   "execution_count": 71,
   "metadata": {
    "colab": {
     "base_uri": "https://localhost:8080/"
    },
    "executionInfo": {
     "elapsed": 34039,
     "status": "ok",
     "timestamp": 1663774375702,
     "user": {
      "displayName": "Nurul Akter Towhid",
      "userId": "15416341478784734538"
     },
     "user_tz": -360
    },
    "id": "0cUHFEDPYHYv",
    "outputId": "ad5914b3-beea-458a-9f5e-7af9f64fe6a4"
   },
   "outputs": [
    {
     "name": "stdout",
     "output_type": "stream",
     "text": [
      "Epoch 1/500\n"
     ]
    },
    {
     "name": "stderr",
     "output_type": "stream",
     "text": [
      "c:\\users\\user\\.pyenv\\pyenv-win-master\\pyenv-win\\versions\\3.8.6\\lib\\site-packages\\keras\\engine\\data_adapter.py:1699: FutureWarning: The behavior of `series[i:j]` with an integer-dtype index is deprecated. In a future version, this will be treated as *label-based* indexing, consistent with e.g. `series[i]` lookups. To retain the old behavior, use `series.iloc[i:j]`. To get the future behavior, use `series.loc[i:j]`.\n",
      "  return t[start:end]\n"
     ]
    },
    {
     "name": "stdout",
     "output_type": "stream",
     "text": [
      "9/9 [==============================] - 1s 19ms/step - loss: 175.0228 - mae: 10.2222 - mse: 175.0228 - val_loss: 66.6221 - val_mae: 6.8811 - val_mse: 66.6221\n",
      "Epoch 2/500\n",
      "9/9 [==============================] - 0s 4ms/step - loss: 51.1874 - mae: 5.9378 - mse: 51.1874 - val_loss: 61.5609 - val_mae: 6.6998 - val_mse: 61.5609\n",
      "Epoch 3/500\n",
      "9/9 [==============================] - 0s 5ms/step - loss: 49.4468 - mae: 5.8751 - mse: 49.4468 - val_loss: 58.6229 - val_mae: 6.5304 - val_mse: 58.6229\n",
      "Epoch 4/500\n",
      "9/9 [==============================] - 0s 5ms/step - loss: 46.2453 - mae: 5.6976 - mse: 46.2453 - val_loss: 55.8520 - val_mae: 6.3711 - val_mse: 55.8520\n",
      "Epoch 5/500\n",
      "9/9 [==============================] - 0s 5ms/step - loss: 45.1611 - mae: 5.5430 - mse: 45.1611 - val_loss: 52.9373 - val_mae: 6.2202 - val_mse: 52.9373\n",
      "Epoch 6/500\n",
      "9/9 [==============================] - 0s 5ms/step - loss: 42.5145 - mae: 5.4347 - mse: 42.5145 - val_loss: 52.2728 - val_mae: 6.0661 - val_mse: 52.2728\n",
      "Epoch 7/500\n",
      "9/9 [==============================] - 0s 5ms/step - loss: 42.7890 - mae: 5.3890 - mse: 42.7890 - val_loss: 46.4590 - val_mae: 5.7642 - val_mse: 46.4590\n",
      "Epoch 8/500\n",
      "9/9 [==============================] - 0s 5ms/step - loss: 37.8316 - mae: 5.0625 - mse: 37.8316 - val_loss: 42.9876 - val_mae: 5.5395 - val_mse: 42.9876\n",
      "Epoch 9/500\n",
      "9/9 [==============================] - 0s 5ms/step - loss: 36.4498 - mae: 4.9907 - mse: 36.4498 - val_loss: 48.8153 - val_mae: 6.0032 - val_mse: 48.8153\n",
      "Epoch 10/500\n",
      "9/9 [==============================] - 0s 5ms/step - loss: 36.1871 - mae: 4.9409 - mse: 36.1871 - val_loss: 37.4235 - val_mae: 5.0273 - val_mse: 37.4235\n",
      "Epoch 11/500\n",
      "9/9 [==============================] - 0s 6ms/step - loss: 32.5419 - mae: 4.5794 - mse: 32.5419 - val_loss: 32.5198 - val_mae: 4.7012 - val_mse: 32.5198\n",
      "Epoch 12/500\n",
      "9/9 [==============================] - 0s 6ms/step - loss: 30.9803 - mae: 4.4299 - mse: 30.9803 - val_loss: 31.4252 - val_mae: 4.4933 - val_mse: 31.4252\n",
      "Epoch 13/500\n",
      "9/9 [==============================] - 0s 5ms/step - loss: 31.2132 - mae: 4.4378 - mse: 31.2132 - val_loss: 27.1421 - val_mae: 4.1975 - val_mse: 27.1421\n",
      "Epoch 14/500\n",
      "9/9 [==============================] - 0s 4ms/step - loss: 26.9420 - mae: 4.1447 - mse: 26.9420 - val_loss: 28.7927 - val_mae: 4.0835 - val_mse: 28.7927\n",
      "Epoch 15/500\n",
      "9/9 [==============================] - 0s 5ms/step - loss: 23.7944 - mae: 3.7990 - mse: 23.7944 - val_loss: 26.2608 - val_mae: 3.8188 - val_mse: 26.2608\n",
      "Epoch 16/500\n",
      "9/9 [==============================] - 0s 5ms/step - loss: 21.9573 - mae: 3.5747 - mse: 21.9573 - val_loss: 32.9765 - val_mae: 4.8677 - val_mse: 32.9765\n",
      "Epoch 17/500\n",
      "9/9 [==============================] - 0s 5ms/step - loss: 25.4550 - mae: 3.9256 - mse: 25.4550 - val_loss: 19.5880 - val_mae: 3.3027 - val_mse: 19.5880\n",
      "Epoch 18/500\n",
      "9/9 [==============================] - 0s 4ms/step - loss: 20.5653 - mae: 3.4603 - mse: 20.5653 - val_loss: 19.2800 - val_mae: 3.4111 - val_mse: 19.2800\n",
      "Epoch 19/500\n",
      "9/9 [==============================] - 0s 4ms/step - loss: 18.8155 - mae: 3.2849 - mse: 18.8155 - val_loss: 17.2524 - val_mae: 3.1245 - val_mse: 17.2524\n",
      "Epoch 20/500\n",
      "9/9 [==============================] - 0s 5ms/step - loss: 19.8712 - mae: 3.4959 - mse: 19.8712 - val_loss: 20.3239 - val_mae: 3.5247 - val_mse: 20.3239\n",
      "Epoch 21/500\n",
      "9/9 [==============================] - 0s 5ms/step - loss: 23.1345 - mae: 3.7596 - mse: 23.1345 - val_loss: 16.9067 - val_mae: 3.1222 - val_mse: 16.9067\n",
      "Epoch 22/500\n",
      "9/9 [==============================] - 0s 5ms/step - loss: 17.1107 - mae: 3.0906 - mse: 17.1107 - val_loss: 21.0307 - val_mae: 3.4791 - val_mse: 21.0307\n",
      "Epoch 23/500\n",
      "9/9 [==============================] - 0s 5ms/step - loss: 19.5251 - mae: 3.4377 - mse: 19.5251 - val_loss: 16.2351 - val_mae: 3.0986 - val_mse: 16.2351\n",
      "Epoch 24/500\n",
      "9/9 [==============================] - 0s 5ms/step - loss: 16.2745 - mae: 3.0903 - mse: 16.2745 - val_loss: 18.6146 - val_mae: 3.2469 - val_mse: 18.6146\n",
      "Epoch 25/500\n",
      "9/9 [==============================] - 0s 6ms/step - loss: 20.0237 - mae: 3.4162 - mse: 20.0237 - val_loss: 20.2300 - val_mae: 3.4079 - val_mse: 20.2300\n",
      "Epoch 26/500\n",
      "9/9 [==============================] - 0s 5ms/step - loss: 20.5553 - mae: 3.4047 - mse: 20.5553 - val_loss: 15.9740 - val_mae: 3.0711 - val_mse: 15.9740\n",
      "Epoch 27/500\n",
      "9/9 [==============================] - 0s 5ms/step - loss: 15.4145 - mae: 2.9482 - mse: 15.4145 - val_loss: 16.4836 - val_mae: 3.1061 - val_mse: 16.4836\n",
      "Epoch 28/500\n",
      "9/9 [==============================] - 0s 4ms/step - loss: 19.4725 - mae: 3.3042 - mse: 19.4725 - val_loss: 18.1938 - val_mae: 3.2254 - val_mse: 18.1938\n",
      "Epoch 29/500\n",
      "9/9 [==============================] - 0s 5ms/step - loss: 16.4011 - mae: 2.9517 - mse: 16.4011 - val_loss: 16.8838 - val_mae: 3.1136 - val_mse: 16.8838\n",
      "Epoch 30/500\n",
      "9/9 [==============================] - 0s 5ms/step - loss: 18.7034 - mae: 3.3575 - mse: 18.7034 - val_loss: 17.4616 - val_mae: 3.1837 - val_mse: 17.4616\n",
      "Epoch 31/500\n",
      "9/9 [==============================] - 0s 6ms/step - loss: 16.3942 - mae: 2.9814 - mse: 16.3942 - val_loss: 15.3964 - val_mae: 3.0219 - val_mse: 15.3964\n",
      "Epoch 32/500\n",
      "9/9 [==============================] - 0s 5ms/step - loss: 16.8320 - mae: 3.0498 - mse: 16.8320 - val_loss: 15.1332 - val_mae: 3.0167 - val_mse: 15.1332\n",
      "Epoch 33/500\n",
      "9/9 [==============================] - 0s 6ms/step - loss: 16.2066 - mae: 3.0495 - mse: 16.2066 - val_loss: 26.9473 - val_mae: 4.0255 - val_mse: 26.9473\n",
      "Epoch 34/500\n",
      "9/9 [==============================] - 0s 4ms/step - loss: 15.6372 - mae: 3.0113 - mse: 15.6372 - val_loss: 15.7063 - val_mae: 2.9855 - val_mse: 15.7063\n",
      "Epoch 35/500\n",
      "9/9 [==============================] - 0s 6ms/step - loss: 16.6109 - mae: 3.0560 - mse: 16.6109 - val_loss: 13.7998 - val_mae: 2.8330 - val_mse: 13.7998\n",
      "Epoch 36/500\n",
      "9/9 [==============================] - 0s 5ms/step - loss: 18.0918 - mae: 3.2425 - mse: 18.0918 - val_loss: 18.6352 - val_mae: 3.4101 - val_mse: 18.6352\n",
      "Epoch 37/500\n",
      "9/9 [==============================] - 0s 4ms/step - loss: 14.9428 - mae: 2.8833 - mse: 14.9428 - val_loss: 13.6366 - val_mae: 2.8291 - val_mse: 13.6366\n",
      "Epoch 38/500\n",
      "9/9 [==============================] - 0s 5ms/step - loss: 14.3723 - mae: 2.7958 - mse: 14.3723 - val_loss: 14.7972 - val_mae: 2.8694 - val_mse: 14.7972\n",
      "Epoch 39/500\n",
      "9/9 [==============================] - 0s 4ms/step - loss: 17.1096 - mae: 3.0320 - mse: 17.1096 - val_loss: 18.9013 - val_mae: 3.2247 - val_mse: 18.9013\n",
      "Epoch 40/500\n",
      "9/9 [==============================] - 0s 5ms/step - loss: 14.3640 - mae: 2.7826 - mse: 14.3640 - val_loss: 13.2743 - val_mae: 2.7951 - val_mse: 13.2743\n",
      "Epoch 41/500\n",
      "9/9 [==============================] - 0s 4ms/step - loss: 15.6337 - mae: 2.9311 - mse: 15.6337 - val_loss: 14.5320 - val_mae: 2.9624 - val_mse: 14.5320\n",
      "Epoch 42/500\n",
      "9/9 [==============================] - 0s 4ms/step - loss: 14.9695 - mae: 2.8084 - mse: 14.9695 - val_loss: 16.4693 - val_mae: 3.2021 - val_mse: 16.4693\n",
      "Epoch 43/500\n",
      "9/9 [==============================] - 0s 5ms/step - loss: 13.9629 - mae: 2.8181 - mse: 13.9629 - val_loss: 15.1804 - val_mae: 2.8678 - val_mse: 15.1804\n",
      "Epoch 44/500\n",
      "9/9 [==============================] - 0s 5ms/step - loss: 16.4848 - mae: 2.9392 - mse: 16.4848 - val_loss: 20.7229 - val_mae: 3.3188 - val_mse: 20.7229\n",
      "Epoch 45/500\n",
      "9/9 [==============================] - 0s 5ms/step - loss: 15.2139 - mae: 2.8342 - mse: 15.2139 - val_loss: 16.7904 - val_mae: 2.9957 - val_mse: 16.7904\n",
      "Epoch 46/500\n",
      "9/9 [==============================] - 0s 4ms/step - loss: 13.3217 - mae: 2.6315 - mse: 13.3217 - val_loss: 14.8265 - val_mae: 2.8257 - val_mse: 14.8265\n",
      "Epoch 47/500\n",
      "9/9 [==============================] - 0s 5ms/step - loss: 17.6650 - mae: 3.1151 - mse: 17.6650 - val_loss: 13.2422 - val_mae: 2.8097 - val_mse: 13.2422\n",
      "Epoch 48/500\n",
      "9/9 [==============================] - 0s 5ms/step - loss: 12.8428 - mae: 2.5734 - mse: 12.8428 - val_loss: 14.0431 - val_mae: 2.9379 - val_mse: 14.0431\n",
      "Epoch 49/500\n",
      "9/9 [==============================] - 0s 5ms/step - loss: 13.4986 - mae: 2.7218 - mse: 13.4986 - val_loss: 12.4440 - val_mae: 2.6270 - val_mse: 12.4440\n",
      "Epoch 50/500\n"
     ]
    },
    {
     "name": "stdout",
     "output_type": "stream",
     "text": [
      "9/9 [==============================] - 0s 5ms/step - loss: 14.8283 - mae: 2.8573 - mse: 14.8283 - val_loss: 13.2970 - val_mae: 2.6723 - val_mse: 13.2970\n",
      "Epoch 51/500\n",
      "9/9 [==============================] - 0s 5ms/step - loss: 15.5854 - mae: 2.9084 - mse: 15.5854 - val_loss: 12.3339 - val_mae: 2.5950 - val_mse: 12.3339\n",
      "Epoch 52/500\n",
      "9/9 [==============================] - 0s 4ms/step - loss: 11.6026 - mae: 2.4625 - mse: 11.6026 - val_loss: 16.0534 - val_mae: 2.8565 - val_mse: 16.0534\n",
      "Epoch 53/500\n",
      "9/9 [==============================] - 0s 5ms/step - loss: 16.4695 - mae: 2.9264 - mse: 16.4695 - val_loss: 13.4851 - val_mae: 2.6883 - val_mse: 13.4851\n",
      "Epoch 54/500\n",
      "9/9 [==============================] - 0s 5ms/step - loss: 12.4914 - mae: 2.5381 - mse: 12.4914 - val_loss: 12.8353 - val_mae: 2.6093 - val_mse: 12.8353\n",
      "Epoch 55/500\n",
      "9/9 [==============================] - 0s 5ms/step - loss: 14.0269 - mae: 2.7831 - mse: 14.0269 - val_loss: 12.1384 - val_mae: 2.5569 - val_mse: 12.1384\n",
      "Epoch 56/500\n",
      "9/9 [==============================] - 0s 5ms/step - loss: 12.0710 - mae: 2.5157 - mse: 12.0710 - val_loss: 13.0461 - val_mae: 2.8346 - val_mse: 13.0461\n",
      "Epoch 57/500\n",
      "9/9 [==============================] - 0s 5ms/step - loss: 14.8743 - mae: 2.8732 - mse: 14.8743 - val_loss: 13.5731 - val_mae: 2.6286 - val_mse: 13.5731\n",
      "Epoch 58/500\n",
      "9/9 [==============================] - 0s 6ms/step - loss: 12.5687 - mae: 2.5842 - mse: 12.5687 - val_loss: 16.5525 - val_mae: 2.8424 - val_mse: 16.5525\n",
      "Epoch 59/500\n",
      "9/9 [==============================] - 0s 5ms/step - loss: 15.6361 - mae: 2.8057 - mse: 15.6361 - val_loss: 12.2804 - val_mae: 2.6036 - val_mse: 12.2804\n",
      "Epoch 60/500\n",
      "9/9 [==============================] - 0s 4ms/step - loss: 13.9564 - mae: 2.7287 - mse: 13.9564 - val_loss: 13.7577 - val_mae: 2.6569 - val_mse: 13.7577\n",
      "Epoch 61/500\n",
      "9/9 [==============================] - 0s 5ms/step - loss: 14.5248 - mae: 2.7486 - mse: 14.5248 - val_loss: 13.8722 - val_mae: 2.6332 - val_mse: 13.8722\n",
      "Epoch 62/500\n",
      "9/9 [==============================] - 0s 5ms/step - loss: 11.6995 - mae: 2.4265 - mse: 11.6995 - val_loss: 12.6296 - val_mae: 2.7328 - val_mse: 12.6296\n",
      "Epoch 63/500\n",
      "9/9 [==============================] - 0s 5ms/step - loss: 15.0889 - mae: 2.8782 - mse: 15.0889 - val_loss: 17.2387 - val_mae: 2.9491 - val_mse: 17.2387\n",
      "Epoch 64/500\n",
      "9/9 [==============================] - 0s 5ms/step - loss: 12.0853 - mae: 2.5221 - mse: 12.0853 - val_loss: 14.1312 - val_mae: 2.6777 - val_mse: 14.1312\n",
      "Epoch 65/500\n",
      "9/9 [==============================] - 0s 5ms/step - loss: 12.6661 - mae: 2.5132 - mse: 12.6661 - val_loss: 13.1694 - val_mae: 2.6097 - val_mse: 13.1694\n",
      "Epoch 66/500\n",
      "9/9 [==============================] - 0s 5ms/step - loss: 15.6092 - mae: 2.8872 - mse: 15.6092 - val_loss: 12.2947 - val_mae: 2.6327 - val_mse: 12.2947\n",
      "Epoch 67/500\n",
      "9/9 [==============================] - 0s 4ms/step - loss: 11.4218 - mae: 2.4009 - mse: 11.4218 - val_loss: 11.9962 - val_mae: 2.5547 - val_mse: 11.9962\n",
      "Epoch 68/500\n",
      "9/9 [==============================] - 0s 4ms/step - loss: 13.3870 - mae: 2.6882 - mse: 13.3870 - val_loss: 14.9818 - val_mae: 2.7077 - val_mse: 14.9818\n",
      "Epoch 69/500\n",
      "9/9 [==============================] - 0s 4ms/step - loss: 13.8054 - mae: 2.6130 - mse: 13.8054 - val_loss: 23.2355 - val_mae: 3.4382 - val_mse: 23.2355\n",
      "Epoch 70/500\n",
      "9/9 [==============================] - 0s 5ms/step - loss: 12.4328 - mae: 2.5715 - mse: 12.4328 - val_loss: 16.3665 - val_mae: 2.8254 - val_mse: 16.3665\n",
      "Epoch 71/500\n",
      "9/9 [==============================] - 0s 4ms/step - loss: 14.2568 - mae: 2.7739 - mse: 14.2568 - val_loss: 13.2571 - val_mae: 2.6103 - val_mse: 13.2571\n",
      "Epoch 72/500\n",
      "9/9 [==============================] - 0s 5ms/step - loss: 11.7793 - mae: 2.3818 - mse: 11.7793 - val_loss: 15.1992 - val_mae: 2.7260 - val_mse: 15.1992\n",
      "Epoch 73/500\n",
      "9/9 [==============================] - 0s 5ms/step - loss: 11.5846 - mae: 2.4589 - mse: 11.5846 - val_loss: 12.6122 - val_mae: 2.5441 - val_mse: 12.6122\n",
      "Epoch 74/500\n",
      "9/9 [==============================] - 0s 5ms/step - loss: 12.5518 - mae: 2.5057 - mse: 12.5518 - val_loss: 20.2869 - val_mae: 3.7037 - val_mse: 20.2869\n",
      "Epoch 75/500\n",
      "9/9 [==============================] - 0s 5ms/step - loss: 13.8370 - mae: 2.6879 - mse: 13.8370 - val_loss: 14.9278 - val_mae: 2.6854 - val_mse: 14.9278\n",
      "Epoch 76/500\n",
      "9/9 [==============================] - 0s 4ms/step - loss: 11.6676 - mae: 2.4480 - mse: 11.6676 - val_loss: 12.3629 - val_mae: 2.7696 - val_mse: 12.3629\n",
      "Epoch 77/500\n",
      "9/9 [==============================] - 0s 4ms/step - loss: 11.5903 - mae: 2.4859 - mse: 11.5903 - val_loss: 13.5615 - val_mae: 2.5860 - val_mse: 13.5615\n",
      "Epoch 78/500\n",
      "9/9 [==============================] - 0s 5ms/step - loss: 14.1764 - mae: 2.6678 - mse: 14.1764 - val_loss: 20.1525 - val_mae: 3.6972 - val_mse: 20.1525\n",
      "Epoch 79/500\n",
      "9/9 [==============================] - 0s 4ms/step - loss: 15.3831 - mae: 2.9202 - mse: 15.3831 - val_loss: 17.2652 - val_mae: 2.8840 - val_mse: 17.2652\n",
      "Epoch 80/500\n",
      "9/9 [==============================] - 0s 5ms/step - loss: 11.4087 - mae: 2.3987 - mse: 11.4087 - val_loss: 11.6362 - val_mae: 2.4857 - val_mse: 11.6362\n",
      "Epoch 81/500\n",
      "9/9 [==============================] - 0s 5ms/step - loss: 10.6789 - mae: 2.3278 - mse: 10.6789 - val_loss: 17.9587 - val_mae: 3.4272 - val_mse: 17.9587\n",
      "Epoch 82/500\n",
      "9/9 [==============================] - 0s 5ms/step - loss: 15.7186 - mae: 2.9640 - mse: 15.7186 - val_loss: 13.9597 - val_mae: 2.6334 - val_mse: 13.9597\n",
      "Epoch 83/500\n",
      "9/9 [==============================] - 0s 5ms/step - loss: 12.4337 - mae: 2.5403 - mse: 12.4337 - val_loss: 14.7062 - val_mae: 2.6693 - val_mse: 14.7062\n",
      "Epoch 84/500\n",
      "9/9 [==============================] - 0s 5ms/step - loss: 11.6580 - mae: 2.3848 - mse: 11.6580 - val_loss: 23.6620 - val_mae: 3.4370 - val_mse: 23.6620\n",
      "Epoch 85/500\n",
      "9/9 [==============================] - 0s 5ms/step - loss: 11.4901 - mae: 2.4250 - mse: 11.4901 - val_loss: 17.1178 - val_mae: 3.3828 - val_mse: 17.1178\n",
      "Epoch 86/500\n",
      "9/9 [==============================] - 0s 5ms/step - loss: 12.6490 - mae: 2.5357 - mse: 12.6490 - val_loss: 17.9414 - val_mae: 2.9942 - val_mse: 17.9414\n",
      "Epoch 87/500\n",
      "9/9 [==============================] - 0s 4ms/step - loss: 13.1547 - mae: 2.6708 - mse: 13.1547 - val_loss: 12.8104 - val_mae: 2.7857 - val_mse: 12.8104\n",
      "Epoch 88/500\n",
      "9/9 [==============================] - 0s 5ms/step - loss: 13.3362 - mae: 2.6819 - mse: 13.3362 - val_loss: 11.6353 - val_mae: 2.4959 - val_mse: 11.6353\n",
      "Epoch 89/500\n",
      "9/9 [==============================] - 0s 4ms/step - loss: 12.7638 - mae: 2.5688 - mse: 12.7638 - val_loss: 15.9921 - val_mae: 2.7416 - val_mse: 15.9921\n",
      "Epoch 90/500\n",
      "9/9 [==============================] - 0s 4ms/step - loss: 12.7455 - mae: 2.5114 - mse: 12.7455 - val_loss: 12.2829 - val_mae: 2.6966 - val_mse: 12.2829\n",
      "Epoch 91/500\n",
      "9/9 [==============================] - 0s 5ms/step - loss: 11.4810 - mae: 2.4396 - mse: 11.4810 - val_loss: 11.6907 - val_mae: 2.5374 - val_mse: 11.6907\n",
      "Epoch 92/500\n",
      "9/9 [==============================] - 0s 4ms/step - loss: 12.7489 - mae: 2.6356 - mse: 12.7489 - val_loss: 12.9409 - val_mae: 2.5920 - val_mse: 12.9409\n",
      "Epoch 93/500\n",
      "9/9 [==============================] - 0s 7ms/step - loss: 13.6346 - mae: 2.6520 - mse: 13.6346 - val_loss: 11.7052 - val_mae: 2.4809 - val_mse: 11.7052\n",
      "Epoch 94/500\n",
      "9/9 [==============================] - 0s 4ms/step - loss: 10.7781 - mae: 2.3271 - mse: 10.7781 - val_loss: 16.6587 - val_mae: 2.7886 - val_mse: 16.6587\n",
      "Epoch 95/500\n",
      "9/9 [==============================] - 0s 4ms/step - loss: 13.5702 - mae: 2.6743 - mse: 13.5702 - val_loss: 12.4459 - val_mae: 2.5316 - val_mse: 12.4459\n",
      "Epoch 96/500\n",
      "9/9 [==============================] - 0s 5ms/step - loss: 12.3740 - mae: 2.5286 - mse: 12.3740 - val_loss: 11.5955 - val_mae: 2.4750 - val_mse: 11.5955\n",
      "Epoch 97/500\n",
      "9/9 [==============================] - 0s 5ms/step - loss: 13.2065 - mae: 2.5855 - mse: 13.2065 - val_loss: 11.8101 - val_mae: 2.5338 - val_mse: 11.8101\n",
      "Epoch 98/500\n",
      "9/9 [==============================] - 0s 4ms/step - loss: 11.0735 - mae: 2.3750 - mse: 11.0735 - val_loss: 14.6595 - val_mae: 2.6533 - val_mse: 14.6595\n",
      "Epoch 99/500\n"
     ]
    },
    {
     "name": "stdout",
     "output_type": "stream",
     "text": [
      "9/9 [==============================] - 0s 5ms/step - loss: 14.2255 - mae: 2.7489 - mse: 14.2255 - val_loss: 13.5241 - val_mae: 2.5915 - val_mse: 13.5241\n",
      "Epoch 100/500\n",
      "9/9 [==============================] - 0s 5ms/step - loss: 11.7670 - mae: 2.3854 - mse: 11.7670 - val_loss: 13.7036 - val_mae: 2.8604 - val_mse: 13.7036\n",
      "Epoch 101/500\n",
      "9/9 [==============================] - 0s 5ms/step - loss: 12.2550 - mae: 2.5452 - mse: 12.2550 - val_loss: 12.0713 - val_mae: 2.6430 - val_mse: 12.0713\n",
      "Epoch 102/500\n",
      "9/9 [==============================] - 0s 5ms/step - loss: 13.6901 - mae: 2.6181 - mse: 13.6901 - val_loss: 12.3409 - val_mae: 2.5353 - val_mse: 12.3409\n",
      "Epoch 103/500\n",
      "9/9 [==============================] - 0s 5ms/step - loss: 10.9121 - mae: 2.3382 - mse: 10.9121 - val_loss: 17.8226 - val_mae: 2.8694 - val_mse: 17.8226\n",
      "Epoch 104/500\n",
      "9/9 [==============================] - 0s 5ms/step - loss: 13.8480 - mae: 2.6635 - mse: 13.8480 - val_loss: 13.8345 - val_mae: 2.6113 - val_mse: 13.8345\n",
      "Epoch 105/500\n",
      "9/9 [==============================] - 0s 4ms/step - loss: 12.4886 - mae: 2.5409 - mse: 12.4886 - val_loss: 18.9555 - val_mae: 2.9816 - val_mse: 18.9555\n",
      "Epoch 106/500\n",
      "9/9 [==============================] - 0s 6ms/step - loss: 11.4874 - mae: 2.3763 - mse: 11.4874 - val_loss: 11.5667 - val_mae: 2.4608 - val_mse: 11.5667\n",
      "Epoch 107/500\n",
      "9/9 [==============================] - 0s 5ms/step - loss: 13.7697 - mae: 2.6646 - mse: 13.7697 - val_loss: 13.7664 - val_mae: 2.6339 - val_mse: 13.7664\n",
      "Epoch 108/500\n",
      "9/9 [==============================] - 0s 5ms/step - loss: 10.7552 - mae: 2.3011 - mse: 10.7552 - val_loss: 27.4963 - val_mae: 3.8762 - val_mse: 27.4963\n",
      "Epoch 109/500\n",
      "9/9 [==============================] - 0s 5ms/step - loss: 15.1315 - mae: 2.8531 - mse: 15.1315 - val_loss: 11.6908 - val_mae: 2.5114 - val_mse: 11.6908\n",
      "Epoch 110/500\n",
      "9/9 [==============================] - 0s 5ms/step - loss: 10.8323 - mae: 2.3298 - mse: 10.8323 - val_loss: 12.2137 - val_mae: 2.6891 - val_mse: 12.2137\n",
      "Epoch 111/500\n",
      "9/9 [==============================] - 0s 5ms/step - loss: 11.1958 - mae: 2.3176 - mse: 11.1958 - val_loss: 20.6597 - val_mae: 3.2214 - val_mse: 20.6597\n",
      "Epoch 112/500\n",
      "9/9 [==============================] - 0s 5ms/step - loss: 11.0008 - mae: 2.3783 - mse: 11.0008 - val_loss: 17.0810 - val_mae: 3.3694 - val_mse: 17.0810\n",
      "Epoch 113/500\n",
      "9/9 [==============================] - 0s 5ms/step - loss: 13.3881 - mae: 2.6056 - mse: 13.3881 - val_loss: 11.9754 - val_mae: 2.5802 - val_mse: 11.9754\n",
      "Epoch 114/500\n",
      "9/9 [==============================] - 0s 5ms/step - loss: 12.9572 - mae: 2.6371 - mse: 12.9572 - val_loss: 15.4068 - val_mae: 2.7113 - val_mse: 15.4068\n",
      "Epoch 115/500\n",
      "9/9 [==============================] - 0s 5ms/step - loss: 11.8221 - mae: 2.3927 - mse: 11.8221 - val_loss: 11.7346 - val_mae: 2.5472 - val_mse: 11.7346\n",
      "Epoch 116/500\n",
      "9/9 [==============================] - 0s 5ms/step - loss: 12.0397 - mae: 2.4875 - mse: 12.0397 - val_loss: 13.6582 - val_mae: 2.6108 - val_mse: 13.6582\n",
      "Epoch 117/500\n",
      "9/9 [==============================] - 0s 5ms/step - loss: 11.6186 - mae: 2.3876 - mse: 11.6186 - val_loss: 11.3198 - val_mae: 2.4392 - val_mse: 11.3198\n",
      "Epoch 118/500\n",
      "9/9 [==============================] - 0s 5ms/step - loss: 11.2709 - mae: 2.3767 - mse: 11.2709 - val_loss: 11.6814 - val_mae: 2.5558 - val_mse: 11.6814\n",
      "Epoch 119/500\n",
      "9/9 [==============================] - 0s 5ms/step - loss: 11.9244 - mae: 2.5652 - mse: 11.9244 - val_loss: 15.0003 - val_mae: 2.7023 - val_mse: 15.0003\n",
      "Epoch 120/500\n",
      "9/9 [==============================] - 0s 4ms/step - loss: 11.7928 - mae: 2.5295 - mse: 11.7928 - val_loss: 13.5032 - val_mae: 2.5959 - val_mse: 13.5032\n",
      "Epoch 121/500\n",
      "9/9 [==============================] - 0s 5ms/step - loss: 10.6361 - mae: 2.3461 - mse: 10.6361 - val_loss: 14.7925 - val_mae: 2.6830 - val_mse: 14.7925\n",
      "Epoch 122/500\n",
      "9/9 [==============================] - 0s 5ms/step - loss: 11.1134 - mae: 2.4306 - mse: 11.1134 - val_loss: 14.1541 - val_mae: 2.6394 - val_mse: 14.1541\n",
      "Epoch 123/500\n",
      "9/9 [==============================] - 0s 4ms/step - loss: 10.8860 - mae: 2.3409 - mse: 10.8860 - val_loss: 18.4404 - val_mae: 3.5183 - val_mse: 18.4404\n",
      "Epoch 124/500\n",
      "9/9 [==============================] - 0s 6ms/step - loss: 13.6832 - mae: 2.7221 - mse: 13.6832 - val_loss: 20.2232 - val_mae: 3.1208 - val_mse: 20.2232\n",
      "Epoch 125/500\n",
      "9/9 [==============================] - 0s 4ms/step - loss: 11.1066 - mae: 2.3609 - mse: 11.1066 - val_loss: 14.3258 - val_mae: 2.6724 - val_mse: 14.3258\n",
      "Epoch 126/500\n",
      "9/9 [==============================] - 0s 5ms/step - loss: 11.3437 - mae: 2.3490 - mse: 11.3437 - val_loss: 13.7727 - val_mae: 2.8343 - val_mse: 13.7727\n",
      "Epoch 127/500\n",
      "9/9 [==============================] - 0s 5ms/step - loss: 11.4923 - mae: 2.4109 - mse: 11.4923 - val_loss: 16.1841 - val_mae: 2.7678 - val_mse: 16.1841\n",
      "Epoch 128/500\n",
      "9/9 [==============================] - 0s 5ms/step - loss: 12.0594 - mae: 2.5124 - mse: 12.0594 - val_loss: 13.7573 - val_mae: 2.8621 - val_mse: 13.7573\n",
      "Epoch 129/500\n",
      "9/9 [==============================] - 0s 5ms/step - loss: 13.9394 - mae: 2.7051 - mse: 13.9394 - val_loss: 13.2624 - val_mae: 2.6004 - val_mse: 13.2624\n",
      "Epoch 130/500\n",
      "9/9 [==============================] - 0s 4ms/step - loss: 10.3131 - mae: 2.2150 - mse: 10.3131 - val_loss: 20.9725 - val_mae: 3.1144 - val_mse: 20.9725\n",
      "Epoch 131/500\n",
      "9/9 [==============================] - 0s 4ms/step - loss: 13.2350 - mae: 2.5660 - mse: 13.2350 - val_loss: 14.4211 - val_mae: 2.6621 - val_mse: 14.4211\n",
      "Epoch 132/500\n",
      "9/9 [==============================] - 0s 4ms/step - loss: 10.9406 - mae: 2.2887 - mse: 10.9406 - val_loss: 15.0039 - val_mae: 2.6968 - val_mse: 15.0039\n",
      "Epoch 133/500\n",
      "9/9 [==============================] - 0s 4ms/step - loss: 12.3835 - mae: 2.5382 - mse: 12.3835 - val_loss: 15.7312 - val_mae: 2.7778 - val_mse: 15.7312\n",
      "Epoch 134/500\n",
      "9/9 [==============================] - 0s 5ms/step - loss: 11.5444 - mae: 2.4081 - mse: 11.5444 - val_loss: 14.7756 - val_mae: 2.6991 - val_mse: 14.7756\n",
      "Epoch 135/500\n",
      "9/9 [==============================] - 0s 4ms/step - loss: 11.6998 - mae: 2.4737 - mse: 11.6998 - val_loss: 23.3496 - val_mae: 3.3115 - val_mse: 23.3496\n",
      "Epoch 136/500\n",
      "9/9 [==============================] - 0s 4ms/step - loss: 13.2622 - mae: 2.5993 - mse: 13.2622 - val_loss: 12.2819 - val_mae: 2.6322 - val_mse: 12.2819\n",
      "Epoch 137/500\n",
      "9/9 [==============================] - 0s 4ms/step - loss: 13.3714 - mae: 2.5777 - mse: 13.3714 - val_loss: 11.9908 - val_mae: 2.4999 - val_mse: 11.9908\n",
      "Epoch 138/500\n",
      "9/9 [==============================] - 0s 4ms/step - loss: 10.5279 - mae: 2.2676 - mse: 10.5279 - val_loss: 12.4688 - val_mae: 2.5337 - val_mse: 12.4688\n",
      "Epoch 139/500\n",
      "9/9 [==============================] - 0s 4ms/step - loss: 10.7774 - mae: 2.2901 - mse: 10.7774 - val_loss: 11.9541 - val_mae: 2.5828 - val_mse: 11.9541\n",
      "Epoch 140/500\n",
      "9/9 [==============================] - 0s 5ms/step - loss: 11.6848 - mae: 2.4364 - mse: 11.6848 - val_loss: 14.3915 - val_mae: 2.6645 - val_mse: 14.3915\n",
      "Epoch 141/500\n",
      "9/9 [==============================] - 0s 5ms/step - loss: 11.3082 - mae: 2.4449 - mse: 11.3082 - val_loss: 12.7832 - val_mae: 2.6822 - val_mse: 12.7832\n",
      "Epoch 142/500\n",
      "9/9 [==============================] - 0s 4ms/step - loss: 12.2865 - mae: 2.5193 - mse: 12.2865 - val_loss: 16.2967 - val_mae: 2.7951 - val_mse: 16.2967\n",
      "Epoch 143/500\n",
      "9/9 [==============================] - 0s 5ms/step - loss: 12.4376 - mae: 2.5096 - mse: 12.4376 - val_loss: 14.8538 - val_mae: 2.6943 - val_mse: 14.8538\n",
      "Epoch 144/500\n",
      "9/9 [==============================] - 0s 4ms/step - loss: 10.3608 - mae: 2.2008 - mse: 10.3608 - val_loss: 25.5110 - val_mae: 3.6470 - val_mse: 25.5110\n",
      "Epoch 145/500\n",
      "9/9 [==============================] - 0s 4ms/step - loss: 11.5361 - mae: 2.4432 - mse: 11.5361 - val_loss: 14.0814 - val_mae: 2.6378 - val_mse: 14.0814\n",
      "Epoch 146/500\n",
      "9/9 [==============================] - 0s 5ms/step - loss: 10.1825 - mae: 2.2952 - mse: 10.1825 - val_loss: 15.3476 - val_mae: 3.1516 - val_mse: 15.3476\n",
      "Epoch 147/500\n",
      "9/9 [==============================] - 0s 4ms/step - loss: 12.6646 - mae: 2.5040 - mse: 12.6646 - val_loss: 12.9543 - val_mae: 2.5767 - val_mse: 12.9543\n",
      "Epoch 148/500\n"
     ]
    },
    {
     "name": "stdout",
     "output_type": "stream",
     "text": [
      "9/9 [==============================] - 0s 5ms/step - loss: 13.2402 - mae: 2.5622 - mse: 13.2402 - val_loss: 16.1106 - val_mae: 2.7935 - val_mse: 16.1106\n",
      "Epoch 149/500\n",
      "9/9 [==============================] - 0s 4ms/step - loss: 10.4773 - mae: 2.2654 - mse: 10.4773 - val_loss: 12.3654 - val_mae: 2.6527 - val_mse: 12.3654\n",
      "Epoch 150/500\n",
      "9/9 [==============================] - 0s 5ms/step - loss: 12.2489 - mae: 2.5521 - mse: 12.2489 - val_loss: 13.6252 - val_mae: 2.6218 - val_mse: 13.6252\n",
      "Epoch 151/500\n",
      "9/9 [==============================] - 0s 4ms/step - loss: 11.2751 - mae: 2.3896 - mse: 11.2751 - val_loss: 12.0693 - val_mae: 2.5077 - val_mse: 12.0693\n",
      "Epoch 152/500\n",
      "9/9 [==============================] - 0s 5ms/step - loss: 11.0657 - mae: 2.3735 - mse: 11.0657 - val_loss: 12.6163 - val_mae: 2.6860 - val_mse: 12.6163\n",
      "Epoch 153/500\n",
      "9/9 [==============================] - 0s 5ms/step - loss: 11.8580 - mae: 2.5055 - mse: 11.8580 - val_loss: 19.2084 - val_mae: 3.1043 - val_mse: 19.2084\n",
      "Epoch 154/500\n",
      "9/9 [==============================] - 0s 5ms/step - loss: 12.5504 - mae: 2.5624 - mse: 12.5504 - val_loss: 13.2637 - val_mae: 2.5888 - val_mse: 13.2637\n",
      "Epoch 155/500\n",
      "9/9 [==============================] - 0s 5ms/step - loss: 11.2470 - mae: 2.3473 - mse: 11.2470 - val_loss: 20.4203 - val_mae: 3.1575 - val_mse: 20.4203\n",
      "Epoch 156/500\n",
      "9/9 [==============================] - 0s 5ms/step - loss: 11.8584 - mae: 2.3691 - mse: 11.8584 - val_loss: 12.6317 - val_mae: 2.5595 - val_mse: 12.6317\n",
      "Epoch 157/500\n",
      "9/9 [==============================] - 0s 5ms/step - loss: 12.1367 - mae: 2.4616 - mse: 12.1367 - val_loss: 19.4929 - val_mae: 3.0169 - val_mse: 19.4929\n",
      "Epoch 158/500\n",
      "9/9 [==============================] - 0s 5ms/step - loss: 11.2379 - mae: 2.3210 - mse: 11.2379 - val_loss: 12.3893 - val_mae: 2.6761 - val_mse: 12.3893\n",
      "Epoch 159/500\n",
      "9/9 [==============================] - 0s 4ms/step - loss: 11.9882 - mae: 2.3915 - mse: 11.9882 - val_loss: 14.5861 - val_mae: 2.6872 - val_mse: 14.5861\n",
      "Epoch 160/500\n",
      "9/9 [==============================] - 0s 4ms/step - loss: 10.8275 - mae: 2.2823 - mse: 10.8275 - val_loss: 12.3599 - val_mae: 2.6275 - val_mse: 12.3599\n",
      "Epoch 161/500\n",
      "9/9 [==============================] - 0s 4ms/step - loss: 11.2783 - mae: 2.4676 - mse: 11.2783 - val_loss: 11.6111 - val_mae: 2.4662 - val_mse: 11.6111\n",
      "Epoch 162/500\n",
      "9/9 [==============================] - 0s 4ms/step - loss: 11.3910 - mae: 2.4850 - mse: 11.3910 - val_loss: 11.7566 - val_mae: 2.5136 - val_mse: 11.7566\n",
      "Epoch 163/500\n",
      "9/9 [==============================] - 0s 4ms/step - loss: 10.5936 - mae: 2.3565 - mse: 10.5936 - val_loss: 13.4403 - val_mae: 2.6148 - val_mse: 13.4403\n",
      "Epoch 164/500\n",
      "9/9 [==============================] - 0s 4ms/step - loss: 11.9687 - mae: 2.4663 - mse: 11.9687 - val_loss: 16.2897 - val_mae: 2.8573 - val_mse: 16.2897\n",
      "Epoch 165/500\n",
      "9/9 [==============================] - 0s 4ms/step - loss: 10.6832 - mae: 2.3239 - mse: 10.6832 - val_loss: 12.2043 - val_mae: 2.5136 - val_mse: 12.2043\n",
      "Epoch 166/500\n",
      "9/9 [==============================] - 0s 4ms/step - loss: 12.1007 - mae: 2.4453 - mse: 12.1007 - val_loss: 13.9530 - val_mae: 2.9049 - val_mse: 13.9530\n",
      "Epoch 167/500\n",
      "9/9 [==============================] - 0s 4ms/step - loss: 10.6439 - mae: 2.3772 - mse: 10.6439 - val_loss: 20.6184 - val_mae: 3.1189 - val_mse: 20.6184\n",
      "Epoch 168/500\n",
      "9/9 [==============================] - 0s 4ms/step - loss: 12.3437 - mae: 2.4940 - mse: 12.3437 - val_loss: 12.2769 - val_mae: 2.5309 - val_mse: 12.2769\n",
      "Epoch 169/500\n",
      "9/9 [==============================] - 0s 5ms/step - loss: 12.2232 - mae: 2.3997 - mse: 12.2232 - val_loss: 11.6969 - val_mae: 2.4785 - val_mse: 11.6969\n",
      "Epoch 170/500\n",
      "9/9 [==============================] - 0s 4ms/step - loss: 10.5108 - mae: 2.2747 - mse: 10.5108 - val_loss: 11.6701 - val_mae: 2.4978 - val_mse: 11.6701\n",
      "Epoch 171/500\n",
      "9/9 [==============================] - 0s 4ms/step - loss: 11.2348 - mae: 2.3683 - mse: 11.2348 - val_loss: 11.9767 - val_mae: 2.5405 - val_mse: 11.9767\n",
      "Epoch 172/500\n",
      "9/9 [==============================] - 0s 5ms/step - loss: 10.9487 - mae: 2.2849 - mse: 10.9487 - val_loss: 11.9220 - val_mae: 2.5068 - val_mse: 11.9220\n",
      "Epoch 173/500\n",
      "9/9 [==============================] - 0s 4ms/step - loss: 11.8372 - mae: 2.5038 - mse: 11.8372 - val_loss: 13.5835 - val_mae: 2.8828 - val_mse: 13.5835\n",
      "Epoch 174/500\n",
      "9/9 [==============================] - 0s 4ms/step - loss: 11.9692 - mae: 2.4306 - mse: 11.9692 - val_loss: 13.1488 - val_mae: 2.7772 - val_mse: 13.1488\n",
      "Epoch 175/500\n",
      "9/9 [==============================] - 0s 4ms/step - loss: 10.5971 - mae: 2.2851 - mse: 10.5971 - val_loss: 12.1296 - val_mae: 2.5622 - val_mse: 12.1296\n",
      "Epoch 176/500\n",
      "9/9 [==============================] - 0s 4ms/step - loss: 11.0215 - mae: 2.3471 - mse: 11.0215 - val_loss: 12.9014 - val_mae: 2.6021 - val_mse: 12.9014\n",
      "Epoch 177/500\n",
      "9/9 [==============================] - 0s 4ms/step - loss: 9.9573 - mae: 2.1943 - mse: 9.9573 - val_loss: 13.6718 - val_mae: 2.6425 - val_mse: 13.6718\n",
      "Epoch 178/500\n",
      "9/9 [==============================] - 0s 4ms/step - loss: 12.2101 - mae: 2.5877 - mse: 12.2101 - val_loss: 14.6338 - val_mae: 2.9940 - val_mse: 14.6338\n",
      "Epoch 179/500\n",
      "9/9 [==============================] - 0s 4ms/step - loss: 10.7774 - mae: 2.3445 - mse: 10.7774 - val_loss: 11.8994 - val_mae: 2.5146 - val_mse: 11.8994\n",
      "Epoch 180/500\n",
      "9/9 [==============================] - 0s 4ms/step - loss: 10.9697 - mae: 2.3252 - mse: 10.9697 - val_loss: 22.3026 - val_mae: 3.2940 - val_mse: 22.3026\n",
      "Epoch 181/500\n",
      "9/9 [==============================] - 0s 4ms/step - loss: 10.6217 - mae: 2.3107 - mse: 10.6217 - val_loss: 11.9267 - val_mae: 2.5362 - val_mse: 11.9267\n",
      "Epoch 182/500\n",
      "9/9 [==============================] - 0s 5ms/step - loss: 10.8426 - mae: 2.3376 - mse: 10.8426 - val_loss: 15.2144 - val_mae: 2.7614 - val_mse: 15.2144\n",
      "Epoch 183/500\n",
      "9/9 [==============================] - 0s 4ms/step - loss: 11.5851 - mae: 2.4543 - mse: 11.5851 - val_loss: 11.7360 - val_mae: 2.4929 - val_mse: 11.7360\n",
      "Epoch 184/500\n",
      "9/9 [==============================] - 0s 4ms/step - loss: 10.5730 - mae: 2.2905 - mse: 10.5730 - val_loss: 17.9062 - val_mae: 3.0060 - val_mse: 17.9062\n",
      "Epoch 185/500\n",
      "9/9 [==============================] - 0s 4ms/step - loss: 11.0830 - mae: 2.3596 - mse: 11.0830 - val_loss: 20.6190 - val_mae: 3.1938 - val_mse: 20.6190\n",
      "Epoch 186/500\n",
      "9/9 [==============================] - 0s 4ms/step - loss: 12.1349 - mae: 2.5237 - mse: 12.1349 - val_loss: 15.0467 - val_mae: 2.7350 - val_mse: 15.0467\n",
      "Epoch 187/500\n",
      "9/9 [==============================] - 0s 4ms/step - loss: 9.9954 - mae: 2.1935 - mse: 9.9954 - val_loss: 13.2030 - val_mae: 2.6273 - val_mse: 13.2030\n",
      "Epoch 188/500\n",
      "9/9 [==============================] - 0s 5ms/step - loss: 10.9853 - mae: 2.3560 - mse: 10.9853 - val_loss: 13.4222 - val_mae: 2.8605 - val_mse: 13.4222\n",
      "Epoch 189/500\n",
      "9/9 [==============================] - 0s 4ms/step - loss: 10.7600 - mae: 2.3298 - mse: 10.7600 - val_loss: 12.2629 - val_mae: 2.6514 - val_mse: 12.2629\n",
      "Epoch 190/500\n",
      "9/9 [==============================] - 0s 4ms/step - loss: 10.0800 - mae: 2.2710 - mse: 10.0800 - val_loss: 11.8315 - val_mae: 2.5296 - val_mse: 11.8315\n",
      "Epoch 191/500\n",
      "9/9 [==============================] - 0s 4ms/step - loss: 10.8733 - mae: 2.3728 - mse: 10.8733 - val_loss: 16.7995 - val_mae: 2.9253 - val_mse: 16.7995\n",
      "Epoch 192/500\n",
      "9/9 [==============================] - 0s 4ms/step - loss: 10.5880 - mae: 2.2976 - mse: 10.5880 - val_loss: 11.9561 - val_mae: 2.5133 - val_mse: 11.9561\n",
      "Epoch 193/500\n",
      "9/9 [==============================] - 0s 4ms/step - loss: 12.7112 - mae: 2.5499 - mse: 12.7112 - val_loss: 14.4360 - val_mae: 2.7495 - val_mse: 14.4360\n",
      "Epoch 194/500\n",
      "9/9 [==============================] - 0s 4ms/step - loss: 10.8077 - mae: 2.3239 - mse: 10.8077 - val_loss: 14.2234 - val_mae: 2.6835 - val_mse: 14.2234\n",
      "Epoch 195/500\n",
      "9/9 [==============================] - 0s 4ms/step - loss: 10.7369 - mae: 2.3218 - mse: 10.7369 - val_loss: 12.9533 - val_mae: 2.6354 - val_mse: 12.9533\n",
      "Epoch 196/500\n",
      "9/9 [==============================] - 0s 4ms/step - loss: 9.9166 - mae: 2.1893 - mse: 9.9166 - val_loss: 11.5837 - val_mae: 2.4887 - val_mse: 11.5837\n",
      "Epoch 197/500\n"
     ]
    },
    {
     "name": "stdout",
     "output_type": "stream",
     "text": [
      "9/9 [==============================] - 0s 4ms/step - loss: 11.5493 - mae: 2.4122 - mse: 11.5493 - val_loss: 12.0908 - val_mae: 2.5603 - val_mse: 12.0908\n",
      "Epoch 198/500\n",
      "9/9 [==============================] - 0s 4ms/step - loss: 11.7362 - mae: 2.3874 - mse: 11.7362 - val_loss: 12.6441 - val_mae: 2.5637 - val_mse: 12.6441\n",
      "Epoch 199/500\n",
      "9/9 [==============================] - 0s 4ms/step - loss: 10.7148 - mae: 2.3562 - mse: 10.7148 - val_loss: 12.3571 - val_mae: 2.6067 - val_mse: 12.3571\n",
      "Epoch 200/500\n",
      "9/9 [==============================] - 0s 4ms/step - loss: 12.2192 - mae: 2.4881 - mse: 12.2192 - val_loss: 16.1799 - val_mae: 2.8547 - val_mse: 16.1799\n",
      "Epoch 201/500\n",
      "9/9 [==============================] - 0s 5ms/step - loss: 10.8097 - mae: 2.3018 - mse: 10.8097 - val_loss: 11.7529 - val_mae: 2.5159 - val_mse: 11.7529\n",
      "Epoch 202/500\n",
      "9/9 [==============================] - 0s 4ms/step - loss: 9.6453 - mae: 2.1842 - mse: 9.6453 - val_loss: 11.5794 - val_mae: 2.4703 - val_mse: 11.5794\n",
      "Epoch 203/500\n",
      "9/9 [==============================] - 0s 4ms/step - loss: 10.4873 - mae: 2.2929 - mse: 10.4873 - val_loss: 16.0351 - val_mae: 2.8404 - val_mse: 16.0351\n",
      "Epoch 204/500\n",
      "9/9 [==============================] - 0s 5ms/step - loss: 10.3761 - mae: 2.1940 - mse: 10.3761 - val_loss: 17.6363 - val_mae: 3.4847 - val_mse: 17.6363\n",
      "Epoch 205/500\n",
      "9/9 [==============================] - 0s 5ms/step - loss: 11.7994 - mae: 2.4398 - mse: 11.7994 - val_loss: 12.5127 - val_mae: 2.6958 - val_mse: 12.5127\n",
      "Epoch 206/500\n",
      "9/9 [==============================] - 0s 4ms/step - loss: 11.0145 - mae: 2.4013 - mse: 11.0145 - val_loss: 15.7641 - val_mae: 2.8451 - val_mse: 15.7641\n",
      "Epoch 207/500\n",
      "9/9 [==============================] - 0s 4ms/step - loss: 10.7636 - mae: 2.3575 - mse: 10.7636 - val_loss: 13.1369 - val_mae: 2.7863 - val_mse: 13.1369\n",
      "Epoch 208/500\n",
      "9/9 [==============================] - 0s 3ms/step - loss: 11.0631 - mae: 2.3769 - mse: 11.0631 - val_loss: 14.6724 - val_mae: 2.7498 - val_mse: 14.6724\n",
      "Epoch 209/500\n",
      "9/9 [==============================] - 0s 4ms/step - loss: 11.2788 - mae: 2.4036 - mse: 11.2788 - val_loss: 18.4371 - val_mae: 3.0250 - val_mse: 18.4371\n",
      "Epoch 210/500\n",
      "9/9 [==============================] - 0s 4ms/step - loss: 10.4383 - mae: 2.2749 - mse: 10.4383 - val_loss: 11.8191 - val_mae: 2.4996 - val_mse: 11.8191\n",
      "Epoch 211/500\n",
      "9/9 [==============================] - 0s 4ms/step - loss: 10.9405 - mae: 2.3376 - mse: 10.9405 - val_loss: 16.5203 - val_mae: 2.9038 - val_mse: 16.5203\n",
      "Epoch 212/500\n",
      "9/9 [==============================] - 0s 5ms/step - loss: 11.0697 - mae: 2.2739 - mse: 11.0697 - val_loss: 12.4359 - val_mae: 2.5974 - val_mse: 12.4359\n",
      "Epoch 213/500\n",
      "9/9 [==============================] - 0s 4ms/step - loss: 12.5557 - mae: 2.4507 - mse: 12.5557 - val_loss: 14.2538 - val_mae: 2.6896 - val_mse: 14.2538\n",
      "Epoch 214/500\n",
      "9/9 [==============================] - 0s 5ms/step - loss: 9.9967 - mae: 2.2011 - mse: 9.9967 - val_loss: 11.5798 - val_mae: 2.4833 - val_mse: 11.5798\n",
      "Epoch 215/500\n",
      "9/9 [==============================] - 0s 5ms/step - loss: 11.3047 - mae: 2.4091 - mse: 11.3047 - val_loss: 13.4477 - val_mae: 2.8064 - val_mse: 13.4477\n",
      "Epoch 216/500\n",
      "9/9 [==============================] - 0s 5ms/step - loss: 10.4244 - mae: 2.3197 - mse: 10.4244 - val_loss: 12.4727 - val_mae: 2.6736 - val_mse: 12.4727\n",
      "Epoch 217/500\n",
      "9/9 [==============================] - 0s 5ms/step - loss: 10.6401 - mae: 2.3049 - mse: 10.6401 - val_loss: 11.5549 - val_mae: 2.4736 - val_mse: 11.5549\n",
      "Epoch 218/500\n",
      "9/9 [==============================] - 0s 5ms/step - loss: 11.3272 - mae: 2.3910 - mse: 11.3272 - val_loss: 11.8223 - val_mae: 2.5418 - val_mse: 11.8223\n",
      "Epoch 219/500\n",
      "9/9 [==============================] - 0s 4ms/step - loss: 10.1761 - mae: 2.2868 - mse: 10.1761 - val_loss: 12.7008 - val_mae: 2.6458 - val_mse: 12.7008\n",
      "Epoch 220/500\n",
      "9/9 [==============================] - 0s 6ms/step - loss: 10.7236 - mae: 2.3706 - mse: 10.7236 - val_loss: 11.4093 - val_mae: 2.4938 - val_mse: 11.4093\n",
      "Epoch 221/500\n",
      "9/9 [==============================] - 0s 6ms/step - loss: 11.1066 - mae: 2.4053 - mse: 11.1066 - val_loss: 23.5959 - val_mae: 3.5301 - val_mse: 23.5959\n",
      "Epoch 222/500\n",
      "9/9 [==============================] - 0s 6ms/step - loss: 11.8103 - mae: 2.4543 - mse: 11.8103 - val_loss: 14.0540 - val_mae: 2.7005 - val_mse: 14.0540\n",
      "Epoch 223/500\n",
      "9/9 [==============================] - 0s 4ms/step - loss: 10.6544 - mae: 2.2790 - mse: 10.6544 - val_loss: 14.4236 - val_mae: 2.7430 - val_mse: 14.4236\n",
      "Epoch 224/500\n",
      "9/9 [==============================] - 0s 4ms/step - loss: 10.7488 - mae: 2.3206 - mse: 10.7488 - val_loss: 12.5931 - val_mae: 2.5832 - val_mse: 12.5931\n",
      "Epoch 225/500\n",
      "9/9 [==============================] - 0s 4ms/step - loss: 9.4621 - mae: 2.1206 - mse: 9.4621 - val_loss: 11.9066 - val_mae: 2.5688 - val_mse: 11.9066\n",
      "Epoch 226/500\n",
      "9/9 [==============================] - 0s 5ms/step - loss: 12.0877 - mae: 2.4359 - mse: 12.0877 - val_loss: 11.9894 - val_mae: 2.4996 - val_mse: 11.9894\n",
      "Epoch 227/500\n",
      "9/9 [==============================] - 0s 4ms/step - loss: 11.3974 - mae: 2.3952 - mse: 11.3974 - val_loss: 12.0406 - val_mae: 2.5029 - val_mse: 12.0406\n",
      "Epoch 228/500\n",
      "9/9 [==============================] - 0s 5ms/step - loss: 10.7874 - mae: 2.2964 - mse: 10.7874 - val_loss: 11.8556 - val_mae: 2.5194 - val_mse: 11.8556\n",
      "Epoch 229/500\n",
      "9/9 [==============================] - 0s 5ms/step - loss: 10.5255 - mae: 2.2930 - mse: 10.5255 - val_loss: 13.2025 - val_mae: 2.6890 - val_mse: 13.2025\n",
      "Epoch 230/500\n",
      "9/9 [==============================] - 0s 5ms/step - loss: 11.5167 - mae: 2.4377 - mse: 11.5167 - val_loss: 12.3385 - val_mae: 2.5765 - val_mse: 12.3385\n",
      "Epoch 231/500\n",
      "9/9 [==============================] - 0s 5ms/step - loss: 10.5530 - mae: 2.2611 - mse: 10.5530 - val_loss: 13.6924 - val_mae: 2.8283 - val_mse: 13.6924\n",
      "Epoch 232/500\n",
      "9/9 [==============================] - 0s 4ms/step - loss: 11.9529 - mae: 2.4867 - mse: 11.9529 - val_loss: 11.7630 - val_mae: 2.5383 - val_mse: 11.7630\n",
      "Epoch 233/500\n",
      "9/9 [==============================] - 0s 4ms/step - loss: 9.8667 - mae: 2.1974 - mse: 9.8667 - val_loss: 12.1113 - val_mae: 2.5440 - val_mse: 12.1113\n",
      "Epoch 234/500\n",
      "9/9 [==============================] - 0s 4ms/step - loss: 11.3677 - mae: 2.4028 - mse: 11.3677 - val_loss: 11.8144 - val_mae: 2.4719 - val_mse: 11.8144\n",
      "Epoch 235/500\n",
      "9/9 [==============================] - 0s 4ms/step - loss: 10.1452 - mae: 2.2961 - mse: 10.1452 - val_loss: 14.1589 - val_mae: 2.6889 - val_mse: 14.1589\n",
      "Epoch 236/500\n",
      "9/9 [==============================] - 0s 5ms/step - loss: 10.8057 - mae: 2.3158 - mse: 10.8057 - val_loss: 12.1985 - val_mae: 2.5216 - val_mse: 12.1985\n",
      "Epoch 237/500\n",
      "9/9 [==============================] - 0s 4ms/step - loss: 10.0195 - mae: 2.2364 - mse: 10.0195 - val_loss: 11.5774 - val_mae: 2.4887 - val_mse: 11.5774\n",
      "Epoch 238/500\n",
      "9/9 [==============================] - 0s 5ms/step - loss: 12.4132 - mae: 2.5090 - mse: 12.4132 - val_loss: 14.5079 - val_mae: 2.7656 - val_mse: 14.5079\n",
      "Epoch 239/500\n",
      "9/9 [==============================] - 0s 4ms/step - loss: 10.1078 - mae: 2.1788 - mse: 10.1078 - val_loss: 11.8756 - val_mae: 2.5185 - val_mse: 11.8756\n",
      "Epoch 240/500\n",
      "9/9 [==============================] - 0s 5ms/step - loss: 10.7423 - mae: 2.2750 - mse: 10.7423 - val_loss: 15.9087 - val_mae: 2.8907 - val_mse: 15.9087\n",
      "Epoch 241/500\n",
      "9/9 [==============================] - 0s 6ms/step - loss: 10.1629 - mae: 2.2571 - mse: 10.1629 - val_loss: 11.8823 - val_mae: 2.5098 - val_mse: 11.8823\n",
      "Epoch 242/500\n",
      "9/9 [==============================] - 0s 6ms/step - loss: 10.4351 - mae: 2.2668 - mse: 10.4351 - val_loss: 13.5874 - val_mae: 2.8372 - val_mse: 13.5874\n",
      "Epoch 243/500\n",
      "9/9 [==============================] - 0s 5ms/step - loss: 9.8620 - mae: 2.2361 - mse: 9.8620 - val_loss: 13.9120 - val_mae: 2.7083 - val_mse: 13.9120\n",
      "Epoch 244/500\n",
      "9/9 [==============================] - 0s 5ms/step - loss: 12.2205 - mae: 2.4198 - mse: 12.2205 - val_loss: 11.6904 - val_mae: 2.4735 - val_mse: 11.6904\n",
      "Epoch 245/500\n",
      "9/9 [==============================] - 0s 5ms/step - loss: 10.2401 - mae: 2.2310 - mse: 10.2401 - val_loss: 16.8492 - val_mae: 2.9477 - val_mse: 16.8492\n",
      "Epoch 246/500\n"
     ]
    },
    {
     "name": "stdout",
     "output_type": "stream",
     "text": [
      "9/9 [==============================] - 0s 5ms/step - loss: 10.4746 - mae: 2.2659 - mse: 10.4746 - val_loss: 12.4692 - val_mae: 2.7040 - val_mse: 12.4692\n",
      "Epoch 247/500\n",
      "9/9 [==============================] - 0s 6ms/step - loss: 10.9844 - mae: 2.3498 - mse: 10.9844 - val_loss: 12.7341 - val_mae: 2.6131 - val_mse: 12.7341\n",
      "Epoch 248/500\n",
      "9/9 [==============================] - 0s 5ms/step - loss: 11.5382 - mae: 2.4119 - mse: 11.5382 - val_loss: 12.5051 - val_mae: 2.5759 - val_mse: 12.5051\n",
      "Epoch 249/500\n",
      "9/9 [==============================] - 0s 6ms/step - loss: 9.5408 - mae: 2.1374 - mse: 9.5408 - val_loss: 14.5507 - val_mae: 2.7880 - val_mse: 14.5507\n",
      "Epoch 250/500\n",
      "9/9 [==============================] - 0s 6ms/step - loss: 11.4577 - mae: 2.3500 - mse: 11.4577 - val_loss: 13.9234 - val_mae: 2.7259 - val_mse: 13.9234\n",
      "Epoch 251/500\n",
      "9/9 [==============================] - 0s 5ms/step - loss: 9.6370 - mae: 2.2204 - mse: 9.6370 - val_loss: 20.9900 - val_mae: 3.3070 - val_mse: 20.9900\n",
      "Epoch 252/500\n",
      "9/9 [==============================] - 0s 5ms/step - loss: 11.9250 - mae: 2.4492 - mse: 11.9250 - val_loss: 12.1012 - val_mae: 2.5180 - val_mse: 12.1012\n",
      "Epoch 253/500\n",
      "9/9 [==============================] - 0s 5ms/step - loss: 9.7159 - mae: 2.1248 - mse: 9.7159 - val_loss: 11.9759 - val_mae: 2.5253 - val_mse: 11.9759\n",
      "Epoch 254/500\n",
      "9/9 [==============================] - 0s 6ms/step - loss: 11.0899 - mae: 2.4191 - mse: 11.0899 - val_loss: 15.7943 - val_mae: 2.8263 - val_mse: 15.7943\n",
      "Epoch 255/500\n",
      "9/9 [==============================] - 0s 5ms/step - loss: 10.0807 - mae: 2.2853 - mse: 10.0807 - val_loss: 11.6484 - val_mae: 2.4741 - val_mse: 11.6484\n",
      "Epoch 256/500\n",
      "9/9 [==============================] - 0s 5ms/step - loss: 10.5710 - mae: 2.2718 - mse: 10.5710 - val_loss: 16.9458 - val_mae: 2.9442 - val_mse: 16.9458\n",
      "Epoch 257/500\n",
      "9/9 [==============================] - 0s 5ms/step - loss: 12.0807 - mae: 2.5364 - mse: 12.0807 - val_loss: 13.0609 - val_mae: 2.6271 - val_mse: 13.0609\n",
      "Epoch 258/500\n",
      "9/9 [==============================] - 0s 5ms/step - loss: 9.8519 - mae: 2.1941 - mse: 9.8519 - val_loss: 11.8215 - val_mae: 2.5250 - val_mse: 11.8215\n",
      "Epoch 259/500\n",
      "9/9 [==============================] - 0s 5ms/step - loss: 10.0127 - mae: 2.1975 - mse: 10.0127 - val_loss: 22.3802 - val_mae: 3.3967 - val_mse: 22.3802\n",
      "Epoch 260/500\n",
      "9/9 [==============================] - 0s 5ms/step - loss: 11.1382 - mae: 2.3424 - mse: 11.1382 - val_loss: 11.8445 - val_mae: 2.4858 - val_mse: 11.8445\n",
      "Epoch 261/500\n",
      "9/9 [==============================] - 0s 5ms/step - loss: 10.0087 - mae: 2.2348 - mse: 10.0087 - val_loss: 21.1165 - val_mae: 3.2394 - val_mse: 21.1165\n",
      "Epoch 262/500\n",
      "9/9 [==============================] - 0s 4ms/step - loss: 10.5353 - mae: 2.3580 - mse: 10.5353 - val_loss: 12.1911 - val_mae: 2.5678 - val_mse: 12.1911\n",
      "Epoch 263/500\n",
      "9/9 [==============================] - 0s 6ms/step - loss: 10.1864 - mae: 2.2462 - mse: 10.1864 - val_loss: 12.6547 - val_mae: 2.5953 - val_mse: 12.6547\n",
      "Epoch 264/500\n",
      "9/9 [==============================] - 0s 6ms/step - loss: 11.3112 - mae: 2.3217 - mse: 11.3112 - val_loss: 14.9201 - val_mae: 2.8170 - val_mse: 14.9201\n",
      "Epoch 265/500\n",
      "9/9 [==============================] - 0s 6ms/step - loss: 9.8655 - mae: 2.2047 - mse: 9.8655 - val_loss: 17.1383 - val_mae: 2.9704 - val_mse: 17.1383\n",
      "Epoch 266/500\n",
      "9/9 [==============================] - 0s 5ms/step - loss: 11.8113 - mae: 2.4659 - mse: 11.8113 - val_loss: 13.1837 - val_mae: 2.6001 - val_mse: 13.1837\n",
      "Epoch 267/500\n",
      "9/9 [==============================] - 0s 5ms/step - loss: 10.8019 - mae: 2.2676 - mse: 10.8019 - val_loss: 13.3450 - val_mae: 2.6545 - val_mse: 13.3450\n",
      "Epoch 268/500\n",
      "9/9 [==============================] - 0s 6ms/step - loss: 9.9644 - mae: 2.2146 - mse: 9.9644 - val_loss: 13.2481 - val_mae: 2.6567 - val_mse: 13.2481\n",
      "Epoch 269/500\n",
      "9/9 [==============================] - 0s 5ms/step - loss: 10.7037 - mae: 2.3347 - mse: 10.7037 - val_loss: 18.4598 - val_mae: 3.0598 - val_mse: 18.4598\n",
      "Epoch 270/500\n",
      "9/9 [==============================] - 0s 6ms/step - loss: 10.2029 - mae: 2.2692 - mse: 10.2029 - val_loss: 16.3730 - val_mae: 3.2191 - val_mse: 16.3730\n",
      "Epoch 271/500\n",
      "9/9 [==============================] - 0s 4ms/step - loss: 10.0033 - mae: 2.2426 - mse: 10.0033 - val_loss: 12.0065 - val_mae: 2.6104 - val_mse: 12.0065\n",
      "Epoch 272/500\n",
      "9/9 [==============================] - 0s 4ms/step - loss: 11.7272 - mae: 2.4173 - mse: 11.7272 - val_loss: 16.1777 - val_mae: 2.8975 - val_mse: 16.1777\n",
      "Epoch 273/500\n",
      "9/9 [==============================] - 0s 4ms/step - loss: 12.0156 - mae: 2.4396 - mse: 12.0156 - val_loss: 11.9713 - val_mae: 2.5505 - val_mse: 11.9713\n",
      "Epoch 274/500\n",
      "9/9 [==============================] - 0s 6ms/step - loss: 10.0539 - mae: 2.2309 - mse: 10.0539 - val_loss: 13.1928 - val_mae: 2.6399 - val_mse: 13.1928\n",
      "Epoch 275/500\n",
      "9/9 [==============================] - 0s 6ms/step - loss: 9.4488 - mae: 2.1644 - mse: 9.4488 - val_loss: 13.4005 - val_mae: 2.6847 - val_mse: 13.4005\n",
      "Epoch 276/500\n",
      "9/9 [==============================] - 0s 5ms/step - loss: 11.6062 - mae: 2.4008 - mse: 11.6062 - val_loss: 12.1800 - val_mae: 2.5483 - val_mse: 12.1800\n",
      "Epoch 277/500\n",
      "9/9 [==============================] - 0s 5ms/step - loss: 9.9737 - mae: 2.1870 - mse: 9.9737 - val_loss: 14.1526 - val_mae: 2.7166 - val_mse: 14.1526\n",
      "Epoch 278/500\n",
      "9/9 [==============================] - 0s 4ms/step - loss: 10.4824 - mae: 2.2632 - mse: 10.4824 - val_loss: 12.4303 - val_mae: 2.5898 - val_mse: 12.4303\n",
      "Epoch 279/500\n",
      "9/9 [==============================] - 0s 6ms/step - loss: 10.0598 - mae: 2.2121 - mse: 10.0598 - val_loss: 11.5139 - val_mae: 2.4977 - val_mse: 11.5139\n",
      "Epoch 280/500\n",
      "9/9 [==============================] - 0s 4ms/step - loss: 11.0707 - mae: 2.2838 - mse: 11.0707 - val_loss: 18.0655 - val_mae: 3.0803 - val_mse: 18.0655\n",
      "Epoch 281/500\n",
      "9/9 [==============================] - 0s 5ms/step - loss: 9.7844 - mae: 2.1816 - mse: 9.7844 - val_loss: 13.6682 - val_mae: 2.7081 - val_mse: 13.6682\n",
      "Epoch 282/500\n",
      "9/9 [==============================] - 0s 4ms/step - loss: 10.4373 - mae: 2.2666 - mse: 10.4373 - val_loss: 13.2972 - val_mae: 2.7554 - val_mse: 13.2972\n",
      "Epoch 283/500\n",
      "9/9 [==============================] - 0s 4ms/step - loss: 10.4614 - mae: 2.2321 - mse: 10.4614 - val_loss: 14.4812 - val_mae: 2.8938 - val_mse: 14.4812\n",
      "Epoch 284/500\n",
      "9/9 [==============================] - 0s 5ms/step - loss: 11.0184 - mae: 2.3698 - mse: 11.0184 - val_loss: 11.8449 - val_mae: 2.5255 - val_mse: 11.8449\n",
      "Epoch 285/500\n",
      "9/9 [==============================] - 0s 5ms/step - loss: 10.1775 - mae: 2.2526 - mse: 10.1775 - val_loss: 14.3264 - val_mae: 2.9535 - val_mse: 14.3264\n",
      "Epoch 286/500\n",
      "9/9 [==============================] - 0s 4ms/step - loss: 10.2672 - mae: 2.2733 - mse: 10.2672 - val_loss: 14.6520 - val_mae: 2.8091 - val_mse: 14.6520\n",
      "Epoch 287/500\n",
      "9/9 [==============================] - 0s 4ms/step - loss: 10.3799 - mae: 2.2405 - mse: 10.3799 - val_loss: 15.4921 - val_mae: 2.9176 - val_mse: 15.4921\n",
      "Epoch 288/500\n",
      "9/9 [==============================] - 0s 5ms/step - loss: 10.0650 - mae: 2.1492 - mse: 10.0650 - val_loss: 12.0045 - val_mae: 2.5359 - val_mse: 12.0045\n",
      "Epoch 289/500\n",
      "9/9 [==============================] - 0s 4ms/step - loss: 9.4620 - mae: 2.1505 - mse: 9.4620 - val_loss: 14.1595 - val_mae: 2.7224 - val_mse: 14.1595\n",
      "Epoch 290/500\n",
      "9/9 [==============================] - 0s 4ms/step - loss: 10.5173 - mae: 2.2818 - mse: 10.5173 - val_loss: 12.4817 - val_mae: 2.6047 - val_mse: 12.4817\n",
      "Epoch 291/500\n",
      "9/9 [==============================] - 0s 5ms/step - loss: 10.2199 - mae: 2.2540 - mse: 10.2199 - val_loss: 11.8126 - val_mae: 2.5448 - val_mse: 11.8126\n",
      "Epoch 292/500\n",
      "9/9 [==============================] - 0s 5ms/step - loss: 10.2247 - mae: 2.2397 - mse: 10.2247 - val_loss: 13.1792 - val_mae: 2.6393 - val_mse: 13.1792\n",
      "Epoch 293/500\n",
      "9/9 [==============================] - 0s 6ms/step - loss: 11.1675 - mae: 2.3809 - mse: 11.1675 - val_loss: 12.3992 - val_mae: 2.5344 - val_mse: 12.3992\n",
      "Epoch 294/500\n",
      "9/9 [==============================] - 0s 5ms/step - loss: 10.4890 - mae: 2.2608 - mse: 10.4890 - val_loss: 18.5207 - val_mae: 3.1390 - val_mse: 18.5207\n",
      "Epoch 295/500\n"
     ]
    },
    {
     "name": "stdout",
     "output_type": "stream",
     "text": [
      "9/9 [==============================] - 0s 5ms/step - loss: 9.9118 - mae: 2.1655 - mse: 9.9118 - val_loss: 11.9730 - val_mae: 2.5526 - val_mse: 11.9730\n",
      "Epoch 296/500\n",
      "9/9 [==============================] - 0s 6ms/step - loss: 11.1241 - mae: 2.3423 - mse: 11.1241 - val_loss: 13.8210 - val_mae: 2.7128 - val_mse: 13.8210\n",
      "Epoch 297/500\n",
      "9/9 [==============================] - 0s 5ms/step - loss: 9.5078 - mae: 2.1154 - mse: 9.5078 - val_loss: 12.3478 - val_mae: 2.6325 - val_mse: 12.3478\n",
      "Epoch 298/500\n",
      "9/9 [==============================] - 0s 5ms/step - loss: 9.7126 - mae: 2.1558 - mse: 9.7126 - val_loss: 13.2468 - val_mae: 2.6086 - val_mse: 13.2468\n",
      "Epoch 299/500\n",
      "9/9 [==============================] - 0s 5ms/step - loss: 11.4097 - mae: 2.4110 - mse: 11.4097 - val_loss: 11.9928 - val_mae: 2.5667 - val_mse: 11.9928\n",
      "Epoch 300/500\n",
      "9/9 [==============================] - 0s 5ms/step - loss: 9.6206 - mae: 2.1481 - mse: 9.6206 - val_loss: 14.9986 - val_mae: 2.8358 - val_mse: 14.9986\n",
      "Epoch 301/500\n",
      "9/9 [==============================] - 0s 4ms/step - loss: 10.6547 - mae: 2.2950 - mse: 10.6547 - val_loss: 15.0705 - val_mae: 2.8363 - val_mse: 15.0705\n",
      "Epoch 302/500\n",
      "9/9 [==============================] - 0s 5ms/step - loss: 9.5712 - mae: 2.1725 - mse: 9.5712 - val_loss: 18.0331 - val_mae: 3.0610 - val_mse: 18.0331\n",
      "Epoch 303/500\n",
      "9/9 [==============================] - 0s 5ms/step - loss: 9.7468 - mae: 2.2210 - mse: 9.7468 - val_loss: 13.6848 - val_mae: 2.7805 - val_mse: 13.6848\n",
      "Epoch 304/500\n",
      "9/9 [==============================] - 0s 5ms/step - loss: 10.7405 - mae: 2.3647 - mse: 10.7405 - val_loss: 11.8771 - val_mae: 2.5092 - val_mse: 11.8771\n",
      "Epoch 305/500\n",
      "9/9 [==============================] - 0s 5ms/step - loss: 9.8552 - mae: 2.1718 - mse: 9.8552 - val_loss: 11.7989 - val_mae: 2.5049 - val_mse: 11.7989\n",
      "Epoch 306/500\n",
      "9/9 [==============================] - 0s 5ms/step - loss: 10.8027 - mae: 2.3010 - mse: 10.8027 - val_loss: 11.9353 - val_mae: 2.5795 - val_mse: 11.9353\n",
      "Epoch 307/500\n",
      "9/9 [==============================] - 0s 5ms/step - loss: 9.0409 - mae: 2.0876 - mse: 9.0409 - val_loss: 13.0617 - val_mae: 2.7469 - val_mse: 13.0617\n",
      "Epoch 308/500\n",
      "9/9 [==============================] - 0s 5ms/step - loss: 12.8465 - mae: 2.5679 - mse: 12.8465 - val_loss: 12.7052 - val_mae: 2.6649 - val_mse: 12.7052\n",
      "Epoch 309/500\n",
      "9/9 [==============================] - 0s 5ms/step - loss: 9.4296 - mae: 2.1121 - mse: 9.4296 - val_loss: 11.8532 - val_mae: 2.5354 - val_mse: 11.8532\n",
      "Epoch 310/500\n",
      "9/9 [==============================] - 0s 4ms/step - loss: 8.9514 - mae: 2.1126 - mse: 8.9514 - val_loss: 14.7549 - val_mae: 2.8079 - val_mse: 14.7549\n",
      "Epoch 311/500\n",
      "9/9 [==============================] - 0s 5ms/step - loss: 10.6517 - mae: 2.2731 - mse: 10.6517 - val_loss: 17.1434 - val_mae: 3.0307 - val_mse: 17.1434\n",
      "Epoch 312/500\n",
      "9/9 [==============================] - 0s 5ms/step - loss: 9.5283 - mae: 2.1136 - mse: 9.5283 - val_loss: 18.5158 - val_mae: 3.1561 - val_mse: 18.5158\n",
      "Epoch 313/500\n",
      "9/9 [==============================] - 0s 5ms/step - loss: 9.9478 - mae: 2.2341 - mse: 9.9478 - val_loss: 17.3604 - val_mae: 3.0573 - val_mse: 17.3604\n",
      "Epoch 314/500\n",
      "9/9 [==============================] - 0s 6ms/step - loss: 10.6173 - mae: 2.2776 - mse: 10.6173 - val_loss: 11.8371 - val_mae: 2.4973 - val_mse: 11.8371\n",
      "Epoch 315/500\n",
      "9/9 [==============================] - 0s 5ms/step - loss: 10.5366 - mae: 2.2652 - mse: 10.5366 - val_loss: 11.8561 - val_mae: 2.5088 - val_mse: 11.8561\n",
      "Epoch 316/500\n",
      "9/9 [==============================] - 0s 6ms/step - loss: 9.4270 - mae: 2.1743 - mse: 9.4270 - val_loss: 15.5013 - val_mae: 2.8807 - val_mse: 15.5013\n",
      "Epoch 317/500\n",
      "9/9 [==============================] - 0s 5ms/step - loss: 10.5723 - mae: 2.2554 - mse: 10.5723 - val_loss: 12.5155 - val_mae: 2.6197 - val_mse: 12.5155\n",
      "Epoch 318/500\n",
      "9/9 [==============================] - 0s 5ms/step - loss: 10.3703 - mae: 2.1900 - mse: 10.3703 - val_loss: 13.2414 - val_mae: 2.7712 - val_mse: 13.2414\n",
      "Epoch 319/500\n",
      "9/9 [==============================] - 0s 4ms/step - loss: 9.7426 - mae: 2.2293 - mse: 9.7426 - val_loss: 11.8536 - val_mae: 2.5783 - val_mse: 11.8536\n",
      "Epoch 320/500\n",
      "9/9 [==============================] - 0s 4ms/step - loss: 10.5825 - mae: 2.2804 - mse: 10.5825 - val_loss: 12.4954 - val_mae: 2.5667 - val_mse: 12.4954\n",
      "Epoch 321/500\n",
      "9/9 [==============================] - 0s 5ms/step - loss: 9.4050 - mae: 2.1376 - mse: 9.4050 - val_loss: 12.4649 - val_mae: 2.5789 - val_mse: 12.4649\n",
      "Epoch 322/500\n",
      "9/9 [==============================] - 0s 5ms/step - loss: 10.9193 - mae: 2.2874 - mse: 10.9193 - val_loss: 15.9582 - val_mae: 2.9350 - val_mse: 15.9582\n",
      "Epoch 323/500\n",
      "9/9 [==============================] - 0s 5ms/step - loss: 9.7962 - mae: 2.1642 - mse: 9.7962 - val_loss: 12.0077 - val_mae: 2.5472 - val_mse: 12.0077\n",
      "Epoch 324/500\n",
      "9/9 [==============================] - 0s 5ms/step - loss: 10.7868 - mae: 2.3098 - mse: 10.7868 - val_loss: 11.7024 - val_mae: 2.5648 - val_mse: 11.7024\n",
      "Epoch 325/500\n",
      "9/9 [==============================] - 0s 5ms/step - loss: 9.7715 - mae: 2.2059 - mse: 9.7715 - val_loss: 16.6702 - val_mae: 2.9855 - val_mse: 16.6702\n",
      "Epoch 326/500\n",
      "9/9 [==============================] - 0s 6ms/step - loss: 10.4326 - mae: 2.3280 - mse: 10.4326 - val_loss: 13.9933 - val_mae: 2.7444 - val_mse: 13.9933\n",
      "Epoch 327/500\n",
      "9/9 [==============================] - 0s 5ms/step - loss: 10.9998 - mae: 2.3432 - mse: 10.9998 - val_loss: 13.8548 - val_mae: 2.6766 - val_mse: 13.8548\n",
      "Epoch 328/500\n",
      "9/9 [==============================] - 0s 5ms/step - loss: 9.0039 - mae: 2.1206 - mse: 9.0039 - val_loss: 11.7875 - val_mae: 2.5021 - val_mse: 11.7875\n",
      "Epoch 329/500\n",
      "9/9 [==============================] - 0s 5ms/step - loss: 11.3542 - mae: 2.4540 - mse: 11.3542 - val_loss: 16.8625 - val_mae: 3.0011 - val_mse: 16.8625\n",
      "Epoch 330/500\n",
      "9/9 [==============================] - 0s 4ms/step - loss: 10.6435 - mae: 2.3038 - mse: 10.6435 - val_loss: 11.9743 - val_mae: 2.5625 - val_mse: 11.9743\n",
      "Epoch 331/500\n",
      "9/9 [==============================] - 0s 5ms/step - loss: 10.3947 - mae: 2.2020 - mse: 10.3947 - val_loss: 11.6089 - val_mae: 2.4857 - val_mse: 11.6089\n",
      "Epoch 332/500\n",
      "9/9 [==============================] - 0s 5ms/step - loss: 9.1984 - mae: 2.1090 - mse: 9.1984 - val_loss: 11.8100 - val_mae: 2.5720 - val_mse: 11.8100\n",
      "Epoch 333/500\n",
      "9/9 [==============================] - 0s 5ms/step - loss: 9.9986 - mae: 2.2323 - mse: 9.9986 - val_loss: 13.7947 - val_mae: 2.7397 - val_mse: 13.7947\n",
      "Epoch 334/500\n",
      "9/9 [==============================] - 0s 5ms/step - loss: 9.9874 - mae: 2.2705 - mse: 9.9874 - val_loss: 12.9960 - val_mae: 2.6146 - val_mse: 12.9960\n",
      "Epoch 335/500\n",
      "9/9 [==============================] - 0s 5ms/step - loss: 10.7189 - mae: 2.2346 - mse: 10.7189 - val_loss: 15.6104 - val_mae: 2.8571 - val_mse: 15.6104\n",
      "Epoch 336/500\n",
      "9/9 [==============================] - 0s 5ms/step - loss: 9.1887 - mae: 2.1265 - mse: 9.1887 - val_loss: 12.7517 - val_mae: 2.6782 - val_mse: 12.7517\n",
      "Epoch 337/500\n",
      "9/9 [==============================] - 0s 5ms/step - loss: 10.1787 - mae: 2.2394 - mse: 10.1787 - val_loss: 13.7030 - val_mae: 2.8482 - val_mse: 13.7030\n",
      "Epoch 338/500\n",
      "9/9 [==============================] - 0s 6ms/step - loss: 9.7569 - mae: 2.1904 - mse: 9.7569 - val_loss: 11.5447 - val_mae: 2.5062 - val_mse: 11.5447\n",
      "Epoch 339/500\n",
      "9/9 [==============================] - 0s 6ms/step - loss: 10.8323 - mae: 2.3430 - mse: 10.8323 - val_loss: 13.6014 - val_mae: 2.7577 - val_mse: 13.6014\n",
      "Epoch 340/500\n",
      "9/9 [==============================] - 0s 6ms/step - loss: 8.9782 - mae: 2.1096 - mse: 8.9782 - val_loss: 12.8856 - val_mae: 2.6324 - val_mse: 12.8856\n",
      "Epoch 341/500\n",
      "9/9 [==============================] - 0s 5ms/step - loss: 9.1486 - mae: 2.1314 - mse: 9.1486 - val_loss: 15.7097 - val_mae: 2.9118 - val_mse: 15.7097\n",
      "Epoch 342/500\n",
      "9/9 [==============================] - 0s 5ms/step - loss: 10.2220 - mae: 2.2460 - mse: 10.2220 - val_loss: 12.5445 - val_mae: 2.6789 - val_mse: 12.5445\n",
      "Epoch 343/500\n",
      "9/9 [==============================] - 0s 5ms/step - loss: 10.2383 - mae: 2.2726 - mse: 10.2383 - val_loss: 13.1223 - val_mae: 2.6503 - val_mse: 13.1223\n",
      "Epoch 344/500\n"
     ]
    },
    {
     "name": "stdout",
     "output_type": "stream",
     "text": [
      "9/9 [==============================] - 0s 5ms/step - loss: 9.9801 - mae: 2.2117 - mse: 9.9801 - val_loss: 13.7766 - val_mae: 2.7349 - val_mse: 13.7766\n",
      "Epoch 345/500\n",
      "9/9 [==============================] - 0s 6ms/step - loss: 10.5176 - mae: 2.2213 - mse: 10.5176 - val_loss: 13.1144 - val_mae: 2.6875 - val_mse: 13.1144\n",
      "Epoch 346/500\n",
      "9/9 [==============================] - 0s 5ms/step - loss: 9.4142 - mae: 2.1450 - mse: 9.4142 - val_loss: 13.8262 - val_mae: 2.7891 - val_mse: 13.8262\n",
      "Epoch 347/500\n",
      "9/9 [==============================] - 0s 4ms/step - loss: 9.3411 - mae: 2.1657 - mse: 9.3411 - val_loss: 13.9536 - val_mae: 2.9369 - val_mse: 13.9536\n",
      "Epoch 348/500\n",
      "9/9 [==============================] - 0s 6ms/step - loss: 10.4467 - mae: 2.2152 - mse: 10.4467 - val_loss: 17.3587 - val_mae: 3.0606 - val_mse: 17.3587\n",
      "Epoch 349/500\n",
      "9/9 [==============================] - 0s 6ms/step - loss: 10.8132 - mae: 2.3598 - mse: 10.8132 - val_loss: 11.9453 - val_mae: 2.5627 - val_mse: 11.9453\n",
      "Epoch 350/500\n",
      "9/9 [==============================] - 0s 6ms/step - loss: 9.8002 - mae: 2.1666 - mse: 9.8002 - val_loss: 12.7139 - val_mae: 2.6987 - val_mse: 12.7139\n",
      "Epoch 351/500\n",
      "9/9 [==============================] - 0s 5ms/step - loss: 10.6078 - mae: 2.3069 - mse: 10.6078 - val_loss: 15.4158 - val_mae: 2.8435 - val_mse: 15.4158\n",
      "Epoch 352/500\n",
      "9/9 [==============================] - 0s 5ms/step - loss: 9.8556 - mae: 2.1915 - mse: 9.8556 - val_loss: 12.8138 - val_mae: 2.6221 - val_mse: 12.8138\n",
      "Epoch 353/500\n",
      "9/9 [==============================] - 0s 5ms/step - loss: 10.2942 - mae: 2.2878 - mse: 10.2942 - val_loss: 12.9401 - val_mae: 2.6477 - val_mse: 12.9401\n",
      "Epoch 354/500\n",
      "9/9 [==============================] - 0s 5ms/step - loss: 9.4913 - mae: 2.1985 - mse: 9.4913 - val_loss: 16.9275 - val_mae: 3.0029 - val_mse: 16.9275\n",
      "Epoch 355/500\n",
      "9/9 [==============================] - 0s 5ms/step - loss: 11.0787 - mae: 2.4063 - mse: 11.0787 - val_loss: 11.6464 - val_mae: 2.5209 - val_mse: 11.6464\n",
      "Epoch 356/500\n",
      "9/9 [==============================] - 0s 5ms/step - loss: 9.7101 - mae: 2.1737 - mse: 9.7101 - val_loss: 12.8680 - val_mae: 2.7257 - val_mse: 12.8680\n",
      "Epoch 357/500\n",
      "9/9 [==============================] - 0s 6ms/step - loss: 9.9164 - mae: 2.2415 - mse: 9.9164 - val_loss: 11.3205 - val_mae: 2.4988 - val_mse: 11.3205\n",
      "Epoch 358/500\n",
      "9/9 [==============================] - 0s 6ms/step - loss: 8.7469 - mae: 2.0429 - mse: 8.7469 - val_loss: 12.5673 - val_mae: 2.7087 - val_mse: 12.5673\n",
      "Epoch 359/500\n",
      "9/9 [==============================] - 0s 6ms/step - loss: 9.9285 - mae: 2.2007 - mse: 9.9285 - val_loss: 18.8478 - val_mae: 3.2203 - val_mse: 18.8478\n",
      "Epoch 360/500\n",
      "9/9 [==============================] - 0s 5ms/step - loss: 10.2898 - mae: 2.1497 - mse: 10.2898 - val_loss: 12.3561 - val_mae: 2.5728 - val_mse: 12.3561\n",
      "Epoch 361/500\n",
      "9/9 [==============================] - 0s 5ms/step - loss: 10.0368 - mae: 2.1985 - mse: 10.0368 - val_loss: 11.9556 - val_mae: 2.5313 - val_mse: 11.9556\n",
      "Epoch 362/500\n",
      "9/9 [==============================] - 0s 4ms/step - loss: 9.9847 - mae: 2.1775 - mse: 9.9847 - val_loss: 11.5069 - val_mae: 2.5076 - val_mse: 11.5069\n",
      "Epoch 363/500\n",
      "9/9 [==============================] - 0s 4ms/step - loss: 8.8783 - mae: 2.0780 - mse: 8.8783 - val_loss: 12.6597 - val_mae: 2.6559 - val_mse: 12.6597\n",
      "Epoch 364/500\n",
      "9/9 [==============================] - 0s 5ms/step - loss: 11.4767 - mae: 2.4124 - mse: 11.4767 - val_loss: 13.6375 - val_mae: 2.8438 - val_mse: 13.6375\n",
      "Epoch 365/500\n",
      "9/9 [==============================] - 0s 5ms/step - loss: 10.3963 - mae: 2.2525 - mse: 10.3963 - val_loss: 11.9367 - val_mae: 2.5140 - val_mse: 11.9367\n",
      "Epoch 366/500\n",
      "9/9 [==============================] - 0s 5ms/step - loss: 10.1552 - mae: 2.1859 - mse: 10.1552 - val_loss: 13.2002 - val_mae: 2.6920 - val_mse: 13.2002\n",
      "Epoch 367/500\n",
      "9/9 [==============================] - 0s 4ms/step - loss: 9.9099 - mae: 2.1793 - mse: 9.9099 - val_loss: 12.4980 - val_mae: 2.5922 - val_mse: 12.4980\n",
      "Epoch 368/500\n",
      "9/9 [==============================] - 0s 4ms/step - loss: 9.0570 - mae: 2.0891 - mse: 9.0570 - val_loss: 11.8736 - val_mae: 2.5739 - val_mse: 11.8736\n",
      "Epoch 369/500\n",
      "9/9 [==============================] - 0s 5ms/step - loss: 10.8744 - mae: 2.3381 - mse: 10.8744 - val_loss: 12.5309 - val_mae: 2.6120 - val_mse: 12.5309\n",
      "Epoch 370/500\n",
      "9/9 [==============================] - 0s 4ms/step - loss: 9.6128 - mae: 2.1209 - mse: 9.6128 - val_loss: 11.2496 - val_mae: 2.4828 - val_mse: 11.2496\n",
      "Epoch 371/500\n",
      "9/9 [==============================] - 0s 5ms/step - loss: 9.1871 - mae: 2.1361 - mse: 9.1871 - val_loss: 11.8864 - val_mae: 2.5473 - val_mse: 11.8864\n",
      "Epoch 372/500\n",
      "9/9 [==============================] - 0s 4ms/step - loss: 10.1022 - mae: 2.2246 - mse: 10.1022 - val_loss: 12.0129 - val_mae: 2.5505 - val_mse: 12.0129\n",
      "Epoch 373/500\n",
      "9/9 [==============================] - 0s 6ms/step - loss: 9.6501 - mae: 2.2194 - mse: 9.6501 - val_loss: 14.5984 - val_mae: 2.7902 - val_mse: 14.5984\n",
      "Epoch 374/500\n",
      "9/9 [==============================] - 0s 5ms/step - loss: 9.5564 - mae: 2.1056 - mse: 9.5564 - val_loss: 11.7765 - val_mae: 2.5030 - val_mse: 11.7765\n",
      "Epoch 375/500\n",
      "9/9 [==============================] - 0s 4ms/step - loss: 11.4300 - mae: 2.4618 - mse: 11.4300 - val_loss: 21.3402 - val_mae: 3.3810 - val_mse: 21.3402\n",
      "Epoch 376/500\n",
      "9/9 [==============================] - 0s 5ms/step - loss: 10.2416 - mae: 2.2075 - mse: 10.2416 - val_loss: 16.3924 - val_mae: 2.9663 - val_mse: 16.3924\n",
      "Epoch 377/500\n",
      "9/9 [==============================] - 0s 5ms/step - loss: 10.5202 - mae: 2.2401 - mse: 10.5202 - val_loss: 12.6301 - val_mae: 2.5735 - val_mse: 12.6301\n",
      "Epoch 378/500\n",
      "9/9 [==============================] - 0s 4ms/step - loss: 9.4256 - mae: 2.1793 - mse: 9.4256 - val_loss: 12.4902 - val_mae: 2.5694 - val_mse: 12.4902\n",
      "Epoch 379/500\n",
      "9/9 [==============================] - 0s 5ms/step - loss: 10.3846 - mae: 2.2377 - mse: 10.3846 - val_loss: 13.0450 - val_mae: 2.7929 - val_mse: 13.0450\n",
      "Epoch 380/500\n",
      "9/9 [==============================] - 0s 5ms/step - loss: 10.7993 - mae: 2.3627 - mse: 10.7993 - val_loss: 13.3002 - val_mae: 2.6714 - val_mse: 13.3002\n",
      "Epoch 381/500\n",
      "9/9 [==============================] - 0s 5ms/step - loss: 9.6568 - mae: 2.1690 - mse: 9.6568 - val_loss: 11.9214 - val_mae: 2.5339 - val_mse: 11.9214\n",
      "Epoch 382/500\n",
      "9/9 [==============================] - 0s 5ms/step - loss: 9.6031 - mae: 2.2500 - mse: 9.6031 - val_loss: 11.8059 - val_mae: 2.4880 - val_mse: 11.8059\n",
      "Epoch 383/500\n",
      "9/9 [==============================] - 0s 5ms/step - loss: 9.4965 - mae: 2.1471 - mse: 9.4965 - val_loss: 19.5891 - val_mae: 3.3076 - val_mse: 19.5891\n",
      "Epoch 384/500\n",
      "9/9 [==============================] - 0s 4ms/step - loss: 9.5226 - mae: 2.1934 - mse: 9.5226 - val_loss: 11.4958 - val_mae: 2.5078 - val_mse: 11.4958\n",
      "Epoch 385/500\n",
      "9/9 [==============================] - 0s 5ms/step - loss: 9.3411 - mae: 2.1568 - mse: 9.3411 - val_loss: 12.3947 - val_mae: 2.5585 - val_mse: 12.3947\n",
      "Epoch 386/500\n",
      "9/9 [==============================] - 0s 5ms/step - loss: 8.9133 - mae: 2.0992 - mse: 8.9133 - val_loss: 12.1327 - val_mae: 2.5434 - val_mse: 12.1327\n",
      "Epoch 387/500\n",
      "9/9 [==============================] - 0s 6ms/step - loss: 11.2394 - mae: 2.4035 - mse: 11.2394 - val_loss: 12.5142 - val_mae: 2.6401 - val_mse: 12.5142\n",
      "Epoch 388/500\n",
      "9/9 [==============================] - 0s 5ms/step - loss: 9.2353 - mae: 2.1145 - mse: 9.2353 - val_loss: 12.1199 - val_mae: 2.6135 - val_mse: 12.1199\n",
      "Epoch 389/500\n",
      "9/9 [==============================] - 0s 5ms/step - loss: 11.1047 - mae: 2.3592 - mse: 11.1047 - val_loss: 14.3997 - val_mae: 2.7966 - val_mse: 14.3997\n",
      "Epoch 390/500\n",
      "9/9 [==============================] - 0s 5ms/step - loss: 9.0123 - mae: 2.1003 - mse: 9.0123 - val_loss: 15.7747 - val_mae: 2.9958 - val_mse: 15.7747\n",
      "Epoch 391/500\n",
      "9/9 [==============================] - 0s 5ms/step - loss: 9.4446 - mae: 2.1675 - mse: 9.4446 - val_loss: 12.1775 - val_mae: 2.5761 - val_mse: 12.1775\n",
      "Epoch 392/500\n",
      "9/9 [==============================] - 0s 5ms/step - loss: 9.5295 - mae: 2.1477 - mse: 9.5295 - val_loss: 11.6255 - val_mae: 2.5273 - val_mse: 11.6255\n",
      "Epoch 393/500\n"
     ]
    },
    {
     "name": "stdout",
     "output_type": "stream",
     "text": [
      "9/9 [==============================] - 0s 5ms/step - loss: 8.8183 - mae: 2.0578 - mse: 8.8183 - val_loss: 14.7608 - val_mae: 2.8143 - val_mse: 14.7608\n",
      "Epoch 394/500\n",
      "9/9 [==============================] - 0s 4ms/step - loss: 9.2476 - mae: 2.0735 - mse: 9.2476 - val_loss: 14.0865 - val_mae: 2.9603 - val_mse: 14.0865\n",
      "Epoch 395/500\n",
      "9/9 [==============================] - 0s 5ms/step - loss: 10.8693 - mae: 2.3717 - mse: 10.8693 - val_loss: 14.1593 - val_mae: 2.7992 - val_mse: 14.1593\n",
      "Epoch 396/500\n",
      "9/9 [==============================] - 0s 4ms/step - loss: 9.6547 - mae: 2.2653 - mse: 9.6547 - val_loss: 13.6562 - val_mae: 2.7365 - val_mse: 13.6562\n",
      "Epoch 397/500\n",
      "9/9 [==============================] - 0s 5ms/step - loss: 9.1956 - mae: 2.1548 - mse: 9.1956 - val_loss: 11.9651 - val_mae: 2.5474 - val_mse: 11.9651\n",
      "Epoch 398/500\n",
      "9/9 [==============================] - 0s 4ms/step - loss: 9.3438 - mae: 2.2020 - mse: 9.3438 - val_loss: 13.9187 - val_mae: 2.7305 - val_mse: 13.9187\n",
      "Epoch 399/500\n",
      "9/9 [==============================] - 0s 5ms/step - loss: 9.2397 - mae: 2.1124 - mse: 9.2397 - val_loss: 15.9893 - val_mae: 2.9357 - val_mse: 15.9893\n",
      "Epoch 400/500\n",
      "9/9 [==============================] - 0s 5ms/step - loss: 9.6711 - mae: 2.2078 - mse: 9.6711 - val_loss: 12.1910 - val_mae: 2.5842 - val_mse: 12.1910\n",
      "Epoch 401/500\n",
      "9/9 [==============================] - 0s 4ms/step - loss: 9.6928 - mae: 2.2309 - mse: 9.6928 - val_loss: 17.4286 - val_mae: 3.0802 - val_mse: 17.4286\n",
      "Epoch 402/500\n",
      "9/9 [==============================] - 0s 5ms/step - loss: 10.2099 - mae: 2.2376 - mse: 10.2099 - val_loss: 11.4098 - val_mae: 2.4691 - val_mse: 11.4098\n",
      "Epoch 403/500\n",
      "9/9 [==============================] - 0s 5ms/step - loss: 9.5039 - mae: 2.1785 - mse: 9.5039 - val_loss: 14.8528 - val_mae: 2.8772 - val_mse: 14.8528\n",
      "Epoch 404/500\n",
      "9/9 [==============================] - 0s 5ms/step - loss: 8.9406 - mae: 2.0514 - mse: 8.9406 - val_loss: 12.0148 - val_mae: 2.5477 - val_mse: 12.0148\n",
      "Epoch 405/500\n",
      "9/9 [==============================] - 0s 4ms/step - loss: 8.8725 - mae: 2.1039 - mse: 8.8725 - val_loss: 12.1800 - val_mae: 2.5066 - val_mse: 12.1800\n",
      "Epoch 406/500\n",
      "9/9 [==============================] - 0s 5ms/step - loss: 12.2481 - mae: 2.4121 - mse: 12.2481 - val_loss: 11.8090 - val_mae: 2.4920 - val_mse: 11.8090\n",
      "Epoch 407/500\n",
      "9/9 [==============================] - 0s 5ms/step - loss: 8.9530 - mae: 2.0645 - mse: 8.9530 - val_loss: 12.3905 - val_mae: 2.6307 - val_mse: 12.3905\n",
      "Epoch 408/500\n",
      "9/9 [==============================] - 0s 5ms/step - loss: 10.5979 - mae: 2.3151 - mse: 10.5979 - val_loss: 15.5516 - val_mae: 2.9302 - val_mse: 15.5516\n",
      "Epoch 409/500\n",
      "9/9 [==============================] - 0s 5ms/step - loss: 8.8518 - mae: 2.0762 - mse: 8.8518 - val_loss: 12.2802 - val_mae: 2.5484 - val_mse: 12.2802\n",
      "Epoch 410/500\n",
      "9/9 [==============================] - 0s 5ms/step - loss: 9.3811 - mae: 2.2111 - mse: 9.3811 - val_loss: 11.7172 - val_mae: 2.5680 - val_mse: 11.7172\n",
      "Epoch 411/500\n",
      "9/9 [==============================] - 0s 5ms/step - loss: 9.1337 - mae: 2.0757 - mse: 9.1337 - val_loss: 13.4466 - val_mae: 2.8725 - val_mse: 13.4466\n",
      "Epoch 412/500\n",
      "9/9 [==============================] - 0s 5ms/step - loss: 11.7084 - mae: 2.4239 - mse: 11.7084 - val_loss: 11.7269 - val_mae: 2.5285 - val_mse: 11.7269\n",
      "Epoch 413/500\n",
      "9/9 [==============================] - 0s 5ms/step - loss: 9.1374 - mae: 2.1171 - mse: 9.1374 - val_loss: 11.4902 - val_mae: 2.4964 - val_mse: 11.4902\n",
      "Epoch 414/500\n",
      "9/9 [==============================] - 0s 4ms/step - loss: 9.3234 - mae: 2.1283 - mse: 9.3234 - val_loss: 11.8804 - val_mae: 2.5332 - val_mse: 11.8804\n",
      "Epoch 415/500\n",
      "9/9 [==============================] - 0s 6ms/step - loss: 9.5923 - mae: 2.1981 - mse: 9.5923 - val_loss: 13.0685 - val_mae: 2.7394 - val_mse: 13.0685\n",
      "Epoch 416/500\n",
      "9/9 [==============================] - 0s 5ms/step - loss: 10.0112 - mae: 2.1859 - mse: 10.0112 - val_loss: 12.1711 - val_mae: 2.5801 - val_mse: 12.1711\n",
      "Epoch 417/500\n",
      "9/9 [==============================] - 0s 4ms/step - loss: 8.8609 - mae: 2.0437 - mse: 8.8609 - val_loss: 13.5839 - val_mae: 2.7228 - val_mse: 13.5839\n",
      "Epoch 418/500\n",
      "9/9 [==============================] - 0s 5ms/step - loss: 10.2430 - mae: 2.1924 - mse: 10.2430 - val_loss: 17.3139 - val_mae: 3.0910 - val_mse: 17.3139\n",
      "Epoch 419/500\n",
      "9/9 [==============================] - 0s 4ms/step - loss: 8.8857 - mae: 2.1025 - mse: 8.8857 - val_loss: 15.1871 - val_mae: 2.8680 - val_mse: 15.1871\n",
      "Epoch 420/500\n",
      "9/9 [==============================] - 0s 4ms/step - loss: 9.8434 - mae: 2.1511 - mse: 9.8434 - val_loss: 11.6861 - val_mae: 2.4826 - val_mse: 11.6861\n",
      "Epoch 421/500\n",
      "9/9 [==============================] - 0s 4ms/step - loss: 9.5354 - mae: 2.2300 - mse: 9.5354 - val_loss: 17.5913 - val_mae: 3.1227 - val_mse: 17.5913\n",
      "Epoch 422/500\n",
      "9/9 [==============================] - 0s 5ms/step - loss: 9.6458 - mae: 2.1832 - mse: 9.6458 - val_loss: 11.2501 - val_mae: 2.5103 - val_mse: 11.2501\n",
      "Epoch 423/500\n",
      "9/9 [==============================] - 0s 5ms/step - loss: 9.4231 - mae: 2.1497 - mse: 9.4231 - val_loss: 15.1726 - val_mae: 2.8647 - val_mse: 15.1726\n",
      "Epoch 424/500\n",
      "9/9 [==============================] - 0s 4ms/step - loss: 9.9894 - mae: 2.2568 - mse: 9.9894 - val_loss: 15.2374 - val_mae: 2.8689 - val_mse: 15.2374\n",
      "Epoch 425/500\n",
      "9/9 [==============================] - 0s 5ms/step - loss: 9.1293 - mae: 2.0995 - mse: 9.1293 - val_loss: 12.7688 - val_mae: 2.7369 - val_mse: 12.7688\n",
      "Epoch 426/500\n",
      "9/9 [==============================] - 0s 4ms/step - loss: 10.0036 - mae: 2.2716 - mse: 10.0036 - val_loss: 12.0673 - val_mae: 2.5450 - val_mse: 12.0673\n",
      "Epoch 427/500\n",
      "9/9 [==============================] - 0s 5ms/step - loss: 9.0725 - mae: 2.0863 - mse: 9.0725 - val_loss: 12.1382 - val_mae: 2.5414 - val_mse: 12.1382\n",
      "Epoch 428/500\n",
      "9/9 [==============================] - 0s 5ms/step - loss: 9.3280 - mae: 2.1781 - mse: 9.3280 - val_loss: 13.8952 - val_mae: 2.7547 - val_mse: 13.8952\n",
      "Epoch 429/500\n",
      "9/9 [==============================] - 0s 5ms/step - loss: 8.7584 - mae: 2.0631 - mse: 8.7584 - val_loss: 12.5601 - val_mae: 2.5984 - val_mse: 12.5601\n",
      "Epoch 430/500\n",
      "9/9 [==============================] - 0s 6ms/step - loss: 10.1391 - mae: 2.3138 - mse: 10.1391 - val_loss: 15.6688 - val_mae: 2.9507 - val_mse: 15.6688\n",
      "Epoch 431/500\n",
      "9/9 [==============================] - 0s 5ms/step - loss: 9.5107 - mae: 2.1121 - mse: 9.5107 - val_loss: 21.2342 - val_mae: 3.3870 - val_mse: 21.2342\n",
      "Epoch 432/500\n",
      "9/9 [==============================] - 0s 5ms/step - loss: 9.4996 - mae: 2.1871 - mse: 9.4996 - val_loss: 17.4766 - val_mae: 3.1684 - val_mse: 17.4766\n",
      "Epoch 433/500\n",
      "9/9 [==============================] - 0s 5ms/step - loss: 8.7681 - mae: 2.0907 - mse: 8.7681 - val_loss: 16.9885 - val_mae: 3.0426 - val_mse: 16.9885\n",
      "Epoch 434/500\n",
      "9/9 [==============================] - 0s 5ms/step - loss: 10.5876 - mae: 2.2606 - mse: 10.5876 - val_loss: 12.1726 - val_mae: 2.5565 - val_mse: 12.1726\n",
      "Epoch 435/500\n",
      "9/9 [==============================] - 0s 4ms/step - loss: 8.8954 - mae: 2.1005 - mse: 8.8954 - val_loss: 15.7783 - val_mae: 2.9374 - val_mse: 15.7783\n",
      "Epoch 436/500\n",
      "9/9 [==============================] - 0s 5ms/step - loss: 9.4642 - mae: 2.1509 - mse: 9.4642 - val_loss: 13.9226 - val_mae: 2.9253 - val_mse: 13.9226\n",
      "Epoch 437/500\n",
      "9/9 [==============================] - 0s 5ms/step - loss: 9.8212 - mae: 2.1908 - mse: 9.8212 - val_loss: 13.0305 - val_mae: 2.8101 - val_mse: 13.0305\n",
      "Epoch 438/500\n",
      "9/9 [==============================] - 0s 5ms/step - loss: 9.2620 - mae: 2.1543 - mse: 9.2620 - val_loss: 13.3923 - val_mae: 2.7057 - val_mse: 13.3923\n",
      "Epoch 439/500\n",
      "9/9 [==============================] - 0s 4ms/step - loss: 8.8782 - mae: 2.1256 - mse: 8.8782 - val_loss: 14.7944 - val_mae: 2.8206 - val_mse: 14.7944\n",
      "Epoch 440/500\n",
      "9/9 [==============================] - 0s 6ms/step - loss: 9.0954 - mae: 2.1190 - mse: 9.0954 - val_loss: 12.7317 - val_mae: 2.6113 - val_mse: 12.7317\n",
      "Epoch 441/500\n",
      "9/9 [==============================] - 0s 5ms/step - loss: 9.5576 - mae: 2.0734 - mse: 9.5576 - val_loss: 16.6650 - val_mae: 2.9435 - val_mse: 16.6650\n",
      "Epoch 442/500\n"
     ]
    },
    {
     "name": "stdout",
     "output_type": "stream",
     "text": [
      "9/9 [==============================] - 0s 5ms/step - loss: 9.8734 - mae: 2.1666 - mse: 9.8734 - val_loss: 13.5492 - val_mae: 2.7056 - val_mse: 13.5492\n",
      "Epoch 443/500\n",
      "9/9 [==============================] - 0s 5ms/step - loss: 9.7924 - mae: 2.2176 - mse: 9.7924 - val_loss: 17.3730 - val_mae: 3.1567 - val_mse: 17.3730\n",
      "Epoch 444/500\n",
      "9/9 [==============================] - 0s 5ms/step - loss: 8.9240 - mae: 2.0925 - mse: 8.9240 - val_loss: 15.1412 - val_mae: 2.9153 - val_mse: 15.1412\n",
      "Epoch 445/500\n",
      "9/9 [==============================] - 0s 5ms/step - loss: 9.6790 - mae: 2.2460 - mse: 9.6790 - val_loss: 14.6946 - val_mae: 2.8370 - val_mse: 14.6946\n",
      "Epoch 446/500\n",
      "9/9 [==============================] - 0s 5ms/step - loss: 8.6883 - mae: 2.0213 - mse: 8.6883 - val_loss: 16.2538 - val_mae: 3.1446 - val_mse: 16.2538\n",
      "Epoch 447/500\n",
      "9/9 [==============================] - 0s 6ms/step - loss: 10.4880 - mae: 2.3717 - mse: 10.4880 - val_loss: 16.3408 - val_mae: 3.0255 - val_mse: 16.3408\n",
      "Epoch 448/500\n",
      "9/9 [==============================] - 0s 5ms/step - loss: 8.6905 - mae: 2.0314 - mse: 8.6905 - val_loss: 12.6982 - val_mae: 2.6239 - val_mse: 12.6982\n",
      "Epoch 449/500\n",
      "9/9 [==============================] - 0s 5ms/step - loss: 8.8641 - mae: 2.0622 - mse: 8.8641 - val_loss: 14.9575 - val_mae: 2.9339 - val_mse: 14.9575\n",
      "Epoch 450/500\n",
      "9/9 [==============================] - 0s 4ms/step - loss: 9.6719 - mae: 2.2035 - mse: 9.6719 - val_loss: 12.4866 - val_mae: 2.6062 - val_mse: 12.4866\n",
      "Epoch 451/500\n",
      "9/9 [==============================] - 0s 4ms/step - loss: 9.0088 - mae: 2.0645 - mse: 9.0088 - val_loss: 11.6246 - val_mae: 2.5526 - val_mse: 11.6246\n",
      "Epoch 452/500\n",
      "9/9 [==============================] - 0s 5ms/step - loss: 10.0873 - mae: 2.2445 - mse: 10.0873 - val_loss: 14.2782 - val_mae: 2.7942 - val_mse: 14.2782\n",
      "Epoch 453/500\n",
      "9/9 [==============================] - 0s 4ms/step - loss: 9.1435 - mae: 2.0889 - mse: 9.1435 - val_loss: 12.1250 - val_mae: 2.5224 - val_mse: 12.1250\n",
      "Epoch 454/500\n",
      "9/9 [==============================] - 0s 4ms/step - loss: 9.2420 - mae: 2.1650 - mse: 9.2420 - val_loss: 11.5134 - val_mae: 2.5427 - val_mse: 11.5134\n",
      "Epoch 455/500\n",
      "9/9 [==============================] - 0s 5ms/step - loss: 8.9085 - mae: 2.0968 - mse: 8.9085 - val_loss: 13.3032 - val_mae: 2.6965 - val_mse: 13.3032\n",
      "Epoch 456/500\n",
      "9/9 [==============================] - 0s 5ms/step - loss: 9.9622 - mae: 2.2580 - mse: 9.9622 - val_loss: 12.0978 - val_mae: 2.5139 - val_mse: 12.0978\n",
      "Epoch 457/500\n",
      "9/9 [==============================] - 0s 5ms/step - loss: 9.1343 - mae: 2.1263 - mse: 9.1343 - val_loss: 12.9083 - val_mae: 2.6494 - val_mse: 12.9083\n",
      "Epoch 458/500\n",
      "9/9 [==============================] - 0s 5ms/step - loss: 8.4501 - mae: 2.0576 - mse: 8.4501 - val_loss: 11.7616 - val_mae: 2.5497 - val_mse: 11.7616\n",
      "Epoch 459/500\n",
      "9/9 [==============================] - 0s 5ms/step - loss: 9.5112 - mae: 2.2450 - mse: 9.5112 - val_loss: 12.7088 - val_mae: 2.5630 - val_mse: 12.7088\n",
      "Epoch 460/500\n",
      "9/9 [==============================] - 0s 5ms/step - loss: 8.8988 - mae: 2.0335 - mse: 8.8988 - val_loss: 12.0230 - val_mae: 2.5897 - val_mse: 12.0230\n",
      "Epoch 461/500\n",
      "9/9 [==============================] - 0s 5ms/step - loss: 9.7369 - mae: 2.1574 - mse: 9.7369 - val_loss: 13.3062 - val_mae: 2.6847 - val_mse: 13.3062\n",
      "Epoch 462/500\n",
      "9/9 [==============================] - 0s 7ms/step - loss: 8.7241 - mae: 2.0209 - mse: 8.7241 - val_loss: 15.7437 - val_mae: 2.9543 - val_mse: 15.7437\n",
      "Epoch 463/500\n",
      "9/9 [==============================] - 0s 7ms/step - loss: 10.3015 - mae: 2.3082 - mse: 10.3015 - val_loss: 14.6128 - val_mae: 2.7926 - val_mse: 14.6128\n",
      "Epoch 464/500\n",
      "9/9 [==============================] - 0s 6ms/step - loss: 9.7073 - mae: 2.1603 - mse: 9.7073 - val_loss: 11.7837 - val_mae: 2.5192 - val_mse: 11.7837\n",
      "Epoch 465/500\n",
      "9/9 [==============================] - 0s 4ms/step - loss: 8.1232 - mae: 1.9877 - mse: 8.1232 - val_loss: 11.3585 - val_mae: 2.4970 - val_mse: 11.3585\n",
      "Epoch 466/500\n",
      "9/9 [==============================] - 0s 4ms/step - loss: 9.5345 - mae: 2.1715 - mse: 9.5345 - val_loss: 17.7050 - val_mae: 3.1853 - val_mse: 17.7050\n",
      "Epoch 467/500\n",
      "9/9 [==============================] - 0s 5ms/step - loss: 8.9698 - mae: 2.0986 - mse: 8.9698 - val_loss: 12.2537 - val_mae: 2.5393 - val_mse: 12.2537\n",
      "Epoch 468/500\n",
      "9/9 [==============================] - 0s 5ms/step - loss: 8.8647 - mae: 2.1430 - mse: 8.8647 - val_loss: 14.2676 - val_mae: 2.8003 - val_mse: 14.2676\n",
      "Epoch 469/500\n",
      "9/9 [==============================] - 0s 4ms/step - loss: 8.9717 - mae: 2.1128 - mse: 8.9717 - val_loss: 17.3242 - val_mae: 3.2066 - val_mse: 17.3242\n",
      "Epoch 470/500\n",
      "9/9 [==============================] - 0s 4ms/step - loss: 9.2071 - mae: 2.0616 - mse: 9.2071 - val_loss: 12.4489 - val_mae: 2.5485 - val_mse: 12.4489\n",
      "Epoch 471/500\n",
      "9/9 [==============================] - 0s 4ms/step - loss: 10.1015 - mae: 2.2345 - mse: 10.1015 - val_loss: 12.0021 - val_mae: 2.5495 - val_mse: 12.0021\n",
      "Epoch 472/500\n",
      "9/9 [==============================] - 0s 5ms/step - loss: 9.1306 - mae: 2.0873 - mse: 9.1306 - val_loss: 13.6293 - val_mae: 2.8231 - val_mse: 13.6293\n",
      "Epoch 473/500\n",
      "9/9 [==============================] - 0s 5ms/step - loss: 9.7363 - mae: 2.1454 - mse: 9.7363 - val_loss: 11.2868 - val_mae: 2.4863 - val_mse: 11.2868\n",
      "Epoch 474/500\n",
      "9/9 [==============================] - 0s 5ms/step - loss: 8.8328 - mae: 2.1148 - mse: 8.8328 - val_loss: 14.7886 - val_mae: 2.8648 - val_mse: 14.7886\n",
      "Epoch 475/500\n",
      "9/9 [==============================] - 0s 4ms/step - loss: 10.2980 - mae: 2.1944 - mse: 10.2980 - val_loss: 12.2142 - val_mae: 2.6014 - val_mse: 12.2142\n",
      "Epoch 476/500\n",
      "9/9 [==============================] - 0s 4ms/step - loss: 8.8487 - mae: 2.0729 - mse: 8.8487 - val_loss: 11.9409 - val_mae: 2.5658 - val_mse: 11.9409\n",
      "Epoch 477/500\n",
      "9/9 [==============================] - 0s 5ms/step - loss: 8.9752 - mae: 2.1112 - mse: 8.9752 - val_loss: 12.5044 - val_mae: 2.7220 - val_mse: 12.5044\n",
      "Epoch 478/500\n",
      "9/9 [==============================] - 0s 4ms/step - loss: 9.6661 - mae: 2.1945 - mse: 9.6661 - val_loss: 12.2896 - val_mae: 2.5535 - val_mse: 12.2896\n",
      "Epoch 479/500\n",
      "9/9 [==============================] - 0s 5ms/step - loss: 10.1398 - mae: 2.2227 - mse: 10.1398 - val_loss: 12.0758 - val_mae: 2.5939 - val_mse: 12.0758\n",
      "Epoch 480/500\n",
      "9/9 [==============================] - 0s 5ms/step - loss: 9.3979 - mae: 2.1129 - mse: 9.3979 - val_loss: 13.4948 - val_mae: 2.7939 - val_mse: 13.4948\n",
      "Epoch 481/500\n",
      "9/9 [==============================] - 0s 4ms/step - loss: 8.8418 - mae: 2.1198 - mse: 8.8418 - val_loss: 17.4769 - val_mae: 3.0901 - val_mse: 17.4769\n",
      "Epoch 482/500\n",
      "9/9 [==============================] - 0s 6ms/step - loss: 9.5980 - mae: 2.1914 - mse: 9.5980 - val_loss: 12.2900 - val_mae: 2.6029 - val_mse: 12.2900\n",
      "Epoch 483/500\n",
      "9/9 [==============================] - 0s 6ms/step - loss: 8.8722 - mae: 2.1403 - mse: 8.8722 - val_loss: 13.5545 - val_mae: 2.7394 - val_mse: 13.5545\n",
      "Epoch 484/500\n",
      "9/9 [==============================] - 0s 8ms/step - loss: 9.7503 - mae: 2.1991 - mse: 9.7503 - val_loss: 11.5793 - val_mae: 2.5509 - val_mse: 11.5793\n",
      "Epoch 485/500\n",
      "9/9 [==============================] - 0s 5ms/step - loss: 8.9575 - mae: 2.0957 - mse: 8.9575 - val_loss: 11.9982 - val_mae: 2.5881 - val_mse: 11.9982\n",
      "Epoch 486/500\n",
      "9/9 [==============================] - 0s 6ms/step - loss: 9.1606 - mae: 2.1531 - mse: 9.1606 - val_loss: 13.2473 - val_mae: 2.6478 - val_mse: 13.2473\n",
      "Epoch 487/500\n",
      "9/9 [==============================] - 0s 5ms/step - loss: 9.8946 - mae: 2.1614 - mse: 9.8946 - val_loss: 11.9421 - val_mae: 2.5474 - val_mse: 11.9421\n",
      "Epoch 488/500\n",
      "9/9 [==============================] - 0s 5ms/step - loss: 9.1295 - mae: 2.1137 - mse: 9.1295 - val_loss: 18.4739 - val_mae: 3.3539 - val_mse: 18.4739\n",
      "Epoch 489/500\n",
      "9/9 [==============================] - 0s 4ms/step - loss: 9.6123 - mae: 2.2039 - mse: 9.6123 - val_loss: 11.8075 - val_mae: 2.5672 - val_mse: 11.8075\n",
      "Epoch 490/500\n",
      "9/9 [==============================] - 0s 5ms/step - loss: 9.1406 - mae: 2.0615 - mse: 9.1406 - val_loss: 11.8970 - val_mae: 2.5387 - val_mse: 11.8970\n",
      "Epoch 491/500\n",
      "9/9 [==============================] - 0s 4ms/step - loss: 8.4346 - mae: 2.0410 - mse: 8.4346 - val_loss: 21.7459 - val_mae: 3.4407 - val_mse: 21.7459\n"
     ]
    },
    {
     "name": "stdout",
     "output_type": "stream",
     "text": [
      "Epoch 492/500\n",
      "9/9 [==============================] - 0s 5ms/step - loss: 9.2925 - mae: 2.1351 - mse: 9.2925 - val_loss: 13.8201 - val_mae: 2.8934 - val_mse: 13.8201\n",
      "Epoch 493/500\n",
      "9/9 [==============================] - 0s 4ms/step - loss: 8.7515 - mae: 2.0930 - mse: 8.7515 - val_loss: 11.8085 - val_mae: 2.5972 - val_mse: 11.8085\n",
      "Epoch 494/500\n",
      "9/9 [==============================] - 0s 5ms/step - loss: 9.0131 - mae: 2.1225 - mse: 9.0131 - val_loss: 12.3308 - val_mae: 2.6863 - val_mse: 12.3308\n",
      "Epoch 495/500\n",
      "9/9 [==============================] - 0s 4ms/step - loss: 9.2032 - mae: 2.2119 - mse: 9.2032 - val_loss: 12.1235 - val_mae: 2.5556 - val_mse: 12.1235\n",
      "Epoch 496/500\n",
      "9/9 [==============================] - 0s 5ms/step - loss: 8.6106 - mae: 2.0574 - mse: 8.6106 - val_loss: 21.1037 - val_mae: 3.5296 - val_mse: 21.1037\n",
      "Epoch 497/500\n",
      "9/9 [==============================] - 0s 4ms/step - loss: 9.7316 - mae: 2.2394 - mse: 9.7316 - val_loss: 13.3574 - val_mae: 2.7635 - val_mse: 13.3574\n",
      "Epoch 498/500\n",
      "9/9 [==============================] - 0s 5ms/step - loss: 8.6531 - mae: 2.0707 - mse: 8.6531 - val_loss: 12.4871 - val_mae: 2.5687 - val_mse: 12.4871\n",
      "Epoch 499/500\n",
      "9/9 [==============================] - 0s 4ms/step - loss: 9.5385 - mae: 2.1930 - mse: 9.5385 - val_loss: 12.2745 - val_mae: 2.5305 - val_mse: 12.2745\n",
      "Epoch 500/500\n",
      "9/9 [==============================] - 0s 5ms/step - loss: 9.1260 - mae: 2.1593 - mse: 9.1260 - val_loss: 11.7579 - val_mae: 2.5020 - val_mse: 11.7579\n"
     ]
    }
   ],
   "source": [
    "EPOCHS = 500\n",
    "\n",
    "history = model.fit(normed_train_data, train_labels, epochs=EPOCHS, validation_split = 0.1, verbose=1)"
   ]
  },
  {
   "cell_type": "code",
   "execution_count": 74,
   "metadata": {
    "colab": {
     "base_uri": "https://localhost:8080/",
     "height": 320
    },
    "executionInfo": {
     "elapsed": 6,
     "status": "ok",
     "timestamp": 1663774546281,
     "user": {
      "displayName": "Nurul Akter Towhid",
      "userId": "15416341478784734538"
     },
     "user_tz": -360
    },
    "id": "C2sxqxqmYcKq",
    "outputId": "c20a2352-74ac-4579-c544-58281f1d9947"
   },
   "outputs": [
    {
     "data": {
      "image/png": "[encoded data removed]",
      "text/plain": [
       "<Figure size 640x480 with 1 Axes>"
      ]
     },
     "metadata": {},
     "output_type": "display_data"
    }
   ],
   "source": [
    "sns.lineplot(x= range(1, EPOCHS+1), y=history.history['mse'])\n",
    "sns.lineplot(x=range(1, EPOCHS+1), y=history.history['val_mse'])\n",
    "plt.show()"
   ]
  },
  {
   "cell_type": "code",
   "execution_count": 76,
   "metadata": {
    "colab": {
     "base_uri": "https://localhost:8080/"
    },
    "executionInfo": {
     "elapsed": 3031,
     "status": "ok",
     "timestamp": 1663774734004,
     "user": {
      "displayName": "Nurul Akter Towhid",
      "userId": "15416341478784734538"
     },
     "user_tz": -360
    },
    "id": "6u6bjxEnZDd-",
    "outputId": "89cdf7eb-ba81-4f85-88ae-77aaa01dd028"
   },
   "outputs": [
    {
     "name": "stdout",
     "output_type": "stream",
     "text": [
      "Epoch 1/1000\n"
     ]
    },
    {
     "name": "stderr",
     "output_type": "stream",
     "text": [
      "c:\\users\\user\\.pyenv\\pyenv-win-master\\pyenv-win\\versions\\3.8.6\\lib\\site-packages\\keras\\engine\\data_adapter.py:1699: FutureWarning: The behavior of `series[i:j]` with an integer-dtype index is deprecated. In a future version, this will be treated as *label-based* indexing, consistent with e.g. `series[i]` lookups. To retain the old behavior, use `series.iloc[i:j]`. To get the future behavior, use `series.loc[i:j]`.\n",
      "  return t[start:end]\n"
     ]
    },
    {
     "name": "stdout",
     "output_type": "stream",
     "text": [
      "9/9 [==============================] - 1s 18ms/step - loss: 286.9781 - mae: 13.5646 - mse: 286.9781 - val_loss: 55.3584 - val_mae: 6.3535 - val_mse: 55.3584\n",
      "Epoch 2/1000\n",
      "9/9 [==============================] - 0s 4ms/step - loss: 43.9749 - mae: 5.5286 - mse: 43.9749 - val_loss: 51.8937 - val_mae: 6.1635 - val_mse: 51.8937\n",
      "Epoch 3/1000\n",
      "9/9 [==============================] - 0s 5ms/step - loss: 42.6009 - mae: 5.4445 - mse: 42.6009 - val_loss: 49.3121 - val_mae: 5.9847 - val_mse: 49.3121\n",
      "Epoch 4/1000\n",
      "9/9 [==============================] - 0s 5ms/step - loss: 42.6502 - mae: 5.4317 - mse: 42.6502 - val_loss: 48.1277 - val_mae: 5.8426 - val_mse: 48.1277\n",
      "Epoch 5/1000\n",
      "9/9 [==============================] - 0s 4ms/step - loss: 39.7874 - mae: 5.1779 - mse: 39.7874 - val_loss: 58.0584 - val_mae: 6.5694 - val_mse: 58.0584\n",
      "Epoch 6/1000\n",
      "9/9 [==============================] - 0s 5ms/step - loss: 39.2825 - mae: 5.2223 - mse: 39.2825 - val_loss: 41.0536 - val_mae: 5.3922 - val_mse: 41.0536\n",
      "Epoch 7/1000\n",
      "9/9 [==============================] - 0s 5ms/step - loss: 38.0473 - mae: 5.0492 - mse: 38.0473 - val_loss: 38.8873 - val_mae: 5.1675 - val_mse: 38.8873\n",
      "Epoch 8/1000\n",
      "9/9 [==============================] - 0s 6ms/step - loss: 32.8152 - mae: 4.6433 - mse: 32.8152 - val_loss: 53.3250 - val_mae: 6.3672 - val_mse: 53.3250\n",
      "Epoch 9/1000\n",
      "9/9 [==============================] - 0s 5ms/step - loss: 31.9420 - mae: 4.6298 - mse: 31.9420 - val_loss: 33.1976 - val_mae: 4.8706 - val_mse: 33.1976\n",
      "Epoch 10/1000\n",
      "9/9 [==============================] - 0s 6ms/step - loss: 28.3199 - mae: 4.3132 - mse: 28.3199 - val_loss: 30.3183 - val_mae: 4.3788 - val_mse: 30.3183\n",
      "Epoch 11/1000\n",
      "9/9 [==============================] - 0s 5ms/step - loss: 35.3814 - mae: 4.7855 - mse: 35.3814 - val_loss: 25.8345 - val_mae: 4.0397 - val_mse: 25.8345\n",
      "Epoch 12/1000\n",
      "9/9 [==============================] - 0s 4ms/step - loss: 24.4907 - mae: 3.8762 - mse: 24.4907 - val_loss: 27.8796 - val_mae: 4.4508 - val_mse: 27.8796\n",
      "Epoch 13/1000\n",
      "9/9 [==============================] - 0s 5ms/step - loss: 29.9465 - mae: 4.3405 - mse: 29.9465 - val_loss: 21.6053 - val_mae: 3.5252 - val_mse: 21.6053\n",
      "Epoch 14/1000\n",
      "9/9 [==============================] - 0s 5ms/step - loss: 21.6602 - mae: 3.6257 - mse: 21.6602 - val_loss: 28.6081 - val_mae: 3.9343 - val_mse: 28.6081\n",
      "Epoch 15/1000\n",
      "9/9 [==============================] - 0s 5ms/step - loss: 23.5806 - mae: 3.7160 - mse: 23.5806 - val_loss: 24.3458 - val_mae: 3.5831 - val_mse: 24.3458\n",
      "Epoch 16/1000\n",
      "9/9 [==============================] - 0s 5ms/step - loss: 23.0362 - mae: 3.6330 - mse: 23.0362 - val_loss: 17.5331 - val_mae: 3.1683 - val_mse: 17.5331\n",
      "Epoch 17/1000\n",
      "9/9 [==============================] - 0s 4ms/step - loss: 21.3495 - mae: 3.5528 - mse: 21.3495 - val_loss: 16.8063 - val_mae: 3.0863 - val_mse: 16.8063\n",
      "Epoch 18/1000\n",
      "9/9 [==============================] - 0s 5ms/step - loss: 22.8800 - mae: 3.7088 - mse: 22.8800 - val_loss: 20.8443 - val_mae: 3.2761 - val_mse: 20.8443\n",
      "Epoch 19/1000\n",
      "9/9 [==============================] - 0s 5ms/step - loss: 17.8207 - mae: 3.2654 - mse: 17.8207 - val_loss: 40.3942 - val_mae: 5.1319 - val_mse: 40.3942\n",
      "Epoch 20/1000\n",
      "9/9 [==============================] - 0s 5ms/step - loss: 24.7020 - mae: 3.9216 - mse: 24.7020 - val_loss: 17.9304 - val_mae: 3.3631 - val_mse: 17.9304\n",
      "Epoch 21/1000\n",
      "9/9 [==============================] - 0s 5ms/step - loss: 17.0226 - mae: 3.1273 - mse: 17.0226 - val_loss: 16.6941 - val_mae: 3.2457 - val_mse: 16.6941\n",
      "Epoch 22/1000\n",
      "9/9 [==============================] - 0s 4ms/step - loss: 23.1400 - mae: 3.7324 - mse: 23.1400 - val_loss: 15.2220 - val_mae: 2.9341 - val_mse: 15.2220\n",
      "Epoch 23/1000\n",
      "9/9 [==============================] - 0s 4ms/step - loss: 16.3365 - mae: 2.9598 - mse: 16.3365 - val_loss: 20.7467 - val_mae: 3.7596 - val_mse: 20.7467\n",
      "Epoch 24/1000\n",
      "9/9 [==============================] - 0s 4ms/step - loss: 18.7869 - mae: 3.3475 - mse: 18.7869 - val_loss: 22.9416 - val_mae: 3.5758 - val_mse: 22.9416\n",
      "Epoch 25/1000\n",
      "9/9 [==============================] - 0s 5ms/step - loss: 19.8421 - mae: 3.3989 - mse: 19.8421 - val_loss: 16.1568 - val_mae: 3.1951 - val_mse: 16.1568\n",
      "Epoch 26/1000\n",
      "9/9 [==============================] - 0s 5ms/step - loss: 20.9395 - mae: 3.5916 - mse: 20.9395 - val_loss: 14.5928 - val_mae: 2.8923 - val_mse: 14.5928\n",
      "Epoch 27/1000\n",
      "9/9 [==============================] - 0s 5ms/step - loss: 15.5382 - mae: 2.9177 - mse: 15.5382 - val_loss: 27.7929 - val_mae: 4.0982 - val_mse: 27.7929\n",
      "Epoch 28/1000\n",
      "9/9 [==============================] - 0s 6ms/step - loss: 18.2185 - mae: 3.2754 - mse: 18.2185 - val_loss: 14.0321 - val_mae: 2.8195 - val_mse: 14.0321\n",
      "Epoch 29/1000\n",
      "9/9 [==============================] - 0s 6ms/step - loss: 21.5037 - mae: 3.5690 - mse: 21.5037 - val_loss: 15.7688 - val_mae: 2.8408 - val_mse: 15.7688\n",
      "Epoch 30/1000\n",
      "9/9 [==============================] - 0s 4ms/step - loss: 14.4789 - mae: 2.7280 - mse: 14.4789 - val_loss: 14.5532 - val_mae: 2.9905 - val_mse: 14.5532\n",
      "Epoch 31/1000\n",
      "9/9 [==============================] - 0s 4ms/step - loss: 18.2831 - mae: 3.1870 - mse: 18.2831 - val_loss: 13.7247 - val_mae: 2.7836 - val_mse: 13.7247\n",
      "Epoch 32/1000\n",
      "9/9 [==============================] - 0s 4ms/step - loss: 18.9592 - mae: 3.3066 - mse: 18.9592 - val_loss: 14.9785 - val_mae: 3.0406 - val_mse: 14.9785\n",
      "Epoch 33/1000\n",
      "9/9 [==============================] - 0s 4ms/step - loss: 15.7489 - mae: 2.9718 - mse: 15.7489 - val_loss: 13.9454 - val_mae: 2.6848 - val_mse: 13.9454\n",
      "Epoch 34/1000\n",
      "9/9 [==============================] - 0s 6ms/step - loss: 18.1556 - mae: 3.2413 - mse: 18.1556 - val_loss: 14.9479 - val_mae: 2.7733 - val_mse: 14.9479\n",
      "Epoch 35/1000\n",
      "9/9 [==============================] - 0s 5ms/step - loss: 15.8084 - mae: 2.9634 - mse: 15.8084 - val_loss: 25.3936 - val_mae: 3.8182 - val_mse: 25.3936\n",
      "Epoch 36/1000\n",
      "9/9 [==============================] - 0s 4ms/step - loss: 16.2235 - mae: 3.0613 - mse: 16.2235 - val_loss: 13.5345 - val_mae: 2.8015 - val_mse: 13.5345\n",
      "Epoch 37/1000\n",
      "9/9 [==============================] - 0s 4ms/step - loss: 15.3520 - mae: 2.8862 - mse: 15.3520 - val_loss: 14.4103 - val_mae: 2.6916 - val_mse: 14.4103\n",
      "Epoch 38/1000\n",
      "9/9 [==============================] - 0s 4ms/step - loss: 18.2684 - mae: 3.2959 - mse: 18.2684 - val_loss: 14.7487 - val_mae: 2.7203 - val_mse: 14.7487\n",
      "Epoch 39/1000\n",
      "9/9 [==============================] - 0s 5ms/step - loss: 13.6046 - mae: 2.7105 - mse: 13.6046 - val_loss: 13.3109 - val_mae: 2.8318 - val_mse: 13.3109\n",
      "Epoch 40/1000\n",
      "9/9 [==============================] - 0s 4ms/step - loss: 19.8424 - mae: 3.3323 - mse: 19.8424 - val_loss: 15.3530 - val_mae: 2.7590 - val_mse: 15.3530\n",
      "Epoch 41/1000\n",
      "9/9 [==============================] - 0s 5ms/step - loss: 13.5535 - mae: 2.6700 - mse: 13.5535 - val_loss: 25.7299 - val_mae: 3.8769 - val_mse: 25.7299\n",
      "Epoch 42/1000\n",
      "9/9 [==============================] - 0s 5ms/step - loss: 16.7742 - mae: 3.0970 - mse: 16.7742 - val_loss: 12.8833 - val_mae: 2.7334 - val_mse: 12.8833\n",
      "Epoch 43/1000\n",
      "9/9 [==============================] - 0s 5ms/step - loss: 14.5459 - mae: 2.8080 - mse: 14.5459 - val_loss: 18.4425 - val_mae: 3.6370 - val_mse: 18.4425\n",
      "Epoch 44/1000\n",
      "9/9 [==============================] - 0s 5ms/step - loss: 15.6952 - mae: 2.9628 - mse: 15.6952 - val_loss: 37.2212 - val_mae: 4.8239 - val_mse: 37.2212\n",
      "Epoch 45/1000\n",
      "9/9 [==============================] - 0s 5ms/step - loss: 14.6526 - mae: 2.8198 - mse: 14.6526 - val_loss: 26.7875 - val_mae: 3.9349 - val_mse: 26.7875\n",
      "Epoch 46/1000\n",
      "9/9 [==============================] - 0s 4ms/step - loss: 17.2369 - mae: 3.0528 - mse: 17.2369 - val_loss: 17.1037 - val_mae: 3.5080 - val_mse: 17.1037\n",
      "Epoch 47/1000\n",
      "9/9 [==============================] - 0s 5ms/step - loss: 15.3626 - mae: 2.9021 - mse: 15.3626 - val_loss: 13.5146 - val_mae: 2.8949 - val_mse: 13.5146\n",
      "Epoch 48/1000\n",
      "9/9 [==============================] - 0s 4ms/step - loss: 14.1687 - mae: 2.7973 - mse: 14.1687 - val_loss: 27.6957 - val_mae: 3.9854 - val_mse: 27.6957\n",
      "Epoch 49/1000\n",
      "9/9 [==============================] - 0s 4ms/step - loss: 13.9344 - mae: 2.7149 - mse: 13.9344 - val_loss: 19.4332 - val_mae: 3.7085 - val_mse: 19.4332\n",
      "Epoch 50/1000\n"
     ]
    },
    {
     "name": "stdout",
     "output_type": "stream",
     "text": [
      "9/9 [==============================] - 0s 5ms/step - loss: 15.5555 - mae: 2.8895 - mse: 15.5555 - val_loss: 14.0315 - val_mae: 3.0622 - val_mse: 14.0315\n",
      "Epoch 51/1000\n",
      "9/9 [==============================] - 0s 5ms/step - loss: 13.9679 - mae: 2.7696 - mse: 13.9679 - val_loss: 14.9337 - val_mae: 3.2194 - val_mse: 14.9337\n",
      "Epoch 52/1000\n",
      "9/9 [==============================] - 0s 4ms/step - loss: 16.2295 - mae: 3.0118 - mse: 16.2295 - val_loss: 17.0575 - val_mae: 3.4341 - val_mse: 17.0575\n",
      "Epoch 53/1000\n",
      "9/9 [==============================] - 0s 5ms/step - loss: 14.2863 - mae: 2.8309 - mse: 14.2863 - val_loss: 19.2662 - val_mae: 3.0987 - val_mse: 19.2662\n",
      "Epoch 54/1000\n",
      "9/9 [==============================] - 0s 4ms/step - loss: 15.8169 - mae: 2.9085 - mse: 15.8169 - val_loss: 15.4067 - val_mae: 2.7427 - val_mse: 15.4067\n",
      "Epoch 55/1000\n",
      "9/9 [==============================] - 0s 5ms/step - loss: 13.4517 - mae: 2.5936 - mse: 13.4517 - val_loss: 23.0544 - val_mae: 4.0207 - val_mse: 23.0544\n",
      "Epoch 56/1000\n",
      "9/9 [==============================] - 0s 4ms/step - loss: 15.3506 - mae: 2.8760 - mse: 15.3506 - val_loss: 13.2080 - val_mae: 2.5493 - val_mse: 13.2080\n",
      "Epoch 57/1000\n",
      "9/9 [==============================] - 0s 5ms/step - loss: 12.9361 - mae: 2.6346 - mse: 12.9361 - val_loss: 24.1335 - val_mae: 3.6348 - val_mse: 24.1335\n",
      "Epoch 58/1000\n",
      "9/9 [==============================] - 0s 5ms/step - loss: 16.8447 - mae: 3.0900 - mse: 16.8447 - val_loss: 13.7962 - val_mae: 3.0161 - val_mse: 13.7962\n",
      "Epoch 59/1000\n",
      "9/9 [==============================] - 0s 6ms/step - loss: 13.9283 - mae: 2.7114 - mse: 13.9283 - val_loss: 19.8567 - val_mae: 3.1113 - val_mse: 19.8567\n",
      "Epoch 60/1000\n",
      "9/9 [==============================] - 0s 5ms/step - loss: 15.9550 - mae: 2.9378 - mse: 15.9550 - val_loss: 12.6698 - val_mae: 2.7099 - val_mse: 12.6698\n",
      "Epoch 61/1000\n",
      "9/9 [==============================] - 0s 4ms/step - loss: 14.2099 - mae: 2.8094 - mse: 14.2099 - val_loss: 13.8208 - val_mae: 2.5931 - val_mse: 13.8208\n",
      "Epoch 62/1000\n",
      "9/9 [==============================] - 0s 4ms/step - loss: 13.8602 - mae: 2.6727 - mse: 13.8602 - val_loss: 13.5758 - val_mae: 2.5689 - val_mse: 13.5758\n",
      "Epoch 63/1000\n",
      "9/9 [==============================] - 0s 4ms/step - loss: 13.1328 - mae: 2.5490 - mse: 13.1328 - val_loss: 12.2357 - val_mae: 2.5636 - val_mse: 12.2357\n",
      "Epoch 64/1000\n",
      "9/9 [==============================] - 0s 5ms/step - loss: 14.3263 - mae: 2.7697 - mse: 14.3263 - val_loss: 13.0585 - val_mae: 2.8385 - val_mse: 13.0585\n",
      "Epoch 65/1000\n",
      "9/9 [==============================] - 0s 4ms/step - loss: 14.4898 - mae: 2.7952 - mse: 14.4898 - val_loss: 13.0777 - val_mae: 2.5366 - val_mse: 13.0777\n",
      "Epoch 66/1000\n",
      "9/9 [==============================] - 0s 4ms/step - loss: 13.5458 - mae: 2.6171 - mse: 13.5458 - val_loss: 19.7913 - val_mae: 3.0696 - val_mse: 19.7913\n",
      "Epoch 67/1000\n",
      "9/9 [==============================] - 0s 5ms/step - loss: 14.0335 - mae: 2.7429 - mse: 14.0335 - val_loss: 24.0747 - val_mae: 3.5799 - val_mse: 24.0747\n",
      "Epoch 68/1000\n",
      "9/9 [==============================] - 0s 4ms/step - loss: 15.3205 - mae: 2.9249 - mse: 15.3205 - val_loss: 12.5907 - val_mae: 2.5680 - val_mse: 12.5907\n",
      "Epoch 69/1000\n",
      "9/9 [==============================] - 0s 5ms/step - loss: 13.6504 - mae: 2.7215 - mse: 13.6504 - val_loss: 16.5321 - val_mae: 3.3711 - val_mse: 16.5321\n",
      "Epoch 70/1000\n",
      "9/9 [==============================] - 0s 4ms/step - loss: 12.5532 - mae: 2.5994 - mse: 12.5532 - val_loss: 22.0858 - val_mae: 3.3325 - val_mse: 22.0858\n",
      "Epoch 71/1000\n",
      "9/9 [==============================] - 0s 5ms/step - loss: 13.9416 - mae: 2.6890 - mse: 13.9416 - val_loss: 12.4032 - val_mae: 2.5122 - val_mse: 12.4032\n",
      "Epoch 72/1000\n",
      "9/9 [==============================] - 0s 4ms/step - loss: 13.0757 - mae: 2.6779 - mse: 13.0757 - val_loss: 13.0897 - val_mae: 2.8334 - val_mse: 13.0897\n",
      "Epoch 73/1000\n",
      "9/9 [==============================] - 0s 4ms/step - loss: 16.2773 - mae: 2.9352 - mse: 16.2773 - val_loss: 13.6645 - val_mae: 2.9685 - val_mse: 13.6645\n",
      "Epoch 74/1000\n",
      "9/9 [==============================] - 0s 4ms/step - loss: 13.0631 - mae: 2.6625 - mse: 13.0631 - val_loss: 18.3272 - val_mae: 2.9896 - val_mse: 18.3272\n",
      "Epoch 75/1000\n",
      "9/9 [==============================] - 0s 5ms/step - loss: 12.2717 - mae: 2.5224 - mse: 12.2717 - val_loss: 15.0281 - val_mae: 2.6667 - val_mse: 15.0281\n",
      "Epoch 76/1000\n",
      "9/9 [==============================] - 0s 5ms/step - loss: 15.6278 - mae: 2.9007 - mse: 15.6278 - val_loss: 12.9802 - val_mae: 2.8035 - val_mse: 12.9802\n",
      "Epoch 77/1000\n",
      "9/9 [==============================] - 0s 4ms/step - loss: 12.9004 - mae: 2.5587 - mse: 12.9004 - val_loss: 18.4080 - val_mae: 3.5146 - val_mse: 18.4080\n",
      "Epoch 78/1000\n",
      "9/9 [==============================] - 0s 4ms/step - loss: 15.1072 - mae: 2.8077 - mse: 15.1072 - val_loss: 12.7145 - val_mae: 2.7207 - val_mse: 12.7145\n",
      "Epoch 79/1000\n",
      "9/9 [==============================] - 0s 4ms/step - loss: 12.5245 - mae: 2.5467 - mse: 12.5245 - val_loss: 12.9268 - val_mae: 2.8336 - val_mse: 12.9268\n",
      "Epoch 80/1000\n",
      "9/9 [==============================] - 0s 5ms/step - loss: 14.0648 - mae: 2.7225 - mse: 14.0648 - val_loss: 12.9886 - val_mae: 2.5443 - val_mse: 12.9886\n",
      "Epoch 81/1000\n",
      "9/9 [==============================] - 0s 5ms/step - loss: 13.2243 - mae: 2.5819 - mse: 13.2243 - val_loss: 12.9106 - val_mae: 2.5254 - val_mse: 12.9106\n",
      "Epoch 82/1000\n",
      "9/9 [==============================] - 0s 5ms/step - loss: 14.9839 - mae: 2.8834 - mse: 14.9839 - val_loss: 14.9294 - val_mae: 2.6597 - val_mse: 14.9294\n",
      "Epoch 83/1000\n",
      "9/9 [==============================] - 0s 5ms/step - loss: 13.1246 - mae: 2.6745 - mse: 13.1246 - val_loss: 15.6996 - val_mae: 2.7267 - val_mse: 15.6996\n",
      "Epoch 84/1000\n",
      "9/9 [==============================] - 0s 4ms/step - loss: 12.0419 - mae: 2.4556 - mse: 12.0419 - val_loss: 12.5062 - val_mae: 2.4989 - val_mse: 12.5062\n",
      "Epoch 85/1000\n",
      "9/9 [==============================] - 0s 4ms/step - loss: 14.8961 - mae: 2.8288 - mse: 14.8961 - val_loss: 13.4548 - val_mae: 2.9518 - val_mse: 13.4548\n",
      "Epoch 86/1000\n",
      "9/9 [==============================] - 0s 4ms/step - loss: 12.4972 - mae: 2.5478 - mse: 12.4972 - val_loss: 17.7050 - val_mae: 3.5007 - val_mse: 17.7050\n",
      "Epoch 87/1000\n",
      "9/9 [==============================] - 0s 5ms/step - loss: 13.3530 - mae: 2.5567 - mse: 13.3530 - val_loss: 12.4550 - val_mae: 2.7606 - val_mse: 12.4550\n",
      "Epoch 88/1000\n",
      "9/9 [==============================] - 0s 4ms/step - loss: 12.6966 - mae: 2.5793 - mse: 12.6966 - val_loss: 11.6328 - val_mae: 2.4573 - val_mse: 11.6328\n",
      "Epoch 89/1000\n",
      "9/9 [==============================] - 0s 4ms/step - loss: 15.4059 - mae: 2.8183 - mse: 15.4059 - val_loss: 12.6488 - val_mae: 2.5402 - val_mse: 12.6488\n",
      "Epoch 90/1000\n",
      "9/9 [==============================] - 0s 5ms/step - loss: 13.7981 - mae: 2.6421 - mse: 13.7981 - val_loss: 12.4420 - val_mae: 2.4907 - val_mse: 12.4420\n",
      "Epoch 91/1000\n",
      "9/9 [==============================] - 0s 4ms/step - loss: 11.6090 - mae: 2.4049 - mse: 11.6090 - val_loss: 11.8522 - val_mae: 2.5558 - val_mse: 11.8522\n",
      "Epoch 92/1000\n",
      "9/9 [==============================] - 0s 5ms/step - loss: 13.4654 - mae: 2.6953 - mse: 13.4654 - val_loss: 14.5631 - val_mae: 2.6380 - val_mse: 14.5631\n",
      "Epoch 93/1000\n",
      "9/9 [==============================] - 0s 4ms/step - loss: 12.9501 - mae: 2.6145 - mse: 12.9501 - val_loss: 15.7162 - val_mae: 3.2488 - val_mse: 15.7162\n",
      "Epoch 94/1000\n",
      "9/9 [==============================] - 0s 5ms/step - loss: 14.1605 - mae: 2.7057 - mse: 14.1605 - val_loss: 12.7517 - val_mae: 2.5185 - val_mse: 12.7517\n",
      "Epoch 95/1000\n",
      "9/9 [==============================] - 0s 4ms/step - loss: 12.3665 - mae: 2.5404 - mse: 12.3665 - val_loss: 12.3993 - val_mae: 2.7084 - val_mse: 12.3993\n",
      "Epoch 96/1000\n",
      "9/9 [==============================] - 0s 4ms/step - loss: 12.6425 - mae: 2.5951 - mse: 12.6425 - val_loss: 17.7845 - val_mae: 2.8728 - val_mse: 17.7845\n",
      "Epoch 97/1000\n",
      "9/9 [==============================] - 0s 5ms/step - loss: 13.5343 - mae: 2.6610 - mse: 13.5343 - val_loss: 12.9912 - val_mae: 2.5387 - val_mse: 12.9912\n",
      "Epoch 98/1000\n",
      "9/9 [==============================] - 0s 4ms/step - loss: 13.9003 - mae: 2.6843 - mse: 13.9003 - val_loss: 11.8024 - val_mae: 2.4367 - val_mse: 11.8024\n",
      "Epoch 99/1000\n"
     ]
    },
    {
     "name": "stdout",
     "output_type": "stream",
     "text": [
      "9/9 [==============================] - 0s 5ms/step - loss: 15.0012 - mae: 2.7734 - mse: 15.0012 - val_loss: 12.7382 - val_mae: 2.5439 - val_mse: 12.7382\n",
      "Epoch 100/1000\n",
      "9/9 [==============================] - 0s 5ms/step - loss: 12.1813 - mae: 2.5228 - mse: 12.1813 - val_loss: 13.0130 - val_mae: 2.5243 - val_mse: 13.0130\n",
      "Epoch 101/1000\n",
      "9/9 [==============================] - 0s 4ms/step - loss: 12.5495 - mae: 2.4855 - mse: 12.5495 - val_loss: 11.9450 - val_mae: 2.4874 - val_mse: 11.9450\n",
      "Epoch 102/1000\n",
      "9/9 [==============================] - 0s 4ms/step - loss: 13.8250 - mae: 2.6055 - mse: 13.8250 - val_loss: 17.0483 - val_mae: 2.8106 - val_mse: 17.0483\n",
      "Epoch 103/1000\n",
      "9/9 [==============================] - 0s 5ms/step - loss: 13.3630 - mae: 2.6085 - mse: 13.3630 - val_loss: 12.8761 - val_mae: 2.5538 - val_mse: 12.8761\n",
      "Epoch 104/1000\n",
      "9/9 [==============================] - 0s 5ms/step - loss: 14.1927 - mae: 2.7089 - mse: 14.1927 - val_loss: 12.1157 - val_mae: 2.4773 - val_mse: 12.1157\n",
      "Epoch 105/1000\n",
      "9/9 [==============================] - 0s 4ms/step - loss: 11.8902 - mae: 2.4640 - mse: 11.8902 - val_loss: 15.4184 - val_mae: 2.6876 - val_mse: 15.4184\n",
      "Epoch 106/1000\n",
      "9/9 [==============================] - 0s 4ms/step - loss: 13.7885 - mae: 2.7175 - mse: 13.7885 - val_loss: 12.1343 - val_mae: 2.6549 - val_mse: 12.1343\n",
      "Epoch 107/1000\n",
      "9/9 [==============================] - 0s 4ms/step - loss: 13.8178 - mae: 2.7006 - mse: 13.8178 - val_loss: 11.6241 - val_mae: 2.4700 - val_mse: 11.6241\n",
      "Epoch 108/1000\n",
      "9/9 [==============================] - 0s 5ms/step - loss: 12.3556 - mae: 2.5262 - mse: 12.3556 - val_loss: 11.8590 - val_mae: 2.4588 - val_mse: 11.8590\n",
      "Epoch 109/1000\n",
      "9/9 [==============================] - 0s 5ms/step - loss: 12.6834 - mae: 2.5585 - mse: 12.6834 - val_loss: 12.6908 - val_mae: 2.5149 - val_mse: 12.6908\n",
      "Epoch 110/1000\n",
      "9/9 [==============================] - 0s 4ms/step - loss: 13.0974 - mae: 2.6280 - mse: 13.0974 - val_loss: 12.1755 - val_mae: 2.4934 - val_mse: 12.1755\n",
      "Epoch 111/1000\n",
      "9/9 [==============================] - 0s 5ms/step - loss: 11.1151 - mae: 2.3800 - mse: 11.1151 - val_loss: 14.8650 - val_mae: 2.6688 - val_mse: 14.8650\n",
      "Epoch 112/1000\n",
      "9/9 [==============================] - 0s 4ms/step - loss: 12.8786 - mae: 2.6075 - mse: 12.8786 - val_loss: 13.2542 - val_mae: 2.5494 - val_mse: 13.2542\n",
      "Epoch 113/1000\n",
      "9/9 [==============================] - 0s 4ms/step - loss: 13.5558 - mae: 2.5219 - mse: 13.5558 - val_loss: 11.5782 - val_mae: 2.4184 - val_mse: 11.5782\n",
      "Epoch 114/1000\n",
      "9/9 [==============================] - 0s 4ms/step - loss: 11.9057 - mae: 2.4436 - mse: 11.9057 - val_loss: 11.9813 - val_mae: 2.4584 - val_mse: 11.9813\n",
      "Epoch 115/1000\n",
      "9/9 [==============================] - 0s 5ms/step - loss: 11.9766 - mae: 2.4725 - mse: 11.9766 - val_loss: 15.6368 - val_mae: 3.2023 - val_mse: 15.6368\n",
      "Epoch 116/1000\n",
      "9/9 [==============================] - 0s 4ms/step - loss: 12.5811 - mae: 2.5455 - mse: 12.5811 - val_loss: 12.3746 - val_mae: 2.4917 - val_mse: 12.3746\n",
      "Epoch 117/1000\n",
      "9/9 [==============================] - 0s 4ms/step - loss: 12.3953 - mae: 2.5949 - mse: 12.3953 - val_loss: 15.8806 - val_mae: 3.2772 - val_mse: 15.8806\n",
      "Epoch 118/1000\n",
      "9/9 [==============================] - 0s 4ms/step - loss: 13.2034 - mae: 2.6530 - mse: 13.2034 - val_loss: 12.1607 - val_mae: 2.4820 - val_mse: 12.1607\n",
      "Epoch 119/1000\n",
      "9/9 [==============================] - 0s 4ms/step - loss: 11.6339 - mae: 2.4968 - mse: 11.6339 - val_loss: 16.6295 - val_mae: 3.3332 - val_mse: 16.6295\n",
      "Epoch 120/1000\n",
      "9/9 [==============================] - 0s 5ms/step - loss: 14.8960 - mae: 2.7621 - mse: 14.8960 - val_loss: 11.7118 - val_mae: 2.5147 - val_mse: 11.7118\n",
      "Epoch 121/1000\n",
      "9/9 [==============================] - 0s 4ms/step - loss: 11.4661 - mae: 2.4073 - mse: 11.4661 - val_loss: 12.2665 - val_mae: 2.6858 - val_mse: 12.2665\n",
      "Epoch 122/1000\n",
      "9/9 [==============================] - 0s 5ms/step - loss: 12.1455 - mae: 2.5081 - mse: 12.1455 - val_loss: 11.6811 - val_mae: 2.5082 - val_mse: 11.6811\n",
      "Epoch 123/1000\n",
      "9/9 [==============================] - 0s 4ms/step - loss: 12.3482 - mae: 2.4802 - mse: 12.3482 - val_loss: 11.7301 - val_mae: 2.5049 - val_mse: 11.7301\n",
      "Epoch 124/1000\n",
      "9/9 [==============================] - 0s 4ms/step - loss: 13.0266 - mae: 2.6102 - mse: 13.0266 - val_loss: 13.0960 - val_mae: 2.5417 - val_mse: 13.0960\n",
      "Epoch 125/1000\n",
      "9/9 [==============================] - 0s 5ms/step - loss: 11.3960 - mae: 2.4262 - mse: 11.3960 - val_loss: 13.7927 - val_mae: 2.6346 - val_mse: 13.7927\n",
      "Epoch 126/1000\n",
      "9/9 [==============================] - 0s 4ms/step - loss: 13.2202 - mae: 2.6212 - mse: 13.2202 - val_loss: 12.4108 - val_mae: 2.5079 - val_mse: 12.4108\n",
      "Epoch 127/1000\n",
      "9/9 [==============================] - 0s 4ms/step - loss: 13.4436 - mae: 2.6160 - mse: 13.4436 - val_loss: 12.3585 - val_mae: 2.5051 - val_mse: 12.3585\n",
      "Epoch 128/1000\n",
      "9/9 [==============================] - 0s 4ms/step - loss: 10.9122 - mae: 2.3429 - mse: 10.9122 - val_loss: 19.3548 - val_mae: 3.0480 - val_mse: 19.3548\n",
      "Epoch 129/1000\n",
      "9/9 [==============================] - 0s 4ms/step - loss: 14.2058 - mae: 2.6848 - mse: 14.2058 - val_loss: 14.6658 - val_mae: 2.6462 - val_mse: 14.6658\n",
      "Epoch 130/1000\n",
      "9/9 [==============================] - 0s 4ms/step - loss: 12.9622 - mae: 2.5040 - mse: 12.9622 - val_loss: 14.2662 - val_mae: 2.6136 - val_mse: 14.2662\n",
      "Epoch 131/1000\n",
      "9/9 [==============================] - 0s 4ms/step - loss: 12.0785 - mae: 2.4383 - mse: 12.0785 - val_loss: 14.2177 - val_mae: 2.9785 - val_mse: 14.2177\n",
      "Epoch 132/1000\n",
      "9/9 [==============================] - 0s 5ms/step - loss: 11.8689 - mae: 2.4829 - mse: 11.8689 - val_loss: 14.4127 - val_mae: 3.0013 - val_mse: 14.4127\n",
      "Epoch 133/1000\n",
      "9/9 [==============================] - 0s 4ms/step - loss: 12.9893 - mae: 2.5870 - mse: 12.9893 - val_loss: 12.5102 - val_mae: 2.5289 - val_mse: 12.5102\n",
      "Epoch 134/1000\n",
      "9/9 [==============================] - 0s 4ms/step - loss: 13.6724 - mae: 2.6292 - mse: 13.6724 - val_loss: 11.5623 - val_mae: 2.4529 - val_mse: 11.5623\n",
      "Epoch 135/1000\n",
      "9/9 [==============================] - 0s 4ms/step - loss: 11.9307 - mae: 2.4460 - mse: 11.9307 - val_loss: 21.9833 - val_mae: 3.3296 - val_mse: 21.9833\n",
      "Epoch 136/1000\n",
      "9/9 [==============================] - 0s 4ms/step - loss: 11.1866 - mae: 2.3991 - mse: 11.1866 - val_loss: 17.4487 - val_mae: 2.8395 - val_mse: 17.4487\n",
      "Epoch 137/1000\n",
      "9/9 [==============================] - 0s 4ms/step - loss: 13.1187 - mae: 2.6193 - mse: 13.1187 - val_loss: 13.9578 - val_mae: 2.5887 - val_mse: 13.9578\n",
      "Epoch 138/1000\n",
      "9/9 [==============================] - 0s 4ms/step - loss: 12.2767 - mae: 2.4401 - mse: 12.2767 - val_loss: 22.3502 - val_mae: 3.2876 - val_mse: 22.3502\n",
      "Epoch 139/1000\n",
      "9/9 [==============================] - 0s 5ms/step - loss: 12.6693 - mae: 2.5970 - mse: 12.6693 - val_loss: 11.7437 - val_mae: 2.4402 - val_mse: 11.7437\n",
      "Epoch 140/1000\n",
      "9/9 [==============================] - 0s 6ms/step - loss: 12.9136 - mae: 2.5714 - mse: 12.9136 - val_loss: 13.4780 - val_mae: 2.5796 - val_mse: 13.4780\n",
      "Epoch 141/1000\n",
      "9/9 [==============================] - 0s 5ms/step - loss: 11.9416 - mae: 2.4422 - mse: 11.9416 - val_loss: 13.7546 - val_mae: 2.5917 - val_mse: 13.7546\n",
      "Epoch 142/1000\n",
      "9/9 [==============================] - 0s 4ms/step - loss: 12.0859 - mae: 2.4468 - mse: 12.0859 - val_loss: 11.7502 - val_mae: 2.5295 - val_mse: 11.7502\n",
      "Epoch 143/1000\n",
      "9/9 [==============================] - 0s 5ms/step - loss: 13.4761 - mae: 2.5969 - mse: 13.4761 - val_loss: 11.6339 - val_mae: 2.4783 - val_mse: 11.6339\n",
      "Epoch 144/1000\n",
      "9/9 [==============================] - 0s 5ms/step - loss: 12.3297 - mae: 2.5678 - mse: 12.3297 - val_loss: 12.6139 - val_mae: 2.5359 - val_mse: 12.6139\n",
      "Epoch 145/1000\n",
      "9/9 [==============================] - 0s 5ms/step - loss: 11.9463 - mae: 2.4409 - mse: 11.9463 - val_loss: 11.8839 - val_mae: 2.6097 - val_mse: 11.8839\n",
      "Epoch 146/1000\n",
      "9/9 [==============================] - 0s 5ms/step - loss: 11.5219 - mae: 2.4240 - mse: 11.5219 - val_loss: 12.6785 - val_mae: 2.5156 - val_mse: 12.6785\n",
      "Epoch 147/1000\n",
      "9/9 [==============================] - 0s 5ms/step - loss: 12.7101 - mae: 2.5843 - mse: 12.7101 - val_loss: 13.1255 - val_mae: 2.5604 - val_mse: 13.1255\n"
     ]
    },
    {
     "name": "stdout",
     "output_type": "stream",
     "text": [
      "Epoch 148/1000\n",
      "9/9 [==============================] - 0s 4ms/step - loss: 11.4652 - mae: 2.3789 - mse: 11.4652 - val_loss: 11.6813 - val_mae: 2.5301 - val_mse: 11.6813\n",
      "Epoch 149/1000\n",
      "9/9 [==============================] - 0s 4ms/step - loss: 14.0273 - mae: 2.6798 - mse: 14.0273 - val_loss: 12.1398 - val_mae: 2.5074 - val_mse: 12.1398\n",
      "Epoch 150/1000\n",
      "9/9 [==============================] - 0s 5ms/step - loss: 12.2388 - mae: 2.5557 - mse: 12.2388 - val_loss: 14.6726 - val_mae: 2.6669 - val_mse: 14.6726\n",
      "Epoch 151/1000\n",
      "9/9 [==============================] - 0s 4ms/step - loss: 10.6884 - mae: 2.2312 - mse: 10.6884 - val_loss: 19.2977 - val_mae: 3.0396 - val_mse: 19.2977\n",
      "Epoch 152/1000\n",
      "9/9 [==============================] - 0s 5ms/step - loss: 13.5176 - mae: 2.6091 - mse: 13.5176 - val_loss: 14.3730 - val_mae: 2.6358 - val_mse: 14.3730\n",
      "Epoch 153/1000\n",
      "9/9 [==============================] - 0s 4ms/step - loss: 11.7085 - mae: 2.4246 - mse: 11.7085 - val_loss: 14.7147 - val_mae: 2.6400 - val_mse: 14.7147\n",
      "Epoch 154/1000\n",
      "9/9 [==============================] - 0s 5ms/step - loss: 13.0878 - mae: 2.5865 - mse: 13.0878 - val_loss: 12.9800 - val_mae: 2.8509 - val_mse: 12.9800\n",
      "Epoch 155/1000\n",
      "9/9 [==============================] - 0s 5ms/step - loss: 12.8625 - mae: 2.6248 - mse: 12.8625 - val_loss: 11.7421 - val_mae: 2.5474 - val_mse: 11.7421\n",
      "Epoch 156/1000\n",
      "9/9 [==============================] - 0s 4ms/step - loss: 10.8817 - mae: 2.3126 - mse: 10.8817 - val_loss: 13.7362 - val_mae: 2.6112 - val_mse: 13.7362\n",
      "Epoch 157/1000\n",
      "9/9 [==============================] - 0s 5ms/step - loss: 10.9544 - mae: 2.3059 - mse: 10.9544 - val_loss: 11.6458 - val_mae: 2.4215 - val_mse: 11.6458\n",
      "Epoch 158/1000\n",
      "9/9 [==============================] - 0s 5ms/step - loss: 11.6708 - mae: 2.3768 - mse: 11.6708 - val_loss: 16.2156 - val_mae: 2.7919 - val_mse: 16.2156\n",
      "Epoch 159/1000\n",
      "9/9 [==============================] - 0s 4ms/step - loss: 14.2388 - mae: 2.6916 - mse: 14.2388 - val_loss: 12.4757 - val_mae: 2.5283 - val_mse: 12.4757\n",
      "Epoch 160/1000\n",
      "9/9 [==============================] - 0s 5ms/step - loss: 11.7723 - mae: 2.3726 - mse: 11.7723 - val_loss: 16.0673 - val_mae: 2.7490 - val_mse: 16.0673\n",
      "Epoch 161/1000\n",
      "9/9 [==============================] - 0s 5ms/step - loss: 11.9194 - mae: 2.3782 - mse: 11.9194 - val_loss: 12.3946 - val_mae: 2.7328 - val_mse: 12.3946\n",
      "Epoch 162/1000\n",
      "9/9 [==============================] - 0s 5ms/step - loss: 11.9822 - mae: 2.5093 - mse: 11.9822 - val_loss: 17.9515 - val_mae: 2.9375 - val_mse: 17.9515\n",
      "Epoch 163/1000\n",
      "9/9 [==============================] - 0s 5ms/step - loss: 11.4378 - mae: 2.4044 - mse: 11.4378 - val_loss: 11.7379 - val_mae: 2.5667 - val_mse: 11.7379\n"
     ]
    }
   ],
   "source": [
    "model = build_model()\n",
    "EPOCHS = 1000\n",
    "\n",
    "# The patience parameter is the amount of epochs to check for improvement\n",
    "early_stop = keras.callbacks.EarlyStopping(monitor='val_mae', patience=50)\n",
    "\n",
    "early_history = model.fit(normed_train_data, train_labels, \n",
    "                    epochs=EPOCHS, validation_split = 0.1, verbose=1, \n",
    "                    callbacks=[early_stop])"
   ]
  },
  {
   "cell_type": "code",
   "execution_count": 78,
   "metadata": {
    "colab": {
     "base_uri": "https://localhost:8080/",
     "height": 320
    },
    "executionInfo": {
     "elapsed": 36613,
     "status": "ok",
     "timestamp": 1663774813368,
     "user": {
      "displayName": "Nurul Akter Towhid",
      "userId": "15416341478784734538"
     },
     "user_tz": -360
    },
    "id": "risEflfpZgXZ",
    "outputId": "58cb6d64-4db7-43aa-c518-267f7d810f37"
   },
   "outputs": [
    {
     "data": {
      "image/png": "[encoded data removed]",
      "text/plain": [
       "<Figure size 640x480 with 1 Axes>"
      ]
     },
     "metadata": {},
     "output_type": "display_data"
    }
   ],
   "source": [
    "# plotter.plot({'Early Stopping': early_history}, metric = \"mae\")\n",
    "# plt.ylim([0, 10])\n",
    "# plt.ylabel('MAE [MPG]')\n",
    "\n",
    "sns.lineplot(x= range(1, 164), y=early_history.history['mae'])\n",
    "sns.lineplot(x= range(1, 164), y=early_history.history['val_mae'])\n",
    "plt.show()"
   ]
  },
  {
   "cell_type": "code",
   "execution_count": 79,
   "metadata": {
    "colab": {
     "base_uri": "https://localhost:8080/"
    },
    "executionInfo": {
     "elapsed": 879,
     "status": "ok",
     "timestamp": 1663774849961,
     "user": {
      "displayName": "Nurul Akter Towhid",
      "userId": "15416341478784734538"
     },
     "user_tz": -360
    },
    "id": "_hWswcU4amHk",
    "outputId": "3c7d9c36-474a-44eb-cd4b-e4b55d839163"
   },
   "outputs": [
    {
     "name": "stdout",
     "output_type": "stream",
     "text": [
      "3/3 - 0s - loss: 11.3073 - mae: 2.6148 - mse: 11.3073 - 97ms/epoch - 32ms/step\n",
      "Testing set Mean Abs Error:  2.61 MPG\n",
      "Testing set Mean Squared Error: 11.31 MPG**2\n"
     ]
    }
   ],
   "source": [
    "loss, mae, mse = model.evaluate(normed_test_data, test_labels, verbose=2)\n",
    "\n",
    "print(\"Testing set Mean Abs Error: {:5.2f} MPG\".format(mae))\n",
    "print(\"Testing set Mean Squared Error: {:5.2f} MPG**2\".format(mse))"
   ]
  },
  {
   "cell_type": "code",
   "execution_count": 80,
   "metadata": {
    "colab": {
     "base_uri": "https://localhost:8080/"
    },
    "executionInfo": {
     "elapsed": 4,
     "status": "ok",
     "timestamp": 1663774892301,
     "user": {
      "displayName": "Nurul Akter Towhid",
      "userId": "15416341478784734538"
     },
     "user_tz": -360
    },
    "id": "ZtS4gQz7ayRe",
    "outputId": "3236656c-34bb-43f1-c968-c8cd3860dcc7"
   },
   "outputs": [
    {
     "name": "stdout",
     "output_type": "stream",
     "text": [
      "1/1 [==============================] - 0s 48ms/step\n"
     ]
    },
    {
     "data": {
      "text/plain": [
       "array([[14.3],\n",
       "       [12.4],\n",
       "       [12.3],\n",
       "       [28.9],\n",
       "       [21.5],\n",
       "       [13.9],\n",
       "       [14.5],\n",
       "       [13.7],\n",
       "       [20.1],\n",
       "       [32.7]], dtype=float32)"
      ]
     },
     "execution_count": 80,
     "metadata": {},
     "output_type": "execute_result"
    }
   ],
   "source": [
    "# Make predictions\n",
    "model.predict(normed_test_data[:10]).round(1)"
   ]
  },
  {
   "cell_type": "code",
   "execution_count": 81,
   "metadata": {
    "colab": {
     "base_uri": "https://localhost:8080/"
    },
    "executionInfo": {
     "elapsed": 578,
     "status": "ok",
     "timestamp": 1663774907046,
     "user": {
      "displayName": "Nurul Akter Towhid",
      "userId": "15416341478784734538"
     },
     "user_tz": -360
    },
    "id": "G5z7bGE1bN--",
    "outputId": "15b77a5a-73bc-4866-dc3a-80c1f08a4042"
   },
   "outputs": [
    {
     "name": "stderr",
     "output_type": "stream",
     "text": [
      "C:\\Users\\User\\AppData\\Local\\Temp\\ipykernel_19240\\3641408047.py:1: FutureWarning: The behavior of `series[i:j]` with an integer-dtype index is deprecated. In a future version, this will be treated as *label-based* indexing, consistent with e.g. `series[i]` lookups. To retain the old behavior, use `series.iloc[i:j]`. To get the future behavior, use `series.loc[i:j]`.\n",
      "  test_labels[:10]\n"
     ]
    },
    {
     "data": {
      "text/plain": [
       "9     15.0\n",
       "25    10.0\n",
       "28     9.0\n",
       "31    25.0\n",
       "33    19.0\n",
       "39    14.0\n",
       "40    14.0\n",
       "43    13.0\n",
       "48    18.0\n",
       "54    35.0\n",
       "Name: MPG, dtype: float64"
      ]
     },
     "execution_count": 81,
     "metadata": {},
     "output_type": "execute_result"
    }
   ],
   "source": [
    "test_labels[:10]"
   ]
  },
  {
   "cell_type": "code",
   "execution_count": 1,
   "metadata": {
    "id": "lWxmV8bsbXb9"
   },
   "outputs": [],
   "source": [
    "###CNN"
   ]
  },
  {
   "cell_type": "code",
   "execution_count": null,
   "metadata": {},
   "outputs": [],
   "source": []
  },
  {
   "cell_type": "code",
   "execution_count": 1,
   "metadata": {
    "executionInfo": {
     "elapsed": 409,
     "status": "ok",
     "timestamp": 1663775895175,
     "user": {
      "displayName": "Nurul Akter Towhid",
      "userId": "15416341478784734538"
     },
     "user_tz": -360
    },
    "id": "jzl_KckPbv5X"
   },
   "outputs": [],
   "source": [
    "import tensorflow as tf\n",
    "\n",
    "from tensorflow.keras import datasets, layers, models\n",
    "import matplotlib.pyplot as plt"
   ]
  },
  {
   "cell_type": "code",
   "execution_count": 2,
   "metadata": {
    "executionInfo": {
     "elapsed": 1591,
     "status": "ok",
     "timestamp": 1663775897165,
     "user": {
      "displayName": "Nurul Akter Towhid",
      "userId": "15416341478784734538"
     },
     "user_tz": -360
    },
    "id": "PVg9jlOYcubO"
   },
   "outputs": [
    {
     "name": "stdout",
     "output_type": "stream",
     "text": [
      "Downloading data from https://www.cs.toronto.edu/~kriz/cifar-10-python.tar.gz\n",
      "170498071/170498071 [==============================] - 221s 1us/step\n"
     ]
    }
   ],
   "source": [
    "(train_images, train_labels), (test_images, test_labels) = datasets.cifar10.load_data()\n",
    "\n",
    "# Normalize pixel values to be between 0 and 1\n",
    "train_images, test_images = train_images / 255.0, test_images / 255.0"
   ]
  },
  {
   "cell_type": "code",
   "execution_count": 3,
   "metadata": {
    "colab": {
     "base_uri": "https://localhost:8080/"
    },
    "executionInfo": {
     "elapsed": 14,
     "status": "ok",
     "timestamp": 1663775897168,
     "user": {
      "displayName": "Nurul Akter Towhid",
      "userId": "15416341478784734538"
     },
     "user_tz": -360
    },
    "id": "P4QzcEweLJTP",
    "outputId": "f5879919-2f34-47e1-f4a9-db505d2c577f"
   },
   "outputs": [
    {
     "data": {
      "text/plain": [
       "((50000, 32, 32, 3), (10000, 32, 32, 3))"
      ]
     },
     "execution_count": 3,
     "metadata": {},
     "output_type": "execute_result"
    }
   ],
   "source": [
    "train_images.shape, test_images.shape"
   ]
  },
  {
   "cell_type": "code",
   "execution_count": 4,
   "metadata": {
    "colab": {
     "base_uri": "https://localhost:8080/"
    },
    "executionInfo": {
     "elapsed": 11,
     "status": "ok",
     "timestamp": 1663775897168,
     "user": {
      "displayName": "Nurul Akter Towhid",
      "userId": "15416341478784734538"
     },
     "user_tz": -360
    },
    "id": "hACKyDgZc6xD",
    "outputId": "e75733c5-a229-4af3-9906-02eab0ef9304"
   },
   "outputs": [
    {
     "data": {
      "text/plain": [
       "array([0, 1, 2, 3, 4, 5, 6, 7, 8, 9], dtype=uint8)"
      ]
     },
     "execution_count": 4,
     "metadata": {},
     "output_type": "execute_result"
    }
   ],
   "source": [
    "import numpy as np\n",
    "\n",
    "np.unique(train_labels)"
   ]
  },
  {
   "cell_type": "code",
   "execution_count": 5,
   "metadata": {
    "colab": {
     "base_uri": "https://localhost:8080/"
    },
    "executionInfo": {
     "elapsed": 10,
     "status": "ok",
     "timestamp": 1663775897169,
     "user": {
      "displayName": "Nurul Akter Towhid",
      "userId": "15416341478784734538"
     },
     "user_tz": -360
    },
    "id": "LBRQ0jj0wIKv",
    "outputId": "1007f1c9-0781-4c37-d62e-d47a59052ed5"
   },
   "outputs": [
    {
     "data": {
      "text/plain": [
       "(50000, 1)"
      ]
     },
     "execution_count": 5,
     "metadata": {},
     "output_type": "execute_result"
    }
   ],
   "source": [
    "train_labels.shape"
   ]
  },
  {
   "cell_type": "code",
   "execution_count": 6,
   "metadata": {
    "colab": {
     "base_uri": "https://localhost:8080/",
     "height": 589
    },
    "executionInfo": {
     "elapsed": 1995,
     "status": "ok",
     "timestamp": 1663775899156,
     "user": {
      "displayName": "Nurul Akter Towhid",
      "userId": "15416341478784734538"
     },
     "user_tz": -360
    },
    "id": "UWeF7rXxc_uJ",
    "outputId": "772817ea-9bca-42be-857c-a9bc78a70456"
   },
   "outputs": [
    {
     "data": {
      "image/png": "[encoded data removed]",
      "text/plain": [
       "<Figure size 1000x1000 with 25 Axes>"
      ]
     },
     "metadata": {},
     "output_type": "display_data"
    }
   ],
   "source": [
    "# To verify that the dataset looks correct, let's plot the first 25 images from the training set and display the class name below each image\n",
    "class_names = ['airplane', 'automobile', 'bird', 'cat', 'deer',\n",
    "               'dog', 'frog', 'horse', 'ship', 'truck']\n",
    "\n",
    "plt.figure(figsize=(10, 10))\n",
    "for i in range(25):\n",
    "    plt.subplot(5,5,i+1)\n",
    "    plt.xticks([])\n",
    "    plt.yticks([])\n",
    "    plt.grid(False)\n",
    "    plt.imshow(train_images[i])\n",
    "    # The CIFAR labels happen to be arrays, \n",
    "    # which is why you need the extra index\n",
    "    plt.xlabel(class_names[train_labels[i][0]])\n",
    "plt.show()"
   ]
  },
  {
   "cell_type": "markdown",
   "metadata": {
    "id": "TrvFD3oJhUC-"
   },
   "source": [
    "## Build CNN model"
   ]
  },
  {
   "cell_type": "code",
   "execution_count": 7,
   "metadata": {
    "colab": {
     "base_uri": "https://localhost:8080/"
    },
    "executionInfo": {
     "elapsed": 30,
     "status": "ok",
     "timestamp": 1663775899158,
     "user": {
      "displayName": "Nurul Akter Towhid",
      "userId": "15416341478784734538"
     },
     "user_tz": -360
    },
    "id": "o08TvfDKda1L",
    "outputId": "1142046c-fa2f-4a6a-f61f-e064b95316bb"
   },
   "outputs": [
    {
     "data": {
      "text/plain": [
       "(50000, 32, 32, 3)"
      ]
     },
     "execution_count": 7,
     "metadata": {},
     "output_type": "execute_result"
    }
   ],
   "source": [
    "# input shape\n",
    "train_images.shape"
   ]
  },
  {
   "cell_type": "code",
   "execution_count": 8,
   "metadata": {
    "executionInfo": {
     "elapsed": 27,
     "status": "ok",
     "timestamp": 1663775899158,
     "user": {
      "displayName": "Nurul Akter Towhid",
      "userId": "15416341478784734538"
     },
     "user_tz": -360
    },
    "id": "f8qxHVdEdFgz"
   },
   "outputs": [],
   "source": [
    "model = models.Sequential()\n",
    "# convolutional layers for features \n",
    "model.add(layers.Conv2D(32, (3, 3), activation='relu', input_shape=(32, 32, 3)))\n",
    "model.add(layers.MaxPooling2D((2, 2)))\n",
    "model.add(layers.Conv2D(64, (3, 3), activation='relu'))\n",
    "model.add(layers.MaxPooling2D((2, 2)))\n",
    "model.add(layers.Conv2D(64, (3, 3), activation='relu'))\n",
    "\n",
    "# fully connected layers\n",
    "model.add(layers.Flatten())\n",
    "model.add(layers.Dense(64, activation='relu'))\n",
    "model.add(layers.Dense(64, activation='relu'))\n",
    "model.add(layers.Dense(10))"
   ]
  },
  {
   "cell_type": "code",
   "execution_count": 9,
   "metadata": {
    "colab": {
     "base_uri": "https://localhost:8080/"
    },
    "executionInfo": {
     "elapsed": 27,
     "status": "ok",
     "timestamp": 1663775899159,
     "user": {
      "displayName": "Nurul Akter Towhid",
      "userId": "15416341478784734538"
     },
     "user_tz": -360
    },
    "id": "kBxfz6d6doOb",
    "outputId": "f14ee93d-5dc0-46de-98a1-2d2fd2bf56d7"
   },
   "outputs": [
    {
     "name": "stdout",
     "output_type": "stream",
     "text": [
      "Model: \"sequential\"\n",
      "_________________________________________________________________\n",
      " Layer (type)                Output Shape              Param #   \n",
      "=================================================================\n",
      " conv2d (Conv2D)             (None, 30, 30, 32)        896       \n",
      "                                                                 \n",
      " max_pooling2d (MaxPooling2D  (None, 15, 15, 32)       0         \n",
      " )                                                               \n",
      "                                                                 \n",
      " conv2d_1 (Conv2D)           (None, 13, 13, 64)        18496     \n",
      "                                                                 \n",
      " max_pooling2d_1 (MaxPooling  (None, 6, 6, 64)         0         \n",
      " 2D)                                                             \n",
      "                                                                 \n",
      " conv2d_2 (Conv2D)           (None, 4, 4, 64)          36928     \n",
      "                                                                 \n",
      " flatten (Flatten)           (None, 1024)              0         \n",
      "                                                                 \n",
      " dense (Dense)               (None, 64)                65600     \n",
      "                                                                 \n",
      " dense_1 (Dense)             (None, 64)                4160      \n",
      "                                                                 \n",
      " dense_2 (Dense)             (None, 10)                650       \n",
      "                                                                 \n",
      "=================================================================\n",
      "Total params: 126,730\n",
      "Trainable params: 126,730\n",
      "Non-trainable params: 0\n",
      "_________________________________________________________________\n"
     ]
    }
   ],
   "source": [
    "model.summary() "
   ]
  },
  {
   "cell_type": "markdown",
   "metadata": {
    "id": "NIyI0cM3h1BI"
   },
   "source": [
    "Here I use SparseCategoricalCrossentropy loss function when there are two or more label classes. We expect labels to be provided as integers. If you want to provide labels using one-hot representation, please use CategoricalCrossentropy loss.\n",
    "\n",
    "\n",
    "\n"
   ]
  },
  {
   "cell_type": "code",
   "execution_count": 10,
   "metadata": {
    "colab": {
     "base_uri": "https://localhost:8080/",
     "height": 450
    },
    "executionInfo": {
     "elapsed": 13752,
     "status": "error",
     "timestamp": 1663775912899,
     "user": {
      "displayName": "Nurul Akter Towhid",
      "userId": "15416341478784734538"
     },
     "user_tz": -360
    },
    "id": "KxmwtWbde4e-",
    "outputId": "8eb41fed-435f-41f4-8047-154fa16c288d"
   },
   "outputs": [
    {
     "name": "stdout",
     "output_type": "stream",
     "text": [
      "Epoch 1/10\n",
      "1250/1250 [==============================] - 21s 16ms/step - loss: 1.6423 - accuracy: 0.3889 - val_loss: 1.4083 - val_accuracy: 0.4830\n",
      "Epoch 2/10\n",
      "1250/1250 [==============================] - 25s 20ms/step - loss: 1.2774 - accuracy: 0.5401 - val_loss: 1.1950 - val_accuracy: 0.5764\n",
      "Epoch 3/10\n",
      "1250/1250 [==============================] - 24s 19ms/step - loss: 1.1291 - accuracy: 0.5990 - val_loss: 1.0966 - val_accuracy: 0.6129\n",
      "Epoch 4/10\n",
      "1250/1250 [==============================] - 24s 19ms/step - loss: 1.0400 - accuracy: 0.6333 - val_loss: 1.1442 - val_accuracy: 0.6020\n",
      "Epoch 5/10\n",
      "1250/1250 [==============================] - 24s 20ms/step - loss: 0.9661 - accuracy: 0.6621 - val_loss: 0.9940 - val_accuracy: 0.6565\n",
      "Epoch 6/10\n",
      "1250/1250 [==============================] - 24s 19ms/step - loss: 0.9029 - accuracy: 0.6822 - val_loss: 0.9688 - val_accuracy: 0.6590\n",
      "Epoch 7/10\n",
      "1250/1250 [==============================] - 24s 19ms/step - loss: 0.8502 - accuracy: 0.7005 - val_loss: 1.0059 - val_accuracy: 0.6499\n",
      "Epoch 8/10\n",
      "1250/1250 [==============================] - 25s 20ms/step - loss: 0.8090 - accuracy: 0.7167 - val_loss: 0.9213 - val_accuracy: 0.6821\n",
      "Epoch 9/10\n",
      "1250/1250 [==============================] - 26s 20ms/step - loss: 0.7685 - accuracy: 0.7309 - val_loss: 0.8897 - val_accuracy: 0.6928\n",
      "Epoch 10/10\n",
      "1250/1250 [==============================] - 26s 21ms/step - loss: 0.7267 - accuracy: 0.7449 - val_loss: 0.9008 - val_accuracy: 0.6953\n"
     ]
    }
   ],
   "source": [
    "# train model\n",
    "model.compile(optimizer='adam',\n",
    "              loss=tf.keras.losses.SparseCategoricalCrossentropy(from_logits=True),\n",
    "              metrics=['accuracy'])\n",
    "\n",
    "history = model.fit(train_images, train_labels, epochs=10, \n",
    "                    validation_split = 0.2)"
   ]
  },
  {
   "cell_type": "code",
   "execution_count": 11,
   "metadata": {
    "executionInfo": {
     "elapsed": 11,
     "status": "aborted",
     "timestamp": 1663775912900,
     "user": {
      "displayName": "Nurul Akter Towhid",
      "userId": "15416341478784734538"
     },
     "user_tz": -360
    },
    "id": "H_WhM5m9f2g8",
    "scrolled": true
   },
   "outputs": [
    {
     "data": {
      "image/png": "[encoded data removed]",
      "text/plain": [
       "<Figure size 640x480 with 1 Axes>"
      ]
     },
     "metadata": {},
     "output_type": "display_data"
    }
   ],
   "source": [
    "# !pip install -q git+https://github.com/tensorflow/docs\n",
    "\n",
    "# import tensorflow_docs as tfdocs\n",
    "# import tensorflow_docs as tfdocs\n",
    "# import tensorflow_docs.plots\n",
    "# import tensorflow_docs.modeling\n",
    "# plotter = tfdocs.plots.HistoryPlotter(smoothing_std=2)\n",
    "\n",
    "# plotter.plot({'CNN ': history}, metric = \"accuracy\")\n",
    "# # plt.ylim([0, 10])\n",
    "# plt.ylabel('accuracy')\n",
    "import matplotlib.pyplot as plt\n",
    "import seaborn as sns\n",
    "\n",
    "sns.lineplot(x=range(1, 11), y=history.history['accuracy'])\n",
    "sns.lineplot(x=range(1, 11), y=history.history['val_accuracy'])\n",
    "plt.show()"
   ]
  },
  {
   "cell_type": "code",
   "execution_count": 13,
   "metadata": {
    "executionInfo": {
     "elapsed": 12,
     "status": "aborted",
     "timestamp": 1663775912901,
     "user": {
      "displayName": "Nurul Akter Towhid",
      "userId": "15416341478784734538"
     },
     "user_tz": -360
    },
    "id": "brKJTg0Nf3cm"
   },
   "outputs": [
    {
     "name": "stdout",
     "output_type": "stream",
     "text": [
      "313/313 [==============================] - 2s 6ms/step - loss: 0.9059 - accuracy: 0.6927\n",
      "Accuracy with test data 69.27000284194946\n"
     ]
    }
   ],
   "source": [
    "test_loss, test_acc = model.evaluate(test_images,  test_labels, verbose=1)\n",
    "print(f'Accuracy with test data {test_acc* 100}')"
   ]
  },
  {
   "cell_type": "code",
   "execution_count": 1,
   "metadata": {
    "executionInfo": {
     "elapsed": 13,
     "status": "aborted",
     "timestamp": 1663775912902,
     "user": {
      "displayName": "Nurul Akter Towhid",
      "userId": "15416341478784734538"
     },
     "user_tz": -360
    },
    "id": "rB-b4jDef5SM"
   },
   "outputs": [
    {
     "name": "stdout",
     "output_type": "stream",
     "text": [
      "Collecting nbmergeNote: you may need to restart the kernel to use updated packages.\n",
      "\n",
      "  Downloading nbmerge-0.0.4.tar.gz (7.6 kB)\n",
      "  Preparing metadata (setup.py): started\n",
      "  Preparing metadata (setup.py): finished with status 'done'\n",
      "Building wheels for collected packages: nbmerge\n",
      "  Building wheel for nbmerge (setup.py): started\n",
      "  Building wheel for nbmerge (setup.py): finished with status 'done'\n",
      "  Created wheel for nbmerge: filename=nbmerge-0.0.4-py2.py3-none-any.whl size=6429 sha256=1a83433225813f69ad01de676275165cc30ce5e76ad4b4f3a6ee1235d04bde97\n",
      "  Stored in directory: c:\\users\\shahn\\appdata\\local\\pip\\cache\\wheels\\05\\7d\\2c\\44d9b357515a0b4f972f5438115face603f69e8c70233ddc1a\n",
      "Successfully built nbmerge\n",
      "Installing collected packages: nbmerge\n",
      "Successfully installed nbmerge-0.0.4\n"
     ]
    }
   ],
   "source": [
    "pip install nbmerge"
   ]
  },
  {
   "cell_type": "code",
   "execution_count": null,
   "metadata": {},
   "outputs": [],
   "source": []
  },
  {
   "cell_type": "markdown",
   "metadata": {
    "id": "8bGvSGKBk8n2"
   },
   "source": [
    "## Import section"
   ]
  },
  {
   "cell_type": "code",
   "execution_count": 1,
   "metadata": {
    "executionInfo": {
     "elapsed": 2693,
     "status": "ok",
     "timestamp": 1663776079546,
     "user": {
      "displayName": "Nurul Akter Towhid",
      "userId": "15416341478784734538"
     },
     "user_tz": -360
    },
    "id": "-br9r0NmjcHg"
   },
   "outputs": [],
   "source": [
    "# from pandas import read_csv\n",
    "import pandas as pd\n",
    "\n",
    "import numpy as np\n",
    "from keras.models import Sequential\n",
    "\n",
    "from keras.layers import Dense, SimpleRNN\n",
    "from sklearn.preprocessing import MinMaxScaler\n",
    "from sklearn.metrics import mean_squared_error\n",
    "import math\n",
    "import matplotlib.pyplot as plt"
   ]
  },
  {
   "cell_type": "markdown",
   "metadata": {
    "id": "WhBTa9sTpNJA"
   },
   "source": [
    "## Download & prepare dataset"
   ]
  },
  {
   "cell_type": "code",
   "execution_count": 2,
   "metadata": {
    "colab": {
     "base_uri": "https://localhost:8080/",
     "height": 488
    },
    "executionInfo": {
     "elapsed": 410,
     "status": "ok",
     "timestamp": 1663776113507,
     "user": {
      "displayName": "Nurul Akter Towhid",
      "userId": "15416341478784734538"
     },
     "user_tz": -360
    },
    "id": "G1ZJ3usvoADl",
    "outputId": "3a2698f7-41b5-4eaf-e58f-2dc8951c46a6"
   },
   "outputs": [
    {
     "data": {
      "text/html": [
       "<div>\n",
       "<style scoped>\n",
       "    .dataframe tbody tr th:only-of-type {\n",
       "        vertical-align: middle;\n",
       "    }\n",
       "\n",
       "    .dataframe tbody tr th {\n",
       "        vertical-align: top;\n",
       "    }\n",
       "\n",
       "    .dataframe thead th {\n",
       "        text-align: right;\n",
       "    }\n",
       "</style>\n",
       "<table border=\"1\" class=\"dataframe\">\n",
       "  <thead>\n",
       "    <tr style=\"text-align: right;\">\n",
       "      <th></th>\n",
       "      <th>Month</th>\n",
       "      <th>Sunspots</th>\n",
       "    </tr>\n",
       "  </thead>\n",
       "  <tbody>\n",
       "    <tr>\n",
       "      <th>0</th>\n",
       "      <td>1749-01</td>\n",
       "      <td>58.0</td>\n",
       "    </tr>\n",
       "    <tr>\n",
       "      <th>1</th>\n",
       "      <td>1749-02</td>\n",
       "      <td>62.6</td>\n",
       "    </tr>\n",
       "    <tr>\n",
       "      <th>2</th>\n",
       "      <td>1749-03</td>\n",
       "      <td>70.0</td>\n",
       "    </tr>\n",
       "    <tr>\n",
       "      <th>3</th>\n",
       "      <td>1749-04</td>\n",
       "      <td>55.7</td>\n",
       "    </tr>\n",
       "    <tr>\n",
       "      <th>4</th>\n",
       "      <td>1749-05</td>\n",
       "      <td>85.0</td>\n",
       "    </tr>\n",
       "    <tr>\n",
       "      <th>5</th>\n",
       "      <td>1749-06</td>\n",
       "      <td>83.5</td>\n",
       "    </tr>\n",
       "    <tr>\n",
       "      <th>6</th>\n",
       "      <td>1749-07</td>\n",
       "      <td>94.8</td>\n",
       "    </tr>\n",
       "    <tr>\n",
       "      <th>7</th>\n",
       "      <td>1749-08</td>\n",
       "      <td>66.3</td>\n",
       "    </tr>\n",
       "    <tr>\n",
       "      <th>8</th>\n",
       "      <td>1749-09</td>\n",
       "      <td>75.9</td>\n",
       "    </tr>\n",
       "    <tr>\n",
       "      <th>9</th>\n",
       "      <td>1749-10</td>\n",
       "      <td>75.5</td>\n",
       "    </tr>\n",
       "    <tr>\n",
       "      <th>10</th>\n",
       "      <td>1749-11</td>\n",
       "      <td>158.6</td>\n",
       "    </tr>\n",
       "    <tr>\n",
       "      <th>11</th>\n",
       "      <td>1749-12</td>\n",
       "      <td>85.2</td>\n",
       "    </tr>\n",
       "    <tr>\n",
       "      <th>12</th>\n",
       "      <td>1750-01</td>\n",
       "      <td>73.3</td>\n",
       "    </tr>\n",
       "    <tr>\n",
       "      <th>13</th>\n",
       "      <td>1750-02</td>\n",
       "      <td>75.9</td>\n",
       "    </tr>\n",
       "  </tbody>\n",
       "</table>\n",
       "</div>"
      ],
      "text/plain": [
       "      Month  Sunspots\n",
       "0   1749-01      58.0\n",
       "1   1749-02      62.6\n",
       "2   1749-03      70.0\n",
       "3   1749-04      55.7\n",
       "4   1749-05      85.0\n",
       "5   1749-06      83.5\n",
       "6   1749-07      94.8\n",
       "7   1749-08      66.3\n",
       "8   1749-09      75.9\n",
       "9   1749-10      75.5\n",
       "10  1749-11     158.6\n",
       "11  1749-12      85.2\n",
       "12  1750-01      73.3\n",
       "13  1750-02      75.9"
      ]
     },
     "execution_count": 2,
     "metadata": {},
     "output_type": "execute_result"
    }
   ],
   "source": [
    "sunspots_url = 'https://raw.githubusercontent.com/jbrownlee/Datasets/master/monthly-sunspots.csv'\n",
    "df = pd.read_csv(sunspots_url)\n",
    "df.head()"
   ]
  },
  {
   "cell_type": "code",
   "execution_count": 3,
   "metadata": {
    "colab": {
     "base_uri": "https://localhost:8080/",
     "height": 206
    },
    "executionInfo": {
     "elapsed": 421,
     "status": "ok",
     "timestamp": 1663776118310,
     "user": {
      "displayName": "Nurul Akter Towhid",
      "userId": "15416341478784734538"
     },
     "user_tz": -360
    },
    "id": "sOkrNf4WN-rF",
    "outputId": "17822476-bda2-4a0d-c099-a7deb2c1450b"
   },
   "outputs": [
    {
     "data": {
      "text/html": [
       "<div>\n",
       "<style scoped>\n",
       "    .dataframe tbody tr th:only-of-type {\n",
       "        vertical-align: middle;\n",
       "    }\n",
       "\n",
       "    .dataframe tbody tr th {\n",
       "        vertical-align: top;\n",
       "    }\n",
       "\n",
       "    .dataframe thead th {\n",
       "        text-align: right;\n",
       "    }\n",
       "</style>\n",
       "<table border=\"1\" class=\"dataframe\">\n",
       "  <thead>\n",
       "    <tr style=\"text-align: right;\">\n",
       "      <th></th>\n",
       "      <th>Month</th>\n",
       "      <th>Sunspots</th>\n",
       "    </tr>\n",
       "  </thead>\n",
       "  <tbody>\n",
       "    <tr>\n",
       "      <th>2815</th>\n",
       "      <td>1983-08</td>\n",
       "      <td>71.8</td>\n",
       "    </tr>\n",
       "    <tr>\n",
       "      <th>2816</th>\n",
       "      <td>1983-09</td>\n",
       "      <td>50.3</td>\n",
       "    </tr>\n",
       "    <tr>\n",
       "      <th>2817</th>\n",
       "      <td>1983-10</td>\n",
       "      <td>55.8</td>\n",
       "    </tr>\n",
       "    <tr>\n",
       "      <th>2818</th>\n",
       "      <td>1983-11</td>\n",
       "      <td>33.3</td>\n",
       "    </tr>\n",
       "    <tr>\n",
       "      <th>2819</th>\n",
       "      <td>1983-12</td>\n",
       "      <td>33.4</td>\n",
       "    </tr>\n",
       "  </tbody>\n",
       "</table>\n",
       "</div>"
      ],
      "text/plain": [
       "        Month  Sunspots\n",
       "2815  1983-08      71.8\n",
       "2816  1983-09      50.3\n",
       "2817  1983-10      55.8\n",
       "2818  1983-11      33.3\n",
       "2819  1983-12      33.4"
      ]
     },
     "execution_count": 3,
     "metadata": {},
     "output_type": "execute_result"
    }
   ],
   "source": [
    "df.tail()"
   ]
  },
  {
   "cell_type": "code",
   "execution_count": 4,
   "metadata": {
    "colab": {
     "base_uri": "https://localhost:8080/"
    },
    "executionInfo": {
     "elapsed": 400,
     "status": "ok",
     "timestamp": 1663776250001,
     "user": {
      "displayName": "Nurul Akter Towhid",
      "userId": "15416341478784734538"
     },
     "user_tz": -360
    },
    "id": "kO7suyi0oYD7",
    "outputId": "e210eaab-6f35-449e-ec06-e5e54b314d32"
   },
   "outputs": [
    {
     "name": "stdout",
     "output_type": "stream",
     "text": [
      "total 2820 values\n"
     ]
    }
   ],
   "source": [
    "df = pd.read_csv(sunspots_url,  usecols=[1])\n",
    "data = np.array(df.values.astype('float32'))\n",
    "\n",
    "# Normalize the dataset\n",
    "scaler = MinMaxScaler(feature_range=(0, 1))\n",
    "data = scaler.fit_transform(data).flatten()\n",
    "\n",
    "n = len(data)\n",
    "print(f'total {n} values')\n",
    "# Point for splitting data into train and test\n",
    "split = int(n* 0.8)\n",
    "\n",
    "train_data = data[range(split)]\n",
    "test_data = data[split:]"
   ]
  },
  {
   "cell_type": "code",
   "execution_count": 5,
   "metadata": {},
   "outputs": [
    {
     "data": {
      "text/plain": [
       "(2256,)"
      ]
     },
     "execution_count": 5,
     "metadata": {},
     "output_type": "execute_result"
    }
   ],
   "source": [
    "train_data.shape"
   ]
  },
  {
   "cell_type": "code",
   "execution_count": 6,
   "metadata": {},
   "outputs": [
    {
     "data": {
      "text/plain": [
       "array([0.22852638, 0.24665089, 0.2758077 , 0.21946414, 0.33490935,\n",
       "       0.3289992 , 0.37352246, 0.2612293 , 0.29905435, 0.29747832,\n",
       "       0.6249015 , 0.33569738, 0.28881007], dtype=float32)"
      ]
     },
     "execution_count": 6,
     "metadata": {},
     "output_type": "execute_result"
    }
   ],
   "source": [
    "train_data[:13]"
   ]
  },
  {
   "cell_type": "code",
   "execution_count": 7,
   "metadata": {
    "colab": {
     "base_uri": "https://localhost:8080/"
    },
    "executionInfo": {
     "elapsed": 394,
     "status": "ok",
     "timestamp": 1663776477339,
     "user": {
      "displayName": "Nurul Akter Towhid",
      "userId": "15416341478784734538"
     },
     "user_tz": -360
    },
    "id": "4ITFpwa5nnjo",
    "outputId": "1f2cb750-7584-447d-bb3c-9086c3bd1099"
   },
   "outputs": [
    {
     "name": "stdout",
     "output_type": "stream",
     "text": [
      "number of rows: 187\n",
      "number of rows: 46\n"
     ]
    }
   ],
   "source": [
    "# Prepare the input X and target Y\n",
    "def get_XY(dat, time_steps):\n",
    "    # Indices of target array\n",
    "    Y_ind = np.arange(time_steps, len(dat), time_steps)\n",
    "    # Y = target data\n",
    "    Y = dat[Y_ind]\n",
    "    # Prepare X = features\n",
    "    rows_x = len(Y)\n",
    "    print('number of rows:', rows_x)\n",
    "    X = dat[range(time_steps*rows_x)]\n",
    "    X = np.reshape(X, (rows_x, time_steps, 1))    \n",
    "    return X, Y\n",
    "\n",
    "# perpare the features and labels\n",
    "time_steps = 12\n",
    "trainX, trainY = get_XY(train_data, time_steps)\n",
    "testX, testY = get_XY(test_data, time_steps)"
   ]
  },
  {
   "cell_type": "code",
   "execution_count": 10,
   "metadata": {},
   "outputs": [
    {
     "data": {
      "text/plain": [
       "0.28881007"
      ]
     },
     "execution_count": 10,
     "metadata": {},
     "output_type": "execute_result"
    }
   ],
   "source": [
    "trainY[0]"
   ]
  },
  {
   "cell_type": "code",
   "execution_count": 11,
   "metadata": {
    "colab": {
     "base_uri": "https://localhost:8080/"
    },
    "executionInfo": {
     "elapsed": 394,
     "status": "ok",
     "timestamp": 1663776491850,
     "user": {
      "displayName": "Nurul Akter Towhid",
      "userId": "15416341478784734538"
     },
     "user_tz": -360
    },
    "id": "8WMw-jWpnMXp",
    "outputId": "fc02998e-beea-48fc-cc31-5a9412b1970c"
   },
   "outputs": [
    {
     "data": {
      "text/plain": [
       "((187, 12, 1), (46, 12, 1), (187,))"
      ]
     },
     "execution_count": 11,
     "metadata": {},
     "output_type": "execute_result"
    }
   ],
   "source": [
    "trainX.shape, testX.shape, trainY.shape"
   ]
  },
  {
   "cell_type": "markdown",
   "metadata": {
    "id": "SBdXJdc_qfKG"
   },
   "source": [
    "## Build RNN Model"
   ]
  },
  {
   "cell_type": "code",
   "execution_count": 12,
   "metadata": {
    "colab": {
     "base_uri": "https://localhost:8080/"
    },
    "executionInfo": {
     "elapsed": 4387,
     "status": "ok",
     "timestamp": 1663776649608,
     "user": {
      "displayName": "Nurul Akter Towhid",
      "userId": "15416341478784734538"
     },
     "user_tz": -360
    },
    "id": "Pb2MAzcnqoqe",
    "outputId": "6db31c2b-39fb-4269-f9ff-761fb1038008"
   },
   "outputs": [
    {
     "name": "stdout",
     "output_type": "stream",
     "text": [
      "Model: \"sequential\"\n",
      "_________________________________________________________________\n",
      " Layer (type)                Output Shape              Param #   \n",
      "=================================================================\n",
      " simple_rnn (SimpleRNN)      (None, 10)                120       \n",
      "                                                                 \n",
      " dense (Dense)               (None, 1)                 11        \n",
      "                                                                 \n",
      "=================================================================\n",
      "Total params: 131\n",
      "Trainable params: 131\n",
      "Non-trainable params: 0\n",
      "_________________________________________________________________\n"
     ]
    }
   ],
   "source": [
    "# Keras SimpleRNN\n",
    "hidden_units = 10\n",
    "output_size = 1\n",
    "\n",
    "input_shape=(time_steps, 1)\n",
    "\n",
    "model = Sequential()\n",
    "model.add(SimpleRNN(hidden_units, input_shape=input_shape, \n",
    "                    activation='tanh'))\n",
    "model.add(Dense(units=output_size, activation='sigmoid'))\n",
    "\n",
    "\n",
    "model.compile(loss='mean_squared_error', optimizer='adam')\n",
    "model.summary() "
   ]
  },
  {
   "cell_type": "code",
   "execution_count": 13,
   "metadata": {
    "colab": {
     "base_uri": "https://localhost:8080/"
    },
    "executionInfo": {
     "elapsed": 12166,
     "status": "ok",
     "timestamp": 1663776685708,
     "user": {
      "displayName": "Nurul Akter Towhid",
      "userId": "15416341478784734538"
     },
     "user_tz": -360
    },
    "id": "OZqmndBOqS-c",
    "outputId": "0bb58556-0c98-40db-835d-a908aa8db1dc"
   },
   "outputs": [
    {
     "name": "stdout",
     "output_type": "stream",
     "text": [
      "Epoch 1/100\n",
      "6/6 [==============================] - 1s 54ms/step - loss: 0.0879 - val_loss: 0.0768\n",
      "Epoch 2/100\n",
      "6/6 [==============================] - 0s 9ms/step - loss: 0.0712 - val_loss: 0.0595\n",
      "Epoch 3/100\n",
      "6/6 [==============================] - 0s 9ms/step - loss: 0.0556 - val_loss: 0.0441\n",
      "Epoch 4/100\n",
      "6/6 [==============================] - 0s 9ms/step - loss: 0.0418 - val_loss: 0.0317\n",
      "Epoch 5/100\n",
      "6/6 [==============================] - 0s 10ms/step - loss: 0.0304 - val_loss: 0.0231\n",
      "Epoch 6/100\n",
      "6/6 [==============================] - 0s 9ms/step - loss: 0.0231 - val_loss: 0.0174\n",
      "Epoch 7/100\n",
      "6/6 [==============================] - 0s 10ms/step - loss: 0.0176 - val_loss: 0.0139\n",
      "Epoch 8/100\n",
      "6/6 [==============================] - 0s 11ms/step - loss: 0.0137 - val_loss: 0.0117\n",
      "Epoch 9/100\n",
      "6/6 [==============================] - 0s 8ms/step - loss: 0.0112 - val_loss: 0.0100\n",
      "Epoch 10/100\n",
      "6/6 [==============================] - 0s 8ms/step - loss: 0.0094 - val_loss: 0.0088\n",
      "Epoch 11/100\n",
      "6/6 [==============================] - 0s 11ms/step - loss: 0.0082 - val_loss: 0.0080\n",
      "Epoch 12/100\n",
      "6/6 [==============================] - 0s 9ms/step - loss: 0.0075 - val_loss: 0.0076\n",
      "Epoch 13/100\n",
      "6/6 [==============================] - 0s 11ms/step - loss: 0.0071 - val_loss: 0.0073\n",
      "Epoch 14/100\n",
      "6/6 [==============================] - 0s 10ms/step - loss: 0.0068 - val_loss: 0.0072\n",
      "Epoch 15/100\n",
      "6/6 [==============================] - 0s 11ms/step - loss: 0.0067 - val_loss: 0.0071\n",
      "Epoch 16/100\n",
      "6/6 [==============================] - 0s 12ms/step - loss: 0.0064 - val_loss: 0.0069\n",
      "Epoch 17/100\n",
      "6/6 [==============================] - 0s 10ms/step - loss: 0.0065 - val_loss: 0.0068\n",
      "Epoch 18/100\n",
      "6/6 [==============================] - 0s 9ms/step - loss: 0.0065 - val_loss: 0.0068\n",
      "Epoch 19/100\n",
      "6/6 [==============================] - 0s 10ms/step - loss: 0.0065 - val_loss: 0.0068\n",
      "Epoch 20/100\n",
      "6/6 [==============================] - 0s 13ms/step - loss: 0.0062 - val_loss: 0.0067\n",
      "Epoch 21/100\n",
      "6/6 [==============================] - 0s 12ms/step - loss: 0.0062 - val_loss: 0.0065\n",
      "Epoch 22/100\n",
      "6/6 [==============================] - 0s 11ms/step - loss: 0.0061 - val_loss: 0.0064\n",
      "Epoch 23/100\n",
      "6/6 [==============================] - 0s 12ms/step - loss: 0.0059 - val_loss: 0.0066\n",
      "Epoch 24/100\n",
      "6/6 [==============================] - 0s 11ms/step - loss: 0.0061 - val_loss: 0.0065\n",
      "Epoch 25/100\n",
      "6/6 [==============================] - 0s 11ms/step - loss: 0.0059 - val_loss: 0.0062\n",
      "Epoch 26/100\n",
      "6/6 [==============================] - 0s 11ms/step - loss: 0.0059 - val_loss: 0.0061\n",
      "Epoch 27/100\n",
      "6/6 [==============================] - 0s 11ms/step - loss: 0.0058 - val_loss: 0.0061\n",
      "Epoch 28/100\n",
      "6/6 [==============================] - 0s 11ms/step - loss: 0.0057 - val_loss: 0.0061\n",
      "Epoch 29/100\n",
      "6/6 [==============================] - 0s 10ms/step - loss: 0.0057 - val_loss: 0.0060\n",
      "Epoch 30/100\n",
      "6/6 [==============================] - 0s 11ms/step - loss: 0.0057 - val_loss: 0.0060\n",
      "Epoch 31/100\n",
      "6/6 [==============================] - 0s 11ms/step - loss: 0.0055 - val_loss: 0.0058\n",
      "Epoch 32/100\n",
      "6/6 [==============================] - 0s 10ms/step - loss: 0.0055 - val_loss: 0.0058\n",
      "Epoch 33/100\n",
      "6/6 [==============================] - 0s 11ms/step - loss: 0.0054 - val_loss: 0.0057\n",
      "Epoch 34/100\n",
      "6/6 [==============================] - 0s 12ms/step - loss: 0.0054 - val_loss: 0.0056\n",
      "Epoch 35/100\n",
      "6/6 [==============================] - 0s 10ms/step - loss: 0.0054 - val_loss: 0.0056\n",
      "Epoch 36/100\n",
      "6/6 [==============================] - 0s 8ms/step - loss: 0.0053 - val_loss: 0.0056\n",
      "Epoch 37/100\n",
      "6/6 [==============================] - 0s 12ms/step - loss: 0.0053 - val_loss: 0.0055\n",
      "Epoch 38/100\n",
      "6/6 [==============================] - 0s 11ms/step - loss: 0.0052 - val_loss: 0.0055\n",
      "Epoch 39/100\n",
      "6/6 [==============================] - 0s 17ms/step - loss: 0.0052 - val_loss: 0.0054\n",
      "Epoch 40/100\n",
      "6/6 [==============================] - 0s 13ms/step - loss: 0.0052 - val_loss: 0.0053\n",
      "Epoch 41/100\n",
      "6/6 [==============================] - 0s 10ms/step - loss: 0.0051 - val_loss: 0.0053\n",
      "Epoch 42/100\n",
      "6/6 [==============================] - 0s 13ms/step - loss: 0.0052 - val_loss: 0.0052\n",
      "Epoch 43/100\n",
      "6/6 [==============================] - 0s 10ms/step - loss: 0.0051 - val_loss: 0.0053\n",
      "Epoch 44/100\n",
      "6/6 [==============================] - 0s 10ms/step - loss: 0.0051 - val_loss: 0.0051\n",
      "Epoch 45/100\n",
      "6/6 [==============================] - 0s 10ms/step - loss: 0.0051 - val_loss: 0.0051\n",
      "Epoch 46/100\n",
      "6/6 [==============================] - 0s 12ms/step - loss: 0.0050 - val_loss: 0.0051\n",
      "Epoch 47/100\n",
      "6/6 [==============================] - 0s 10ms/step - loss: 0.0051 - val_loss: 0.0050\n",
      "Epoch 48/100\n",
      "6/6 [==============================] - 0s 11ms/step - loss: 0.0049 - val_loss: 0.0052\n",
      "Epoch 49/100\n",
      "6/6 [==============================] - 0s 10ms/step - loss: 0.0050 - val_loss: 0.0051\n",
      "Epoch 50/100\n",
      "6/6 [==============================] - 0s 11ms/step - loss: 0.0049 - val_loss: 0.0049\n",
      "Epoch 51/100\n",
      "6/6 [==============================] - 0s 11ms/step - loss: 0.0049 - val_loss: 0.0049\n",
      "Epoch 52/100\n",
      "6/6 [==============================] - 0s 10ms/step - loss: 0.0048 - val_loss: 0.0049\n",
      "Epoch 53/100\n",
      "6/6 [==============================] - 0s 10ms/step - loss: 0.0049 - val_loss: 0.0048\n",
      "Epoch 54/100\n",
      "6/6 [==============================] - 0s 11ms/step - loss: 0.0049 - val_loss: 0.0047\n",
      "Epoch 55/100\n",
      "6/6 [==============================] - 0s 11ms/step - loss: 0.0048 - val_loss: 0.0047\n",
      "Epoch 56/100\n",
      "6/6 [==============================] - 0s 10ms/step - loss: 0.0048 - val_loss: 0.0048\n",
      "Epoch 57/100\n",
      "6/6 [==============================] - 0s 10ms/step - loss: 0.0047 - val_loss: 0.0046\n",
      "Epoch 58/100\n",
      "6/6 [==============================] - 0s 10ms/step - loss: 0.0049 - val_loss: 0.0046\n",
      "Epoch 59/100\n",
      "6/6 [==============================] - 0s 11ms/step - loss: 0.0048 - val_loss: 0.0048\n",
      "Epoch 60/100\n",
      "6/6 [==============================] - 0s 11ms/step - loss: 0.0048 - val_loss: 0.0045\n",
      "Epoch 61/100\n",
      "6/6 [==============================] - 0s 12ms/step - loss: 0.0046 - val_loss: 0.0045\n",
      "Epoch 62/100\n",
      "6/6 [==============================] - 0s 10ms/step - loss: 0.0047 - val_loss: 0.0045\n",
      "Epoch 63/100\n",
      "6/6 [==============================] - 0s 12ms/step - loss: 0.0047 - val_loss: 0.0046\n",
      "Epoch 64/100\n",
      "6/6 [==============================] - 0s 11ms/step - loss: 0.0047 - val_loss: 0.0044\n",
      "Epoch 65/100\n",
      "6/6 [==============================] - 0s 11ms/step - loss: 0.0047 - val_loss: 0.0044\n",
      "Epoch 66/100\n",
      "6/6 [==============================] - 0s 12ms/step - loss: 0.0046 - val_loss: 0.0044\n",
      "Epoch 67/100\n",
      "6/6 [==============================] - 0s 10ms/step - loss: 0.0046 - val_loss: 0.0044\n",
      "Epoch 68/100\n",
      "6/6 [==============================] - 0s 12ms/step - loss: 0.0046 - val_loss: 0.0043\n",
      "Epoch 69/100\n",
      "6/6 [==============================] - 0s 10ms/step - loss: 0.0045 - val_loss: 0.0043\n",
      "Epoch 70/100\n",
      "6/6 [==============================] - 0s 10ms/step - loss: 0.0046 - val_loss: 0.0043\n",
      "Epoch 71/100\n",
      "6/6 [==============================] - 0s 12ms/step - loss: 0.0045 - val_loss: 0.0042\n",
      "Epoch 72/100\n",
      "6/6 [==============================] - 0s 12ms/step - loss: 0.0045 - val_loss: 0.0042\n",
      "Epoch 73/100\n",
      "6/6 [==============================] - 0s 11ms/step - loss: 0.0044 - val_loss: 0.0043\n",
      "Epoch 74/100\n",
      "6/6 [==============================] - 0s 12ms/step - loss: 0.0047 - val_loss: 0.0044\n",
      "Epoch 75/100\n",
      "6/6 [==============================] - 0s 10ms/step - loss: 0.0044 - val_loss: 0.0042\n",
      "Epoch 76/100\n",
      "6/6 [==============================] - 0s 10ms/step - loss: 0.0048 - val_loss: 0.0041\n",
      "Epoch 77/100\n",
      "6/6 [==============================] - 0s 11ms/step - loss: 0.0047 - val_loss: 0.0048\n",
      "Epoch 78/100\n",
      "6/6 [==============================] - 0s 9ms/step - loss: 0.0046 - val_loss: 0.0041\n",
      "Epoch 79/100\n",
      "6/6 [==============================] - 0s 10ms/step - loss: 0.0046 - val_loss: 0.0041\n",
      "Epoch 80/100\n",
      "6/6 [==============================] - 0s 11ms/step - loss: 0.0045 - val_loss: 0.0041\n",
      "Epoch 81/100\n",
      "6/6 [==============================] - 0s 10ms/step - loss: 0.0044 - val_loss: 0.0040\n",
      "Epoch 82/100\n",
      "6/6 [==============================] - 0s 10ms/step - loss: 0.0044 - val_loss: 0.0040\n",
      "Epoch 83/100\n",
      "6/6 [==============================] - 0s 10ms/step - loss: 0.0044 - val_loss: 0.0040\n"
     ]
    },
    {
     "name": "stdout",
     "output_type": "stream",
     "text": [
      "Epoch 84/100\n",
      "6/6 [==============================] - 0s 10ms/step - loss: 0.0044 - val_loss: 0.0040\n",
      "Epoch 85/100\n",
      "6/6 [==============================] - 0s 12ms/step - loss: 0.0043 - val_loss: 0.0039\n",
      "Epoch 86/100\n",
      "6/6 [==============================] - 0s 12ms/step - loss: 0.0043 - val_loss: 0.0040\n",
      "Epoch 87/100\n",
      "6/6 [==============================] - 0s 11ms/step - loss: 0.0043 - val_loss: 0.0040\n",
      "Epoch 88/100\n",
      "6/6 [==============================] - 0s 11ms/step - loss: 0.0043 - val_loss: 0.0039\n",
      "Epoch 89/100\n",
      "6/6 [==============================] - 0s 9ms/step - loss: 0.0043 - val_loss: 0.0039\n",
      "Epoch 90/100\n",
      "6/6 [==============================] - 0s 10ms/step - loss: 0.0043 - val_loss: 0.0039\n",
      "Epoch 91/100\n",
      "6/6 [==============================] - 0s 11ms/step - loss: 0.0042 - val_loss: 0.0038\n",
      "Epoch 92/100\n",
      "6/6 [==============================] - 0s 11ms/step - loss: 0.0043 - val_loss: 0.0038\n",
      "Epoch 93/100\n",
      "6/6 [==============================] - 0s 10ms/step - loss: 0.0043 - val_loss: 0.0040\n",
      "Epoch 94/100\n",
      "6/6 [==============================] - 0s 11ms/step - loss: 0.0042 - val_loss: 0.0038\n",
      "Epoch 95/100\n",
      "6/6 [==============================] - 0s 9ms/step - loss: 0.0042 - val_loss: 0.0037\n",
      "Epoch 96/100\n",
      "6/6 [==============================] - 0s 11ms/step - loss: 0.0042 - val_loss: 0.0040\n",
      "Epoch 97/100\n",
      "6/6 [==============================] - 0s 10ms/step - loss: 0.0043 - val_loss: 0.0038\n",
      "Epoch 98/100\n",
      "6/6 [==============================] - 0s 11ms/step - loss: 0.0042 - val_loss: 0.0037\n",
      "Epoch 99/100\n",
      "6/6 [==============================] - 0s 9ms/step - loss: 0.0042 - val_loss: 0.0037\n",
      "Epoch 100/100\n",
      "6/6 [==============================] - 0s 10ms/step - loss: 0.0042 - val_loss: 0.0037\n"
     ]
    }
   ],
   "source": [
    "hist = model.fit(trainX, trainY, epochs=100, validation_split=0.1, verbose=1)"
   ]
  },
  {
   "cell_type": "code",
   "execution_count": 14,
   "metadata": {
    "colab": {
     "base_uri": "https://localhost:8080/",
     "height": 354
    },
    "executionInfo": {
     "elapsed": 738,
     "status": "ok",
     "timestamp": 1663776706893,
     "user": {
      "displayName": "Nurul Akter Towhid",
      "userId": "15416341478784734538"
     },
     "user_tz": -360
    },
    "id": "qRKNVBbOsTCU",
    "outputId": "b86bddfa-f18a-415a-9954-bac9159260f1"
   },
   "outputs": [
    {
     "data": {
      "image/png": "[encoded data removed]",
      "text/plain": [
       "<Figure size 640x480 with 1 Axes>"
      ]
     },
     "metadata": {},
     "output_type": "display_data"
    }
   ],
   "source": [
    "# !pip install -q git+https://github.com/tensorflow/docs\n",
    "\n",
    "# import tensorflow_docs as tfdocs\n",
    "# import tensorflow_docs as tfdocs\n",
    "# import tensorflow_docs.plots\n",
    "# import tensorflow_docs.modeling\n",
    "# plotter = tfdocs.plots.HistoryPlotter(smoothing_std=2)\n",
    "\n",
    "# plotter.plot({'RNN ': hist}, metric = \"loss\")\n",
    "# plt.ylim([0, .03])\n",
    "# plt.ylabel('MSE')\n",
    "\n",
    "import matplotlib.pyplot as plt\n",
    "import seaborn as sns\n",
    "\n",
    "\n",
    "sns.lineplot(x= range(1, 101),y= hist.history['loss'])\n",
    "sns.lineplot(x=range(1, 101), y=hist.history['val_loss'])\n",
    "plt.show()"
   ]
  },
  {
   "cell_type": "code",
   "execution_count": 15,
   "metadata": {
    "colab": {
     "base_uri": "https://localhost:8080/"
    },
    "executionInfo": {
     "elapsed": 494,
     "status": "ok",
     "timestamp": 1663776720266,
     "user": {
      "displayName": "Nurul Akter Towhid",
      "userId": "15416341478784734538"
     },
     "user_tz": -360
    },
    "id": "oVpmrHWhrZau",
    "outputId": "35e977ff-55c5-4054-9fb7-e18a6e310688"
   },
   "outputs": [
    {
     "name": "stdout",
     "output_type": "stream",
     "text": [
      "6/6 [==============================] - 0s 2ms/step\n",
      "2/2 [==============================] - 0s 4ms/step\n",
      "Train RMSE: 0.064 RMSE\n",
      "Test RMSE: 0.092 RMSE\n"
     ]
    }
   ],
   "source": [
    "def print_error(trainY, testY, train_predict, test_predict):    \n",
    "    # Error of predictions\n",
    "    train_rmse = math.sqrt(mean_squared_error(trainY, train_predict))\n",
    "    test_rmse = math.sqrt(mean_squared_error(testY, test_predict))\n",
    "    # Print RMSE\n",
    "    print('Train RMSE: %.3f RMSE' % (train_rmse))\n",
    "    print('Test RMSE: %.3f RMSE' % (test_rmse))    \n",
    "\n",
    "# make predictions\n",
    "train_predict = model.predict(trainX)\n",
    "test_predict = model.predict(testX)\n",
    "# Mean square error\n",
    "print_error(trainY, testY, train_predict, test_predict)"
   ]
  },
  {
   "cell_type": "markdown",
   "metadata": {
    "id": "zOsguQ9vsFB6"
   },
   "source": [
    "## Prediction vs Actual"
   ]
  },
  {
   "cell_type": "code",
   "execution_count": 16,
   "metadata": {
    "colab": {
     "base_uri": "https://localhost:8080/",
     "height": 444
    },
    "executionInfo": {
     "elapsed": 1053,
     "status": "ok",
     "timestamp": 1663776822423,
     "user": {
      "displayName": "Nurul Akter Towhid",
      "userId": "15416341478784734538"
     },
     "user_tz": -360
    },
    "id": "ivwOkdQCr7oM",
    "outputId": "bb54e90a-fb47-4f61-9c39-05f8d79454b4"
   },
   "outputs": [
    {
     "data": {
      "image/png": "[encoded data removed]",
      "text/plain": [
       "<Figure size 1200x480 with 1 Axes>"
      ]
     },
     "metadata": {},
     "output_type": "display_data"
    }
   ],
   "source": [
    "# Plot the result\n",
    "def plot_result(trainY, testY, train_predict, test_predict):\n",
    "    actual = np.append(trainY, testY)\n",
    "    predictions = np.append(train_predict, test_predict)\n",
    "    \n",
    "    rows = len(actual)\n",
    "    \n",
    "    plt.figure(figsize=(15, 6), dpi=80)\n",
    "    plt.plot(range(rows), actual)\n",
    "    plt.plot(range(rows), predictions)\n",
    "    \n",
    "    plt.axvline(x=len(trainY), color='r')\n",
    "    \n",
    "    plt.legend(['Actual', 'Predictions'])\n",
    "    plt.xlabel('Observation number after given time steps')\n",
    "    plt.ylabel('Sunspots scaled')\n",
    "    plt.title('Actual and Predicted Values. The Red Line Separates The Training And Test Examples')\n",
    "plot_result(trainY, testY, train_predict, test_predict)"
   ]
  },
  {
   "cell_type": "markdown",
   "metadata": {
    "id": "l0wH5Vd8ktkL"
   },
   "source": [
    "Self study : https://machinelearningmastery.com/an-introduction-to-recurrent-neural-networks-and-the-math-that-powers-them/"
   ]
  }
 ],
 "metadata": {
  "accelerator": "GPU",
  "colab": {
   "authorship_tag": "ABX9TyOevgl2RiIVWKDf8Mkx3tnC",
   "provenance": []
  },
  "gpuClass": "standard",
  "kernelspec": {
   "display_name": "Python 3 (ipykernel)",
   "language": "python",
   "name": "python3"
  },
  "language_info": {
   "codemirror_mode": {
    "name": "ipython",
    "version": 3
   },
   "file_extension": ".py",
   "mimetype": "text/x-python",
   "name": "python",
   "nbconvert_exporter": "python",
   "pygments_lexer": "ipython3",
   "version": "3.11.7"
  }
 },
 "nbformat": 4,
 "nbformat_minor": 4
}
