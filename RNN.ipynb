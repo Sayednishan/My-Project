{
 "cells": [
  {
   "cell_type": "markdown",
   "metadata": {
    "id": "8bGvSGKBk8n2"
   },
   "source": [
    "## Import section"
   ]
  },
  {
   "cell_type": "code",
   "execution_count": 1,
   "metadata": {
    "executionInfo": {
     "elapsed": 2693,
     "status": "ok",
     "timestamp": 1663776079546,
     "user": {
      "displayName": "Nurul Akter Towhid",
      "userId": "15416341478784734538"
     },
     "user_tz": -360
    },
    "id": "-br9r0NmjcHg"
   },
   "outputs": [],
   "source": [
    "# from pandas import read_csv\n",
    "import pandas as pd\n",
    "\n",
    "import numpy as np\n",
    "from keras.models import Sequential\n",
    "\n",
    "from keras.layers import Dense, SimpleRNN\n",
    "from sklearn.preprocessing import MinMaxScaler\n",
    "from sklearn.metrics import mean_squared_error\n",
    "import math\n",
    "import matplotlib.pyplot as plt"
   ]
  },
  {
   "cell_type": "markdown",
   "metadata": {
    "id": "WhBTa9sTpNJA"
   },
   "source": [
    "## Download & prepare dataset"
   ]
  },
  {
   "cell_type": "code",
   "execution_count": 2,
   "metadata": {
    "colab": {
     "base_uri": "https://localhost:8080/",
     "height": 488
    },
    "executionInfo": {
     "elapsed": 410,
     "status": "ok",
     "timestamp": 1663776113507,
     "user": {
      "displayName": "Nurul Akter Towhid",
      "userId": "15416341478784734538"
     },
     "user_tz": -360
    },
    "id": "G1ZJ3usvoADl",
    "outputId": "3a2698f7-41b5-4eaf-e58f-2dc8951c46a6"
   },
   "outputs": [
    {
     "data": {
      "text/html": [
       "<div>\n",
       "<style scoped>\n",
       "    .dataframe tbody tr th:only-of-type {\n",
       "        vertical-align: middle;\n",
       "    }\n",
       "\n",
       "    .dataframe tbody tr th {\n",
       "        vertical-align: top;\n",
       "    }\n",
       "\n",
       "    .dataframe thead th {\n",
       "        text-align: right;\n",
       "    }\n",
       "</style>\n",
       "<table border=\"1\" class=\"dataframe\">\n",
       "  <thead>\n",
       "    <tr style=\"text-align: right;\">\n",
       "      <th></th>\n",
       "      <th>Month</th>\n",
       "      <th>Sunspots</th>\n",
       "    </tr>\n",
       "  </thead>\n",
       "  <tbody>\n",
       "    <tr>\n",
       "      <th>0</th>\n",
       "      <td>1749-01</td>\n",
       "      <td>58.0</td>\n",
       "    </tr>\n",
       "    <tr>\n",
       "      <th>1</th>\n",
       "      <td>1749-02</td>\n",
       "      <td>62.6</td>\n",
       "    </tr>\n",
       "    <tr>\n",
       "      <th>2</th>\n",
       "      <td>1749-03</td>\n",
       "      <td>70.0</td>\n",
       "    </tr>\n",
       "    <tr>\n",
       "      <th>3</th>\n",
       "      <td>1749-04</td>\n",
       "      <td>55.7</td>\n",
       "    </tr>\n",
       "    <tr>\n",
       "      <th>4</th>\n",
       "      <td>1749-05</td>\n",
       "      <td>85.0</td>\n",
       "    </tr>\n",
       "    <tr>\n",
       "      <th>5</th>\n",
       "      <td>1749-06</td>\n",
       "      <td>83.5</td>\n",
       "    </tr>\n",
       "    <tr>\n",
       "      <th>6</th>\n",
       "      <td>1749-07</td>\n",
       "      <td>94.8</td>\n",
       "    </tr>\n",
       "    <tr>\n",
       "      <th>7</th>\n",
       "      <td>1749-08</td>\n",
       "      <td>66.3</td>\n",
       "    </tr>\n",
       "    <tr>\n",
       "      <th>8</th>\n",
       "      <td>1749-09</td>\n",
       "      <td>75.9</td>\n",
       "    </tr>\n",
       "    <tr>\n",
       "      <th>9</th>\n",
       "      <td>1749-10</td>\n",
       "      <td>75.5</td>\n",
       "    </tr>\n",
       "    <tr>\n",
       "      <th>10</th>\n",
       "      <td>1749-11</td>\n",
       "      <td>158.6</td>\n",
       "    </tr>\n",
       "    <tr>\n",
       "      <th>11</th>\n",
       "      <td>1749-12</td>\n",
       "      <td>85.2</td>\n",
       "    </tr>\n",
       "    <tr>\n",
       "      <th>12</th>\n",
       "      <td>1750-01</td>\n",
       "      <td>73.3</td>\n",
       "    </tr>\n",
       "    <tr>\n",
       "      <th>13</th>\n",
       "      <td>1750-02</td>\n",
       "      <td>75.9</td>\n",
       "    </tr>\n",
       "  </tbody>\n",
       "</table>\n",
       "</div>"
      ],
      "text/plain": [
       "      Month  Sunspots\n",
       "0   1749-01      58.0\n",
       "1   1749-02      62.6\n",
       "2   1749-03      70.0\n",
       "3   1749-04      55.7\n",
       "4   1749-05      85.0\n",
       "5   1749-06      83.5\n",
       "6   1749-07      94.8\n",
       "7   1749-08      66.3\n",
       "8   1749-09      75.9\n",
       "9   1749-10      75.5\n",
       "10  1749-11     158.6\n",
       "11  1749-12      85.2\n",
       "12  1750-01      73.3\n",
       "13  1750-02      75.9"
      ]
     },
     "execution_count": 2,
     "metadata": {},
     "output_type": "execute_result"
    }
   ],
   "source": [
    "sunspots_url = 'https://raw.githubusercontent.com/jbrownlee/Datasets/master/monthly-sunspots.csv'\n",
    "df = pd.read_csv(sunspots_url)\n",
    "df.head()"
   ]
  },
  {
   "cell_type": "code",
   "execution_count": 3,
   "metadata": {
    "colab": {
     "base_uri": "https://localhost:8080/",
     "height": 206
    },
    "executionInfo": {
     "elapsed": 421,
     "status": "ok",
     "timestamp": 1663776118310,
     "user": {
      "displayName": "Nurul Akter Towhid",
      "userId": "15416341478784734538"
     },
     "user_tz": -360
    },
    "id": "sOkrNf4WN-rF",
    "outputId": "17822476-bda2-4a0d-c099-a7deb2c1450b"
   },
   "outputs": [
    {
     "data": {
      "text/html": [
       "<div>\n",
       "<style scoped>\n",
       "    .dataframe tbody tr th:only-of-type {\n",
       "        vertical-align: middle;\n",
       "    }\n",
       "\n",
       "    .dataframe tbody tr th {\n",
       "        vertical-align: top;\n",
       "    }\n",
       "\n",
       "    .dataframe thead th {\n",
       "        text-align: right;\n",
       "    }\n",
       "</style>\n",
       "<table border=\"1\" class=\"dataframe\">\n",
       "  <thead>\n",
       "    <tr style=\"text-align: right;\">\n",
       "      <th></th>\n",
       "      <th>Month</th>\n",
       "      <th>Sunspots</th>\n",
       "    </tr>\n",
       "  </thead>\n",
       "  <tbody>\n",
       "    <tr>\n",
       "      <th>2815</th>\n",
       "      <td>1983-08</td>\n",
       "      <td>71.8</td>\n",
       "    </tr>\n",
       "    <tr>\n",
       "      <th>2816</th>\n",
       "      <td>1983-09</td>\n",
       "      <td>50.3</td>\n",
       "    </tr>\n",
       "    <tr>\n",
       "      <th>2817</th>\n",
       "      <td>1983-10</td>\n",
       "      <td>55.8</td>\n",
       "    </tr>\n",
       "    <tr>\n",
       "      <th>2818</th>\n",
       "      <td>1983-11</td>\n",
       "      <td>33.3</td>\n",
       "    </tr>\n",
       "    <tr>\n",
       "      <th>2819</th>\n",
       "      <td>1983-12</td>\n",
       "      <td>33.4</td>\n",
       "    </tr>\n",
       "  </tbody>\n",
       "</table>\n",
       "</div>"
      ],
      "text/plain": [
       "        Month  Sunspots\n",
       "2815  1983-08      71.8\n",
       "2816  1983-09      50.3\n",
       "2817  1983-10      55.8\n",
       "2818  1983-11      33.3\n",
       "2819  1983-12      33.4"
      ]
     },
     "execution_count": 3,
     "metadata": {},
     "output_type": "execute_result"
    }
   ],
   "source": [
    "df.tail()"
   ]
  },
  {
   "cell_type": "code",
   "execution_count": 4,
   "metadata": {
    "colab": {
     "base_uri": "https://localhost:8080/"
    },
    "executionInfo": {
     "elapsed": 400,
     "status": "ok",
     "timestamp": 1663776250001,
     "user": {
      "displayName": "Nurul Akter Towhid",
      "userId": "15416341478784734538"
     },
     "user_tz": -360
    },
    "id": "kO7suyi0oYD7",
    "outputId": "e210eaab-6f35-449e-ec06-e5e54b314d32"
   },
   "outputs": [
    {
     "name": "stdout",
     "output_type": "stream",
     "text": [
      "total 2820 values\n"
     ]
    }
   ],
   "source": [
    "df = pd.read_csv(sunspots_url,  usecols=[1])\n",
    "data = np.array(df.values.astype('float32'))\n",
    "\n",
    "# Normalize the dataset\n",
    "scaler = MinMaxScaler(feature_range=(0, 1))\n",
    "data = scaler.fit_transform(data).flatten()\n",
    "\n",
    "n = len(data)\n",
    "print(f'total {n} values')\n",
    "# Point for splitting data into train and test\n",
    "split = int(n* 0.8)\n",
    "\n",
    "train_data = data[range(split)]\n",
    "test_data = data[split:]"
   ]
  },
  {
   "cell_type": "code",
   "execution_count": 5,
   "metadata": {},
   "outputs": [
    {
     "data": {
      "text/plain": [
       "(2256,)"
      ]
     },
     "execution_count": 5,
     "metadata": {},
     "output_type": "execute_result"
    }
   ],
   "source": [
    "train_data.shape"
   ]
  },
  {
   "cell_type": "code",
   "execution_count": 6,
   "metadata": {},
   "outputs": [
    {
     "data": {
      "text/plain": [
       "array([0.22852638, 0.24665089, 0.2758077 , 0.21946414, 0.33490935,\n",
       "       0.3289992 , 0.37352246, 0.2612293 , 0.29905435, 0.29747832,\n",
       "       0.6249015 , 0.33569738, 0.28881007], dtype=float32)"
      ]
     },
     "execution_count": 6,
     "metadata": {},
     "output_type": "execute_result"
    }
   ],
   "source": [
    "train_data[:13]"
   ]
  },
  {
   "cell_type": "code",
   "execution_count": 7,
   "metadata": {
    "colab": {
     "base_uri": "https://localhost:8080/"
    },
    "executionInfo": {
     "elapsed": 394,
     "status": "ok",
     "timestamp": 1663776477339,
     "user": {
      "displayName": "Nurul Akter Towhid",
      "userId": "15416341478784734538"
     },
     "user_tz": -360
    },
    "id": "4ITFpwa5nnjo",
    "outputId": "1f2cb750-7584-447d-bb3c-9086c3bd1099"
   },
   "outputs": [
    {
     "name": "stdout",
     "output_type": "stream",
     "text": [
      "number of rows: 187\n",
      "number of rows: 46\n"
     ]
    }
   ],
   "source": [
    "# Prepare the input X and target Y\n",
    "def get_XY(dat, time_steps):\n",
    "    # Indices of target array\n",
    "    Y_ind = np.arange(time_steps, len(dat), time_steps)\n",
    "    # Y = target data\n",
    "    Y = dat[Y_ind]\n",
    "    # Prepare X = features\n",
    "    rows_x = len(Y)\n",
    "    print('number of rows:', rows_x)\n",
    "    X = dat[range(time_steps*rows_x)]\n",
    "    X = np.reshape(X, (rows_x, time_steps, 1))    \n",
    "    return X, Y\n",
    "\n",
    "# perpare the features and labels\n",
    "time_steps = 12\n",
    "trainX, trainY = get_XY(train_data, time_steps)\n",
    "testX, testY = get_XY(test_data, time_steps)"
   ]
  },
  {
   "cell_type": "code",
   "execution_count": 10,
   "metadata": {},
   "outputs": [
    {
     "data": {
      "text/plain": [
       "0.28881007"
      ]
     },
     "execution_count": 10,
     "metadata": {},
     "output_type": "execute_result"
    }
   ],
   "source": [
    "trainY[0]"
   ]
  },
  {
   "cell_type": "code",
   "execution_count": 11,
   "metadata": {
    "colab": {
     "base_uri": "https://localhost:8080/"
    },
    "executionInfo": {
     "elapsed": 394,
     "status": "ok",
     "timestamp": 1663776491850,
     "user": {
      "displayName": "Nurul Akter Towhid",
      "userId": "15416341478784734538"
     },
     "user_tz": -360
    },
    "id": "8WMw-jWpnMXp",
    "outputId": "fc02998e-beea-48fc-cc31-5a9412b1970c"
   },
   "outputs": [
    {
     "data": {
      "text/plain": [
       "((187, 12, 1), (46, 12, 1), (187,))"
      ]
     },
     "execution_count": 11,
     "metadata": {},
     "output_type": "execute_result"
    }
   ],
   "source": [
    "trainX.shape, testX.shape, trainY.shape"
   ]
  },
  {
   "cell_type": "markdown",
   "metadata": {
    "id": "SBdXJdc_qfKG"
   },
   "source": [
    "## Build RNN Model"
   ]
  },
  {
   "cell_type": "code",
   "execution_count": 12,
   "metadata": {
    "colab": {
     "base_uri": "https://localhost:8080/"
    },
    "executionInfo": {
     "elapsed": 4387,
     "status": "ok",
     "timestamp": 1663776649608,
     "user": {
      "displayName": "Nurul Akter Towhid",
      "userId": "15416341478784734538"
     },
     "user_tz": -360
    },
    "id": "Pb2MAzcnqoqe",
    "outputId": "6db31c2b-39fb-4269-f9ff-761fb1038008"
   },
   "outputs": [
    {
     "name": "stdout",
     "output_type": "stream",
     "text": [
      "Model: \"sequential\"\n",
      "_________________________________________________________________\n",
      " Layer (type)                Output Shape              Param #   \n",
      "=================================================================\n",
      " simple_rnn (SimpleRNN)      (None, 10)                120       \n",
      "                                                                 \n",
      " dense (Dense)               (None, 1)                 11        \n",
      "                                                                 \n",
      "=================================================================\n",
      "Total params: 131\n",
      "Trainable params: 131\n",
      "Non-trainable params: 0\n",
      "_________________________________________________________________\n"
     ]
    }
   ],
   "source": [
    "# Keras SimpleRNN\n",
    "hidden_units = 10\n",
    "output_size = 1\n",
    "\n",
    "input_shape=(time_steps, 1)\n",
    "\n",
    "model = Sequential()\n",
    "model.add(SimpleRNN(hidden_units, input_shape=input_shape, \n",
    "                    activation='tanh'))\n",
    "model.add(Dense(units=output_size, activation='sigmoid'))\n",
    "\n",
    "\n",
    "model.compile(loss='mean_squared_error', optimizer='adam')\n",
    "model.summary() "
   ]
  },
  {
   "cell_type": "code",
   "execution_count": 13,
   "metadata": {
    "colab": {
     "base_uri": "https://localhost:8080/"
    },
    "executionInfo": {
     "elapsed": 12166,
     "status": "ok",
     "timestamp": 1663776685708,
     "user": {
      "displayName": "Nurul Akter Towhid",
      "userId": "15416341478784734538"
     },
     "user_tz": -360
    },
    "id": "OZqmndBOqS-c",
    "outputId": "0bb58556-0c98-40db-835d-a908aa8db1dc"
   },
   "outputs": [
    {
     "name": "stdout",
     "output_type": "stream",
     "text": [
      "Epoch 1/100\n",
      "6/6 [==============================] - 1s 54ms/step - loss: 0.0879 - val_loss: 0.0768\n",
      "Epoch 2/100\n",
      "6/6 [==============================] - 0s 9ms/step - loss: 0.0712 - val_loss: 0.0595\n",
      "Epoch 3/100\n",
      "6/6 [==============================] - 0s 9ms/step - loss: 0.0556 - val_loss: 0.0441\n",
      "Epoch 4/100\n",
      "6/6 [==============================] - 0s 9ms/step - loss: 0.0418 - val_loss: 0.0317\n",
      "Epoch 5/100\n",
      "6/6 [==============================] - 0s 10ms/step - loss: 0.0304 - val_loss: 0.0231\n",
      "Epoch 6/100\n",
      "6/6 [==============================] - 0s 9ms/step - loss: 0.0231 - val_loss: 0.0174\n",
      "Epoch 7/100\n",
      "6/6 [==============================] - 0s 10ms/step - loss: 0.0176 - val_loss: 0.0139\n",
      "Epoch 8/100\n",
      "6/6 [==============================] - 0s 11ms/step - loss: 0.0137 - val_loss: 0.0117\n",
      "Epoch 9/100\n",
      "6/6 [==============================] - 0s 8ms/step - loss: 0.0112 - val_loss: 0.0100\n",
      "Epoch 10/100\n",
      "6/6 [==============================] - 0s 8ms/step - loss: 0.0094 - val_loss: 0.0088\n",
      "Epoch 11/100\n",
      "6/6 [==============================] - 0s 11ms/step - loss: 0.0082 - val_loss: 0.0080\n",
      "Epoch 12/100\n",
      "6/6 [==============================] - 0s 9ms/step - loss: 0.0075 - val_loss: 0.0076\n",
      "Epoch 13/100\n",
      "6/6 [==============================] - 0s 11ms/step - loss: 0.0071 - val_loss: 0.0073\n",
      "Epoch 14/100\n",
      "6/6 [==============================] - 0s 10ms/step - loss: 0.0068 - val_loss: 0.0072\n",
      "Epoch 15/100\n",
      "6/6 [==============================] - 0s 11ms/step - loss: 0.0067 - val_loss: 0.0071\n",
      "Epoch 16/100\n",
      "6/6 [==============================] - 0s 12ms/step - loss: 0.0064 - val_loss: 0.0069\n",
      "Epoch 17/100\n",
      "6/6 [==============================] - 0s 10ms/step - loss: 0.0065 - val_loss: 0.0068\n",
      "Epoch 18/100\n",
      "6/6 [==============================] - 0s 9ms/step - loss: 0.0065 - val_loss: 0.0068\n",
      "Epoch 19/100\n",
      "6/6 [==============================] - 0s 10ms/step - loss: 0.0065 - val_loss: 0.0068\n",
      "Epoch 20/100\n",
      "6/6 [==============================] - 0s 13ms/step - loss: 0.0062 - val_loss: 0.0067\n",
      "Epoch 21/100\n",
      "6/6 [==============================] - 0s 12ms/step - loss: 0.0062 - val_loss: 0.0065\n",
      "Epoch 22/100\n",
      "6/6 [==============================] - 0s 11ms/step - loss: 0.0061 - val_loss: 0.0064\n",
      "Epoch 23/100\n",
      "6/6 [==============================] - 0s 12ms/step - loss: 0.0059 - val_loss: 0.0066\n",
      "Epoch 24/100\n",
      "6/6 [==============================] - 0s 11ms/step - loss: 0.0061 - val_loss: 0.0065\n",
      "Epoch 25/100\n",
      "6/6 [==============================] - 0s 11ms/step - loss: 0.0059 - val_loss: 0.0062\n",
      "Epoch 26/100\n",
      "6/6 [==============================] - 0s 11ms/step - loss: 0.0059 - val_loss: 0.0061\n",
      "Epoch 27/100\n",
      "6/6 [==============================] - 0s 11ms/step - loss: 0.0058 - val_loss: 0.0061\n",
      "Epoch 28/100\n",
      "6/6 [==============================] - 0s 11ms/step - loss: 0.0057 - val_loss: 0.0061\n",
      "Epoch 29/100\n",
      "6/6 [==============================] - 0s 10ms/step - loss: 0.0057 - val_loss: 0.0060\n",
      "Epoch 30/100\n",
      "6/6 [==============================] - 0s 11ms/step - loss: 0.0057 - val_loss: 0.0060\n",
      "Epoch 31/100\n",
      "6/6 [==============================] - 0s 11ms/step - loss: 0.0055 - val_loss: 0.0058\n",
      "Epoch 32/100\n",
      "6/6 [==============================] - 0s 10ms/step - loss: 0.0055 - val_loss: 0.0058\n",
      "Epoch 33/100\n",
      "6/6 [==============================] - 0s 11ms/step - loss: 0.0054 - val_loss: 0.0057\n",
      "Epoch 34/100\n",
      "6/6 [==============================] - 0s 12ms/step - loss: 0.0054 - val_loss: 0.0056\n",
      "Epoch 35/100\n",
      "6/6 [==============================] - 0s 10ms/step - loss: 0.0054 - val_loss: 0.0056\n",
      "Epoch 36/100\n",
      "6/6 [==============================] - 0s 8ms/step - loss: 0.0053 - val_loss: 0.0056\n",
      "Epoch 37/100\n",
      "6/6 [==============================] - 0s 12ms/step - loss: 0.0053 - val_loss: 0.0055\n",
      "Epoch 38/100\n",
      "6/6 [==============================] - 0s 11ms/step - loss: 0.0052 - val_loss: 0.0055\n",
      "Epoch 39/100\n",
      "6/6 [==============================] - 0s 17ms/step - loss: 0.0052 - val_loss: 0.0054\n",
      "Epoch 40/100\n",
      "6/6 [==============================] - 0s 13ms/step - loss: 0.0052 - val_loss: 0.0053\n",
      "Epoch 41/100\n",
      "6/6 [==============================] - 0s 10ms/step - loss: 0.0051 - val_loss: 0.0053\n",
      "Epoch 42/100\n",
      "6/6 [==============================] - 0s 13ms/step - loss: 0.0052 - val_loss: 0.0052\n",
      "Epoch 43/100\n",
      "6/6 [==============================] - 0s 10ms/step - loss: 0.0051 - val_loss: 0.0053\n",
      "Epoch 44/100\n",
      "6/6 [==============================] - 0s 10ms/step - loss: 0.0051 - val_loss: 0.0051\n",
      "Epoch 45/100\n",
      "6/6 [==============================] - 0s 10ms/step - loss: 0.0051 - val_loss: 0.0051\n",
      "Epoch 46/100\n",
      "6/6 [==============================] - 0s 12ms/step - loss: 0.0050 - val_loss: 0.0051\n",
      "Epoch 47/100\n",
      "6/6 [==============================] - 0s 10ms/step - loss: 0.0051 - val_loss: 0.0050\n",
      "Epoch 48/100\n",
      "6/6 [==============================] - 0s 11ms/step - loss: 0.0049 - val_loss: 0.0052\n",
      "Epoch 49/100\n",
      "6/6 [==============================] - 0s 10ms/step - loss: 0.0050 - val_loss: 0.0051\n",
      "Epoch 50/100\n",
      "6/6 [==============================] - 0s 11ms/step - loss: 0.0049 - val_loss: 0.0049\n",
      "Epoch 51/100\n",
      "6/6 [==============================] - 0s 11ms/step - loss: 0.0049 - val_loss: 0.0049\n",
      "Epoch 52/100\n",
      "6/6 [==============================] - 0s 10ms/step - loss: 0.0048 - val_loss: 0.0049\n",
      "Epoch 53/100\n",
      "6/6 [==============================] - 0s 10ms/step - loss: 0.0049 - val_loss: 0.0048\n",
      "Epoch 54/100\n",
      "6/6 [==============================] - 0s 11ms/step - loss: 0.0049 - val_loss: 0.0047\n",
      "Epoch 55/100\n",
      "6/6 [==============================] - 0s 11ms/step - loss: 0.0048 - val_loss: 0.0047\n",
      "Epoch 56/100\n",
      "6/6 [==============================] - 0s 10ms/step - loss: 0.0048 - val_loss: 0.0048\n",
      "Epoch 57/100\n",
      "6/6 [==============================] - 0s 10ms/step - loss: 0.0047 - val_loss: 0.0046\n",
      "Epoch 58/100\n",
      "6/6 [==============================] - 0s 10ms/step - loss: 0.0049 - val_loss: 0.0046\n",
      "Epoch 59/100\n",
      "6/6 [==============================] - 0s 11ms/step - loss: 0.0048 - val_loss: 0.0048\n",
      "Epoch 60/100\n",
      "6/6 [==============================] - 0s 11ms/step - loss: 0.0048 - val_loss: 0.0045\n",
      "Epoch 61/100\n",
      "6/6 [==============================] - 0s 12ms/step - loss: 0.0046 - val_loss: 0.0045\n",
      "Epoch 62/100\n",
      "6/6 [==============================] - 0s 10ms/step - loss: 0.0047 - val_loss: 0.0045\n",
      "Epoch 63/100\n",
      "6/6 [==============================] - 0s 12ms/step - loss: 0.0047 - val_loss: 0.0046\n",
      "Epoch 64/100\n",
      "6/6 [==============================] - 0s 11ms/step - loss: 0.0047 - val_loss: 0.0044\n",
      "Epoch 65/100\n",
      "6/6 [==============================] - 0s 11ms/step - loss: 0.0047 - val_loss: 0.0044\n",
      "Epoch 66/100\n",
      "6/6 [==============================] - 0s 12ms/step - loss: 0.0046 - val_loss: 0.0044\n",
      "Epoch 67/100\n",
      "6/6 [==============================] - 0s 10ms/step - loss: 0.0046 - val_loss: 0.0044\n",
      "Epoch 68/100\n",
      "6/6 [==============================] - 0s 12ms/step - loss: 0.0046 - val_loss: 0.0043\n",
      "Epoch 69/100\n",
      "6/6 [==============================] - 0s 10ms/step - loss: 0.0045 - val_loss: 0.0043\n",
      "Epoch 70/100\n",
      "6/6 [==============================] - 0s 10ms/step - loss: 0.0046 - val_loss: 0.0043\n",
      "Epoch 71/100\n",
      "6/6 [==============================] - 0s 12ms/step - loss: 0.0045 - val_loss: 0.0042\n",
      "Epoch 72/100\n",
      "6/6 [==============================] - 0s 12ms/step - loss: 0.0045 - val_loss: 0.0042\n",
      "Epoch 73/100\n",
      "6/6 [==============================] - 0s 11ms/step - loss: 0.0044 - val_loss: 0.0043\n",
      "Epoch 74/100\n",
      "6/6 [==============================] - 0s 12ms/step - loss: 0.0047 - val_loss: 0.0044\n",
      "Epoch 75/100\n",
      "6/6 [==============================] - 0s 10ms/step - loss: 0.0044 - val_loss: 0.0042\n",
      "Epoch 76/100\n",
      "6/6 [==============================] - 0s 10ms/step - loss: 0.0048 - val_loss: 0.0041\n",
      "Epoch 77/100\n",
      "6/6 [==============================] - 0s 11ms/step - loss: 0.0047 - val_loss: 0.0048\n",
      "Epoch 78/100\n",
      "6/6 [==============================] - 0s 9ms/step - loss: 0.0046 - val_loss: 0.0041\n",
      "Epoch 79/100\n",
      "6/6 [==============================] - 0s 10ms/step - loss: 0.0046 - val_loss: 0.0041\n",
      "Epoch 80/100\n",
      "6/6 [==============================] - 0s 11ms/step - loss: 0.0045 - val_loss: 0.0041\n",
      "Epoch 81/100\n",
      "6/6 [==============================] - 0s 10ms/step - loss: 0.0044 - val_loss: 0.0040\n",
      "Epoch 82/100\n",
      "6/6 [==============================] - 0s 10ms/step - loss: 0.0044 - val_loss: 0.0040\n",
      "Epoch 83/100\n",
      "6/6 [==============================] - 0s 10ms/step - loss: 0.0044 - val_loss: 0.0040\n"
     ]
    },
    {
     "name": "stdout",
     "output_type": "stream",
     "text": [
      "Epoch 84/100\n",
      "6/6 [==============================] - 0s 10ms/step - loss: 0.0044 - val_loss: 0.0040\n",
      "Epoch 85/100\n",
      "6/6 [==============================] - 0s 12ms/step - loss: 0.0043 - val_loss: 0.0039\n",
      "Epoch 86/100\n",
      "6/6 [==============================] - 0s 12ms/step - loss: 0.0043 - val_loss: 0.0040\n",
      "Epoch 87/100\n",
      "6/6 [==============================] - 0s 11ms/step - loss: 0.0043 - val_loss: 0.0040\n",
      "Epoch 88/100\n",
      "6/6 [==============================] - 0s 11ms/step - loss: 0.0043 - val_loss: 0.0039\n",
      "Epoch 89/100\n",
      "6/6 [==============================] - 0s 9ms/step - loss: 0.0043 - val_loss: 0.0039\n",
      "Epoch 90/100\n",
      "6/6 [==============================] - 0s 10ms/step - loss: 0.0043 - val_loss: 0.0039\n",
      "Epoch 91/100\n",
      "6/6 [==============================] - 0s 11ms/step - loss: 0.0042 - val_loss: 0.0038\n",
      "Epoch 92/100\n",
      "6/6 [==============================] - 0s 11ms/step - loss: 0.0043 - val_loss: 0.0038\n",
      "Epoch 93/100\n",
      "6/6 [==============================] - 0s 10ms/step - loss: 0.0043 - val_loss: 0.0040\n",
      "Epoch 94/100\n",
      "6/6 [==============================] - 0s 11ms/step - loss: 0.0042 - val_loss: 0.0038\n",
      "Epoch 95/100\n",
      "6/6 [==============================] - 0s 9ms/step - loss: 0.0042 - val_loss: 0.0037\n",
      "Epoch 96/100\n",
      "6/6 [==============================] - 0s 11ms/step - loss: 0.0042 - val_loss: 0.0040\n",
      "Epoch 97/100\n",
      "6/6 [==============================] - 0s 10ms/step - loss: 0.0043 - val_loss: 0.0038\n",
      "Epoch 98/100\n",
      "6/6 [==============================] - 0s 11ms/step - loss: 0.0042 - val_loss: 0.0037\n",
      "Epoch 99/100\n",
      "6/6 [==============================] - 0s 9ms/step - loss: 0.0042 - val_loss: 0.0037\n",
      "Epoch 100/100\n",
      "6/6 [==============================] - 0s 10ms/step - loss: 0.0042 - val_loss: 0.0037\n"
     ]
    }
   ],
   "source": [
    "hist = model.fit(trainX, trainY, epochs=100, validation_split=0.1, verbose=1)"
   ]
  },
  {
   "cell_type": "code",
   "execution_count": 14,
   "metadata": {
    "colab": {
     "base_uri": "https://localhost:8080/",
     "height": 354
    },
    "executionInfo": {
     "elapsed": 738,
     "status": "ok",
     "timestamp": 1663776706893,
     "user": {
      "displayName": "Nurul Akter Towhid",
      "userId": "15416341478784734538"
     },
     "user_tz": -360
    },
    "id": "qRKNVBbOsTCU",
    "outputId": "b86bddfa-f18a-415a-9954-bac9159260f1"
   },
   "outputs": [
    {
     "data": {
      "image/png": "[encoded data removed]",
      "text/plain": [
       "<Figure size 640x480 with 1 Axes>"
      ]
     },
     "metadata": {},
     "output_type": "display_data"
    }
   ],
   "source": [
    "# !pip install -q git+https://github.com/tensorflow/docs\n",
    "\n",
    "# import tensorflow_docs as tfdocs\n",
    "# import tensorflow_docs as tfdocs\n",
    "# import tensorflow_docs.plots\n",
    "# import tensorflow_docs.modeling\n",
    "# plotter = tfdocs.plots.HistoryPlotter(smoothing_std=2)\n",
    "\n",
    "# plotter.plot({'RNN ': hist}, metric = \"loss\")\n",
    "# plt.ylim([0, .03])\n",
    "# plt.ylabel('MSE')\n",
    "\n",
    "import matplotlib.pyplot as plt\n",
    "import seaborn as sns\n",
    "\n",
    "\n",
    "sns.lineplot(x= range(1, 101),y= hist.history['loss'])\n",
    "sns.lineplot(x=range(1, 101), y=hist.history['val_loss'])\n",
    "plt.show()"
   ]
  },
  {
   "cell_type": "code",
   "execution_count": 15,
   "metadata": {
    "colab": {
     "base_uri": "https://localhost:8080/"
    },
    "executionInfo": {
     "elapsed": 494,
     "status": "ok",
     "timestamp": 1663776720266,
     "user": {
      "displayName": "Nurul Akter Towhid",
      "userId": "15416341478784734538"
     },
     "user_tz": -360
    },
    "id": "oVpmrHWhrZau",
    "outputId": "35e977ff-55c5-4054-9fb7-e18a6e310688"
   },
   "outputs": [
    {
     "name": "stdout",
     "output_type": "stream",
     "text": [
      "6/6 [==============================] - 0s 2ms/step\n",
      "2/2 [==============================] - 0s 4ms/step\n",
      "Train RMSE: 0.064 RMSE\n",
      "Test RMSE: 0.092 RMSE\n"
     ]
    }
   ],
   "source": [
    "def print_error(trainY, testY, train_predict, test_predict):    \n",
    "    # Error of predictions\n",
    "    train_rmse = math.sqrt(mean_squared_error(trainY, train_predict))\n",
    "    test_rmse = math.sqrt(mean_squared_error(testY, test_predict))\n",
    "    # Print RMSE\n",
    "    print('Train RMSE: %.3f RMSE' % (train_rmse))\n",
    "    print('Test RMSE: %.3f RMSE' % (test_rmse))    \n",
    "\n",
    "# make predictions\n",
    "train_predict = model.predict(trainX)\n",
    "test_predict = model.predict(testX)\n",
    "# Mean square error\n",
    "print_error(trainY, testY, train_predict, test_predict)"
   ]
  },
  {
   "cell_type": "markdown",
   "metadata": {
    "id": "zOsguQ9vsFB6"
   },
   "source": [
    "## Prediction vs Actual"
   ]
  },
  {
   "cell_type": "code",
   "execution_count": 16,
   "metadata": {
    "colab": {
     "base_uri": "https://localhost:8080/",
     "height": 444
    },
    "executionInfo": {
     "elapsed": 1053,
     "status": "ok",
     "timestamp": 1663776822423,
     "user": {
      "displayName": "Nurul Akter Towhid",
      "userId": "15416341478784734538"
     },
     "user_tz": -360
    },
    "id": "ivwOkdQCr7oM",
    "outputId": "bb54e90a-fb47-4f61-9c39-05f8d79454b4"
   },
   "outputs": [
    {
     "data": {
      "image/png": "[encoded data removed]",
      "text/plain": [
       "<Figure size 1200x480 with 1 Axes>"
      ]
     },
     "metadata": {},
     "output_type": "display_data"
    }
   ],
   "source": [
    "# Plot the result\n",
    "def plot_result(trainY, testY, train_predict, test_predict):\n",
    "    actual = np.append(trainY, testY)\n",
    "    predictions = np.append(train_predict, test_predict)\n",
    "    \n",
    "    rows = len(actual)\n",
    "    \n",
    "    plt.figure(figsize=(15, 6), dpi=80)\n",
    "    plt.plot(range(rows), actual)\n",
    "    plt.plot(range(rows), predictions)\n",
    "    \n",
    "    plt.axvline(x=len(trainY), color='r')\n",
    "    \n",
    "    plt.legend(['Actual', 'Predictions'])\n",
    "    plt.xlabel('Observation number after given time steps')\n",
    "    plt.ylabel('Sunspots scaled')\n",
    "    plt.title('Actual and Predicted Values. The Red Line Separates The Training And Test Examples')\n",
    "plot_result(trainY, testY, train_predict, test_predict)"
   ]
  },
  {
   "cell_type": "markdown",
   "metadata": {
    "id": "l0wH5Vd8ktkL"
   },
   "source": [
    "Self study : https://machinelearningmastery.com/an-introduction-to-recurrent-neural-networks-and-the-math-that-powers-them/"
   ]
  }
 ],
 "metadata": {
  "accelerator": "GPU",
  "colab": {
   "authorship_tag": "ABX9TyNOhLXxh+Ip3yCVzGRjv4Zg",
   "provenance": []
  },
  "gpuClass": "standard",
  "kernelspec": {
   "display_name": "Python 3 (ipykernel)",
   "language": "python",
   "name": "python3"
  },
  "language_info": {
   "codemirror_mode": {
    "name": "ipython",
    "version": 3
   },
   "file_extension": ".py",
   "mimetype": "text/x-python",
   "name": "python",
   "nbconvert_exporter": "python",
   "pygments_lexer": "ipython3",
   "version": "3.8.6"
  }
 },
 "nbformat": 4,
 "nbformat_minor": 1
}
