{
 "cells": [
  {
   "cell_type": "code",
   "execution_count": 1,
   "id": "d30bcd3b",
   "metadata": {},
   "outputs": [],
   "source": [
    "import pandas as pd\n",
    "import matplotlib.pyplot as plt \n",
    "import seaborn as sns\n",
    "from sklearn.preprocessing import LabelEncoder"
   ]
  },
  {
   "cell_type": "code",
   "execution_count": 2,
   "id": "75e586a6",
   "metadata": {},
   "outputs": [],
   "source": [
    "pro = pd.read_csv('properties.csv')\n",
    "train = pd.read_csv('train.csv')\n",
    "cpi = pd.read_csv('cpi.csv')\n",
    "interest= pd.read_csv('interest.csv')\n",
    "rentIndex = pd.read_csv('rentIndex.csv')\n",
    "geo = pd.read_csv('geo_attributes.csv')\n",
    "vacant = pd.read_csv('vacant.csv')\n",
    "test = pd.read_csv('test.csv')"
   ]
  },
  {
   "cell_type": "code",
   "execution_count": 3,
   "id": "36c2792d",
   "metadata": {},
   "outputs": [
    {
     "data": {
      "text/html": [
       "<div>\n",
       "<style scoped>\n",
       "    .dataframe tbody tr th:only-of-type {\n",
       "        vertical-align: middle;\n",
       "    }\n",
       "\n",
       "    .dataframe tbody tr th {\n",
       "        vertical-align: top;\n",
       "    }\n",
       "\n",
       "    .dataframe thead th {\n",
       "        text-align: right;\n",
       "    }\n",
       "</style>\n",
       "<table border=\"1\" class=\"dataframe\">\n",
       "  <thead>\n",
       "    <tr style=\"text-align: right;\">\n",
       "      <th></th>\n",
       "      <th>Data Series</th>\n",
       "      <th>InterestRate</th>\n",
       "      <th>CPI</th>\n",
       "    </tr>\n",
       "  </thead>\n",
       "  <tbody>\n",
       "    <tr>\n",
       "      <th>0</th>\n",
       "      <td>2022 Dec</td>\n",
       "      <td>1.48</td>\n",
       "      <td>111.186</td>\n",
       "    </tr>\n",
       "    <tr>\n",
       "      <th>1</th>\n",
       "      <td>2022 Nov</td>\n",
       "      <td>1.47</td>\n",
       "      <td>110.959</td>\n",
       "    </tr>\n",
       "    <tr>\n",
       "      <th>2</th>\n",
       "      <td>2022 Oct</td>\n",
       "      <td>1.17</td>\n",
       "      <td>109.893</td>\n",
       "    </tr>\n",
       "    <tr>\n",
       "      <th>3</th>\n",
       "      <td>2022 Sep</td>\n",
       "      <td>1.03</td>\n",
       "      <td>110.339</td>\n",
       "    </tr>\n",
       "    <tr>\n",
       "      <th>4</th>\n",
       "      <td>2022 Aug</td>\n",
       "      <td>0.95</td>\n",
       "      <td>109.863</td>\n",
       "    </tr>\n",
       "  </tbody>\n",
       "</table>\n",
       "</div>"
      ],
      "text/plain": [
       "  Data Series  InterestRate      CPI\n",
       "0   2022 Dec           1.48  111.186\n",
       "1   2022 Nov           1.47  110.959\n",
       "2   2022 Oct           1.17  109.893\n",
       "3   2022 Sep           1.03  110.339\n",
       "4   2022 Aug           0.95  109.863"
      ]
     },
     "execution_count": 3,
     "metadata": {},
     "output_type": "execute_result"
    }
   ],
   "source": [
    "interest_and_cpi = pd.merge(left=interest, right=cpi, on='Data Series')\n",
    "interest_and_cpi.head()"
   ]
  },
  {
   "cell_type": "code",
   "execution_count": 4,
   "id": "894d1011",
   "metadata": {},
   "outputs": [],
   "source": [
    "rentindex_and_vacant = pd.merge(left=rentIndex, right=vacant, on='Data Series')"
   ]
  },
  {
   "cell_type": "code",
   "execution_count": 7,
   "id": "a4976a8e",
   "metadata": {
    "scrolled": true
   },
   "outputs": [],
   "source": [
    "train_and_properties = pd.merge(left=train, right=pro, on='property_key', how='inner')"
   ]
  },
  {
   "cell_type": "code",
   "execution_count": 8,
   "id": "d4fb2c1a",
   "metadata": {},
   "outputs": [
    {
     "data": {
      "text/plain": [
       "62948"
      ]
     },
     "execution_count": 8,
     "metadata": {},
     "output_type": "execute_result"
    }
   ],
   "source": [
    "train_properties_geo = pd.merge(left=train_and_properties, right=geo, on=['street', 'project', 'district'], how='inner')\n",
    "train_properties_geo['contractDate'] = pd.to_datetime(train_properties_geo['contractDate'])\n",
    "train_properties_geo = train_properties_geo.sort_values(by='contractDate', ignore_index=True, ascending=True)\n",
    "train_properties_geo.head()\n",
    "len(train_properties_geo)"
   ]
  },
  {
   "cell_type": "code",
   "execution_count": 9,
   "id": "78d4db68",
   "metadata": {},
   "outputs": [
    {
     "data": {
      "text/plain": [
       "property_key             0\n",
       "contractDate             0\n",
       "price                    0\n",
       "area                     0\n",
       "floorRange               0\n",
       "propertyType             0\n",
       "district                 0\n",
       "typeOfArea               0\n",
       "tenure                   0\n",
       "street                   0\n",
       "project                  0\n",
       "marketSegment            0\n",
       "lat                      0\n",
       "lng                      0\n",
       "num_schools_1km          0\n",
       "num_supermarkets_500m    0\n",
       "num_mrt_stations_500m    0\n",
       "dtype: int64"
      ]
     },
     "execution_count": 9,
     "metadata": {},
     "output_type": "execute_result"
    }
   ],
   "source": [
    "train_properties_geo.isna().sum()"
   ]
  },
  {
   "cell_type": "code",
   "execution_count": 10,
   "id": "04d64140",
   "metadata": {},
   "outputs": [
    {
     "data": {
      "text/html": [
       "<div>\n",
       "<style scoped>\n",
       "    .dataframe tbody tr th:only-of-type {\n",
       "        vertical-align: middle;\n",
       "    }\n",
       "\n",
       "    .dataframe tbody tr th {\n",
       "        vertical-align: top;\n",
       "    }\n",
       "\n",
       "    .dataframe thead th {\n",
       "        text-align: right;\n",
       "    }\n",
       "</style>\n",
       "<table border=\"1\" class=\"dataframe\">\n",
       "  <thead>\n",
       "    <tr style=\"text-align: right;\">\n",
       "      <th></th>\n",
       "      <th>Data Series</th>\n",
       "      <th>InterestRate</th>\n",
       "      <th>CPI</th>\n",
       "      <th>contractDate</th>\n",
       "      <th>year</th>\n",
       "      <th>month</th>\n",
       "    </tr>\n",
       "  </thead>\n",
       "  <tbody>\n",
       "    <tr>\n",
       "      <th>0</th>\n",
       "      <td>2022 Dec</td>\n",
       "      <td>1.48</td>\n",
       "      <td>111.186</td>\n",
       "      <td>2022-12-01</td>\n",
       "      <td>2022</td>\n",
       "      <td>12</td>\n",
       "    </tr>\n",
       "    <tr>\n",
       "      <th>1</th>\n",
       "      <td>2022 Nov</td>\n",
       "      <td>1.47</td>\n",
       "      <td>110.959</td>\n",
       "      <td>2022-11-01</td>\n",
       "      <td>2022</td>\n",
       "      <td>11</td>\n",
       "    </tr>\n",
       "    <tr>\n",
       "      <th>2</th>\n",
       "      <td>2022 Oct</td>\n",
       "      <td>1.17</td>\n",
       "      <td>109.893</td>\n",
       "      <td>2022-10-01</td>\n",
       "      <td>2022</td>\n",
       "      <td>10</td>\n",
       "    </tr>\n",
       "    <tr>\n",
       "      <th>3</th>\n",
       "      <td>2022 Sep</td>\n",
       "      <td>1.03</td>\n",
       "      <td>110.339</td>\n",
       "      <td>2022-09-01</td>\n",
       "      <td>2022</td>\n",
       "      <td>9</td>\n",
       "    </tr>\n",
       "    <tr>\n",
       "      <th>4</th>\n",
       "      <td>2022 Aug</td>\n",
       "      <td>0.95</td>\n",
       "      <td>109.863</td>\n",
       "      <td>2022-08-01</td>\n",
       "      <td>2022</td>\n",
       "      <td>8</td>\n",
       "    </tr>\n",
       "  </tbody>\n",
       "</table>\n",
       "</div>"
      ],
      "text/plain": [
       "  Data Series  InterestRate      CPI contractDate  year  month\n",
       "0   2022 Dec           1.48  111.186   2022-12-01  2022     12\n",
       "1   2022 Nov           1.47  110.959   2022-11-01  2022     11\n",
       "2   2022 Oct           1.17  109.893   2022-10-01  2022     10\n",
       "3   2022 Sep           1.03  110.339   2022-09-01  2022      9\n",
       "4   2022 Aug           0.95  109.863   2022-08-01  2022      8"
      ]
     },
     "execution_count": 10,
     "metadata": {},
     "output_type": "execute_result"
    }
   ],
   "source": [
    "datetime, years, months = convert_dataseries_datetime(interest_and_cpi)\n",
    "interest_and_cpi['contractDate'] = datetime\n",
    "interest_and_cpi['year'] = years\n",
    "interest_and_cpi['month']= months\n",
    "interest_and_cpi.head()"
   ]
  },
  {
   "cell_type": "markdown",
   "id": "dd9f8672",
   "metadata": {},
   "source": [
    "# Train + Properties + Geo + Int + CPI"
   ]
  },
  {
   "cell_type": "code",
   "execution_count": 11,
   "id": "6b734513",
   "metadata": {},
   "outputs": [
    {
     "data": {
      "text/plain": [
       "62948"
      ]
     },
     "execution_count": 11,
     "metadata": {},
     "output_type": "execute_result"
    }
   ],
   "source": [
    "train_properties_geo_intcpi = pd.merge(left=train_properties_geo, right=interest_and_cpi, on='contractDate', how='left')\n",
    "len(train_properties_geo_intcpi)"
   ]
  },
  {
   "cell_type": "code",
   "execution_count": 12,
   "id": "28b4ec4a",
   "metadata": {},
   "outputs": [
    {
     "data": {
      "text/plain": [
       "property_key             0\n",
       "contractDate             0\n",
       "price                    0\n",
       "area                     0\n",
       "floorRange               0\n",
       "propertyType             0\n",
       "district                 0\n",
       "typeOfArea               0\n",
       "tenure                   0\n",
       "street                   0\n",
       "project                  0\n",
       "marketSegment            0\n",
       "lat                      0\n",
       "lng                      0\n",
       "num_schools_1km          0\n",
       "num_supermarkets_500m    0\n",
       "num_mrt_stations_500m    0\n",
       "Data Series              0\n",
       "InterestRate             0\n",
       "CPI                      0\n",
       "year                     0\n",
       "month                    0\n",
       "dtype: int64"
      ]
     },
     "execution_count": 12,
     "metadata": {},
     "output_type": "execute_result"
    }
   ],
   "source": [
    "train_properties_geo_intcpi.isna().sum()"
   ]
  },
  {
   "cell_type": "markdown",
   "id": "dbec0096",
   "metadata": {},
   "source": [
    "## Data Binning"
   ]
  },
  {
   "cell_type": "markdown",
   "id": "3c48f442",
   "metadata": {},
   "source": [
    "using data binning on area column in train_properties_geo_intcpi\n",
    "\n",
    "area: \n",
    "     ->  less than 50 sq meter is considered as small\n",
    "     \n",
    "     ->  from 50 to 100 sq meter is considered as medium\n",
    "     \n",
    "     ->  from 100 to 150 sq meter is considered as medium_large\n",
    "     \n",
    "     ->  over 150 is considered as large area\n",
    "        \n",
    "\n"
   ]
  },
  {
   "cell_type": "code",
   "execution_count": 13,
   "id": "8ad89292",
   "metadata": {},
   "outputs": [],
   "source": [
    "cut_lables = ['small', 'medium', 'medium_large', 'large',]\n",
    "cut_bins = [0, 200 , 400, 600, 1000]\n",
    "train_properties_geo_intcpi['area binning'] = pd.cut(train_properties_geo_intcpi['area'], bins=cut_bins , labels=cut_lables)\n"
   ]
  },
  {
   "cell_type": "code",
   "execution_count": 14,
   "id": "1462f448",
   "metadata": {},
   "outputs": [
    {
     "data": {
      "text/plain": [
       "count    62948.000000\n",
       "mean       129.401817\n",
       "std         86.520823\n",
       "min         24.000000\n",
       "25%         83.000000\n",
       "50%        110.000000\n",
       "75%        144.000000\n",
       "max        996.800000\n",
       "Name: area, dtype: float64"
      ]
     },
     "execution_count": 14,
     "metadata": {},
     "output_type": "execute_result"
    }
   ],
   "source": [
    "train_properties_geo_intcpi['area'].describe()"
   ]
  },
  {
   "cell_type": "code",
   "execution_count": 16,
   "id": "e715bb21",
   "metadata": {},
   "outputs": [
    {
     "data": {
      "text/plain": [
       "property_key             0\n",
       "contractDate             0\n",
       "price                    0\n",
       "area                     0\n",
       "floorRange               0\n",
       "propertyType             0\n",
       "district                 0\n",
       "typeOfArea               0\n",
       "tenure                   0\n",
       "street                   0\n",
       "project                  0\n",
       "marketSegment            0\n",
       "num_schools_1km          0\n",
       "num_supermarkets_500m    0\n",
       "num_mrt_stations_500m    0\n",
       "InterestRate             0\n",
       "CPI                      0\n",
       "year                     0\n",
       "month                    0\n",
       "area binning             0\n",
       "dtype: int64"
      ]
     },
     "execution_count": 16,
     "metadata": {},
     "output_type": "execute_result"
    }
   ],
   "source": [
    "train_properties_geo_intcpi.isna().sum()"
   ]
  },
  {
   "cell_type": "code",
   "execution_count": 17,
   "id": "119b7e01",
   "metadata": {},
   "outputs": [],
   "source": [
    "df = train_properties_geo_intcpi.copy()"
   ]
  },
  {
   "cell_type": "markdown",
   "id": "69da3b79",
   "metadata": {},
   "source": [
    "transaction price of each property key \n",
    "From the raw data, if there were multiple contract prices for the same property key, the median value was calculated and used. However, if there was a unique contract for a given date, the actual contract price was utilised.\n"
   ]
  },
  {
   "cell_type": "code",
   "execution_count": 18,
   "id": "bdf98802",
   "metadata": {},
   "outputs": [],
   "source": [
    "df_grouped = train_properties_geo_intcpi.groupby(['property_key'])['price'].median().reset_index()"
   ]
  },
  {
   "cell_type": "code",
   "execution_count": 19,
   "id": "281d0c21",
   "metadata": {},
   "outputs": [
    {
     "data": {
      "text/html": [
       "<div>\n",
       "<style scoped>\n",
       "    .dataframe tbody tr th:only-of-type {\n",
       "        vertical-align: middle;\n",
       "    }\n",
       "\n",
       "    .dataframe tbody tr th {\n",
       "        vertical-align: top;\n",
       "    }\n",
       "\n",
       "    .dataframe thead th {\n",
       "        text-align: right;\n",
       "    }\n",
       "</style>\n",
       "<table border=\"1\" class=\"dataframe\">\n",
       "  <thead>\n",
       "    <tr style=\"text-align: right;\">\n",
       "      <th></th>\n",
       "      <th>property_key</th>\n",
       "      <th>price</th>\n",
       "    </tr>\n",
       "  </thead>\n",
       "  <tbody>\n",
       "    <tr>\n",
       "      <th>0</th>\n",
       "      <td>p-000132de8</td>\n",
       "      <td>2800000.0</td>\n",
       "    </tr>\n",
       "    <tr>\n",
       "      <th>1</th>\n",
       "      <td>p-00037b28a</td>\n",
       "      <td>1144000.0</td>\n",
       "    </tr>\n",
       "    <tr>\n",
       "      <th>2</th>\n",
       "      <td>p-0003815a3</td>\n",
       "      <td>1900000.0</td>\n",
       "    </tr>\n",
       "    <tr>\n",
       "      <th>3</th>\n",
       "      <td>p-000542650</td>\n",
       "      <td>2838000.0</td>\n",
       "    </tr>\n",
       "    <tr>\n",
       "      <th>4</th>\n",
       "      <td>p-0006b8199</td>\n",
       "      <td>1417500.0</td>\n",
       "    </tr>\n",
       "  </tbody>\n",
       "</table>\n",
       "</div>"
      ],
      "text/plain": [
       "  property_key      price\n",
       "0  p-000132de8  2800000.0\n",
       "1  p-00037b28a  1144000.0\n",
       "2  p-0003815a3  1900000.0\n",
       "3  p-000542650  2838000.0\n",
       "4  p-0006b8199  1417500.0"
      ]
     },
     "execution_count": 19,
     "metadata": {},
     "output_type": "execute_result"
    }
   ],
   "source": [
    "df_grouped.head()"
   ]
  },
  {
   "cell_type": "code",
   "execution_count": 20,
   "id": "db8756d2",
   "metadata": {},
   "outputs": [
    {
     "data": {
      "text/html": [
       "<div>\n",
       "<style scoped>\n",
       "    .dataframe tbody tr th:only-of-type {\n",
       "        vertical-align: middle;\n",
       "    }\n",
       "\n",
       "    .dataframe tbody tr th {\n",
       "        vertical-align: top;\n",
       "    }\n",
       "\n",
       "    .dataframe thead th {\n",
       "        text-align: right;\n",
       "    }\n",
       "</style>\n",
       "<table border=\"1\" class=\"dataframe\">\n",
       "  <thead>\n",
       "    <tr style=\"text-align: right;\">\n",
       "      <th></th>\n",
       "      <th>property_key</th>\n",
       "      <th>contractDate</th>\n",
       "      <th>year</th>\n",
       "      <th>month</th>\n",
       "      <th>floorRange</th>\n",
       "      <th>typeOfArea</th>\n",
       "      <th>area binning</th>\n",
       "      <th>area</th>\n",
       "      <th>propertyType</th>\n",
       "      <th>district</th>\n",
       "      <th>marketSegment</th>\n",
       "      <th>num_schools_1km</th>\n",
       "      <th>num_supermarkets_500m</th>\n",
       "      <th>num_mrt_stations_500m</th>\n",
       "      <th>tenure</th>\n",
       "    </tr>\n",
       "  </thead>\n",
       "  <tbody>\n",
       "    <tr>\n",
       "      <th>0</th>\n",
       "      <td>p-c1ce31019</td>\n",
       "      <td>2018-03-01</td>\n",
       "      <td>2018</td>\n",
       "      <td>3</td>\n",
       "      <td>36-40</td>\n",
       "      <td>Strata</td>\n",
       "      <td>small</td>\n",
       "      <td>102.0</td>\n",
       "      <td>Apartment</td>\n",
       "      <td>1</td>\n",
       "      <td>CCR</td>\n",
       "      <td>0</td>\n",
       "      <td>3</td>\n",
       "      <td>13</td>\n",
       "      <td>99 yrs lease commencing from 2005</td>\n",
       "    </tr>\n",
       "    <tr>\n",
       "      <th>1</th>\n",
       "      <td>p-efaeb4d7c</td>\n",
       "      <td>2018-03-01</td>\n",
       "      <td>2018</td>\n",
       "      <td>3</td>\n",
       "      <td>01-05</td>\n",
       "      <td>Strata</td>\n",
       "      <td>small</td>\n",
       "      <td>153.0</td>\n",
       "      <td>Apartment</td>\n",
       "      <td>14</td>\n",
       "      <td>RCR</td>\n",
       "      <td>5</td>\n",
       "      <td>6</td>\n",
       "      <td>4</td>\n",
       "      <td>99 yrs lease commencing from 1997</td>\n",
       "    </tr>\n",
       "    <tr>\n",
       "      <th>2</th>\n",
       "      <td>p-896d8c357</td>\n",
       "      <td>2018-03-01</td>\n",
       "      <td>2018</td>\n",
       "      <td>3</td>\n",
       "      <td>01-05</td>\n",
       "      <td>Strata</td>\n",
       "      <td>small</td>\n",
       "      <td>153.0</td>\n",
       "      <td>Condominium</td>\n",
       "      <td>19</td>\n",
       "      <td>OCR</td>\n",
       "      <td>3</td>\n",
       "      <td>1</td>\n",
       "      <td>0</td>\n",
       "      <td>99 yrs lease commencing from 2010</td>\n",
       "    </tr>\n",
       "    <tr>\n",
       "      <th>3</th>\n",
       "      <td>p-2d89ee033</td>\n",
       "      <td>2018-03-01</td>\n",
       "      <td>2018</td>\n",
       "      <td>3</td>\n",
       "      <td>06-10</td>\n",
       "      <td>Strata</td>\n",
       "      <td>small</td>\n",
       "      <td>70.0</td>\n",
       "      <td>Condominium</td>\n",
       "      <td>15</td>\n",
       "      <td>OCR</td>\n",
       "      <td>2</td>\n",
       "      <td>0</td>\n",
       "      <td>1</td>\n",
       "      <td>Freehold</td>\n",
       "    </tr>\n",
       "    <tr>\n",
       "      <th>4</th>\n",
       "      <td>p-86f48e239</td>\n",
       "      <td>2018-03-01</td>\n",
       "      <td>2018</td>\n",
       "      <td>3</td>\n",
       "      <td>11-15</td>\n",
       "      <td>Strata</td>\n",
       "      <td>small</td>\n",
       "      <td>128.0</td>\n",
       "      <td>Condominium</td>\n",
       "      <td>15</td>\n",
       "      <td>OCR</td>\n",
       "      <td>2</td>\n",
       "      <td>0</td>\n",
       "      <td>1</td>\n",
       "      <td>Freehold</td>\n",
       "    </tr>\n",
       "  </tbody>\n",
       "</table>\n",
       "</div>"
      ],
      "text/plain": [
       "  property_key contractDate  year  month floorRange typeOfArea area binning  \\\n",
       "0  p-c1ce31019   2018-03-01  2018      3      36-40     Strata        small   \n",
       "1  p-efaeb4d7c   2018-03-01  2018      3      01-05     Strata        small   \n",
       "2  p-896d8c357   2018-03-01  2018      3      01-05     Strata        small   \n",
       "3  p-2d89ee033   2018-03-01  2018      3      06-10     Strata        small   \n",
       "4  p-86f48e239   2018-03-01  2018      3      11-15     Strata        small   \n",
       "\n",
       "    area propertyType  district marketSegment  num_schools_1km  \\\n",
       "0  102.0    Apartment         1           CCR                0   \n",
       "1  153.0    Apartment        14           RCR                5   \n",
       "2  153.0  Condominium        19           OCR                3   \n",
       "3   70.0  Condominium        15           OCR                2   \n",
       "4  128.0  Condominium        15           OCR                2   \n",
       "\n",
       "   num_supermarkets_500m  num_mrt_stations_500m  \\\n",
       "0                      3                     13   \n",
       "1                      6                      4   \n",
       "2                      1                      0   \n",
       "3                      0                      1   \n",
       "4                      0                      1   \n",
       "\n",
       "                              tenure  \n",
       "0  99 yrs lease commencing from 2005  \n",
       "1  99 yrs lease commencing from 1997  \n",
       "2  99 yrs lease commencing from 2010  \n",
       "3                           Freehold  \n",
       "4                           Freehold  "
      ]
     },
     "execution_count": 20,
     "metadata": {},
     "output_type": "execute_result"
    }
   ],
   "source": [
    "cols = ['property_key',\n",
    "        'contractDate',\n",
    "        'year',\n",
    "        'month',\n",
    "        'floorRange' ,\n",
    "        'typeOfArea',\n",
    "        'area binning',\n",
    "        'area',\n",
    "        'propertyType', \n",
    "        'district',\n",
    "       'marketSegment',\n",
    "       'num_schools_1km', \n",
    "        'num_supermarkets_500m',\n",
    "       'num_mrt_stations_500m',\n",
    "        'tenure'\n",
    "       ]\n",
    "df_features = df[cols].copy()\n",
    "df_features = df_features.drop_duplicates(subset='property_key', keep='first', ignore_index=True)\n",
    "df_features.head()"
   ]
  },
  {
   "cell_type": "code",
   "execution_count": 21,
   "id": "e0932e85",
   "metadata": {},
   "outputs": [],
   "source": [
    "df_merged = pd.merge(left=df_grouped, right=df_features, on='property_key')"
   ]
  },
  {
   "cell_type": "code",
   "execution_count": 22,
   "id": "b2bb3568",
   "metadata": {},
   "outputs": [
    {
     "data": {
      "text/plain": [
       "Index(['property_key', 'price', 'contractDate', 'year', 'month', 'floorRange',\n",
       "       'typeOfArea', 'area binning', 'area', 'propertyType', 'district',\n",
       "       'marketSegment', 'num_schools_1km', 'num_supermarkets_500m',\n",
       "       'num_mrt_stations_500m', 'tenure'],\n",
       "      dtype='object')"
      ]
     },
     "execution_count": 22,
     "metadata": {},
     "output_type": "execute_result"
    }
   ],
   "source": [
    "df_merged.columns"
   ]
  },
  {
   "cell_type": "markdown",
   "id": "b677d39e",
   "metadata": {},
   "source": [
    "# feature engineering data for ml model"
   ]
  },
  {
   "cell_type": "markdown",
   "id": "1927a58a",
   "metadata": {},
   "source": [
    "## One hot encoding"
   ]
  },
  {
   "cell_type": "code",
   "execution_count": 23,
   "id": "9715c165",
   "metadata": {},
   "outputs": [],
   "source": [
    "onehot = pd.get_dummies(df_merged, columns=['marketSegment', 'typeOfArea', 'area binning'])"
   ]
  },
  {
   "cell_type": "markdown",
   "id": "57ed74ff",
   "metadata": {},
   "source": [
    "## lable encoding"
   ]
  },
  {
   "cell_type": "code",
   "execution_count": 24,
   "id": "fce3c4d4",
   "metadata": {},
   "outputs": [],
   "source": [
    "tr = pd.merge(left=train, right=pro, on='property_key', how='outer')"
   ]
  },
  {
   "cell_type": "code",
   "execution_count": 25,
   "id": "3ad5b446",
   "metadata": {},
   "outputs": [
    {
     "data": {
      "text/plain": [
       "array(['Apartment', 'Condominium', 'Executive Condominium', 'Terrace',\n",
       "       'Semi-detached', 'Strata Terrace', 'Detached',\n",
       "       'Strata Semi-detached', 'Strata Detached'], dtype=object)"
      ]
     },
     "execution_count": 25,
     "metadata": {},
     "output_type": "execute_result"
    }
   ],
   "source": [
    " df['propertyType'].unique()"
   ]
  },
  {
   "cell_type": "code",
   "execution_count": 26,
   "id": "92119f61",
   "metadata": {},
   "outputs": [],
   "source": [
    "lablePropertyType = LabelEncoder().fit(tr['propertyType'])\n",
    "lableFloorRange = LabelEncoder().fit(tr['floorRange'])\n",
    "lableTenure = LabelEncoder().fit(tr['tenure'])\n",
    "import numpy\n",
    "onehot['propertyType'] = lablePropertyType.transform(onehot['propertyType'])\n",
    "onehot['floorRange'] = lableFloorRange.transform(onehot['floorRange'])\n",
    "onehot['tenure'] = lableTenure.transform(onehot['tenure'])\n",
    "\n"
   ]
  },
  {
   "cell_type": "code",
   "execution_count": 27,
   "id": "2b5df9d3",
   "metadata": {},
   "outputs": [],
   "source": [
    "onehot = onehot.drop(['property_key', 'contractDate'], axis=1)\n"
   ]
  },
  {
   "cell_type": "markdown",
   "id": "8e714bfc",
   "metadata": {},
   "source": [
    "#### This is the final result of one hot and lable encoder"
   ]
  },
  {
   "cell_type": "code",
   "execution_count": 28,
   "id": "45894015",
   "metadata": {},
   "outputs": [
    {
     "data": {
      "text/html": [
       "<div>\n",
       "<style scoped>\n",
       "    .dataframe tbody tr th:only-of-type {\n",
       "        vertical-align: middle;\n",
       "    }\n",
       "\n",
       "    .dataframe tbody tr th {\n",
       "        vertical-align: top;\n",
       "    }\n",
       "\n",
       "    .dataframe thead th {\n",
       "        text-align: right;\n",
       "    }\n",
       "</style>\n",
       "<table border=\"1\" class=\"dataframe\">\n",
       "  <thead>\n",
       "    <tr style=\"text-align: right;\">\n",
       "      <th></th>\n",
       "      <th>price</th>\n",
       "      <th>year</th>\n",
       "      <th>month</th>\n",
       "      <th>floorRange</th>\n",
       "      <th>area</th>\n",
       "      <th>propertyType</th>\n",
       "      <th>district</th>\n",
       "      <th>num_schools_1km</th>\n",
       "      <th>num_supermarkets_500m</th>\n",
       "      <th>num_mrt_stations_500m</th>\n",
       "      <th>tenure</th>\n",
       "      <th>marketSegment_CCR</th>\n",
       "      <th>marketSegment_OCR</th>\n",
       "      <th>marketSegment_RCR</th>\n",
       "      <th>typeOfArea_Land</th>\n",
       "      <th>typeOfArea_Strata</th>\n",
       "      <th>area binning_small</th>\n",
       "      <th>area binning_medium</th>\n",
       "      <th>area binning_medium_large</th>\n",
       "      <th>area binning_large</th>\n",
       "    </tr>\n",
       "  </thead>\n",
       "  <tbody>\n",
       "    <tr>\n",
       "      <th>0</th>\n",
       "      <td>2800000.0</td>\n",
       "      <td>2018</td>\n",
       "      <td>7</td>\n",
       "      <td>1</td>\n",
       "      <td>129.0</td>\n",
       "      <td>0</td>\n",
       "      <td>13</td>\n",
       "      <td>4</td>\n",
       "      <td>4</td>\n",
       "      <td>2</td>\n",
       "      <td>121</td>\n",
       "      <td>0</td>\n",
       "      <td>0</td>\n",
       "      <td>1</td>\n",
       "      <td>0</td>\n",
       "      <td>1</td>\n",
       "      <td>1</td>\n",
       "      <td>0</td>\n",
       "      <td>0</td>\n",
       "      <td>0</td>\n",
       "    </tr>\n",
       "    <tr>\n",
       "      <th>1</th>\n",
       "      <td>1144000.0</td>\n",
       "      <td>2018</td>\n",
       "      <td>7</td>\n",
       "      <td>2</td>\n",
       "      <td>120.0</td>\n",
       "      <td>1</td>\n",
       "      <td>17</td>\n",
       "      <td>2</td>\n",
       "      <td>1</td>\n",
       "      <td>0</td>\n",
       "      <td>121</td>\n",
       "      <td>0</td>\n",
       "      <td>1</td>\n",
       "      <td>0</td>\n",
       "      <td>0</td>\n",
       "      <td>1</td>\n",
       "      <td>1</td>\n",
       "      <td>0</td>\n",
       "      <td>0</td>\n",
       "      <td>0</td>\n",
       "    </tr>\n",
       "    <tr>\n",
       "      <th>2</th>\n",
       "      <td>1900000.0</td>\n",
       "      <td>2018</td>\n",
       "      <td>4</td>\n",
       "      <td>3</td>\n",
       "      <td>259.0</td>\n",
       "      <td>0</td>\n",
       "      <td>19</td>\n",
       "      <td>9</td>\n",
       "      <td>3</td>\n",
       "      <td>2</td>\n",
       "      <td>52</td>\n",
       "      <td>0</td>\n",
       "      <td>1</td>\n",
       "      <td>0</td>\n",
       "      <td>0</td>\n",
       "      <td>1</td>\n",
       "      <td>0</td>\n",
       "      <td>1</td>\n",
       "      <td>0</td>\n",
       "      <td>0</td>\n",
       "    </tr>\n",
       "    <tr>\n",
       "      <th>3</th>\n",
       "      <td>2838000.0</td>\n",
       "      <td>2018</td>\n",
       "      <td>8</td>\n",
       "      <td>1</td>\n",
       "      <td>153.0</td>\n",
       "      <td>0</td>\n",
       "      <td>11</td>\n",
       "      <td>10</td>\n",
       "      <td>5</td>\n",
       "      <td>3</td>\n",
       "      <td>121</td>\n",
       "      <td>1</td>\n",
       "      <td>0</td>\n",
       "      <td>0</td>\n",
       "      <td>0</td>\n",
       "      <td>1</td>\n",
       "      <td>1</td>\n",
       "      <td>0</td>\n",
       "      <td>0</td>\n",
       "      <td>0</td>\n",
       "    </tr>\n",
       "    <tr>\n",
       "      <th>4</th>\n",
       "      <td>1417500.0</td>\n",
       "      <td>2021</td>\n",
       "      <td>10</td>\n",
       "      <td>1</td>\n",
       "      <td>110.0</td>\n",
       "      <td>1</td>\n",
       "      <td>23</td>\n",
       "      <td>3</td>\n",
       "      <td>0</td>\n",
       "      <td>0</td>\n",
       "      <td>63</td>\n",
       "      <td>0</td>\n",
       "      <td>1</td>\n",
       "      <td>0</td>\n",
       "      <td>0</td>\n",
       "      <td>1</td>\n",
       "      <td>1</td>\n",
       "      <td>0</td>\n",
       "      <td>0</td>\n",
       "      <td>0</td>\n",
       "    </tr>\n",
       "  </tbody>\n",
       "</table>\n",
       "</div>"
      ],
      "text/plain": [
       "       price  year  month  floorRange   area  propertyType  district  \\\n",
       "0  2800000.0  2018      7           1  129.0             0        13   \n",
       "1  1144000.0  2018      7           2  120.0             1        17   \n",
       "2  1900000.0  2018      4           3  259.0             0        19   \n",
       "3  2838000.0  2018      8           1  153.0             0        11   \n",
       "4  1417500.0  2021     10           1  110.0             1        23   \n",
       "\n",
       "   num_schools_1km  num_supermarkets_500m  num_mrt_stations_500m  tenure  \\\n",
       "0                4                      4                      2     121   \n",
       "1                2                      1                      0     121   \n",
       "2                9                      3                      2      52   \n",
       "3               10                      5                      3     121   \n",
       "4                3                      0                      0      63   \n",
       "\n",
       "   marketSegment_CCR  marketSegment_OCR  marketSegment_RCR  typeOfArea_Land  \\\n",
       "0                  0                  0                  1                0   \n",
       "1                  0                  1                  0                0   \n",
       "2                  0                  1                  0                0   \n",
       "3                  1                  0                  0                0   \n",
       "4                  0                  1                  0                0   \n",
       "\n",
       "   typeOfArea_Strata  area binning_small  area binning_medium  \\\n",
       "0                  1                   1                    0   \n",
       "1                  1                   1                    0   \n",
       "2                  1                   0                    1   \n",
       "3                  1                   1                    0   \n",
       "4                  1                   1                    0   \n",
       "\n",
       "   area binning_medium_large  area binning_large  \n",
       "0                          0                   0  \n",
       "1                          0                   0  \n",
       "2                          0                   0  \n",
       "3                          0                   0  \n",
       "4                          0                   0  "
      ]
     },
     "execution_count": 28,
     "metadata": {},
     "output_type": "execute_result"
    }
   ],
   "source": [
    "onehot.head()"
   ]
  },
  {
   "cell_type": "code",
   "execution_count": 29,
   "id": "87fe497d",
   "metadata": {},
   "outputs": [],
   "source": [
    "df_train = onehot.copy()"
   ]
  },
  {
   "cell_type": "code",
   "execution_count": 46,
   "id": "7e0e6136",
   "metadata": {},
   "outputs": [],
   "source": [
    "df = df_train.drop(columns=['area'])\n"
   ]
  },
  {
   "cell_type": "markdown",
   "id": "dc13d3ae",
   "metadata": {},
   "source": [
    "# ML"
   ]
  },
  {
   "cell_type": "code",
   "execution_count": 87,
   "id": "252906f4",
   "metadata": {},
   "outputs": [],
   "source": [
    "from sklearn.model_selection import train_test_split\n",
    "from sklearn.metrics import r2_score, mean_squared_error\n",
    "from sklearn.ensemble import RandomForestClassifier,RandomForestRegressor\n",
    "from sklearn.tree import  DecisionTreeRegressor\n"
   ]
  },
  {
   "cell_type": "code",
   "execution_count": 88,
   "id": "5050020b",
   "metadata": {},
   "outputs": [],
   "source": [
    "y = df['price']"
   ]
  },
  {
   "cell_type": "code",
   "execution_count": 89,
   "id": "de6e21c0",
   "metadata": {},
   "outputs": [],
   "source": [
    "X = df_train.drop(['price'], axis=1)"
   ]
  },
  {
   "cell_type": "code",
   "execution_count": 90,
   "id": "6b48adcd",
   "metadata": {},
   "outputs": [
    {
     "data": {
      "text/html": [
       "<div>\n",
       "<style scoped>\n",
       "    .dataframe tbody tr th:only-of-type {\n",
       "        vertical-align: middle;\n",
       "    }\n",
       "\n",
       "    .dataframe tbody tr th {\n",
       "        vertical-align: top;\n",
       "    }\n",
       "\n",
       "    .dataframe thead th {\n",
       "        text-align: right;\n",
       "    }\n",
       "</style>\n",
       "<table border=\"1\" class=\"dataframe\">\n",
       "  <thead>\n",
       "    <tr style=\"text-align: right;\">\n",
       "      <th></th>\n",
       "      <th>year</th>\n",
       "      <th>month</th>\n",
       "      <th>floorRange</th>\n",
       "      <th>area</th>\n",
       "      <th>propertyType</th>\n",
       "      <th>district</th>\n",
       "      <th>num_schools_1km</th>\n",
       "      <th>num_supermarkets_500m</th>\n",
       "      <th>num_mrt_stations_500m</th>\n",
       "      <th>tenure</th>\n",
       "      <th>marketSegment_CCR</th>\n",
       "      <th>marketSegment_OCR</th>\n",
       "      <th>marketSegment_RCR</th>\n",
       "      <th>typeOfArea_Land</th>\n",
       "      <th>typeOfArea_Strata</th>\n",
       "      <th>area binning_small</th>\n",
       "      <th>area binning_medium</th>\n",
       "      <th>area binning_medium_large</th>\n",
       "      <th>area binning_large</th>\n",
       "    </tr>\n",
       "  </thead>\n",
       "  <tbody>\n",
       "    <tr>\n",
       "      <th>0</th>\n",
       "      <td>2018</td>\n",
       "      <td>7</td>\n",
       "      <td>1</td>\n",
       "      <td>129.0</td>\n",
       "      <td>0</td>\n",
       "      <td>13</td>\n",
       "      <td>4</td>\n",
       "      <td>4</td>\n",
       "      <td>2</td>\n",
       "      <td>121</td>\n",
       "      <td>0</td>\n",
       "      <td>0</td>\n",
       "      <td>1</td>\n",
       "      <td>0</td>\n",
       "      <td>1</td>\n",
       "      <td>1</td>\n",
       "      <td>0</td>\n",
       "      <td>0</td>\n",
       "      <td>0</td>\n",
       "    </tr>\n",
       "    <tr>\n",
       "      <th>1</th>\n",
       "      <td>2018</td>\n",
       "      <td>7</td>\n",
       "      <td>2</td>\n",
       "      <td>120.0</td>\n",
       "      <td>1</td>\n",
       "      <td>17</td>\n",
       "      <td>2</td>\n",
       "      <td>1</td>\n",
       "      <td>0</td>\n",
       "      <td>121</td>\n",
       "      <td>0</td>\n",
       "      <td>1</td>\n",
       "      <td>0</td>\n",
       "      <td>0</td>\n",
       "      <td>1</td>\n",
       "      <td>1</td>\n",
       "      <td>0</td>\n",
       "      <td>0</td>\n",
       "      <td>0</td>\n",
       "    </tr>\n",
       "    <tr>\n",
       "      <th>2</th>\n",
       "      <td>2018</td>\n",
       "      <td>4</td>\n",
       "      <td>3</td>\n",
       "      <td>259.0</td>\n",
       "      <td>0</td>\n",
       "      <td>19</td>\n",
       "      <td>9</td>\n",
       "      <td>3</td>\n",
       "      <td>2</td>\n",
       "      <td>52</td>\n",
       "      <td>0</td>\n",
       "      <td>1</td>\n",
       "      <td>0</td>\n",
       "      <td>0</td>\n",
       "      <td>1</td>\n",
       "      <td>0</td>\n",
       "      <td>1</td>\n",
       "      <td>0</td>\n",
       "      <td>0</td>\n",
       "    </tr>\n",
       "    <tr>\n",
       "      <th>3</th>\n",
       "      <td>2018</td>\n",
       "      <td>8</td>\n",
       "      <td>1</td>\n",
       "      <td>153.0</td>\n",
       "      <td>0</td>\n",
       "      <td>11</td>\n",
       "      <td>10</td>\n",
       "      <td>5</td>\n",
       "      <td>3</td>\n",
       "      <td>121</td>\n",
       "      <td>1</td>\n",
       "      <td>0</td>\n",
       "      <td>0</td>\n",
       "      <td>0</td>\n",
       "      <td>1</td>\n",
       "      <td>1</td>\n",
       "      <td>0</td>\n",
       "      <td>0</td>\n",
       "      <td>0</td>\n",
       "    </tr>\n",
       "    <tr>\n",
       "      <th>4</th>\n",
       "      <td>2021</td>\n",
       "      <td>10</td>\n",
       "      <td>1</td>\n",
       "      <td>110.0</td>\n",
       "      <td>1</td>\n",
       "      <td>23</td>\n",
       "      <td>3</td>\n",
       "      <td>0</td>\n",
       "      <td>0</td>\n",
       "      <td>63</td>\n",
       "      <td>0</td>\n",
       "      <td>1</td>\n",
       "      <td>0</td>\n",
       "      <td>0</td>\n",
       "      <td>1</td>\n",
       "      <td>1</td>\n",
       "      <td>0</td>\n",
       "      <td>0</td>\n",
       "      <td>0</td>\n",
       "    </tr>\n",
       "  </tbody>\n",
       "</table>\n",
       "</div>"
      ],
      "text/plain": [
       "   year  month  floorRange   area  propertyType  district  num_schools_1km  \\\n",
       "0  2018      7           1  129.0             0        13                4   \n",
       "1  2018      7           2  120.0             1        17                2   \n",
       "2  2018      4           3  259.0             0        19                9   \n",
       "3  2018      8           1  153.0             0        11               10   \n",
       "4  2021     10           1  110.0             1        23                3   \n",
       "\n",
       "   num_supermarkets_500m  num_mrt_stations_500m  tenure  marketSegment_CCR  \\\n",
       "0                      4                      2     121                  0   \n",
       "1                      1                      0     121                  0   \n",
       "2                      3                      2      52                  0   \n",
       "3                      5                      3     121                  1   \n",
       "4                      0                      0      63                  0   \n",
       "\n",
       "   marketSegment_OCR  marketSegment_RCR  typeOfArea_Land  typeOfArea_Strata  \\\n",
       "0                  0                  1                0                  1   \n",
       "1                  1                  0                0                  1   \n",
       "2                  1                  0                0                  1   \n",
       "3                  0                  0                0                  1   \n",
       "4                  1                  0                0                  1   \n",
       "\n",
       "   area binning_small  area binning_medium  area binning_medium_large  \\\n",
       "0                   1                    0                          0   \n",
       "1                   1                    0                          0   \n",
       "2                   0                    1                          0   \n",
       "3                   1                    0                          0   \n",
       "4                   1                    0                          0   \n",
       "\n",
       "   area binning_large  \n",
       "0                   0  \n",
       "1                   0  \n",
       "2                   0  \n",
       "3                   0  \n",
       "4                   0  "
      ]
     },
     "execution_count": 90,
     "metadata": {},
     "output_type": "execute_result"
    }
   ],
   "source": [
    "X.head()"
   ]
  },
  {
   "cell_type": "code",
   "execution_count": 50,
   "id": "f695e99f",
   "metadata": {},
   "outputs": [],
   "source": [
    "train_x, test_x, train_y, test_y = train_test_split(X, y, test_size=0.2)"
   ]
  },
  {
   "cell_type": "code",
   "execution_count": 83,
   "id": "0a82b6cd",
   "metadata": {},
   "outputs": [
    {
     "name": "stdout",
     "output_type": "stream",
     "text": [
      "r2 score -> 0.9189559536335113\n"
     ]
    }
   ],
   "source": [
    "rf = RandomForestRegressor(n_jobs=-1, random_state=41)\n",
    "rf.fit(train_x, train_y)\n",
    "pre = rf.predict(test_x)\n",
    "error = r2_score(test_y, pre)\n",
    "print(f'r2 score -> {error}')"
   ]
  },
  {
   "cell_type": "code",
   "execution_count": 52,
   "id": "9ec07b11",
   "metadata": {},
   "outputs": [
    {
     "data": {
      "text/plain": [
       "2331"
      ]
     },
     "execution_count": 52,
     "metadata": {},
     "output_type": "execute_result"
    }
   ],
   "source": [
    "len(test)"
   ]
  },
  {
   "cell_type": "code",
   "execution_count": 53,
   "id": "445dbb5b",
   "metadata": {},
   "outputs": [],
   "source": [
    "f_cols = ['property_key',\n",
    "        'floorRange',\n",
    "        'typeOfArea',\n",
    "        'area',\n",
    "        'propertyType', \n",
    "        'district',\n",
    "       'marketSegment',\n",
    "       'num_schools_1km', \n",
    "        'num_supermarkets_500m',\n",
    "       'num_mrt_stations_500m',\n",
    "        'tenure'\n",
    "        \n",
    "       ]\n",
    "modified = df_merged[f_cols]"
   ]
  },
  {
   "cell_type": "code",
   "execution_count": 54,
   "id": "8ac404bd",
   "metadata": {},
   "outputs": [
    {
     "data": {
      "text/plain": [
       "property_key               0\n",
       "contractDate               0\n",
       "floorRange               657\n",
       "typeOfArea               657\n",
       "area                     657\n",
       "propertyType             657\n",
       "district                 657\n",
       "marketSegment            657\n",
       "num_schools_1km          657\n",
       "num_supermarkets_500m    657\n",
       "num_mrt_stations_500m    657\n",
       "tenure                   657\n",
       "dtype: int64"
      ]
     },
     "execution_count": 54,
     "metadata": {},
     "output_type": "execute_result"
    }
   ],
   "source": [
    "result = pd.merge(left=test, right=modified, on='property_key', how='left')\n",
    "result.isna().sum()"
   ]
  },
  {
   "cell_type": "markdown",
   "id": "6e70aac1",
   "metadata": {},
   "source": [
    "# without null value"
   ]
  },
  {
   "cell_type": "code",
   "execution_count": 55,
   "id": "59c70537",
   "metadata": {},
   "outputs": [
    {
     "data": {
      "text/plain": [
       "property_key             0\n",
       "contractDate             0\n",
       "floorRange               0\n",
       "typeOfArea               0\n",
       "area                     0\n",
       "propertyType             0\n",
       "district                 0\n",
       "marketSegment            0\n",
       "num_schools_1km          0\n",
       "num_supermarkets_500m    0\n",
       "num_mrt_stations_500m    0\n",
       "tenure                   0\n",
       "dtype: int64"
      ]
     },
     "execution_count": 55,
     "metadata": {},
     "output_type": "execute_result"
    }
   ],
   "source": [
    "df_test = result.copy()\n",
    "df_test = df_test.dropna()\n",
    "df_test.isna().sum()"
   ]
  },
  {
   "cell_type": "markdown",
   "id": "19640060",
   "metadata": {},
   "source": [
    "# Working with null value"
   ]
  },
  {
   "cell_type": "code",
   "execution_count": 56,
   "id": "d1eea1f4",
   "metadata": {},
   "outputs": [
    {
     "data": {
      "text/plain": [
       "63596"
      ]
     },
     "execution_count": 56,
     "metadata": {},
     "output_type": "execute_result"
    }
   ],
   "source": [
    "dfnull = pd.merge(left=train, right=pro, on='property_key', how='outer')\n",
    "len(dfnull)"
   ]
  },
  {
   "cell_type": "code",
   "execution_count": 57,
   "id": "4ca359d4",
   "metadata": {},
   "outputs": [],
   "source": [
    "dfnull = dfnull.drop(['contractDate', 'price'], axis=1)"
   ]
  },
  {
   "cell_type": "code",
   "execution_count": 58,
   "id": "c68e8189",
   "metadata": {},
   "outputs": [
    {
     "data": {
      "text/plain": [
       "property_key     0\n",
       "contractDate     0\n",
       "area             0\n",
       "floorRange       0\n",
       "propertyType     0\n",
       "district         0\n",
       "typeOfArea       0\n",
       "tenure           0\n",
       "street           0\n",
       "project          0\n",
       "marketSegment    0\n",
       "dtype: int64"
      ]
     },
     "execution_count": 58,
     "metadata": {},
     "output_type": "execute_result"
    }
   ],
   "source": [
    "#  floorRange\n",
    "\n",
    "nullres = result[result['floorRange'].isna()][['property_key', 'contractDate']]\n",
    "dfnullmerge = pd.merge(left=nullres, right=dfnull, on='property_key')\n",
    "dfnullmerge.isna().sum()"
   ]
  },
  {
   "cell_type": "code",
   "execution_count": 59,
   "id": "f4eeefcc",
   "metadata": {},
   "outputs": [
    {
     "data": {
      "text/plain": [
       "Index(['property_key', 'contractDate', 'area', 'floorRange', 'propertyType',\n",
       "       'district', 'typeOfArea', 'tenure', 'street', 'project',\n",
       "       'marketSegment'],\n",
       "      dtype='object')"
      ]
     },
     "execution_count": 59,
     "metadata": {},
     "output_type": "execute_result"
    }
   ],
   "source": [
    "dfnullmerge.columns"
   ]
  },
  {
   "cell_type": "code",
   "execution_count": 60,
   "id": "5989db42",
   "metadata": {},
   "outputs": [],
   "source": [
    "dfnullmerge_geo =  pd.merge(left=dfnullmerge, right=geo, on=['street', 'project', 'district'], how='left')"
   ]
  },
  {
   "cell_type": "code",
   "execution_count": 61,
   "id": "cb797440",
   "metadata": {},
   "outputs": [],
   "source": [
    "f_col = [\n",
    "    'contractDate'\n",
    "    ,'property_key',\n",
    "        'floorRange' ,\n",
    "        'typeOfArea',\n",
    "        'area',\n",
    "        'propertyType', \n",
    "        'district',\n",
    "       'marketSegment',\n",
    "       'num_schools_1km', \n",
    "        'num_supermarkets_500m',\n",
    "       'num_mrt_stations_500m',\n",
    "        'tenure'\n",
    "        ]\n",
    "dfnullmerge_geo = dfnullmerge_geo[f_col]"
   ]
  },
  {
   "cell_type": "code",
   "execution_count": 62,
   "id": "d5a1660d",
   "metadata": {},
   "outputs": [
    {
     "data": {
      "text/plain": [
       "contractDate             0\n",
       "property_key             0\n",
       "floorRange               0\n",
       "typeOfArea               0\n",
       "area                     0\n",
       "propertyType             0\n",
       "district                 0\n",
       "marketSegment            0\n",
       "num_schools_1km          1\n",
       "num_supermarkets_500m    1\n",
       "num_mrt_stations_500m    1\n",
       "tenure                   0\n",
       "dtype: int64"
      ]
     },
     "execution_count": 62,
     "metadata": {},
     "output_type": "execute_result"
    }
   ],
   "source": [
    "dfnullmerge_geo.isna().sum()"
   ]
  },
  {
   "cell_type": "code",
   "execution_count": 63,
   "id": "6ab3962b",
   "metadata": {},
   "outputs": [],
   "source": [
    "dfnullmerge_geo['num_schools_1km'] = dfnullmerge_geo.groupby('marketSegment')['num_schools_1km'].apply(lambda x : x.fillna(x.mode().iloc[0]))\n",
    "dfnullmerge_geo['num_supermarkets_500m'] = dfnullmerge_geo.groupby('marketSegment')['num_supermarkets_500m'].apply(lambda x : x.fillna(x.mode().iloc[0]))\n",
    "dfnullmerge_geo['num_mrt_stations_500m'] = dfnullmerge_geo.groupby('marketSegment')['num_mrt_stations_500m'].apply(lambda x : x.fillna(x.mode().iloc[0]))"
   ]
  },
  {
   "cell_type": "code",
   "execution_count": 64,
   "id": "89355693",
   "metadata": {},
   "outputs": [
    {
     "data": {
      "text/plain": [
       "657"
      ]
     },
     "execution_count": 64,
     "metadata": {},
     "output_type": "execute_result"
    }
   ],
   "source": [
    "len(dfnullmerge_geo)"
   ]
  },
  {
   "cell_type": "code",
   "execution_count": 65,
   "id": "0cafd699",
   "metadata": {},
   "outputs": [],
   "source": [
    "dfmtest  = pd.concat([df_test, dfnullmerge_geo], ignore_index=True)"
   ]
  },
  {
   "cell_type": "code",
   "execution_count": 66,
   "id": "d99841ce",
   "metadata": {},
   "outputs": [
    {
     "data": {
      "text/plain": [
       "property_key             0\n",
       "contractDate             0\n",
       "floorRange               0\n",
       "typeOfArea               0\n",
       "area                     0\n",
       "propertyType             0\n",
       "district                 0\n",
       "marketSegment            0\n",
       "num_schools_1km          0\n",
       "num_supermarkets_500m    0\n",
       "num_mrt_stations_500m    0\n",
       "tenure                   0\n",
       "dtype: int64"
      ]
     },
     "execution_count": 66,
     "metadata": {},
     "output_type": "execute_result"
    }
   ],
   "source": [
    "dfmtest.isna().sum()"
   ]
  },
  {
   "cell_type": "code",
   "execution_count": 67,
   "id": "011a4b3e",
   "metadata": {},
   "outputs": [],
   "source": [
    "def contract_year_month(df):\n",
    "    \n",
    "    data = df['contractDate'].values\n",
    "    years, months , datetime= [], [], []\n",
    "    for i in data:\n",
    "        year, month, _ = i.split('-')\n",
    "        years.append(int(year))\n",
    "        datetime.append(pd.to_datetime(i))\n",
    "        months.append(int(month))\n",
    "    return [years, months, datetime]"
   ]
  },
  {
   "cell_type": "code",
   "execution_count": 68,
   "id": "6a0006b3",
   "metadata": {},
   "outputs": [],
   "source": [
    "years, months,datetime = contract_year_month(dfmtest)\n",
    "dfmtest['year'] = years\n",
    "dfmtest['month'] = months\n",
    "dfmtest['contractDate'] = datetime"
   ]
  },
  {
   "cell_type": "code",
   "execution_count": 69,
   "id": "2f02248a",
   "metadata": {},
   "outputs": [],
   "source": [
    "cut_lables = ['small', 'medium', 'medium_large', 'large',]\n",
    "cut_bins = [0, 200 , 400, 600, 1000]\n",
    "dfmtest['area binning'] = pd.cut(dfmtest['area'], bins=cut_bins , labels=cut_lables)"
   ]
  },
  {
   "cell_type": "code",
   "execution_count": 70,
   "id": "42f2c82e",
   "metadata": {},
   "outputs": [],
   "source": [
    "df_onehot = pd.get_dummies(dfmtest, columns=['marketSegment', 'typeOfArea', 'area binning'])"
   ]
  },
  {
   "cell_type": "code",
   "execution_count": 71,
   "id": "9c562666",
   "metadata": {
    "scrolled": true
   },
   "outputs": [
    {
     "data": {
      "text/plain": [
       "19"
      ]
     },
     "execution_count": 71,
     "metadata": {},
     "output_type": "execute_result"
    }
   ],
   "source": [
    "len(train_x.columns)"
   ]
  },
  {
   "cell_type": "code",
   "execution_count": 72,
   "id": "d5ee98d9",
   "metadata": {},
   "outputs": [],
   "source": [
    "df_onehot['propertyType'] = lablePropertyType.transform(df_onehot['propertyType'])\n",
    "df_onehot['floorRange'] = lableFloorRange.transform(df_onehot['floorRange'])\n",
    "df_onehot['tenure'] = lableTenure.transform(df_onehot['tenure'])"
   ]
  },
  {
   "cell_type": "code",
   "execution_count": 73,
   "id": "9e7471e4",
   "metadata": {},
   "outputs": [
    {
     "data": {
      "text/html": [
       "<div>\n",
       "<style scoped>\n",
       "    .dataframe tbody tr th:only-of-type {\n",
       "        vertical-align: middle;\n",
       "    }\n",
       "\n",
       "    .dataframe tbody tr th {\n",
       "        vertical-align: top;\n",
       "    }\n",
       "\n",
       "    .dataframe thead th {\n",
       "        text-align: right;\n",
       "    }\n",
       "</style>\n",
       "<table border=\"1\" class=\"dataframe\">\n",
       "  <thead>\n",
       "    <tr style=\"text-align: right;\">\n",
       "      <th></th>\n",
       "      <th>property_key</th>\n",
       "      <th>contractDate</th>\n",
       "      <th>floorRange</th>\n",
       "      <th>area</th>\n",
       "      <th>propertyType</th>\n",
       "      <th>district</th>\n",
       "      <th>num_schools_1km</th>\n",
       "      <th>num_supermarkets_500m</th>\n",
       "      <th>num_mrt_stations_500m</th>\n",
       "      <th>tenure</th>\n",
       "      <th>...</th>\n",
       "      <th>month</th>\n",
       "      <th>marketSegment_CCR</th>\n",
       "      <th>marketSegment_OCR</th>\n",
       "      <th>marketSegment_RCR</th>\n",
       "      <th>typeOfArea_Land</th>\n",
       "      <th>typeOfArea_Strata</th>\n",
       "      <th>area binning_small</th>\n",
       "      <th>area binning_medium</th>\n",
       "      <th>area binning_medium_large</th>\n",
       "      <th>area binning_large</th>\n",
       "    </tr>\n",
       "  </thead>\n",
       "  <tbody>\n",
       "    <tr>\n",
       "      <th>0</th>\n",
       "      <td>p-38fe6afe9</td>\n",
       "      <td>2023-01-01</td>\n",
       "      <td>2</td>\n",
       "      <td>99.0</td>\n",
       "      <td>1</td>\n",
       "      <td>21.0</td>\n",
       "      <td>2.0</td>\n",
       "      <td>0.0</td>\n",
       "      <td>1.0</td>\n",
       "      <td>43</td>\n",
       "      <td>...</td>\n",
       "      <td>1</td>\n",
       "      <td>0</td>\n",
       "      <td>0</td>\n",
       "      <td>1</td>\n",
       "      <td>0</td>\n",
       "      <td>1</td>\n",
       "      <td>1</td>\n",
       "      <td>0</td>\n",
       "      <td>0</td>\n",
       "      <td>0</td>\n",
       "    </tr>\n",
       "  </tbody>\n",
       "</table>\n",
       "<p>1 rows × 21 columns</p>\n",
       "</div>"
      ],
      "text/plain": [
       "  property_key contractDate  floorRange  area  propertyType  district  \\\n",
       "0  p-38fe6afe9   2023-01-01           2  99.0             1      21.0   \n",
       "\n",
       "   num_schools_1km  num_supermarkets_500m  num_mrt_stations_500m  tenure  ...  \\\n",
       "0              2.0                    0.0                    1.0      43  ...   \n",
       "\n",
       "   month  marketSegment_CCR  marketSegment_OCR  marketSegment_RCR  \\\n",
       "0      1                  0                  0                  1   \n",
       "\n",
       "   typeOfArea_Land  typeOfArea_Strata  area binning_small  \\\n",
       "0                0                  1                   1   \n",
       "\n",
       "   area binning_medium  area binning_medium_large  area binning_large  \n",
       "0                    0                          0                   0  \n",
       "\n",
       "[1 rows x 21 columns]"
      ]
     },
     "execution_count": 73,
     "metadata": {},
     "output_type": "execute_result"
    }
   ],
   "source": [
    "df_onehot.head(1)"
   ]
  },
  {
   "cell_type": "code",
   "execution_count": 74,
   "id": "43ce5b66",
   "metadata": {},
   "outputs": [],
   "source": [
    "df_onehot = df_onehot.sort_values(by='contractDate', ignore_index=True, ascending=True)"
   ]
  },
  {
   "cell_type": "code",
   "execution_count": 86,
   "id": "3f5247fb",
   "metadata": {},
   "outputs": [],
   "source": [
    "df_onehot.to_csv('dftt.csv')"
   ]
  },
  {
   "cell_type": "code",
   "execution_count": 75,
   "id": "600167a6",
   "metadata": {},
   "outputs": [],
   "source": [
    "X_test = df_onehot[train_x.columns]"
   ]
  },
  {
   "cell_type": "code",
   "execution_count": 76,
   "id": "8843e5a5",
   "metadata": {},
   "outputs": [
    {
     "data": {
      "text/html": [
       "<div>\n",
       "<style scoped>\n",
       "    .dataframe tbody tr th:only-of-type {\n",
       "        vertical-align: middle;\n",
       "    }\n",
       "\n",
       "    .dataframe tbody tr th {\n",
       "        vertical-align: top;\n",
       "    }\n",
       "\n",
       "    .dataframe thead th {\n",
       "        text-align: right;\n",
       "    }\n",
       "</style>\n",
       "<table border=\"1\" class=\"dataframe\">\n",
       "  <thead>\n",
       "    <tr style=\"text-align: right;\">\n",
       "      <th></th>\n",
       "      <th>year</th>\n",
       "      <th>month</th>\n",
       "      <th>floorRange</th>\n",
       "      <th>area</th>\n",
       "      <th>propertyType</th>\n",
       "      <th>district</th>\n",
       "      <th>num_schools_1km</th>\n",
       "      <th>num_supermarkets_500m</th>\n",
       "      <th>num_mrt_stations_500m</th>\n",
       "      <th>tenure</th>\n",
       "      <th>marketSegment_CCR</th>\n",
       "      <th>marketSegment_OCR</th>\n",
       "      <th>marketSegment_RCR</th>\n",
       "      <th>typeOfArea_Land</th>\n",
       "      <th>typeOfArea_Strata</th>\n",
       "      <th>area binning_small</th>\n",
       "      <th>area binning_medium</th>\n",
       "      <th>area binning_medium_large</th>\n",
       "      <th>area binning_large</th>\n",
       "    </tr>\n",
       "  </thead>\n",
       "  <tbody>\n",
       "    <tr>\n",
       "      <th>0</th>\n",
       "      <td>2023</td>\n",
       "      <td>1</td>\n",
       "      <td>2</td>\n",
       "      <td>99.0</td>\n",
       "      <td>1</td>\n",
       "      <td>21.0</td>\n",
       "      <td>2.0</td>\n",
       "      <td>0.0</td>\n",
       "      <td>1.0</td>\n",
       "      <td>43</td>\n",
       "      <td>0</td>\n",
       "      <td>0</td>\n",
       "      <td>1</td>\n",
       "      <td>0</td>\n",
       "      <td>1</td>\n",
       "      <td>1</td>\n",
       "      <td>0</td>\n",
       "      <td>0</td>\n",
       "      <td>0</td>\n",
       "    </tr>\n",
       "    <tr>\n",
       "      <th>1</th>\n",
       "      <td>2023</td>\n",
       "      <td>1</td>\n",
       "      <td>4</td>\n",
       "      <td>88.0</td>\n",
       "      <td>1</td>\n",
       "      <td>3.0</td>\n",
       "      <td>2.0</td>\n",
       "      <td>1.0</td>\n",
       "      <td>1.0</td>\n",
       "      <td>60</td>\n",
       "      <td>0</td>\n",
       "      <td>0</td>\n",
       "      <td>1</td>\n",
       "      <td>0</td>\n",
       "      <td>1</td>\n",
       "      <td>1</td>\n",
       "      <td>0</td>\n",
       "      <td>0</td>\n",
       "      <td>0</td>\n",
       "    </tr>\n",
       "    <tr>\n",
       "      <th>2</th>\n",
       "      <td>2023</td>\n",
       "      <td>1</td>\n",
       "      <td>2</td>\n",
       "      <td>95.0</td>\n",
       "      <td>1</td>\n",
       "      <td>23.0</td>\n",
       "      <td>4.0</td>\n",
       "      <td>0.0</td>\n",
       "      <td>2.0</td>\n",
       "      <td>47</td>\n",
       "      <td>0</td>\n",
       "      <td>1</td>\n",
       "      <td>0</td>\n",
       "      <td>0</td>\n",
       "      <td>1</td>\n",
       "      <td>1</td>\n",
       "      <td>0</td>\n",
       "      <td>0</td>\n",
       "      <td>0</td>\n",
       "    </tr>\n",
       "    <tr>\n",
       "      <th>3</th>\n",
       "      <td>2023</td>\n",
       "      <td>1</td>\n",
       "      <td>1</td>\n",
       "      <td>82.0</td>\n",
       "      <td>1</td>\n",
       "      <td>17.0</td>\n",
       "      <td>5.0</td>\n",
       "      <td>0.0</td>\n",
       "      <td>0.0</td>\n",
       "      <td>121</td>\n",
       "      <td>0</td>\n",
       "      <td>1</td>\n",
       "      <td>0</td>\n",
       "      <td>0</td>\n",
       "      <td>1</td>\n",
       "      <td>1</td>\n",
       "      <td>0</td>\n",
       "      <td>0</td>\n",
       "      <td>0</td>\n",
       "    </tr>\n",
       "    <tr>\n",
       "      <th>4</th>\n",
       "      <td>2023</td>\n",
       "      <td>1</td>\n",
       "      <td>4</td>\n",
       "      <td>95.0</td>\n",
       "      <td>3</td>\n",
       "      <td>22.0</td>\n",
       "      <td>2.0</td>\n",
       "      <td>2.0</td>\n",
       "      <td>0.0</td>\n",
       "      <td>65</td>\n",
       "      <td>0</td>\n",
       "      <td>1</td>\n",
       "      <td>0</td>\n",
       "      <td>0</td>\n",
       "      <td>1</td>\n",
       "      <td>1</td>\n",
       "      <td>0</td>\n",
       "      <td>0</td>\n",
       "      <td>0</td>\n",
       "    </tr>\n",
       "    <tr>\n",
       "      <th>...</th>\n",
       "      <td>...</td>\n",
       "      <td>...</td>\n",
       "      <td>...</td>\n",
       "      <td>...</td>\n",
       "      <td>...</td>\n",
       "      <td>...</td>\n",
       "      <td>...</td>\n",
       "      <td>...</td>\n",
       "      <td>...</td>\n",
       "      <td>...</td>\n",
       "      <td>...</td>\n",
       "      <td>...</td>\n",
       "      <td>...</td>\n",
       "      <td>...</td>\n",
       "      <td>...</td>\n",
       "      <td>...</td>\n",
       "      <td>...</td>\n",
       "      <td>...</td>\n",
       "      <td>...</td>\n",
       "    </tr>\n",
       "    <tr>\n",
       "      <th>2326</th>\n",
       "      <td>2023</td>\n",
       "      <td>3</td>\n",
       "      <td>3</td>\n",
       "      <td>142.0</td>\n",
       "      <td>3</td>\n",
       "      <td>27.0</td>\n",
       "      <td>3.0</td>\n",
       "      <td>2.0</td>\n",
       "      <td>1.0</td>\n",
       "      <td>65</td>\n",
       "      <td>0</td>\n",
       "      <td>1</td>\n",
       "      <td>0</td>\n",
       "      <td>0</td>\n",
       "      <td>1</td>\n",
       "      <td>1</td>\n",
       "      <td>0</td>\n",
       "      <td>0</td>\n",
       "      <td>0</td>\n",
       "    </tr>\n",
       "    <tr>\n",
       "      <th>2327</th>\n",
       "      <td>2023</td>\n",
       "      <td>3</td>\n",
       "      <td>1</td>\n",
       "      <td>73.0</td>\n",
       "      <td>1</td>\n",
       "      <td>18.0</td>\n",
       "      <td>0.0</td>\n",
       "      <td>0.0</td>\n",
       "      <td>0.0</td>\n",
       "      <td>62</td>\n",
       "      <td>0</td>\n",
       "      <td>1</td>\n",
       "      <td>0</td>\n",
       "      <td>0</td>\n",
       "      <td>1</td>\n",
       "      <td>1</td>\n",
       "      <td>0</td>\n",
       "      <td>0</td>\n",
       "      <td>0</td>\n",
       "    </tr>\n",
       "    <tr>\n",
       "      <th>2328</th>\n",
       "      <td>2023</td>\n",
       "      <td>3</td>\n",
       "      <td>1</td>\n",
       "      <td>73.0</td>\n",
       "      <td>1</td>\n",
       "      <td>14.0</td>\n",
       "      <td>6.0</td>\n",
       "      <td>1.0</td>\n",
       "      <td>2.0</td>\n",
       "      <td>61</td>\n",
       "      <td>0</td>\n",
       "      <td>0</td>\n",
       "      <td>1</td>\n",
       "      <td>0</td>\n",
       "      <td>1</td>\n",
       "      <td>1</td>\n",
       "      <td>0</td>\n",
       "      <td>0</td>\n",
       "      <td>0</td>\n",
       "    </tr>\n",
       "    <tr>\n",
       "      <th>2329</th>\n",
       "      <td>2023</td>\n",
       "      <td>3</td>\n",
       "      <td>1</td>\n",
       "      <td>73.0</td>\n",
       "      <td>0</td>\n",
       "      <td>10.0</td>\n",
       "      <td>6.0</td>\n",
       "      <td>4.0</td>\n",
       "      <td>4.0</td>\n",
       "      <td>65</td>\n",
       "      <td>1</td>\n",
       "      <td>0</td>\n",
       "      <td>0</td>\n",
       "      <td>0</td>\n",
       "      <td>1</td>\n",
       "      <td>1</td>\n",
       "      <td>0</td>\n",
       "      <td>0</td>\n",
       "      <td>0</td>\n",
       "    </tr>\n",
       "    <tr>\n",
       "      <th>2330</th>\n",
       "      <td>2023</td>\n",
       "      <td>3</td>\n",
       "      <td>0</td>\n",
       "      <td>290.5</td>\n",
       "      <td>8</td>\n",
       "      <td>9.0</td>\n",
       "      <td>6.0</td>\n",
       "      <td>4.0</td>\n",
       "      <td>7.0</td>\n",
       "      <td>121</td>\n",
       "      <td>1</td>\n",
       "      <td>0</td>\n",
       "      <td>0</td>\n",
       "      <td>1</td>\n",
       "      <td>0</td>\n",
       "      <td>0</td>\n",
       "      <td>1</td>\n",
       "      <td>0</td>\n",
       "      <td>0</td>\n",
       "    </tr>\n",
       "  </tbody>\n",
       "</table>\n",
       "<p>2331 rows × 19 columns</p>\n",
       "</div>"
      ],
      "text/plain": [
       "      year  month  floorRange   area  propertyType  district  num_schools_1km  \\\n",
       "0     2023      1           2   99.0             1      21.0              2.0   \n",
       "1     2023      1           4   88.0             1       3.0              2.0   \n",
       "2     2023      1           2   95.0             1      23.0              4.0   \n",
       "3     2023      1           1   82.0             1      17.0              5.0   \n",
       "4     2023      1           4   95.0             3      22.0              2.0   \n",
       "...    ...    ...         ...    ...           ...       ...              ...   \n",
       "2326  2023      3           3  142.0             3      27.0              3.0   \n",
       "2327  2023      3           1   73.0             1      18.0              0.0   \n",
       "2328  2023      3           1   73.0             1      14.0              6.0   \n",
       "2329  2023      3           1   73.0             0      10.0              6.0   \n",
       "2330  2023      3           0  290.5             8       9.0              6.0   \n",
       "\n",
       "      num_supermarkets_500m  num_mrt_stations_500m  tenure  marketSegment_CCR  \\\n",
       "0                       0.0                    1.0      43                  0   \n",
       "1                       1.0                    1.0      60                  0   \n",
       "2                       0.0                    2.0      47                  0   \n",
       "3                       0.0                    0.0     121                  0   \n",
       "4                       2.0                    0.0      65                  0   \n",
       "...                     ...                    ...     ...                ...   \n",
       "2326                    2.0                    1.0      65                  0   \n",
       "2327                    0.0                    0.0      62                  0   \n",
       "2328                    1.0                    2.0      61                  0   \n",
       "2329                    4.0                    4.0      65                  1   \n",
       "2330                    4.0                    7.0     121                  1   \n",
       "\n",
       "      marketSegment_OCR  marketSegment_RCR  typeOfArea_Land  \\\n",
       "0                     0                  1                0   \n",
       "1                     0                  1                0   \n",
       "2                     1                  0                0   \n",
       "3                     1                  0                0   \n",
       "4                     1                  0                0   \n",
       "...                 ...                ...              ...   \n",
       "2326                  1                  0                0   \n",
       "2327                  1                  0                0   \n",
       "2328                  0                  1                0   \n",
       "2329                  0                  0                0   \n",
       "2330                  0                  0                1   \n",
       "\n",
       "      typeOfArea_Strata  area binning_small  area binning_medium  \\\n",
       "0                     1                   1                    0   \n",
       "1                     1                   1                    0   \n",
       "2                     1                   1                    0   \n",
       "3                     1                   1                    0   \n",
       "4                     1                   1                    0   \n",
       "...                 ...                 ...                  ...   \n",
       "2326                  1                   1                    0   \n",
       "2327                  1                   1                    0   \n",
       "2328                  1                   1                    0   \n",
       "2329                  1                   1                    0   \n",
       "2330                  0                   0                    1   \n",
       "\n",
       "      area binning_medium_large  area binning_large  \n",
       "0                             0                   0  \n",
       "1                             0                   0  \n",
       "2                             0                   0  \n",
       "3                             0                   0  \n",
       "4                             0                   0  \n",
       "...                         ...                 ...  \n",
       "2326                          0                   0  \n",
       "2327                          0                   0  \n",
       "2328                          0                   0  \n",
       "2329                          0                   0  \n",
       "2330                          0                   0  \n",
       "\n",
       "[2331 rows x 19 columns]"
      ]
     },
     "execution_count": 76,
     "metadata": {},
     "output_type": "execute_result"
    }
   ],
   "source": [
    "X_test"
   ]
  },
  {
   "cell_type": "code",
   "execution_count": 77,
   "id": "902639a0",
   "metadata": {},
   "outputs": [],
   "source": [
    "price = rf.predict(X_test)"
   ]
  },
  {
   "cell_type": "code",
   "execution_count": 78,
   "id": "56d178f4",
   "metadata": {},
   "outputs": [],
   "source": [
    "final_result = test.copy()\n",
    "final_result['prediction'] = price.astype('int64')"
   ]
  },
  {
   "cell_type": "code",
   "execution_count": 79,
   "id": "e190621a",
   "metadata": {},
   "outputs": [],
   "source": [
    "final_result.to_csv('submission.csv', index=False)"
   ]
  },
  {
   "cell_type": "code",
   "execution_count": 80,
   "id": "793a109c",
   "metadata": {},
   "outputs": [
    {
     "data": {
      "text/plain": [
       "property_key    0\n",
       "contractDate    0\n",
       "prediction      0\n",
       "dtype: int64"
      ]
     },
     "execution_count": 80,
     "metadata": {},
     "output_type": "execute_result"
    }
   ],
   "source": [
    "final_result.isna().sum()"
   ]
  },
  {
   "cell_type": "code",
   "execution_count": 81,
   "id": "e15ae468",
   "metadata": {},
   "outputs": [
    {
     "data": {
      "text/html": [
       "<div>\n",
       "<style scoped>\n",
       "    .dataframe tbody tr th:only-of-type {\n",
       "        vertical-align: middle;\n",
       "    }\n",
       "\n",
       "    .dataframe tbody tr th {\n",
       "        vertical-align: top;\n",
       "    }\n",
       "\n",
       "    .dataframe thead th {\n",
       "        text-align: right;\n",
       "    }\n",
       "</style>\n",
       "<table border=\"1\" class=\"dataframe\">\n",
       "  <thead>\n",
       "    <tr style=\"text-align: right;\">\n",
       "      <th></th>\n",
       "      <th>property_key</th>\n",
       "      <th>contractDate</th>\n",
       "      <th>prediction</th>\n",
       "    </tr>\n",
       "  </thead>\n",
       "  <tbody>\n",
       "    <tr>\n",
       "      <th>0</th>\n",
       "      <td>p-ff93e87ab</td>\n",
       "      <td>2023-01-01</td>\n",
       "      <td>1261364</td>\n",
       "    </tr>\n",
       "    <tr>\n",
       "      <th>1</th>\n",
       "      <td>p-38fe6afe9</td>\n",
       "      <td>2023-01-01</td>\n",
       "      <td>1592350</td>\n",
       "    </tr>\n",
       "    <tr>\n",
       "      <th>2</th>\n",
       "      <td>p-fc9650179</td>\n",
       "      <td>2023-01-01</td>\n",
       "      <td>851369</td>\n",
       "    </tr>\n",
       "    <tr>\n",
       "      <th>3</th>\n",
       "      <td>p-59a09ad08</td>\n",
       "      <td>2023-01-01</td>\n",
       "      <td>1133391</td>\n",
       "    </tr>\n",
       "    <tr>\n",
       "      <th>4</th>\n",
       "      <td>p-808332e5c</td>\n",
       "      <td>2023-01-01</td>\n",
       "      <td>1138229</td>\n",
       "    </tr>\n",
       "    <tr>\n",
       "      <th>...</th>\n",
       "      <td>...</td>\n",
       "      <td>...</td>\n",
       "      <td>...</td>\n",
       "    </tr>\n",
       "    <tr>\n",
       "      <th>2326</th>\n",
       "      <td>p-56681c564</td>\n",
       "      <td>2023-03-01</td>\n",
       "      <td>1754083</td>\n",
       "    </tr>\n",
       "    <tr>\n",
       "      <th>2327</th>\n",
       "      <td>p-89a6ff5de</td>\n",
       "      <td>2023-03-01</td>\n",
       "      <td>906272</td>\n",
       "    </tr>\n",
       "    <tr>\n",
       "      <th>2328</th>\n",
       "      <td>p-920d750e9</td>\n",
       "      <td>2023-03-01</td>\n",
       "      <td>1178338</td>\n",
       "    </tr>\n",
       "    <tr>\n",
       "      <th>2329</th>\n",
       "      <td>p-e7146b43c</td>\n",
       "      <td>2023-03-01</td>\n",
       "      <td>1381578</td>\n",
       "    </tr>\n",
       "    <tr>\n",
       "      <th>2330</th>\n",
       "      <td>p-ff6a670a1</td>\n",
       "      <td>2023-03-01</td>\n",
       "      <td>7153941</td>\n",
       "    </tr>\n",
       "  </tbody>\n",
       "</table>\n",
       "<p>2331 rows × 3 columns</p>\n",
       "</div>"
      ],
      "text/plain": [
       "     property_key contractDate  prediction\n",
       "0     p-ff93e87ab   2023-01-01     1261364\n",
       "1     p-38fe6afe9   2023-01-01     1592350\n",
       "2     p-fc9650179   2023-01-01      851369\n",
       "3     p-59a09ad08   2023-01-01     1133391\n",
       "4     p-808332e5c   2023-01-01     1138229\n",
       "...           ...          ...         ...\n",
       "2326  p-56681c564   2023-03-01     1754083\n",
       "2327  p-89a6ff5de   2023-03-01      906272\n",
       "2328  p-920d750e9   2023-03-01     1178338\n",
       "2329  p-e7146b43c   2023-03-01     1381578\n",
       "2330  p-ff6a670a1   2023-03-01     7153941\n",
       "\n",
       "[2331 rows x 3 columns]"
      ]
     },
     "execution_count": 81,
     "metadata": {},
     "output_type": "execute_result"
    }
   ],
   "source": [
    "pd.read_csv('submission.csv')"
   ]
  },
  {
   "cell_type": "code",
   "execution_count": 82,
   "id": "4c1d35d6",
   "metadata": {},
   "outputs": [
    {
     "data": {
      "text/plain": [
       "1694021"
      ]
     },
     "execution_count": 82,
     "metadata": {},
     "output_type": "execute_result"
    }
   ],
   "source": [
    "1694021"
   ]
  },
  {
   "cell_type": "code",
   "execution_count": null,
   "id": "766cc540",
   "metadata": {},
   "outputs": [],
   "source": []
  }
 ],
 "metadata": {
  "kernelspec": {
   "display_name": "Python 3 (ipykernel)",
   "language": "python",
   "name": "python3"
  },
  "language_info": {
   "codemirror_mode": {
    "name": "ipython",
    "version": 3
   },
   "file_extension": ".py",
   "mimetype": "text/x-python",
   "name": "python",
   "nbconvert_exporter": "python",
   "pygments_lexer": "ipython3",
   "version": "3.9.13"
  }
 },
 "nbformat": 4,
 "nbformat_minor": 5
}
