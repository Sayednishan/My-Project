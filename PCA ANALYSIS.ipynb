{
 "cells": [
  {
   "cell_type": "markdown",
   "id": "7e3e1af4",
   "metadata": {},
   "source": [
    "# PCA  ANALYSIS"
   ]
  },
  {
   "cell_type": "markdown",
   "id": "d7c91425",
   "metadata": {},
   "source": [
    "#                                                  PCA\n",
    "What is PCA:\n",
    "Feature reduction techniques.Suppose I have a lot of data which denoted by X,I want to reduce element from data and make a new data frame which denoted by Y,where Y represent the whole data set X.\n",
    "Why need:\n",
    "\n",
    "name\tid\tdept\tchairman\n",
    "Sayed(feature1)\t001\tchemistry\tAbdul alim\n",
    "Newaj(feature 2)\t002\tpharmacy\tAbdul alim\n",
    "\n",
    "\n",
    "Suppose I have feature1,feature2………feature100.All features are not important and so I have need reduce some feature by which techniques use to reduce unnecessary feature is known as PCA.\n",
    "There are 100 principal components by default but I have no need all principal components.I select top N principal components for my model design.\n",
    "#Basic fundamental information:\n",
    "1.\tScaler quantity(value)\n",
    "2.\tVector quantity(direction and value)\n",
    "3.\tMatrix\n",
    "4.\tEigen value,Eigen vector\n",
    "5.\tMatrix Transpose\n",
    "\n"
   ]
  },
  {
   "cell_type": "code",
   "execution_count": 1,
   "id": "75deccef",
   "metadata": {},
   "outputs": [],
   "source": [
    "import numpy as np\n",
    "import pandas as pd\n",
    "import matplotlib.pyplot as plt\n",
    "%matplotlib inline\n",
    "from numpy.linalg import eig\n",
    "import seaborn as sns"
   ]
  },
  {
   "cell_type": "code",
   "execution_count": 2,
   "id": "4832134f",
   "metadata": {},
   "outputs": [
    {
     "data": {
      "text/html": [
       "<div>\n",
       "<style scoped>\n",
       "    .dataframe tbody tr th:only-of-type {\n",
       "        vertical-align: middle;\n",
       "    }\n",
       "\n",
       "    .dataframe tbody tr th {\n",
       "        vertical-align: top;\n",
       "    }\n",
       "\n",
       "    .dataframe thead th {\n",
       "        text-align: right;\n",
       "    }\n",
       "</style>\n",
       "<table border=\"1\" class=\"dataframe\">\n",
       "  <thead>\n",
       "    <tr style=\"text-align: right;\">\n",
       "      <th></th>\n",
       "      <th>id</th>\n",
       "      <th>target</th>\n",
       "    </tr>\n",
       "  </thead>\n",
       "  <tbody>\n",
       "    <tr>\n",
       "      <th>0</th>\n",
       "      <td>0</td>\n",
       "      <td>0.0364</td>\n",
       "    </tr>\n",
       "    <tr>\n",
       "      <th>1</th>\n",
       "      <td>1</td>\n",
       "      <td>0.0364</td>\n",
       "    </tr>\n",
       "    <tr>\n",
       "      <th>2</th>\n",
       "      <td>2</td>\n",
       "      <td>0.0364</td>\n",
       "    </tr>\n",
       "    <tr>\n",
       "      <th>3</th>\n",
       "      <td>3</td>\n",
       "      <td>0.0364</td>\n",
       "    </tr>\n",
       "    <tr>\n",
       "      <th>4</th>\n",
       "      <td>4</td>\n",
       "      <td>0.0364</td>\n",
       "    </tr>\n",
       "    <tr>\n",
       "      <th>...</th>\n",
       "      <td>...</td>\n",
       "      <td>...</td>\n",
       "    </tr>\n",
       "    <tr>\n",
       "      <th>892811</th>\n",
       "      <td>1488022</td>\n",
       "      <td>0.0364</td>\n",
       "    </tr>\n",
       "    <tr>\n",
       "      <th>892812</th>\n",
       "      <td>1488023</td>\n",
       "      <td>0.0364</td>\n",
       "    </tr>\n",
       "    <tr>\n",
       "      <th>892813</th>\n",
       "      <td>1488024</td>\n",
       "      <td>0.0364</td>\n",
       "    </tr>\n",
       "    <tr>\n",
       "      <th>892814</th>\n",
       "      <td>1488025</td>\n",
       "      <td>0.0364</td>\n",
       "    </tr>\n",
       "    <tr>\n",
       "      <th>892815</th>\n",
       "      <td>1488026</td>\n",
       "      <td>0.0364</td>\n",
       "    </tr>\n",
       "  </tbody>\n",
       "</table>\n",
       "<p>892816 rows × 2 columns</p>\n",
       "</div>"
      ],
      "text/plain": [
       "             id  target\n",
       "0             0  0.0364\n",
       "1             1  0.0364\n",
       "2             2  0.0364\n",
       "3             3  0.0364\n",
       "4             4  0.0364\n",
       "...         ...     ...\n",
       "892811  1488022  0.0364\n",
       "892812  1488023  0.0364\n",
       "892813  1488024  0.0364\n",
       "892814  1488025  0.0364\n",
       "892815  1488026  0.0364\n",
       "\n",
       "[892816 rows x 2 columns]"
      ]
     },
     "execution_count": 2,
     "metadata": {},
     "output_type": "execute_result"
    }
   ],
   "source": [
    "#setp1 : define data set\n",
    "df =pd.read_csv('pca.csv')\n",
    "df"
   ]
  },
  {
   "cell_type": "code",
   "execution_count": 9,
   "id": "9badf0e7",
   "metadata": {},
   "outputs": [
    {
     "data": {
      "image/png": "[encoded data removed]",
      "text/plain": [
       "<Figure size 640x480 with 1 Axes>"
      ]
     },
     "metadata": {},
     "output_type": "display_data"
    }
   ],
   "source": [
    "#try to visuallize\n",
    "plt.scatter(df['id'],df['target']);"
   ]
  },
  {
   "cell_type": "code",
   "execution_count": 15,
   "id": "1c1c0c41",
   "metadata": {},
   "outputs": [
    {
     "name": "stdout",
     "output_type": "stream",
     "text": [
      "id        744153.461357\n",
      "target         0.036400\n",
      "dtype: float64\n"
     ]
    }
   ],
   "source": [
    "#step2:making data mean centric\n",
    "meanbycolumn=np.mean(df.T,axis=1)\n",
    "print(meanbycolumn)\n",
    "scaled_data=df-meanbycolumn"
   ]
  },
  {
   "cell_type": "code",
   "execution_count": 19,
   "id": "870f6d08",
   "metadata": {},
   "outputs": [
    {
     "data": {
      "text/html": [
       "<div>\n",
       "<style scoped>\n",
       "    .dataframe tbody tr th:only-of-type {\n",
       "        vertical-align: middle;\n",
       "    }\n",
       "\n",
       "    .dataframe tbody tr th {\n",
       "        vertical-align: top;\n",
       "    }\n",
       "\n",
       "    .dataframe thead th {\n",
       "        text-align: right;\n",
       "    }\n",
       "</style>\n",
       "<table border=\"1\" class=\"dataframe\">\n",
       "  <thead>\n",
       "    <tr style=\"text-align: right;\">\n",
       "      <th></th>\n",
       "      <th>0</th>\n",
       "      <th>1</th>\n",
       "      <th>2</th>\n",
       "      <th>3</th>\n",
       "      <th>4</th>\n",
       "      <th>5</th>\n",
       "      <th>6</th>\n",
       "      <th>7</th>\n",
       "      <th>8</th>\n",
       "      <th>9</th>\n",
       "      <th>...</th>\n",
       "      <th>892806</th>\n",
       "      <th>892807</th>\n",
       "      <th>892808</th>\n",
       "      <th>892809</th>\n",
       "      <th>892810</th>\n",
       "      <th>892811</th>\n",
       "      <th>892812</th>\n",
       "      <th>892813</th>\n",
       "      <th>892814</th>\n",
       "      <th>892815</th>\n",
       "    </tr>\n",
       "  </thead>\n",
       "  <tbody>\n",
       "    <tr>\n",
       "      <th>id</th>\n",
       "      <td>0.0000</td>\n",
       "      <td>1.0000</td>\n",
       "      <td>2.0000</td>\n",
       "      <td>3.0000</td>\n",
       "      <td>4.0000</td>\n",
       "      <td>5.0000</td>\n",
       "      <td>6.0000</td>\n",
       "      <td>8.0000</td>\n",
       "      <td>10.0000</td>\n",
       "      <td>11.0000</td>\n",
       "      <td>...</td>\n",
       "      <td>1.488014e+06</td>\n",
       "      <td>1.488015e+06</td>\n",
       "      <td>1.488018e+06</td>\n",
       "      <td>1.488019e+06</td>\n",
       "      <td>1.488020e+06</td>\n",
       "      <td>1.488022e+06</td>\n",
       "      <td>1.488023e+06</td>\n",
       "      <td>1.488024e+06</td>\n",
       "      <td>1.488025e+06</td>\n",
       "      <td>1.488026e+06</td>\n",
       "    </tr>\n",
       "    <tr>\n",
       "      <th>target</th>\n",
       "      <td>0.0364</td>\n",
       "      <td>0.0364</td>\n",
       "      <td>0.0364</td>\n",
       "      <td>0.0364</td>\n",
       "      <td>0.0364</td>\n",
       "      <td>0.0364</td>\n",
       "      <td>0.0364</td>\n",
       "      <td>0.0364</td>\n",
       "      <td>0.0364</td>\n",
       "      <td>0.0364</td>\n",
       "      <td>...</td>\n",
       "      <td>3.640000e-02</td>\n",
       "      <td>3.640000e-02</td>\n",
       "      <td>3.640000e-02</td>\n",
       "      <td>3.640000e-02</td>\n",
       "      <td>3.640000e-02</td>\n",
       "      <td>3.640000e-02</td>\n",
       "      <td>3.640000e-02</td>\n",
       "      <td>3.640000e-02</td>\n",
       "      <td>3.640000e-02</td>\n",
       "      <td>3.640000e-02</td>\n",
       "    </tr>\n",
       "  </tbody>\n",
       "</table>\n",
       "<p>2 rows × 892816 columns</p>\n",
       "</div>"
      ],
      "text/plain": [
       "        0       1       2       3       4       5       6       7       \\\n",
       "id      0.0000  1.0000  2.0000  3.0000  4.0000  5.0000  6.0000  8.0000   \n",
       "target  0.0364  0.0364  0.0364  0.0364  0.0364  0.0364  0.0364  0.0364   \n",
       "\n",
       "         8        9       ...        892806        892807        892808  \\\n",
       "id      10.0000  11.0000  ...  1.488014e+06  1.488015e+06  1.488018e+06   \n",
       "target   0.0364   0.0364  ...  3.640000e-02  3.640000e-02  3.640000e-02   \n",
       "\n",
       "              892809        892810        892811        892812        892813  \\\n",
       "id      1.488019e+06  1.488020e+06  1.488022e+06  1.488023e+06  1.488024e+06   \n",
       "target  3.640000e-02  3.640000e-02  3.640000e-02  3.640000e-02  3.640000e-02   \n",
       "\n",
       "              892814        892815  \n",
       "id      1.488025e+06  1.488026e+06  \n",
       "target  3.640000e-02  3.640000e-02  \n",
       "\n",
       "[2 rows x 892816 columns]"
      ]
     },
     "execution_count": 19,
     "metadata": {},
     "output_type": "execute_result"
    }
   ],
   "source": [
    "df.T"
   ]
  },
  {
   "cell_type": "code",
   "execution_count": 20,
   "id": "a3e2d50b",
   "metadata": {},
   "outputs": [
    {
     "data": {
      "text/html": [
       "<div>\n",
       "<style scoped>\n",
       "    .dataframe tbody tr th:only-of-type {\n",
       "        vertical-align: middle;\n",
       "    }\n",
       "\n",
       "    .dataframe tbody tr th {\n",
       "        vertical-align: top;\n",
       "    }\n",
       "\n",
       "    .dataframe thead th {\n",
       "        text-align: right;\n",
       "    }\n",
       "</style>\n",
       "<table border=\"1\" class=\"dataframe\">\n",
       "  <thead>\n",
       "    <tr style=\"text-align: right;\">\n",
       "      <th></th>\n",
       "      <th>id</th>\n",
       "      <th>target</th>\n",
       "    </tr>\n",
       "  </thead>\n",
       "  <tbody>\n",
       "    <tr>\n",
       "      <th>0</th>\n",
       "      <td>-744153.461357</td>\n",
       "      <td>-6.387599e-13</td>\n",
       "    </tr>\n",
       "    <tr>\n",
       "      <th>1</th>\n",
       "      <td>-744152.461357</td>\n",
       "      <td>-6.387599e-13</td>\n",
       "    </tr>\n",
       "    <tr>\n",
       "      <th>2</th>\n",
       "      <td>-744151.461357</td>\n",
       "      <td>-6.387599e-13</td>\n",
       "    </tr>\n",
       "    <tr>\n",
       "      <th>3</th>\n",
       "      <td>-744150.461357</td>\n",
       "      <td>-6.387599e-13</td>\n",
       "    </tr>\n",
       "    <tr>\n",
       "      <th>4</th>\n",
       "      <td>-744149.461357</td>\n",
       "      <td>-6.387599e-13</td>\n",
       "    </tr>\n",
       "    <tr>\n",
       "      <th>...</th>\n",
       "      <td>...</td>\n",
       "      <td>...</td>\n",
       "    </tr>\n",
       "    <tr>\n",
       "      <th>892811</th>\n",
       "      <td>743868.538643</td>\n",
       "      <td>-6.387599e-13</td>\n",
       "    </tr>\n",
       "    <tr>\n",
       "      <th>892812</th>\n",
       "      <td>743869.538643</td>\n",
       "      <td>-6.387599e-13</td>\n",
       "    </tr>\n",
       "    <tr>\n",
       "      <th>892813</th>\n",
       "      <td>743870.538643</td>\n",
       "      <td>-6.387599e-13</td>\n",
       "    </tr>\n",
       "    <tr>\n",
       "      <th>892814</th>\n",
       "      <td>743871.538643</td>\n",
       "      <td>-6.387599e-13</td>\n",
       "    </tr>\n",
       "    <tr>\n",
       "      <th>892815</th>\n",
       "      <td>743872.538643</td>\n",
       "      <td>-6.387599e-13</td>\n",
       "    </tr>\n",
       "  </tbody>\n",
       "</table>\n",
       "<p>892816 rows × 2 columns</p>\n",
       "</div>"
      ],
      "text/plain": [
       "                   id        target\n",
       "0      -744153.461357 -6.387599e-13\n",
       "1      -744152.461357 -6.387599e-13\n",
       "2      -744151.461357 -6.387599e-13\n",
       "3      -744150.461357 -6.387599e-13\n",
       "4      -744149.461357 -6.387599e-13\n",
       "...               ...           ...\n",
       "892811  743868.538643 -6.387599e-13\n",
       "892812  743869.538643 -6.387599e-13\n",
       "892813  743870.538643 -6.387599e-13\n",
       "892814  743871.538643 -6.387599e-13\n",
       "892815  743872.538643 -6.387599e-13\n",
       "\n",
       "[892816 rows x 2 columns]"
      ]
     },
     "execution_count": 20,
     "metadata": {},
     "output_type": "execute_result"
    }
   ],
   "source": [
    "scaled_data"
   ]
  },
  {
   "cell_type": "code",
   "execution_count": 21,
   "id": "18110497",
   "metadata": {},
   "outputs": [
    {
     "data": {
      "text/plain": [
       "array([[1.84627455e+11, 0.00000000e+00],\n",
       "       [0.00000000e+00, 0.00000000e+00]])"
      ]
     },
     "execution_count": 21,
     "metadata": {},
     "output_type": "execute_result"
    }
   ],
   "source": [
    "#step3: find covariance matrix of above scaled data\n",
    "cov_mat=np.cov(scaled_data.T) #transpose due to we want to do this feature by feature\n",
    "cov_mat"
   ]
  },
  {
   "cell_type": "code",
   "execution_count": 22,
   "id": "b3ccc9be",
   "metadata": {},
   "outputs": [
    {
     "name": "stdout",
     "output_type": "stream",
     "text": [
      "[1.84627455e+11 0.00000000e+00]\n",
      "[[1. 0.]\n",
      " [0. 1.]]\n"
     ]
    }
   ],
   "source": [
    "#step4: finding corresponding eigen value and eigen vector of above covariance matrix\n",
    "Eval,Evec=eig(cov_mat)\n",
    "print(Eval)\n",
    "print(Evec)"
   ]
  },
  {
   "cell_type": "code",
   "execution_count": 24,
   "id": "2bb66554",
   "metadata": {},
   "outputs": [
    {
     "name": "stdout",
     "output_type": "stream",
     "text": [
      "[[-7.44153461e+05 -6.38759878e-13]\n",
      " [-7.44152461e+05 -6.38759878e-13]\n",
      " [-7.44151461e+05 -6.38759878e-13]\n",
      " ...\n",
      " [ 7.43870539e+05 -6.38759878e-13]\n",
      " [ 7.43871539e+05 -6.38759878e-13]\n",
      " [ 7.43872539e+05 -6.38759878e-13]]\n"
     ]
    }
   ],
   "source": [
    "projected_data=Evec.T.dot(scaled_data.T)\n",
    "T=projected_data.T\n",
    "print(T)"
   ]
  },
  {
   "cell_type": "code",
   "execution_count": 30,
   "id": "4de45b77",
   "metadata": {},
   "outputs": [],
   "source": [
    "np.savetxt('T.csv',T)"
   ]
  },
  {
   "cell_type": "markdown",
   "id": "662e73a1",
   "metadata": {},
   "source": [
    "# Another process"
   ]
  },
  {
   "cell_type": "code",
   "execution_count": 6,
   "id": "5b8d74d4",
   "metadata": {},
   "outputs": [
    {
     "data": {
      "text/plain": [
       "array([[ 7.44153461e+05,  6.93889390e-18],\n",
       "       [ 7.44152461e+05,  6.93889390e-18],\n",
       "       [ 7.44151461e+05,  6.93889390e-18],\n",
       "       ...,\n",
       "       [-7.43870539e+05,  6.93889390e-18],\n",
       "       [-7.43871539e+05,  6.93889390e-18],\n",
       "       [-7.43872539e+05,  6.93889390e-18]])"
      ]
     },
     "execution_count": 6,
     "metadata": {},
     "output_type": "execute_result"
    }
   ],
   "source": [
    "from sklearn.decomposition import PCA\n",
    "pca=PCA(n_components=2)\n",
    "pca.fit_transform(df)"
   ]
  },
  {
   "cell_type": "code",
   "execution_count": 33,
   "id": "9864546d",
   "metadata": {},
   "outputs": [
    {
     "data": {
      "text/plain": [
       "array([1.00000000e+00, 2.60786256e-46])"
      ]
     },
     "execution_count": 33,
     "metadata": {},
     "output_type": "execute_result"
    }
   ],
   "source": [
    "pca.explained_variance_ratio_ #variance explanation ratio by each PC"
   ]
  },
  {
   "cell_type": "code",
   "execution_count": 34,
   "id": "7740d576",
   "metadata": {},
   "outputs": [],
   "source": [
    "pcdf=pd.DataFrame(data=pca.fit_transform(df),columns=['PC1','PC2'])"
   ]
  },
  {
   "cell_type": "code",
   "execution_count": 35,
   "id": "68122d8a",
   "metadata": {},
   "outputs": [
    {
     "data": {
      "text/html": [
       "<div>\n",
       "<style scoped>\n",
       "    .dataframe tbody tr th:only-of-type {\n",
       "        vertical-align: middle;\n",
       "    }\n",
       "\n",
       "    .dataframe tbody tr th {\n",
       "        vertical-align: top;\n",
       "    }\n",
       "\n",
       "    .dataframe thead th {\n",
       "        text-align: right;\n",
       "    }\n",
       "</style>\n",
       "<table border=\"1\" class=\"dataframe\">\n",
       "  <thead>\n",
       "    <tr style=\"text-align: right;\">\n",
       "      <th></th>\n",
       "      <th>PC1</th>\n",
       "      <th>PC2</th>\n",
       "    </tr>\n",
       "  </thead>\n",
       "  <tbody>\n",
       "    <tr>\n",
       "      <th>0</th>\n",
       "      <td>744153.461357</td>\n",
       "      <td>6.938894e-18</td>\n",
       "    </tr>\n",
       "    <tr>\n",
       "      <th>1</th>\n",
       "      <td>744152.461357</td>\n",
       "      <td>6.938894e-18</td>\n",
       "    </tr>\n",
       "    <tr>\n",
       "      <th>2</th>\n",
       "      <td>744151.461357</td>\n",
       "      <td>6.938894e-18</td>\n",
       "    </tr>\n",
       "    <tr>\n",
       "      <th>3</th>\n",
       "      <td>744150.461357</td>\n",
       "      <td>6.938894e-18</td>\n",
       "    </tr>\n",
       "    <tr>\n",
       "      <th>4</th>\n",
       "      <td>744149.461357</td>\n",
       "      <td>6.938894e-18</td>\n",
       "    </tr>\n",
       "    <tr>\n",
       "      <th>...</th>\n",
       "      <td>...</td>\n",
       "      <td>...</td>\n",
       "    </tr>\n",
       "    <tr>\n",
       "      <th>892811</th>\n",
       "      <td>-743868.538643</td>\n",
       "      <td>6.938894e-18</td>\n",
       "    </tr>\n",
       "    <tr>\n",
       "      <th>892812</th>\n",
       "      <td>-743869.538643</td>\n",
       "      <td>6.938894e-18</td>\n",
       "    </tr>\n",
       "    <tr>\n",
       "      <th>892813</th>\n",
       "      <td>-743870.538643</td>\n",
       "      <td>6.938894e-18</td>\n",
       "    </tr>\n",
       "    <tr>\n",
       "      <th>892814</th>\n",
       "      <td>-743871.538643</td>\n",
       "      <td>6.938894e-18</td>\n",
       "    </tr>\n",
       "    <tr>\n",
       "      <th>892815</th>\n",
       "      <td>-743872.538643</td>\n",
       "      <td>6.938894e-18</td>\n",
       "    </tr>\n",
       "  </tbody>\n",
       "</table>\n",
       "<p>892816 rows × 2 columns</p>\n",
       "</div>"
      ],
      "text/plain": [
       "                  PC1           PC2\n",
       "0       744153.461357  6.938894e-18\n",
       "1       744152.461357  6.938894e-18\n",
       "2       744151.461357  6.938894e-18\n",
       "3       744150.461357  6.938894e-18\n",
       "4       744149.461357  6.938894e-18\n",
       "...               ...           ...\n",
       "892811 -743868.538643  6.938894e-18\n",
       "892812 -743869.538643  6.938894e-18\n",
       "892813 -743870.538643  6.938894e-18\n",
       "892814 -743871.538643  6.938894e-18\n",
       "892815 -743872.538643  6.938894e-18\n",
       "\n",
       "[892816 rows x 2 columns]"
      ]
     },
     "execution_count": 35,
     "metadata": {},
     "output_type": "execute_result"
    }
   ],
   "source": [
    "pcdf"
   ]
  },
  {
   "cell_type": "code",
   "execution_count": 36,
   "id": "d8053739",
   "metadata": {},
   "outputs": [
    {
     "data": {
      "text/plain": [
       "<matplotlib.collections.PathCollection at 0x22b5b57f520>"
      ]
     },
     "execution_count": 36,
     "metadata": {},
     "output_type": "execute_result"
    },
    {
     "data": {
      "image/png": "[encoded data removed]",
      "text/plain": [
       "<Figure size 640x480 with 1 Axes>"
      ]
     },
     "metadata": {},
     "output_type": "display_data"
    }
   ],
   "source": [
    "plt.scatter(pcdf['PC1'],pcdf['PC2'])"
   ]
  },
  {
   "cell_type": "code",
   "execution_count": 37,
   "id": "d47ca6b6",
   "metadata": {},
   "outputs": [
    {
     "data": {
      "text/html": [
       "<div>\n",
       "<style scoped>\n",
       "    .dataframe tbody tr th:only-of-type {\n",
       "        vertical-align: middle;\n",
       "    }\n",
       "\n",
       "    .dataframe tbody tr th {\n",
       "        vertical-align: top;\n",
       "    }\n",
       "\n",
       "    .dataframe thead th {\n",
       "        text-align: right;\n",
       "    }\n",
       "</style>\n",
       "<table border=\"1\" class=\"dataframe\">\n",
       "  <thead>\n",
       "    <tr style=\"text-align: right;\">\n",
       "      <th></th>\n",
       "      <th>PC1</th>\n",
       "      <th>PC2</th>\n",
       "    </tr>\n",
       "  </thead>\n",
       "  <tbody>\n",
       "    <tr>\n",
       "      <th>id</th>\n",
       "      <td>-1.000000e+00</td>\n",
       "      <td>6.060283e-37</td>\n",
       "    </tr>\n",
       "    <tr>\n",
       "      <th>target</th>\n",
       "      <td>6.060283e-37</td>\n",
       "      <td>1.000000e+00</td>\n",
       "    </tr>\n",
       "  </tbody>\n",
       "</table>\n",
       "</div>"
      ],
      "text/plain": [
       "                 PC1           PC2\n",
       "id     -1.000000e+00  6.060283e-37\n",
       "target  6.060283e-37  1.000000e+00"
      ]
     },
     "execution_count": 37,
     "metadata": {},
     "output_type": "execute_result"
    }
   ],
   "source": [
    "loadings=pd.DataFrame(pca.components_.T,columns=['PC1','PC2'],index=['id','target'])\n",
    "loadings"
   ]
  },
  {
   "cell_type": "markdown",
   "id": "02763fa7",
   "metadata": {},
   "source": [
    "#### PC1= alpha1.feature1+alpha2.feature2+............."
   ]
  },
  {
   "cell_type": "code",
   "execution_count": 12,
   "id": "de4d60c3",
   "metadata": {},
   "outputs": [
    {
     "data": {
      "text/plain": [
       "array([[ 7.44153461e+05,  6.93889390e-18],\n",
       "       [ 7.44152461e+05,  6.93889390e-18],\n",
       "       [ 7.44151461e+05,  6.93889390e-18],\n",
       "       ...,\n",
       "       [-7.43870539e+05,  6.93889390e-18],\n",
       "       [-7.43871539e+05,  6.93889390e-18],\n",
       "       [-7.43872539e+05,  6.93889390e-18]])"
      ]
     },
     "execution_count": 12,
     "metadata": {},
     "output_type": "execute_result"
    }
   ],
   "source": [
    "from sklearn.decomposition import PCA\n",
    "pca=PCA(n_components=2)\n",
    "pca.fit_transform(df)"
   ]
  },
  {
   "cell_type": "code",
   "execution_count": 11,
   "id": "231e4018",
   "metadata": {},
   "outputs": [
    {
     "data": {
      "text/html": [
       "<div>\n",
       "<style scoped>\n",
       "    .dataframe tbody tr th:only-of-type {\n",
       "        vertical-align: middle;\n",
       "    }\n",
       "\n",
       "    .dataframe tbody tr th {\n",
       "        vertical-align: top;\n",
       "    }\n",
       "\n",
       "    .dataframe thead th {\n",
       "        text-align: right;\n",
       "    }\n",
       "</style>\n",
       "<table border=\"1\" class=\"dataframe\">\n",
       "  <thead>\n",
       "    <tr style=\"text-align: right;\">\n",
       "      <th></th>\n",
       "      <th>PC1</th>\n",
       "      <th>PC2</th>\n",
       "    </tr>\n",
       "  </thead>\n",
       "  <tbody>\n",
       "    <tr>\n",
       "      <th>id</th>\n",
       "      <td>-4.296830e+05</td>\n",
       "      <td>4.205168e-54</td>\n",
       "    </tr>\n",
       "    <tr>\n",
       "      <th>target</th>\n",
       "      <td>2.604000e-31</td>\n",
       "      <td>6.938898e-18</td>\n",
       "    </tr>\n",
       "  </tbody>\n",
       "</table>\n",
       "</div>"
      ],
      "text/plain": [
       "                 PC1           PC2\n",
       "id     -4.296830e+05  4.205168e-54\n",
       "target  2.604000e-31  6.938898e-18"
      ]
     },
     "execution_count": 11,
     "metadata": {},
     "output_type": "execute_result"
    }
   ],
   "source": [
    "loadings = pca.components_.T * np.sqrt(pca.explained_variance_)\n",
    "\n",
    "loading_matrix = pd.DataFrame(loadings, columns=['PC1', 'PC2'], index=['id','target'])\n",
    "loading_matrix"
   ]
  },
  {
   "cell_type": "code",
   "execution_count": 14,
   "id": "53b30948",
   "metadata": {},
   "outputs": [
    {
     "data": {
      "text/plain": [
       "<matplotlib.collections.PathCollection at 0x1b38dd97d00>"
      ]
     },
     "execution_count": 14,
     "metadata": {},
     "output_type": "execute_result"
    },
    {
     "data": {
      "image/png": "[encoded data removed]",
      "text/plain": [
       "<Figure size 640x480 with 1 Axes>"
      ]
     },
     "metadata": {},
     "output_type": "display_data"
    }
   ],
   "source": [
    "plt.scatter(loading_matrix['PC1'],loading_matrix['PC2'])"
   ]
  },
  {
   "cell_type": "code",
   "execution_count": 20,
   "id": "50a69dd4",
   "metadata": {},
   "outputs": [],
   "source": [
    "import numpy as np\n",
    "import matplotlib.pyplot as plt\n",
    "import pandas as pd\n",
    "\n",
    "from sklearn import decomposition\n",
    "from sklearn import datasets\n",
    "from sklearn.preprocessing import scale"
   ]
  },
  {
   "cell_type": "code",
   "execution_count": 22,
   "id": "6ad183a9",
   "metadata": {},
   "outputs": [],
   "source": [
    "df = datasets.load_iris()"
   ]
  },
  {
   "cell_type": "code",
   "execution_count": 26,
   "id": "19cf2ff3",
   "metadata": {},
   "outputs": [],
   "source": [
    "x=scale(df.data)\n",
    "y=df.target"
   ]
  },
  {
   "cell_type": "code",
   "execution_count": 31,
   "id": "dc33efe7",
   "metadata": {},
   "outputs": [],
   "source": [
    "pca = decomposition.PCA(n_components=2)\n",
    "x = pca.fit_transform(x)"
   ]
  },
  {
   "cell_type": "code",
   "execution_count": 33,
   "id": "39ebe9f2",
   "metadata": {},
   "outputs": [
    {
     "data": {
      "text/html": [
       "<div>\n",
       "<style scoped>\n",
       "    .dataframe tbody tr th:only-of-type {\n",
       "        vertical-align: middle;\n",
       "    }\n",
       "\n",
       "    .dataframe tbody tr th {\n",
       "        vertical-align: top;\n",
       "    }\n",
       "\n",
       "    .dataframe thead th {\n",
       "        text-align: right;\n",
       "    }\n",
       "</style>\n",
       "<table border=\"1\" class=\"dataframe\">\n",
       "  <thead>\n",
       "    <tr style=\"text-align: right;\">\n",
       "      <th></th>\n",
       "      <th>PC1</th>\n",
       "      <th>PC2</th>\n",
       "    </tr>\n",
       "  </thead>\n",
       "  <tbody>\n",
       "    <tr>\n",
       "      <th>sepal length (cm)</th>\n",
       "      <td>0.521066</td>\n",
       "      <td>0.377418</td>\n",
       "    </tr>\n",
       "    <tr>\n",
       "      <th>sepal width (cm)</th>\n",
       "      <td>-0.269347</td>\n",
       "      <td>0.923296</td>\n",
       "    </tr>\n",
       "    <tr>\n",
       "      <th>petal length (cm)</th>\n",
       "      <td>0.580413</td>\n",
       "      <td>0.024492</td>\n",
       "    </tr>\n",
       "    <tr>\n",
       "      <th>petal width (cm)</th>\n",
       "      <td>0.564857</td>\n",
       "      <td>0.066942</td>\n",
       "    </tr>\n",
       "  </tbody>\n",
       "</table>\n",
       "</div>"
      ],
      "text/plain": [
       "                        PC1       PC2\n",
       "sepal length (cm)  0.521066  0.377418\n",
       "sepal width (cm)  -0.269347  0.923296\n",
       "petal length (cm)  0.580413  0.024492\n",
       "petal width (cm)   0.564857  0.066942"
      ]
     },
     "execution_count": 33,
     "metadata": {},
     "output_type": "execute_result"
    }
   ],
   "source": [
    "loadings = pd.DataFrame(pca.components_.T, columns=['PC1', 'PC2'], index=df.feature_names)\n",
    "loadings"
   ]
  },
  {
   "cell_type": "code",
   "execution_count": 34,
   "id": "d72b3684",
   "metadata": {},
   "outputs": [],
   "source": [
    "def loading_plot(coeff, labels):\n",
    "    n = coeff.shape[0]\n",
    "    for i in range(n):\n",
    "        plt.arrow(0, 0, coeff[i,0], coeff[i,1], head_width = 0.05, head_length = 0.05, color = '#21918C',alpha = 0.5)\n",
    "        plt.text(coeff[i,0]* 1.15, coeff[i,1] * 1.15, labels[i], color = '#21918C', ha = 'center', va = 'center')\n",
    "    plt.xlim(-1,1)\n",
    "    plt.ylim(-1,1)\n",
    "    plt.xlabel('PC1')\n",
    "    plt.ylabel('PC2')\n",
    "    plt.grid()"
   ]
  },
  {
   "cell_type": "code",
   "execution_count": 35,
   "id": "214bbab4",
   "metadata": {},
   "outputs": [
    {
     "data": {
      "image/png": "[encoded data removed]",
      "text/plain": [
       "<Figure size 700x700 with 1 Axes>"
      ]
     },
     "metadata": {},
     "output_type": "display_data"
    }
   ],
   "source": [
    "fig, ax = plt.subplots(figsize = (7,7))\n",
    "loading_plot(pca.components_.T, df.feature_names)"
   ]
  },
  {
   "cell_type": "code",
   "execution_count": null,
   "id": "71499705",
   "metadata": {},
   "outputs": [],
   "source": []
  }
 ],
 "metadata": {
  "kernelspec": {
   "display_name": "Python 3 (ipykernel)",
   "language": "python",
   "name": "python3"
  },
  "language_info": {
   "codemirror_mode": {
    "name": "ipython",
    "version": 3
   },
   "file_extension": ".py",
   "mimetype": "text/x-python",
   "name": "python",
   "nbconvert_exporter": "python",
   "pygments_lexer": "ipython3",
   "version": "3.9.13"
  }
 },
 "nbformat": 4,
 "nbformat_minor": 5
}
